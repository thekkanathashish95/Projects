{
  "nbformat": 4,
  "nbformat_minor": 0,
  "metadata": {
    "colab": {
      "name": "Market Analytics - E Commerce Business.ipynb",
      "provenance": [],
      "collapsed_sections": [],
      "mount_file_id": "1xOgZ50SIeop391604Cxgp_50i6V7GfwP",
      "authorship_tag": "ABX9TyN4lyev2Wxf5RUKbbiYHF+J",
      "include_colab_link": true
    },
    "kernelspec": {
      "name": "python3",
      "display_name": "Python 3"
    }
  },
  "cells": [
    {
      "cell_type": "markdown",
      "metadata": {
        "id": "view-in-github",
        "colab_type": "text"
      },
      "source": [
        "<a href=\"https://colab.research.google.com/github/thekkanathashish95/Projects/blob/master/Market%20Analytics%20-%20OLIST%20Dataset.ipynb\" target=\"_parent\"><img src=\"https://colab.research.google.com/assets/colab-badge.svg\" alt=\"Open In Colab\"/></a>"
      ]
    },
    {
      "cell_type": "markdown",
      "metadata": {
        "id": "cPy34hXveLlo"
      },
      "source": [
        "# Analysis on Olist - Brazilian Startup in E-Commerce Segment"
      ]
    },
    {
      "cell_type": "markdown",
      "metadata": {
        "id": "dyOyvTb3y2Rw"
      },
      "source": [
        "**A brief Introduction about the company**\n",
        "\n",
        "- Founded: 2015\n",
        "- Category: E-Commerce\n",
        "- HQ:  Curitiba, Paraná\n",
        "- Office: Sao Polo\n",
        "- Number of Employees: 300\n",
        "\n",
        "Basic Operation : Acts as an intermediary between sellers and customers across a wide geographical location\n"
      ]
    },
    {
      "cell_type": "markdown",
      "metadata": {
        "id": "FzMDxyLSff6v"
      },
      "source": [
        "#### Importing Required libraries for Data Preprocessing and Primary Evaluation"
      ]
    },
    {
      "cell_type": "code",
      "metadata": {
        "id": "wn8c5BO_qj3A",
        "outputId": "db1fbeb9-5635-43c0-9e40-3ae64a44a22c",
        "colab": {
          "base_uri": "https://localhost:8080/",
          "height": 88
        }
      },
      "source": [
        "import pandas as pd\n",
        "import numpy as np\n",
        "import matplotlib.pyplot as plt\n",
        "import seaborn as sns\n",
        "from datetime import datetime as dt \n",
        "from datetime import timedelta\n",
        "from mlxtend.frequent_patterns import apriori\n",
        "from mlxtend.frequent_patterns import association_rules\n",
        "from keras.models import Sequential # Allows creation of neural network object represented in a sequence of layers\n",
        "from keras.layers import Dense #Allows us to add the output layer\n",
        "from keras.layers import LSTM # Allows addition of LSTM layers\n",
        "from keras.layers import Dropout #Allows addition of dropout regularization"
      ],
      "execution_count": null,
      "outputs": [
        {
          "output_type": "stream",
          "text": [
            "/usr/local/lib/python3.6/dist-packages/statsmodels/tools/_testing.py:19: FutureWarning: pandas.util.testing is deprecated. Use the functions in the public API at pandas.testing instead.\n",
            "  import pandas.util.testing as tm\n",
            "Using TensorFlow backend.\n"
          ],
          "name": "stderr"
        }
      ]
    },
    {
      "cell_type": "markdown",
      "metadata": {
        "id": "ydMKPzx5rt4F"
      },
      "source": [
        "####Importing Datasets for Preprocessing & Analysis."
      ]
    },
    {
      "cell_type": "code",
      "metadata": {
        "id": "Oy-ZxXwreKMn"
      },
      "source": [
        "customers=pd.read_csv(\"olist_customers_dataset.csv\")\n",
        "order_items=pd.read_csv(\"olist_order_items_dataset.csv\")\n",
        "order_pay=pd.read_csv(\"olist_order_payments_dataset.csv\")\n",
        "orders=pd.read_csv(\"olist_orders_dataset.csv\")\n",
        "products=pd.read_csv(\"olist_products_dataset.csv\")\n",
        "sellers=pd.read_csv(\"olist_sellers_dataset.csv\")\n",
        "trans=pd.read_csv(\"product_category_name_translation.csv\")"
      ],
      "execution_count": null,
      "outputs": []
    },
    {
      "cell_type": "markdown",
      "metadata": {
        "id": "wp5Y0nAgtGnu"
      },
      "source": [
        "####Getting basic information about each dataframe and checking for null values"
      ]
    },
    {
      "cell_type": "code",
      "metadata": {
        "id": "8PZT-OIwrsyz",
        "outputId": "ed252ccd-d6e1-435c-911d-059ab32eb86d",
        "colab": {
          "base_uri": "https://localhost:8080/",
          "height": 221
        }
      },
      "source": [
        "customers.info()"
      ],
      "execution_count": null,
      "outputs": [
        {
          "output_type": "stream",
          "text": [
            "<class 'pandas.core.frame.DataFrame'>\n",
            "RangeIndex: 99441 entries, 0 to 99440\n",
            "Data columns (total 5 columns):\n",
            " #   Column                    Non-Null Count  Dtype \n",
            "---  ------                    --------------  ----- \n",
            " 0   customer_id               99441 non-null  object\n",
            " 1   customer_unique_id        99441 non-null  object\n",
            " 2   customer_zip_code_prefix  99441 non-null  int64 \n",
            " 3   customer_city             99441 non-null  object\n",
            " 4   customer_state            99441 non-null  object\n",
            "dtypes: int64(1), object(4)\n",
            "memory usage: 3.8+ MB\n"
          ],
          "name": "stdout"
        }
      ]
    },
    {
      "cell_type": "code",
      "metadata": {
        "id": "WBcWbvt0tR0s",
        "outputId": "0702d1fd-963e-4922-fcbb-a23033ff269f",
        "colab": {
          "base_uri": "https://localhost:8080/",
          "height": 255
        }
      },
      "source": [
        "order_items.info()"
      ],
      "execution_count": null,
      "outputs": [
        {
          "output_type": "stream",
          "text": [
            "<class 'pandas.core.frame.DataFrame'>\n",
            "RangeIndex: 112650 entries, 0 to 112649\n",
            "Data columns (total 7 columns):\n",
            " #   Column               Non-Null Count   Dtype  \n",
            "---  ------               --------------   -----  \n",
            " 0   order_id             112650 non-null  object \n",
            " 1   order_item_id        112650 non-null  int64  \n",
            " 2   product_id           112650 non-null  object \n",
            " 3   seller_id            112650 non-null  object \n",
            " 4   shipping_limit_date  112650 non-null  object \n",
            " 5   price                112650 non-null  float64\n",
            " 6   freight_value        112650 non-null  float64\n",
            "dtypes: float64(2), int64(1), object(4)\n",
            "memory usage: 6.0+ MB\n"
          ],
          "name": "stdout"
        }
      ]
    },
    {
      "cell_type": "code",
      "metadata": {
        "id": "YQ3t7KBvti-T",
        "outputId": "6f120318-0018-4fb8-ff62-9a30c67bf095",
        "colab": {
          "base_uri": "https://localhost:8080/",
          "height": 221
        }
      },
      "source": [
        "order_pay.info()"
      ],
      "execution_count": null,
      "outputs": [
        {
          "output_type": "stream",
          "text": [
            "<class 'pandas.core.frame.DataFrame'>\n",
            "RangeIndex: 103886 entries, 0 to 103885\n",
            "Data columns (total 5 columns):\n",
            " #   Column                Non-Null Count   Dtype  \n",
            "---  ------                --------------   -----  \n",
            " 0   order_id              103886 non-null  object \n",
            " 1   payment_sequential    103886 non-null  int64  \n",
            " 2   payment_type          103886 non-null  object \n",
            " 3   payment_installments  103886 non-null  int64  \n",
            " 4   payment_value         103886 non-null  float64\n",
            "dtypes: float64(1), int64(2), object(2)\n",
            "memory usage: 4.0+ MB\n"
          ],
          "name": "stdout"
        }
      ]
    },
    {
      "cell_type": "code",
      "metadata": {
        "id": "0Bdr7g8MtuAf",
        "outputId": "11cc1bf7-3c40-495b-98f3-3874aff286de",
        "colab": {
          "base_uri": "https://localhost:8080/",
          "height": 272
        }
      },
      "source": [
        "orders.info()"
      ],
      "execution_count": null,
      "outputs": [
        {
          "output_type": "stream",
          "text": [
            "<class 'pandas.core.frame.DataFrame'>\n",
            "RangeIndex: 99441 entries, 0 to 99440\n",
            "Data columns (total 8 columns):\n",
            " #   Column                         Non-Null Count  Dtype \n",
            "---  ------                         --------------  ----- \n",
            " 0   order_id                       99441 non-null  object\n",
            " 1   customer_id                    99441 non-null  object\n",
            " 2   order_status                   99441 non-null  object\n",
            " 3   order_purchase_timestamp       99441 non-null  object\n",
            " 4   order_approved_at              99281 non-null  object\n",
            " 5   order_delivered_carrier_date   97658 non-null  object\n",
            " 6   order_delivered_customer_date  96476 non-null  object\n",
            " 7   order_estimated_delivery_date  99441 non-null  object\n",
            "dtypes: object(8)\n",
            "memory usage: 6.1+ MB\n"
          ],
          "name": "stdout"
        }
      ]
    },
    {
      "cell_type": "code",
      "metadata": {
        "id": "9oVt8jDHtyt0",
        "outputId": "58027089-0749-465d-f261-05b6746b1e76",
        "colab": {
          "base_uri": "https://localhost:8080/",
          "height": 170
        }
      },
      "source": [
        "orders.isnull().sum()"
      ],
      "execution_count": null,
      "outputs": [
        {
          "output_type": "execute_result",
          "data": {
            "text/plain": [
              "order_id                            0\n",
              "customer_id                         0\n",
              "order_status                        0\n",
              "order_purchase_timestamp            0\n",
              "order_approved_at                 160\n",
              "order_delivered_carrier_date     1783\n",
              "order_delivered_customer_date    2965\n",
              "order_estimated_delivery_date       0\n",
              "dtype: int64"
            ]
          },
          "metadata": {
            "tags": []
          },
          "execution_count": 7
        }
      ]
    },
    {
      "cell_type": "code",
      "metadata": {
        "id": "WaZgmfdCt_u_",
        "outputId": "aef4597a-cbf9-4a99-bfe7-6875988ebc8e",
        "colab": {
          "base_uri": "https://localhost:8080/",
          "height": 289
        }
      },
      "source": [
        "products.info()"
      ],
      "execution_count": null,
      "outputs": [
        {
          "output_type": "stream",
          "text": [
            "<class 'pandas.core.frame.DataFrame'>\n",
            "RangeIndex: 32951 entries, 0 to 32950\n",
            "Data columns (total 9 columns):\n",
            " #   Column                      Non-Null Count  Dtype  \n",
            "---  ------                      --------------  -----  \n",
            " 0   product_id                  32951 non-null  object \n",
            " 1   product_category_name       32341 non-null  object \n",
            " 2   product_name_lenght         32341 non-null  float64\n",
            " 3   product_description_lenght  32341 non-null  float64\n",
            " 4   product_photos_qty          32341 non-null  float64\n",
            " 5   product_weight_g            32949 non-null  float64\n",
            " 6   product_length_cm           32949 non-null  float64\n",
            " 7   product_height_cm           32949 non-null  float64\n",
            " 8   product_width_cm            32949 non-null  float64\n",
            "dtypes: float64(7), object(2)\n",
            "memory usage: 2.3+ MB\n"
          ],
          "name": "stdout"
        }
      ]
    },
    {
      "cell_type": "code",
      "metadata": {
        "id": "3HzFm1_6t-UG",
        "outputId": "3f2aa662-4fa7-4625-dc90-a84020bcf21f",
        "colab": {
          "base_uri": "https://localhost:8080/",
          "height": 187
        }
      },
      "source": [
        "products.isnull().sum()"
      ],
      "execution_count": null,
      "outputs": [
        {
          "output_type": "execute_result",
          "data": {
            "text/plain": [
              "product_id                      0\n",
              "product_category_name         610\n",
              "product_name_lenght           610\n",
              "product_description_lenght    610\n",
              "product_photos_qty            610\n",
              "product_weight_g                2\n",
              "product_length_cm               2\n",
              "product_height_cm               2\n",
              "product_width_cm                2\n",
              "dtype: int64"
            ]
          },
          "metadata": {
            "tags": []
          },
          "execution_count": 9
        }
      ]
    },
    {
      "cell_type": "code",
      "metadata": {
        "id": "WcthiibgupJO",
        "outputId": "839b02b0-2c5e-458c-ec2b-d223077896d3",
        "colab": {
          "base_uri": "https://localhost:8080/",
          "height": 204
        }
      },
      "source": [
        "sellers.info()"
      ],
      "execution_count": null,
      "outputs": [
        {
          "output_type": "stream",
          "text": [
            "<class 'pandas.core.frame.DataFrame'>\n",
            "RangeIndex: 3095 entries, 0 to 3094\n",
            "Data columns (total 4 columns):\n",
            " #   Column                  Non-Null Count  Dtype \n",
            "---  ------                  --------------  ----- \n",
            " 0   seller_id               3095 non-null   object\n",
            " 1   seller_zip_code_prefix  3095 non-null   int64 \n",
            " 2   seller_city             3095 non-null   object\n",
            " 3   seller_state            3095 non-null   object\n",
            "dtypes: int64(1), object(3)\n",
            "memory usage: 96.8+ KB\n"
          ],
          "name": "stdout"
        }
      ]
    },
    {
      "cell_type": "code",
      "metadata": {
        "id": "h6cGCud6usls",
        "outputId": "8649a219-1992-4b9f-f9db-8fb5c66d4948",
        "colab": {
          "base_uri": "https://localhost:8080/",
          "height": 170
        }
      },
      "source": [
        "trans.info()"
      ],
      "execution_count": null,
      "outputs": [
        {
          "output_type": "stream",
          "text": [
            "<class 'pandas.core.frame.DataFrame'>\n",
            "RangeIndex: 71 entries, 0 to 70\n",
            "Data columns (total 2 columns):\n",
            " #   Column                         Non-Null Count  Dtype \n",
            "---  ------                         --------------  ----- \n",
            " 0   product_category_name          71 non-null     object\n",
            " 1   product_category_name_english  71 non-null     object\n",
            "dtypes: object(2)\n",
            "memory usage: 1.2+ KB\n"
          ],
          "name": "stdout"
        }
      ]
    },
    {
      "cell_type": "markdown",
      "metadata": {
        "id": "sPoHBkuRuAFb"
      },
      "source": [
        "As can be observed, there are null values in the **orders and products** dataframe."
      ]
    },
    {
      "cell_type": "markdown",
      "metadata": {
        "id": "YNEsQ0c7xHbr"
      },
      "source": [
        "##Analysis of the customer base of Olist"
      ]
    },
    {
      "cell_type": "markdown",
      "metadata": {
        "id": "dqPFGDYLxkn5"
      },
      "source": [
        "####Top 10 States in terms of \"Number of Customers"
      ]
    },
    {
      "cell_type": "code",
      "metadata": {
        "id": "Cbnsvh2Tx7wp",
        "outputId": "5e045ec7-a087-4e96-84da-528008f9dc53",
        "colab": {
          "base_uri": "https://localhost:8080/",
          "height": 68
        }
      },
      "source": [
        "# Finding the columns in customers dataset\n",
        "customers.columns"
      ],
      "execution_count": null,
      "outputs": [
        {
          "output_type": "execute_result",
          "data": {
            "text/plain": [
              "Index(['customer_id', 'customer_unique_id', 'customer_zip_code_prefix',\n",
              "       'customer_city', 'customer_state'],\n",
              "      dtype='object')"
            ]
          },
          "metadata": {
            "tags": []
          },
          "execution_count": 12
        }
      ]
    },
    {
      "cell_type": "code",
      "metadata": {
        "id": "LEcIfMy-u2sr",
        "outputId": "f8bbf9dd-e51d-419f-d7a6-56a46218160c",
        "colab": {
          "base_uri": "https://localhost:8080/",
          "height": 319
        }
      },
      "source": [
        "#Grouping customers based on their states\n",
        "cus=customers.groupby(\"customer_state\")[[\"customer_id\"]].count().sort_values(\"customer_id\", ascending = False).head(10)\n",
        "cus=cus.rename(columns={\"customer_id\":\"Number of Customers\"})\n",
        "\n",
        "#Plotting the grouping\n",
        "cus.plot.bar(color=\"green\")\n",
        "plt.xlabel(\"State\")\n",
        "plt.ylabel(\"Number of Customers\")\n",
        "plt.title(\"Top 10 States in terms of number of customers\")"
      ],
      "execution_count": null,
      "outputs": [
        {
          "output_type": "execute_result",
          "data": {
            "text/plain": [
              "Text(0.5, 1.0, 'Top 10 States in terms of number of customers')"
            ]
          },
          "metadata": {
            "tags": []
          },
          "execution_count": 13
        },
        {
          "output_type": "display_data",
          "data": {
            "image/png": "[encoded data removed]",
            "text/plain": [
              "<Figure size 432x288 with 1 Axes>"
            ]
          },
          "metadata": {
            "tags": [],
            "needs_background": "light"
          }
        }
      ]
    },
    {
      "cell_type": "code",
      "metadata": {
        "id": "ozxbdXczyRYu",
        "outputId": "623bc048-be7f-4cae-e704-af0343930a95",
        "colab": {
          "base_uri": "https://localhost:8080/",
          "height": 390
        }
      },
      "source": [
        "cus"
      ],
      "execution_count": null,
      "outputs": [
        {
          "output_type": "execute_result",
          "data": {
            "text/html": [
              "<div>\n",
              "<style scoped>\n",
              "    .dataframe tbody tr th:only-of-type {\n",
              "        vertical-align: middle;\n",
              "    }\n",
              "\n",
              "    .dataframe tbody tr th {\n",
              "        vertical-align: top;\n",
              "    }\n",
              "\n",
              "    .dataframe thead th {\n",
              "        text-align: right;\n",
              "    }\n",
              "</style>\n",
              "<table border=\"1\" class=\"dataframe\">\n",
              "  <thead>\n",
              "    <tr style=\"text-align: right;\">\n",
              "      <th></th>\n",
              "      <th>Number of Customers</th>\n",
              "    </tr>\n",
              "    <tr>\n",
              "      <th>customer_state</th>\n",
              "      <th></th>\n",
              "    </tr>\n",
              "  </thead>\n",
              "  <tbody>\n",
              "    <tr>\n",
              "      <th>SP</th>\n",
              "      <td>41746</td>\n",
              "    </tr>\n",
              "    <tr>\n",
              "      <th>RJ</th>\n",
              "      <td>12852</td>\n",
              "    </tr>\n",
              "    <tr>\n",
              "      <th>MG</th>\n",
              "      <td>11635</td>\n",
              "    </tr>\n",
              "    <tr>\n",
              "      <th>RS</th>\n",
              "      <td>5466</td>\n",
              "    </tr>\n",
              "    <tr>\n",
              "      <th>PR</th>\n",
              "      <td>5045</td>\n",
              "    </tr>\n",
              "    <tr>\n",
              "      <th>SC</th>\n",
              "      <td>3637</td>\n",
              "    </tr>\n",
              "    <tr>\n",
              "      <th>BA</th>\n",
              "      <td>3380</td>\n",
              "    </tr>\n",
              "    <tr>\n",
              "      <th>DF</th>\n",
              "      <td>2140</td>\n",
              "    </tr>\n",
              "    <tr>\n",
              "      <th>ES</th>\n",
              "      <td>2033</td>\n",
              "    </tr>\n",
              "    <tr>\n",
              "      <th>GO</th>\n",
              "      <td>2020</td>\n",
              "    </tr>\n",
              "  </tbody>\n",
              "</table>\n",
              "</div>"
            ],
            "text/plain": [
              "                Number of Customers\n",
              "customer_state                     \n",
              "SP                            41746\n",
              "RJ                            12852\n",
              "MG                            11635\n",
              "RS                             5466\n",
              "PR                             5045\n",
              "SC                             3637\n",
              "BA                             3380\n",
              "DF                             2140\n",
              "ES                             2033\n",
              "GO                             2020"
            ]
          },
          "metadata": {
            "tags": []
          },
          "execution_count": 14
        }
      ]
    },
    {
      "cell_type": "markdown",
      "metadata": {
        "id": "mXl8zq052hME"
      },
      "source": [
        "**Observations:** \n",
        "- Nearly 50% of the combined sales of the top 10 states belongs to Sao Polo\n",
        "- There is huge difference in the customer base across different states."
      ]
    },
    {
      "cell_type": "markdown",
      "metadata": {
        "id": "E0QJb1uv0whd"
      },
      "source": [
        "####Top 10 Cities in terms of \"Number of Customers\""
      ]
    },
    {
      "cell_type": "code",
      "metadata": {
        "id": "eUlZzMP10VgL",
        "outputId": "46a5686b-bd9f-469f-c29c-808fa7099bb0",
        "colab": {
          "base_uri": "https://localhost:8080/",
          "height": 446
        }
      },
      "source": [
        "#Grouping customers based on their cities\n",
        "cit=customers.groupby([\"customer_state\",\"customer_city\"])[[\"customer_id\"]].count().sort_values(\"customer_id\", ascending = False).head(10)\n",
        "cit=cit.rename(columns={\"customer_id\":\"Number of Customers\"})\n",
        "\n",
        "#Plotting the grouping\n",
        "cit.plot.bar(color=\"green\")\n",
        "plt.xlabel(\"City\")\n",
        "plt.ylabel(\"Number of Customers\")\n",
        "plt.title(\"Top 10 Cities in terms of number of customers\")"
      ],
      "execution_count": null,
      "outputs": [
        {
          "output_type": "execute_result",
          "data": {
            "text/plain": [
              "Text(0.5, 1.0, 'Top 10 Cities in terms of number of customers')"
            ]
          },
          "metadata": {
            "tags": []
          },
          "execution_count": 15
        },
        {
          "output_type": "display_data",
          "data": {
            "image/png": "[encoded data removed]",
            "text/plain": [
              "<Figure size 432x288 with 1 Axes>"
            ]
          },
          "metadata": {
            "tags": [],
            "needs_background": "light"
          }
        }
      ]
    },
    {
      "cell_type": "code",
      "metadata": {
        "id": "LDmP8l461MgZ",
        "outputId": "0db79f29-ee0e-43a0-9fed-cf47682c7c3c",
        "colab": {
          "base_uri": "https://localhost:8080/",
          "height": 390
        }
      },
      "source": [
        "cit"
      ],
      "execution_count": null,
      "outputs": [
        {
          "output_type": "execute_result",
          "data": {
            "text/html": [
              "<div>\n",
              "<style scoped>\n",
              "    .dataframe tbody tr th:only-of-type {\n",
              "        vertical-align: middle;\n",
              "    }\n",
              "\n",
              "    .dataframe tbody tr th {\n",
              "        vertical-align: top;\n",
              "    }\n",
              "\n",
              "    .dataframe thead th {\n",
              "        text-align: right;\n",
              "    }\n",
              "</style>\n",
              "<table border=\"1\" class=\"dataframe\">\n",
              "  <thead>\n",
              "    <tr style=\"text-align: right;\">\n",
              "      <th></th>\n",
              "      <th></th>\n",
              "      <th>Number of Customers</th>\n",
              "    </tr>\n",
              "    <tr>\n",
              "      <th>customer_state</th>\n",
              "      <th>customer_city</th>\n",
              "      <th></th>\n",
              "    </tr>\n",
              "  </thead>\n",
              "  <tbody>\n",
              "    <tr>\n",
              "      <th>SP</th>\n",
              "      <th>sao paulo</th>\n",
              "      <td>15540</td>\n",
              "    </tr>\n",
              "    <tr>\n",
              "      <th>RJ</th>\n",
              "      <th>rio de janeiro</th>\n",
              "      <td>6882</td>\n",
              "    </tr>\n",
              "    <tr>\n",
              "      <th>MG</th>\n",
              "      <th>belo horizonte</th>\n",
              "      <td>2773</td>\n",
              "    </tr>\n",
              "    <tr>\n",
              "      <th>DF</th>\n",
              "      <th>brasilia</th>\n",
              "      <td>2131</td>\n",
              "    </tr>\n",
              "    <tr>\n",
              "      <th>PR</th>\n",
              "      <th>curitiba</th>\n",
              "      <td>1521</td>\n",
              "    </tr>\n",
              "    <tr>\n",
              "      <th>SP</th>\n",
              "      <th>campinas</th>\n",
              "      <td>1444</td>\n",
              "    </tr>\n",
              "    <tr>\n",
              "      <th>RS</th>\n",
              "      <th>porto alegre</th>\n",
              "      <td>1379</td>\n",
              "    </tr>\n",
              "    <tr>\n",
              "      <th>BA</th>\n",
              "      <th>salvador</th>\n",
              "      <td>1245</td>\n",
              "    </tr>\n",
              "    <tr>\n",
              "      <th rowspan=\"2\" valign=\"top\">SP</th>\n",
              "      <th>guarulhos</th>\n",
              "      <td>1189</td>\n",
              "    </tr>\n",
              "    <tr>\n",
              "      <th>sao bernardo do campo</th>\n",
              "      <td>938</td>\n",
              "    </tr>\n",
              "  </tbody>\n",
              "</table>\n",
              "</div>"
            ],
            "text/plain": [
              "                                      Number of Customers\n",
              "customer_state customer_city                             \n",
              "SP             sao paulo                            15540\n",
              "RJ             rio de janeiro                        6882\n",
              "MG             belo horizonte                        2773\n",
              "DF             brasilia                              2131\n",
              "PR             curitiba                              1521\n",
              "SP             campinas                              1444\n",
              "RS             porto alegre                          1379\n",
              "BA             salvador                              1245\n",
              "SP             guarulhos                             1189\n",
              "               sao bernardo do campo                  938"
            ]
          },
          "metadata": {
            "tags": []
          },
          "execution_count": 16
        }
      ]
    },
    {
      "cell_type": "markdown",
      "metadata": {
        "id": "TwTb4UPz3kAP"
      },
      "source": [
        "**Observation:** \n",
        "- The city of Sao Polo stands out in terms of customer concentration for Olist."
      ]
    },
    {
      "cell_type": "markdown",
      "metadata": {
        "id": "1CBhaJU12JAA"
      },
      "source": [
        "####Top 10 Postal Location in terms of Number of Customers"
      ]
    },
    {
      "cell_type": "code",
      "metadata": {
        "id": "7esT09_A1YVh",
        "outputId": "e91ae917-9f57-49f3-8c44-8c903d18ad7b",
        "colab": {
          "base_uri": "https://localhost:8080/",
          "height": 390
        }
      },
      "source": [
        "customers.groupby([\"customer_state\", \"customer_city\",\"customer_zip_code_prefix\"]).count().sort_values(\"customer_id\", ascending = False).head(10)"
      ],
      "execution_count": null,
      "outputs": [
        {
          "output_type": "execute_result",
          "data": {
            "text/html": [
              "<div>\n",
              "<style scoped>\n",
              "    .dataframe tbody tr th:only-of-type {\n",
              "        vertical-align: middle;\n",
              "    }\n",
              "\n",
              "    .dataframe tbody tr th {\n",
              "        vertical-align: top;\n",
              "    }\n",
              "\n",
              "    .dataframe thead th {\n",
              "        text-align: right;\n",
              "    }\n",
              "</style>\n",
              "<table border=\"1\" class=\"dataframe\">\n",
              "  <thead>\n",
              "    <tr style=\"text-align: right;\">\n",
              "      <th></th>\n",
              "      <th></th>\n",
              "      <th></th>\n",
              "      <th>customer_id</th>\n",
              "      <th>customer_unique_id</th>\n",
              "    </tr>\n",
              "    <tr>\n",
              "      <th>customer_state</th>\n",
              "      <th>customer_city</th>\n",
              "      <th>customer_zip_code_prefix</th>\n",
              "      <th></th>\n",
              "      <th></th>\n",
              "    </tr>\n",
              "  </thead>\n",
              "  <tbody>\n",
              "    <tr>\n",
              "      <th rowspan=\"5\" valign=\"top\">RJ</th>\n",
              "      <th>rio de janeiro</th>\n",
              "      <th>22790</th>\n",
              "      <td>142</td>\n",
              "      <td>142</td>\n",
              "    </tr>\n",
              "    <tr>\n",
              "      <th>niteroi</th>\n",
              "      <th>24220</th>\n",
              "      <td>124</td>\n",
              "      <td>124</td>\n",
              "    </tr>\n",
              "    <tr>\n",
              "      <th>rio de janeiro</th>\n",
              "      <th>22793</th>\n",
              "      <td>121</td>\n",
              "      <td>121</td>\n",
              "    </tr>\n",
              "    <tr>\n",
              "      <th>niteroi</th>\n",
              "      <th>24230</th>\n",
              "      <td>117</td>\n",
              "      <td>117</td>\n",
              "    </tr>\n",
              "    <tr>\n",
              "      <th>rio de janeiro</th>\n",
              "      <th>22775</th>\n",
              "      <td>110</td>\n",
              "      <td>110</td>\n",
              "    </tr>\n",
              "    <tr>\n",
              "      <th>ES</th>\n",
              "      <th>vila velha</th>\n",
              "      <th>29101</th>\n",
              "      <td>101</td>\n",
              "      <td>101</td>\n",
              "    </tr>\n",
              "    <tr>\n",
              "      <th>SP</th>\n",
              "      <th>jundiai</th>\n",
              "      <th>13212</th>\n",
              "      <td>95</td>\n",
              "      <td>95</td>\n",
              "    </tr>\n",
              "    <tr>\n",
              "      <th>MG</th>\n",
              "      <th>ipatinga</th>\n",
              "      <th>35162</th>\n",
              "      <td>93</td>\n",
              "      <td>93</td>\n",
              "    </tr>\n",
              "    <tr>\n",
              "      <th>RJ</th>\n",
              "      <th>rio de janeiro</th>\n",
              "      <th>22631</th>\n",
              "      <td>89</td>\n",
              "      <td>89</td>\n",
              "    </tr>\n",
              "    <tr>\n",
              "      <th>MG</th>\n",
              "      <th>uberlandia</th>\n",
              "      <th>38400</th>\n",
              "      <td>87</td>\n",
              "      <td>87</td>\n",
              "    </tr>\n",
              "  </tbody>\n",
              "</table>\n",
              "</div>"
            ],
            "text/plain": [
              "                                                        customer_id  customer_unique_id\n",
              "customer_state customer_city  customer_zip_code_prefix                                 \n",
              "RJ             rio de janeiro 22790                             142                 142\n",
              "               niteroi        24220                             124                 124\n",
              "               rio de janeiro 22793                             121                 121\n",
              "               niteroi        24230                             117                 117\n",
              "               rio de janeiro 22775                             110                 110\n",
              "ES             vila velha     29101                             101                 101\n",
              "SP             jundiai        13212                              95                  95\n",
              "MG             ipatinga       35162                              93                  93\n",
              "RJ             rio de janeiro 22631                              89                  89\n",
              "MG             uberlandia     38400                              87                  87"
            ]
          },
          "metadata": {
            "tags": []
          },
          "execution_count": 17
        }
      ]
    },
    {
      "cell_type": "markdown",
      "metadata": {
        "id": "6HgLGAuN4rNe"
      },
      "source": [
        "###Comparing Geographic Customer Distribution to the Population"
      ]
    },
    {
      "cell_type": "markdown",
      "metadata": {
        "id": "U8fbISfq47Ho"
      },
      "source": [
        "####Importing file containing population distribution in brazil at the City level"
      ]
    },
    {
      "cell_type": "code",
      "metadata": {
        "id": "nXJXUez04qqy",
        "outputId": "80371317-f73c-4c3d-900b-2080b07d2224",
        "colab": {
          "base_uri": "https://localhost:8080/",
          "height": 204
        }
      },
      "source": [
        "pop=pd.read_excel(\"Brazil_pop.xlsx\")\n",
        "pop.head()"
      ],
      "execution_count": null,
      "outputs": [
        {
          "output_type": "execute_result",
          "data": {
            "text/html": [
              "<div>\n",
              "<style scoped>\n",
              "    .dataframe tbody tr th:only-of-type {\n",
              "        vertical-align: middle;\n",
              "    }\n",
              "\n",
              "    .dataframe tbody tr th {\n",
              "        vertical-align: top;\n",
              "    }\n",
              "\n",
              "    .dataframe thead th {\n",
              "        text-align: right;\n",
              "    }\n",
              "</style>\n",
              "<table border=\"1\" class=\"dataframe\">\n",
              "  <thead>\n",
              "    <tr style=\"text-align: right;\">\n",
              "      <th></th>\n",
              "      <th>Unnamed: 0</th>\n",
              "      <th>City</th>\n",
              "      <th>State</th>\n",
              "      <th>2019</th>\n",
              "      <th>2010</th>\n",
              "      <th>Change</th>\n",
              "    </tr>\n",
              "  </thead>\n",
              "  <tbody>\n",
              "    <tr>\n",
              "      <th>0</th>\n",
              "      <td>182</td>\n",
              "      <td>Ilhéus</td>\n",
              "      <td>Bahia</td>\n",
              "      <td>162327</td>\n",
              "      <td>176917</td>\n",
              "      <td>−8.25%</td>\n",
              "    </tr>\n",
              "    <tr>\n",
              "      <th>1</th>\n",
              "      <td>198</td>\n",
              "      <td>Rio das Ostras</td>\n",
              "      <td>Rio de Janeiro</td>\n",
              "      <td>150674</td>\n",
              "      <td>101508</td>\n",
              "      <td>0.4844</td>\n",
              "    </tr>\n",
              "    <tr>\n",
              "      <th>2</th>\n",
              "      <td>64</td>\n",
              "      <td>Boa Vista</td>\n",
              "      <td>Roraima</td>\n",
              "      <td>399213</td>\n",
              "      <td>277684</td>\n",
              "      <td>0.4377</td>\n",
              "    </tr>\n",
              "    <tr>\n",
              "      <th>3</th>\n",
              "      <td>238</td>\n",
              "      <td>São Félix do Xingu</td>\n",
              "      <td>Pará</td>\n",
              "      <td>128481</td>\n",
              "      <td>90908</td>\n",
              "      <td>0.4133</td>\n",
              "    </tr>\n",
              "    <tr>\n",
              "      <th>4</th>\n",
              "      <td>312</td>\n",
              "      <td>Nova Serrana</td>\n",
              "      <td>Minas Gerais</td>\n",
              "      <td>102693</td>\n",
              "      <td>73273</td>\n",
              "      <td>0.4015</td>\n",
              "    </tr>\n",
              "  </tbody>\n",
              "</table>\n",
              "</div>"
            ],
            "text/plain": [
              "   Unnamed: 0                City            State    2019    2010  Change\n",
              "0         182              Ilhéus            Bahia  162327  176917  −8.25%\n",
              "1         198      Rio das Ostras   Rio de Janeiro  150674  101508  0.4844\n",
              "2          64           Boa Vista          Roraima  399213  277684  0.4377\n",
              "3         238  São Félix do Xingu             Pará  128481   90908  0.4133\n",
              "4         312        Nova Serrana     Minas Gerais  102693   73273  0.4015"
            ]
          },
          "metadata": {
            "tags": []
          },
          "execution_count": 18
        }
      ]
    },
    {
      "cell_type": "markdown",
      "metadata": {
        "id": "Z3fizZp35eHT"
      },
      "source": [
        "This file was downloaded from online sources"
      ]
    },
    {
      "cell_type": "code",
      "metadata": {
        "id": "N7MJ-AFu6Bu8",
        "outputId": "631f1f90-e2ec-4d6b-f9fd-17ae2cd63847",
        "colab": {
          "base_uri": "https://localhost:8080/",
          "height": 34
        }
      },
      "source": [
        "pop.columns"
      ],
      "execution_count": null,
      "outputs": [
        {
          "output_type": "execute_result",
          "data": {
            "text/plain": [
              "Index(['Unnamed: 0', 'City', 'State', 2019, 2010, 'Change'], dtype='object')"
            ]
          },
          "metadata": {
            "tags": []
          },
          "execution_count": 19
        }
      ]
    },
    {
      "cell_type": "code",
      "metadata": {
        "id": "b_OI3XFE5h4e",
        "outputId": "94674ef5-e7ed-412b-9629-b409537c17a7",
        "colab": {
          "base_uri": "https://localhost:8080/",
          "height": 221
        }
      },
      "source": [
        "#Removing unwanted columns\n",
        "pop.pop(2010)\n",
        "pop.pop(\"Unnamed: 0\")\n",
        "pop.pop(\"Change\")"
      ],
      "execution_count": null,
      "outputs": [
        {
          "output_type": "execute_result",
          "data": {
            "text/plain": [
              "0      −8.25%\n",
              "1      0.4844\n",
              "2      0.4377\n",
              "3      0.4133\n",
              "4      0.4015\n",
              "        ...  \n",
              "319    0.0409\n",
              "320    0.0303\n",
              "321    0.0273\n",
              "322    0.0222\n",
              "323    0.0144\n",
              "Name: Change, Length: 324, dtype: object"
            ]
          },
          "metadata": {
            "tags": []
          },
          "execution_count": 20
        }
      ]
    },
    {
      "cell_type": "code",
      "metadata": {
        "id": "t4DIM1KE6V4_",
        "outputId": "443b4a0e-145f-451b-cf91-7c99292bc983",
        "colab": {
          "base_uri": "https://localhost:8080/",
          "height": 204
        }
      },
      "source": [
        "pop.head()"
      ],
      "execution_count": null,
      "outputs": [
        {
          "output_type": "execute_result",
          "data": {
            "text/html": [
              "<div>\n",
              "<style scoped>\n",
              "    .dataframe tbody tr th:only-of-type {\n",
              "        vertical-align: middle;\n",
              "    }\n",
              "\n",
              "    .dataframe tbody tr th {\n",
              "        vertical-align: top;\n",
              "    }\n",
              "\n",
              "    .dataframe thead th {\n",
              "        text-align: right;\n",
              "    }\n",
              "</style>\n",
              "<table border=\"1\" class=\"dataframe\">\n",
              "  <thead>\n",
              "    <tr style=\"text-align: right;\">\n",
              "      <th></th>\n",
              "      <th>City</th>\n",
              "      <th>State</th>\n",
              "      <th>2019</th>\n",
              "    </tr>\n",
              "  </thead>\n",
              "  <tbody>\n",
              "    <tr>\n",
              "      <th>0</th>\n",
              "      <td>Ilhéus</td>\n",
              "      <td>Bahia</td>\n",
              "      <td>162327</td>\n",
              "    </tr>\n",
              "    <tr>\n",
              "      <th>1</th>\n",
              "      <td>Rio das Ostras</td>\n",
              "      <td>Rio de Janeiro</td>\n",
              "      <td>150674</td>\n",
              "    </tr>\n",
              "    <tr>\n",
              "      <th>2</th>\n",
              "      <td>Boa Vista</td>\n",
              "      <td>Roraima</td>\n",
              "      <td>399213</td>\n",
              "    </tr>\n",
              "    <tr>\n",
              "      <th>3</th>\n",
              "      <td>São Félix do Xingu</td>\n",
              "      <td>Pará</td>\n",
              "      <td>128481</td>\n",
              "    </tr>\n",
              "    <tr>\n",
              "      <th>4</th>\n",
              "      <td>Nova Serrana</td>\n",
              "      <td>Minas Gerais</td>\n",
              "      <td>102693</td>\n",
              "    </tr>\n",
              "  </tbody>\n",
              "</table>\n",
              "</div>"
            ],
            "text/plain": [
              "                 City            State    2019\n",
              "0              Ilhéus            Bahia  162327\n",
              "1      Rio das Ostras   Rio de Janeiro  150674\n",
              "2           Boa Vista          Roraima  399213\n",
              "3  São Félix do Xingu             Pará  128481\n",
              "4        Nova Serrana     Minas Gerais  102693"
            ]
          },
          "metadata": {
            "tags": []
          },
          "execution_count": 21
        }
      ]
    },
    {
      "cell_type": "markdown",
      "metadata": {
        "id": "gs7EZhp-7OZp"
      },
      "source": [
        "####Top 10 most populated states in Brazil"
      ]
    },
    {
      "cell_type": "code",
      "metadata": {
        "id": "rw6MrY7y6bZm",
        "outputId": "45a81f1f-0fcb-4ac5-8f0a-bb5a32a60c18",
        "colab": {
          "base_uri": "https://localhost:8080/",
          "height": 577
        }
      },
      "source": [
        "#Grouping based on population\n",
        "p_state=pop.groupby([\"State\"])[[2019]].sum().sort_values(2019, ascending = False).head(10)\n",
        "\n",
        "#Plotting the grouping\n",
        "p_state.plot.bar(color = \"green\")\n",
        "\n",
        "print(p_state)"
      ],
      "execution_count": null,
      "outputs": [
        {
          "output_type": "stream",
          "text": [
            "                        2019\n",
            "State                       \n",
            " São Paulo          34906339\n",
            " Rio de Janeiro     15462123\n",
            " Minas Gerais        9754088\n",
            " Bahia               6157870\n",
            " Paraná              6125350\n",
            " Rio Grande do Sul   5486945\n",
            " Pernambuco          4764151\n",
            " Pará                4475988\n",
            " Ceará               4234727\n",
            " Goiás               4100814\n"
          ],
          "name": "stdout"
        },
        {
          "output_type": "display_data",
          "data": {
            "image/png": "[encoded data removed]",
            "text/plain": [
              "<Figure size 432x288 with 1 Axes>"
            ]
          },
          "metadata": {
            "tags": [],
            "needs_background": "light"
          }
        }
      ]
    },
    {
      "cell_type": "markdown",
      "metadata": {
        "id": "hHrEjCiR9cPW"
      },
      "source": [
        "####Top 10 most populated Cities in Brazil"
      ]
    },
    {
      "cell_type": "code",
      "metadata": {
        "id": "zB_OTyqw8aUO",
        "outputId": "1aa93714-7c97-4d2f-db34-2c71bcde440b",
        "colab": {
          "base_uri": "https://localhost:8080/",
          "height": 644
        }
      },
      "source": [
        "#Grouping based on population in cities\n",
        "p_city=pop.groupby([\"State\",\"City\"])[[2019]].sum().sort_values(2019, ascending = False).head(10)\n",
        "\n",
        "#plotting the grouping\n",
        "p_city.plot.bar(color = \"blue\")\n",
        "plt.xlabel(\"Cities\")\n",
        "plt.ylabel(\"Population in crores\")\n",
        "plt.xticks(rotation=90)\n",
        "plt.title(\"Top 10 cities in Brazil based on population\")\n",
        "plt.show()\n",
        "\n",
        "print(p_city)"
      ],
      "execution_count": null,
      "outputs": [
        {
          "output_type": "display_data",
          "data": {
            "image/png": "[encoded data removed]",
            "text/plain": [
              "<Figure size 432x288 with 1 Axes>"
            ]
          },
          "metadata": {
            "tags": [],
            "needs_background": "light"
          }
        },
        {
          "output_type": "stream",
          "text": [
            "                                      2019\n",
            "State             City                    \n",
            " São Paulo        São Paulo       12252023\n",
            " Rio de Janeiro   Rio de Janeiro   6718903\n",
            " Distrito Federal Brasília         3015268\n",
            " Bahia            Salvador         2872347\n",
            " Ceará            Fortaleza        2669342\n",
            " Minas Gerais     Belo Horizonte   2512070\n",
            " Amazonas         Manaus           2182763\n",
            " Paraná           Curitiba         1933105\n",
            " Pernambuco       Recife           1645727\n",
            " Goiás            Goiânia          1516113\n"
          ],
          "name": "stdout"
        }
      ]
    },
    {
      "cell_type": "markdown",
      "metadata": {
        "id": "68TUJ3OG91RN"
      },
      "source": [
        "####Finding the percentage of customers on population for the top 5 States "
      ]
    },
    {
      "cell_type": "code",
      "metadata": {
        "id": "ZpzwnYSv9Ve_",
        "outputId": "23695be5-8721-4304-bfea-049a5768f24b",
        "colab": {
          "base_uri": "https://localhost:8080/",
          "height": 390
        }
      },
      "source": [
        "#Pivoting to find out the population of different states\n",
        "pop_state=pd.pivot_table(data=pop, values=2019, index= \"State\", aggfunc='sum').sort_values(2019, ascending = False)\n",
        "pop_state=pop_state.head(10)\n",
        "pop_state"
      ],
      "execution_count": null,
      "outputs": [
        {
          "output_type": "execute_result",
          "data": {
            "text/html": [
              "<div>\n",
              "<style scoped>\n",
              "    .dataframe tbody tr th:only-of-type {\n",
              "        vertical-align: middle;\n",
              "    }\n",
              "\n",
              "    .dataframe tbody tr th {\n",
              "        vertical-align: top;\n",
              "    }\n",
              "\n",
              "    .dataframe thead th {\n",
              "        text-align: right;\n",
              "    }\n",
              "</style>\n",
              "<table border=\"1\" class=\"dataframe\">\n",
              "  <thead>\n",
              "    <tr style=\"text-align: right;\">\n",
              "      <th></th>\n",
              "      <th>2019</th>\n",
              "    </tr>\n",
              "    <tr>\n",
              "      <th>State</th>\n",
              "      <th></th>\n",
              "    </tr>\n",
              "  </thead>\n",
              "  <tbody>\n",
              "    <tr>\n",
              "      <th>São Paulo</th>\n",
              "      <td>34906339</td>\n",
              "    </tr>\n",
              "    <tr>\n",
              "      <th>Rio de Janeiro</th>\n",
              "      <td>15462123</td>\n",
              "    </tr>\n",
              "    <tr>\n",
              "      <th>Minas Gerais</th>\n",
              "      <td>9754088</td>\n",
              "    </tr>\n",
              "    <tr>\n",
              "      <th>Bahia</th>\n",
              "      <td>6157870</td>\n",
              "    </tr>\n",
              "    <tr>\n",
              "      <th>Paraná</th>\n",
              "      <td>6125350</td>\n",
              "    </tr>\n",
              "    <tr>\n",
              "      <th>Rio Grande do Sul</th>\n",
              "      <td>5486945</td>\n",
              "    </tr>\n",
              "    <tr>\n",
              "      <th>Pernambuco</th>\n",
              "      <td>4764151</td>\n",
              "    </tr>\n",
              "    <tr>\n",
              "      <th>Pará</th>\n",
              "      <td>4475988</td>\n",
              "    </tr>\n",
              "    <tr>\n",
              "      <th>Ceará</th>\n",
              "      <td>4234727</td>\n",
              "    </tr>\n",
              "    <tr>\n",
              "      <th>Goiás</th>\n",
              "      <td>4100814</td>\n",
              "    </tr>\n",
              "  </tbody>\n",
              "</table>\n",
              "</div>"
            ],
            "text/plain": [
              "                        2019\n",
              "State                       \n",
              " São Paulo          34906339\n",
              " Rio de Janeiro     15462123\n",
              " Minas Gerais        9754088\n",
              " Bahia               6157870\n",
              " Paraná              6125350\n",
              " Rio Grande do Sul   5486945\n",
              " Pernambuco          4764151\n",
              " Pará                4475988\n",
              " Ceará               4234727\n",
              " Goiás               4100814"
            ]
          },
          "metadata": {
            "tags": []
          },
          "execution_count": 24
        }
      ]
    },
    {
      "cell_type": "code",
      "metadata": {
        "id": "L_TV8iG7AHfC",
        "outputId": "f4df4521-1612-4041-ab85-4ebc3656f593",
        "colab": {
          "base_uri": "https://localhost:8080/",
          "height": 235
        }
      },
      "source": [
        "#Temporary variable to help mapping number of customers and states\n",
        "cus1=customers.groupby(\"customer_state\")[[\"customer_id\"]].count().sort_values(\"customer_id\", ascending = False).head(20)\n",
        "cus1.head()"
      ],
      "execution_count": null,
      "outputs": [
        {
          "output_type": "execute_result",
          "data": {
            "text/html": [
              "<div>\n",
              "<style scoped>\n",
              "    .dataframe tbody tr th:only-of-type {\n",
              "        vertical-align: middle;\n",
              "    }\n",
              "\n",
              "    .dataframe tbody tr th {\n",
              "        vertical-align: top;\n",
              "    }\n",
              "\n",
              "    .dataframe thead th {\n",
              "        text-align: right;\n",
              "    }\n",
              "</style>\n",
              "<table border=\"1\" class=\"dataframe\">\n",
              "  <thead>\n",
              "    <tr style=\"text-align: right;\">\n",
              "      <th></th>\n",
              "      <th>customer_id</th>\n",
              "    </tr>\n",
              "    <tr>\n",
              "      <th>customer_state</th>\n",
              "      <th></th>\n",
              "    </tr>\n",
              "  </thead>\n",
              "  <tbody>\n",
              "    <tr>\n",
              "      <th>SP</th>\n",
              "      <td>41746</td>\n",
              "    </tr>\n",
              "    <tr>\n",
              "      <th>RJ</th>\n",
              "      <td>12852</td>\n",
              "    </tr>\n",
              "    <tr>\n",
              "      <th>MG</th>\n",
              "      <td>11635</td>\n",
              "    </tr>\n",
              "    <tr>\n",
              "      <th>RS</th>\n",
              "      <td>5466</td>\n",
              "    </tr>\n",
              "    <tr>\n",
              "      <th>PR</th>\n",
              "      <td>5045</td>\n",
              "    </tr>\n",
              "  </tbody>\n",
              "</table>\n",
              "</div>"
            ],
            "text/plain": [
              "                customer_id\n",
              "customer_state             \n",
              "SP                    41746\n",
              "RJ                    12852\n",
              "MG                    11635\n",
              "RS                     5466\n",
              "PR                     5045"
            ]
          },
          "metadata": {
            "tags": []
          },
          "execution_count": 25
        }
      ]
    },
    {
      "cell_type": "code",
      "metadata": {
        "id": "59QhQyrl-pjX",
        "outputId": "eb218ce4-42aa-4abc-b6cc-36554d701970",
        "colab": {
          "base_uri": "https://localhost:8080/",
          "height": 390
        }
      },
      "source": [
        "#Hardcoding the Number of customers belonging to these states\n",
        "pop_state[\"No. of Customers\"]= [41746,12852,11635,5045,3380,5466,1652,975,1336,2020]\n",
        "\n",
        "#Finding the percentage\n",
        "\n",
        "pop_state[\"Percentage of Population\"]=pop_state[\"No. of Customers\"]/pop_state[2019]\n",
        "pop_state.sort_values(\"Percentage of Population\", ascending=False)"
      ],
      "execution_count": null,
      "outputs": [
        {
          "output_type": "execute_result",
          "data": {
            "text/html": [
              "<div>\n",
              "<style scoped>\n",
              "    .dataframe tbody tr th:only-of-type {\n",
              "        vertical-align: middle;\n",
              "    }\n",
              "\n",
              "    .dataframe tbody tr th {\n",
              "        vertical-align: top;\n",
              "    }\n",
              "\n",
              "    .dataframe thead th {\n",
              "        text-align: right;\n",
              "    }\n",
              "</style>\n",
              "<table border=\"1\" class=\"dataframe\">\n",
              "  <thead>\n",
              "    <tr style=\"text-align: right;\">\n",
              "      <th></th>\n",
              "      <th>2019</th>\n",
              "      <th>No. of Customers</th>\n",
              "      <th>Percentage of Population</th>\n",
              "    </tr>\n",
              "    <tr>\n",
              "      <th>State</th>\n",
              "      <th></th>\n",
              "      <th></th>\n",
              "      <th></th>\n",
              "    </tr>\n",
              "  </thead>\n",
              "  <tbody>\n",
              "    <tr>\n",
              "      <th>São Paulo</th>\n",
              "      <td>34906339</td>\n",
              "      <td>41746</td>\n",
              "      <td>0.001196</td>\n",
              "    </tr>\n",
              "    <tr>\n",
              "      <th>Minas Gerais</th>\n",
              "      <td>9754088</td>\n",
              "      <td>11635</td>\n",
              "      <td>0.001193</td>\n",
              "    </tr>\n",
              "    <tr>\n",
              "      <th>Rio Grande do Sul</th>\n",
              "      <td>5486945</td>\n",
              "      <td>5466</td>\n",
              "      <td>0.000996</td>\n",
              "    </tr>\n",
              "    <tr>\n",
              "      <th>Rio de Janeiro</th>\n",
              "      <td>15462123</td>\n",
              "      <td>12852</td>\n",
              "      <td>0.000831</td>\n",
              "    </tr>\n",
              "    <tr>\n",
              "      <th>Bahia</th>\n",
              "      <td>6157870</td>\n",
              "      <td>5045</td>\n",
              "      <td>0.000819</td>\n",
              "    </tr>\n",
              "    <tr>\n",
              "      <th>Paraná</th>\n",
              "      <td>6125350</td>\n",
              "      <td>3380</td>\n",
              "      <td>0.000552</td>\n",
              "    </tr>\n",
              "    <tr>\n",
              "      <th>Goiás</th>\n",
              "      <td>4100814</td>\n",
              "      <td>2020</td>\n",
              "      <td>0.000493</td>\n",
              "    </tr>\n",
              "    <tr>\n",
              "      <th>Pernambuco</th>\n",
              "      <td>4764151</td>\n",
              "      <td>1652</td>\n",
              "      <td>0.000347</td>\n",
              "    </tr>\n",
              "    <tr>\n",
              "      <th>Ceará</th>\n",
              "      <td>4234727</td>\n",
              "      <td>1336</td>\n",
              "      <td>0.000315</td>\n",
              "    </tr>\n",
              "    <tr>\n",
              "      <th>Pará</th>\n",
              "      <td>4475988</td>\n",
              "      <td>975</td>\n",
              "      <td>0.000218</td>\n",
              "    </tr>\n",
              "  </tbody>\n",
              "</table>\n",
              "</div>"
            ],
            "text/plain": [
              "                        2019  No. of Customers  Percentage of Population\n",
              "State                                                                   \n",
              " São Paulo          34906339             41746                  0.001196\n",
              " Minas Gerais        9754088             11635                  0.001193\n",
              " Rio Grande do Sul   5486945              5466                  0.000996\n",
              " Rio de Janeiro     15462123             12852                  0.000831\n",
              " Bahia               6157870              5045                  0.000819\n",
              " Paraná              6125350              3380                  0.000552\n",
              " Goiás               4100814              2020                  0.000493\n",
              " Pernambuco          4764151              1652                  0.000347\n",
              " Ceará               4234727              1336                  0.000315\n",
              " Pará                4475988               975                  0.000218"
            ]
          },
          "metadata": {
            "tags": []
          },
          "execution_count": 26
        }
      ]
    },
    {
      "cell_type": "markdown",
      "metadata": {
        "id": "QkdpcZt1_Gdr"
      },
      "source": [
        "**Observations:**\n",
        "\n",
        "- Sao Polo and Minas Gerais have better customer penetration compared to the rest of the 5 states.\n",
        "- Overall, the customer penetration for the business during the period under study across the states **can be improved**"
      ]
    },
    {
      "cell_type": "markdown",
      "metadata": {
        "id": "-RuTa_ncEndD"
      },
      "source": [
        "###Analyzing Based on GDP Per capita of the top 10 States"
      ]
    },
    {
      "cell_type": "markdown",
      "metadata": {
        "id": "gMDxJOHoEzDi"
      },
      "source": [
        "####Importing Dataset sourced from Wikipedia"
      ]
    },
    {
      "cell_type": "code",
      "metadata": {
        "id": "nKzY52bME3Wr",
        "outputId": "24efd063-649a-4d5b-ce61-ea7801488c45",
        "colab": {
          "base_uri": "https://localhost:8080/",
          "height": 204
        }
      },
      "source": [
        "eco=pd.read_excel(\"Final Economic.xlsx\")\n",
        "eco.sort_values(\"GRP US\", ascending= False).head(5)"
      ],
      "execution_count": null,
      "outputs": [
        {
          "output_type": "execute_result",
          "data": {
            "text/html": [
              "<div>\n",
              "<style scoped>\n",
              "    .dataframe tbody tr th:only-of-type {\n",
              "        vertical-align: middle;\n",
              "    }\n",
              "\n",
              "    .dataframe tbody tr th {\n",
              "        vertical-align: top;\n",
              "    }\n",
              "\n",
              "    .dataframe thead th {\n",
              "        text-align: right;\n",
              "    }\n",
              "</style>\n",
              "<table border=\"1\" class=\"dataframe\">\n",
              "  <thead>\n",
              "    <tr style=\"text-align: right;\">\n",
              "      <th></th>\n",
              "      <th>Unnamed: 0</th>\n",
              "      <th>GRP US</th>\n",
              "      <th>GRP PC</th>\n",
              "    </tr>\n",
              "  </thead>\n",
              "  <tbody>\n",
              "    <tr>\n",
              "      <th>32</th>\n",
              "      <td>Total</td>\n",
              "      <td>1793.312</td>\n",
              "      <td>8727</td>\n",
              "    </tr>\n",
              "    <tr>\n",
              "      <th>30</th>\n",
              "      <td>Southeast Region [†]</td>\n",
              "      <td>981.445</td>\n",
              "      <td>11294</td>\n",
              "    </tr>\n",
              "    <tr>\n",
              "      <th>27</th>\n",
              "      <td>São Paulo</td>\n",
              "      <td>583.077</td>\n",
              "      <td>13056</td>\n",
              "    </tr>\n",
              "    <tr>\n",
              "      <th>29</th>\n",
              "      <td>South Region [†]</td>\n",
              "      <td>305.465</td>\n",
              "      <td>10320</td>\n",
              "    </tr>\n",
              "    <tr>\n",
              "      <th>15</th>\n",
              "      <td>Northeast Region [†]</td>\n",
              "      <td>257.135</td>\n",
              "      <td>4495</td>\n",
              "    </tr>\n",
              "  </tbody>\n",
              "</table>\n",
              "</div>"
            ],
            "text/plain": [
              "              Unnamed: 0    GRP US  GRP PC\n",
              "32                 Total  1793.312    8727\n",
              "30  Southeast Region [†]   981.445   11294\n",
              "27             São Paulo   583.077   13056\n",
              "29      South Region [†]   305.465   10320\n",
              "15  Northeast Region [†]   257.135    4495"
            ]
          },
          "metadata": {
            "tags": []
          },
          "execution_count": 27
        }
      ]
    },
    {
      "cell_type": "code",
      "metadata": {
        "id": "2rpAwM75FlJW"
      },
      "source": [
        "pop_state[\"PC_GDP\"]=[13056,11032,7436,4854,10242,10379,5096,4784,4426,7779]"
      ],
      "execution_count": null,
      "outputs": []
    },
    {
      "cell_type": "code",
      "metadata": {
        "id": "ZgGUInlA_GKI",
        "outputId": "36f660ff-d61a-4037-8953-99e5b3cd8d6e",
        "colab": {
          "base_uri": "https://localhost:8080/",
          "height": 390
        }
      },
      "source": [
        "pop_state"
      ],
      "execution_count": null,
      "outputs": [
        {
          "output_type": "execute_result",
          "data": {
            "text/html": [
              "<div>\n",
              "<style scoped>\n",
              "    .dataframe tbody tr th:only-of-type {\n",
              "        vertical-align: middle;\n",
              "    }\n",
              "\n",
              "    .dataframe tbody tr th {\n",
              "        vertical-align: top;\n",
              "    }\n",
              "\n",
              "    .dataframe thead th {\n",
              "        text-align: right;\n",
              "    }\n",
              "</style>\n",
              "<table border=\"1\" class=\"dataframe\">\n",
              "  <thead>\n",
              "    <tr style=\"text-align: right;\">\n",
              "      <th></th>\n",
              "      <th>2019</th>\n",
              "      <th>No. of Customers</th>\n",
              "      <th>Percentage of Population</th>\n",
              "      <th>PC_GDP</th>\n",
              "    </tr>\n",
              "    <tr>\n",
              "      <th>State</th>\n",
              "      <th></th>\n",
              "      <th></th>\n",
              "      <th></th>\n",
              "      <th></th>\n",
              "    </tr>\n",
              "  </thead>\n",
              "  <tbody>\n",
              "    <tr>\n",
              "      <th>São Paulo</th>\n",
              "      <td>34906339</td>\n",
              "      <td>41746</td>\n",
              "      <td>0.001196</td>\n",
              "      <td>13056</td>\n",
              "    </tr>\n",
              "    <tr>\n",
              "      <th>Rio de Janeiro</th>\n",
              "      <td>15462123</td>\n",
              "      <td>12852</td>\n",
              "      <td>0.000831</td>\n",
              "      <td>11032</td>\n",
              "    </tr>\n",
              "    <tr>\n",
              "      <th>Minas Gerais</th>\n",
              "      <td>9754088</td>\n",
              "      <td>11635</td>\n",
              "      <td>0.001193</td>\n",
              "      <td>7436</td>\n",
              "    </tr>\n",
              "    <tr>\n",
              "      <th>Bahia</th>\n",
              "      <td>6157870</td>\n",
              "      <td>5045</td>\n",
              "      <td>0.000819</td>\n",
              "      <td>4854</td>\n",
              "    </tr>\n",
              "    <tr>\n",
              "      <th>Paraná</th>\n",
              "      <td>6125350</td>\n",
              "      <td>3380</td>\n",
              "      <td>0.000552</td>\n",
              "      <td>10242</td>\n",
              "    </tr>\n",
              "    <tr>\n",
              "      <th>Rio Grande do Sul</th>\n",
              "      <td>5486945</td>\n",
              "      <td>5466</td>\n",
              "      <td>0.000996</td>\n",
              "      <td>10379</td>\n",
              "    </tr>\n",
              "    <tr>\n",
              "      <th>Pernambuco</th>\n",
              "      <td>4764151</td>\n",
              "      <td>1652</td>\n",
              "      <td>0.000347</td>\n",
              "      <td>5096</td>\n",
              "    </tr>\n",
              "    <tr>\n",
              "      <th>Pará</th>\n",
              "      <td>4475988</td>\n",
              "      <td>975</td>\n",
              "      <td>0.000218</td>\n",
              "      <td>4784</td>\n",
              "    </tr>\n",
              "    <tr>\n",
              "      <th>Ceará</th>\n",
              "      <td>4234727</td>\n",
              "      <td>1336</td>\n",
              "      <td>0.000315</td>\n",
              "      <td>4426</td>\n",
              "    </tr>\n",
              "    <tr>\n",
              "      <th>Goiás</th>\n",
              "      <td>4100814</td>\n",
              "      <td>2020</td>\n",
              "      <td>0.000493</td>\n",
              "      <td>7779</td>\n",
              "    </tr>\n",
              "  </tbody>\n",
              "</table>\n",
              "</div>"
            ],
            "text/plain": [
              "                        2019  ...  PC_GDP\n",
              "State                         ...        \n",
              " São Paulo          34906339  ...   13056\n",
              " Rio de Janeiro     15462123  ...   11032\n",
              " Minas Gerais        9754088  ...    7436\n",
              " Bahia               6157870  ...    4854\n",
              " Paraná              6125350  ...   10242\n",
              " Rio Grande do Sul   5486945  ...   10379\n",
              " Pernambuco          4764151  ...    5096\n",
              " Pará                4475988  ...    4784\n",
              " Ceará               4234727  ...    4426\n",
              " Goiás               4100814  ...    7779\n",
              "\n",
              "[10 rows x 4 columns]"
            ]
          },
          "metadata": {
            "tags": []
          },
          "execution_count": 29
        }
      ]
    },
    {
      "cell_type": "code",
      "metadata": {
        "id": "eQTLyJZZG6hI",
        "outputId": "1f38dc9b-d300-4f2b-b395-e92ea89a6660",
        "colab": {
          "base_uri": "https://localhost:8080/",
          "height": 386
        }
      },
      "source": [
        "sns.relplot(x=\"PC_GDP\", y=\"No. of Customers\", data=pop_state)"
      ],
      "execution_count": null,
      "outputs": [
        {
          "output_type": "execute_result",
          "data": {
            "text/plain": [
              "<seaborn.axisgrid.FacetGrid at 0x7efcc9e5d748>"
            ]
          },
          "metadata": {
            "tags": []
          },
          "execution_count": 30
        },
        {
          "output_type": "display_data",
          "data": {
            "image/png": "[encoded data removed]",
            "text/plain": [
              "<Figure size 360x360 with 1 Axes>"
            ]
          },
          "metadata": {
            "tags": [],
            "needs_background": "light"
          }
        }
      ]
    },
    {
      "cell_type": "markdown",
      "metadata": {
        "id": "f5jpvTD2IHV9"
      },
      "source": [
        "As can be observed, with the limited data, strict linear relationship cannot be observed between the Per Capita GDP and the Number of customers of each state"
      ]
    },
    {
      "cell_type": "code",
      "metadata": {
        "id": "TCYsPddsIX-i",
        "outputId": "7d2350a0-207e-418e-89cd-af3a884f7a7f",
        "colab": {
          "base_uri": "https://localhost:8080/",
          "height": 493
        }
      },
      "source": [
        "print(pop_state.sort_values(\"PC_GDP\", ascending= False))\n",
        "print(pop_state.sort_values(\"No. of Customers\", ascending= False))"
      ],
      "execution_count": null,
      "outputs": [
        {
          "output_type": "stream",
          "text": [
            "                        2019  ...  PC_GDP\n",
            "State                         ...        \n",
            " São Paulo          34906339  ...   13056\n",
            " Rio de Janeiro     15462123  ...   11032\n",
            " Rio Grande do Sul   5486945  ...   10379\n",
            " Paraná              6125350  ...   10242\n",
            " Goiás               4100814  ...    7779\n",
            " Minas Gerais        9754088  ...    7436\n",
            " Pernambuco          4764151  ...    5096\n",
            " Bahia               6157870  ...    4854\n",
            " Pará                4475988  ...    4784\n",
            " Ceará               4234727  ...    4426\n",
            "\n",
            "[10 rows x 4 columns]\n",
            "                        2019  ...  PC_GDP\n",
            "State                         ...        \n",
            " São Paulo          34906339  ...   13056\n",
            " Rio de Janeiro     15462123  ...   11032\n",
            " Minas Gerais        9754088  ...    7436\n",
            " Rio Grande do Sul   5486945  ...   10379\n",
            " Bahia               6157870  ...    4854\n",
            " Paraná              6125350  ...   10242\n",
            " Goiás               4100814  ...    7779\n",
            " Pernambuco          4764151  ...    5096\n",
            " Ceará               4234727  ...    4426\n",
            " Pará                4475988  ...    4784\n",
            "\n",
            "[10 rows x 4 columns]\n"
          ],
          "name": "stdout"
        }
      ]
    },
    {
      "cell_type": "code",
      "metadata": {
        "id": "XtPcMMvTJ9bU",
        "outputId": "25bdd3d7-55c5-4df5-e4bf-2a1f43e0bce9",
        "colab": {
          "base_uri": "https://localhost:8080/",
          "height": 390
        }
      },
      "source": [
        "pop_state.sort_values(\"PC_GDP\", ascending= False)"
      ],
      "execution_count": null,
      "outputs": [
        {
          "output_type": "execute_result",
          "data": {
            "text/html": [
              "<div>\n",
              "<style scoped>\n",
              "    .dataframe tbody tr th:only-of-type {\n",
              "        vertical-align: middle;\n",
              "    }\n",
              "\n",
              "    .dataframe tbody tr th {\n",
              "        vertical-align: top;\n",
              "    }\n",
              "\n",
              "    .dataframe thead th {\n",
              "        text-align: right;\n",
              "    }\n",
              "</style>\n",
              "<table border=\"1\" class=\"dataframe\">\n",
              "  <thead>\n",
              "    <tr style=\"text-align: right;\">\n",
              "      <th></th>\n",
              "      <th>2019</th>\n",
              "      <th>No. of Customers</th>\n",
              "      <th>Percentage of Population</th>\n",
              "      <th>PC_GDP</th>\n",
              "    </tr>\n",
              "    <tr>\n",
              "      <th>State</th>\n",
              "      <th></th>\n",
              "      <th></th>\n",
              "      <th></th>\n",
              "      <th></th>\n",
              "    </tr>\n",
              "  </thead>\n",
              "  <tbody>\n",
              "    <tr>\n",
              "      <th>São Paulo</th>\n",
              "      <td>34906339</td>\n",
              "      <td>41746</td>\n",
              "      <td>0.001196</td>\n",
              "      <td>13056</td>\n",
              "    </tr>\n",
              "    <tr>\n",
              "      <th>Rio de Janeiro</th>\n",
              "      <td>15462123</td>\n",
              "      <td>12852</td>\n",
              "      <td>0.000831</td>\n",
              "      <td>11032</td>\n",
              "    </tr>\n",
              "    <tr>\n",
              "      <th>Rio Grande do Sul</th>\n",
              "      <td>5486945</td>\n",
              "      <td>5466</td>\n",
              "      <td>0.000996</td>\n",
              "      <td>10379</td>\n",
              "    </tr>\n",
              "    <tr>\n",
              "      <th>Paraná</th>\n",
              "      <td>6125350</td>\n",
              "      <td>3380</td>\n",
              "      <td>0.000552</td>\n",
              "      <td>10242</td>\n",
              "    </tr>\n",
              "    <tr>\n",
              "      <th>Goiás</th>\n",
              "      <td>4100814</td>\n",
              "      <td>2020</td>\n",
              "      <td>0.000493</td>\n",
              "      <td>7779</td>\n",
              "    </tr>\n",
              "    <tr>\n",
              "      <th>Minas Gerais</th>\n",
              "      <td>9754088</td>\n",
              "      <td>11635</td>\n",
              "      <td>0.001193</td>\n",
              "      <td>7436</td>\n",
              "    </tr>\n",
              "    <tr>\n",
              "      <th>Pernambuco</th>\n",
              "      <td>4764151</td>\n",
              "      <td>1652</td>\n",
              "      <td>0.000347</td>\n",
              "      <td>5096</td>\n",
              "    </tr>\n",
              "    <tr>\n",
              "      <th>Bahia</th>\n",
              "      <td>6157870</td>\n",
              "      <td>5045</td>\n",
              "      <td>0.000819</td>\n",
              "      <td>4854</td>\n",
              "    </tr>\n",
              "    <tr>\n",
              "      <th>Pará</th>\n",
              "      <td>4475988</td>\n",
              "      <td>975</td>\n",
              "      <td>0.000218</td>\n",
              "      <td>4784</td>\n",
              "    </tr>\n",
              "    <tr>\n",
              "      <th>Ceará</th>\n",
              "      <td>4234727</td>\n",
              "      <td>1336</td>\n",
              "      <td>0.000315</td>\n",
              "      <td>4426</td>\n",
              "    </tr>\n",
              "  </tbody>\n",
              "</table>\n",
              "</div>"
            ],
            "text/plain": [
              "                        2019  ...  PC_GDP\n",
              "State                         ...        \n",
              " São Paulo          34906339  ...   13056\n",
              " Rio de Janeiro     15462123  ...   11032\n",
              " Rio Grande do Sul   5486945  ...   10379\n",
              " Paraná              6125350  ...   10242\n",
              " Goiás               4100814  ...    7779\n",
              " Minas Gerais        9754088  ...    7436\n",
              " Pernambuco          4764151  ...    5096\n",
              " Bahia               6157870  ...    4854\n",
              " Pará                4475988  ...    4784\n",
              " Ceará               4234727  ...    4426\n",
              "\n",
              "[10 rows x 4 columns]"
            ]
          },
          "metadata": {
            "tags": []
          },
          "execution_count": 32
        }
      ]
    },
    {
      "cell_type": "markdown",
      "metadata": {
        "id": "pTOg0OHoKOgY"
      },
      "source": [
        "As can be observed, Rio de Janeiro has richer population but the customer penetration of the state is lesser compared to the rest of the state. Suprisingly, when we analysed the postal code level of customer distribution, we found that the cities of Rio de Janeiro and Niteroi had those geo clusters with highest customer penetration. On closer analysis, we can observe why these cities stand out. Rio is the headquarters for most of oil, mining and telecommunication companies. Niteroi has the **highest human development** index of the state, indicating better standard of living and is also the second municipality with the highest average monthly household income per capita in Brazil.\n",
        "\n",
        "Thoughts:\n",
        "\n",
        "- Marketing activities in the states of Rio Grande do Sul and Parana should be improved so as to take advantage of the richer population.\n",
        "- Largest customer base are from areas characterised by better standard of living and better per capita income.\n",
        "- Marketing team should identify such locations and improve the circulation of digital contents."
      ]
    },
    {
      "cell_type": "markdown",
      "metadata": {
        "id": "ddrJD500P09H"
      },
      "source": [
        "####Identifying Top Revenue Generating States"
      ]
    },
    {
      "cell_type": "code",
      "metadata": {
        "id": "YwF5MuUDPxyA",
        "outputId": "a9cbc8c4-2f8a-4e96-da0d-949cbf469a4d",
        "colab": {
          "base_uri": "https://localhost:8080/",
          "height": 68
        }
      },
      "source": [
        "customers.columns"
      ],
      "execution_count": null,
      "outputs": [
        {
          "output_type": "execute_result",
          "data": {
            "text/plain": [
              "Index(['customer_id', 'customer_unique_id', 'customer_zip_code_prefix',\n",
              "       'customer_city', 'customer_state'],\n",
              "      dtype='object')"
            ]
          },
          "metadata": {
            "tags": []
          },
          "execution_count": 33
        }
      ]
    },
    {
      "cell_type": "code",
      "metadata": {
        "id": "NK7NosZ2QF6g",
        "outputId": "fc0a8056-f067-47c9-83d3-4941dbe0737f",
        "colab": {
          "base_uri": "https://localhost:8080/",
          "height": 85
        }
      },
      "source": [
        "orders.columns"
      ],
      "execution_count": null,
      "outputs": [
        {
          "output_type": "execute_result",
          "data": {
            "text/plain": [
              "Index(['order_id', 'customer_id', 'order_status', 'order_purchase_timestamp',\n",
              "       'order_approved_at', 'order_delivered_carrier_date',\n",
              "       'order_delivered_customer_date', 'order_estimated_delivery_date'],\n",
              "      dtype='object')"
            ]
          },
          "metadata": {
            "tags": []
          },
          "execution_count": 34
        }
      ]
    },
    {
      "cell_type": "code",
      "metadata": {
        "id": "NfrI14xTQTlW",
        "outputId": "3a5d0410-b344-46e4-b8a2-59538b930b33",
        "colab": {
          "base_uri": "https://localhost:8080/",
          "height": 68
        }
      },
      "source": [
        "order_pay.columns"
      ],
      "execution_count": null,
      "outputs": [
        {
          "output_type": "execute_result",
          "data": {
            "text/plain": [
              "Index(['order_id', 'payment_sequential', 'payment_type',\n",
              "       'payment_installments', 'payment_value'],\n",
              "      dtype='object')"
            ]
          },
          "metadata": {
            "tags": []
          },
          "execution_count": 35
        }
      ]
    },
    {
      "cell_type": "code",
      "metadata": {
        "id": "GOpfHHTFQt2-",
        "outputId": "f5dd0449-22bb-44b8-a096-3a4b4c81251d",
        "colab": {
          "base_uri": "https://localhost:8080/",
          "height": 119
        }
      },
      "source": [
        "#combing dataset containing order and payment informations\n",
        "pur=order_pay.merge(right=orders, how=\"left\", on=\"order_id\")\n",
        "pur.columns"
      ],
      "execution_count": null,
      "outputs": [
        {
          "output_type": "execute_result",
          "data": {
            "text/plain": [
              "Index(['order_id', 'payment_sequential', 'payment_type',\n",
              "       'payment_installments', 'payment_value', 'customer_id', 'order_status',\n",
              "       'order_purchase_timestamp', 'order_approved_at',\n",
              "       'order_delivered_carrier_date', 'order_delivered_customer_date',\n",
              "       'order_estimated_delivery_date'],\n",
              "      dtype='object')"
            ]
          },
          "metadata": {
            "tags": []
          },
          "execution_count": 36
        }
      ]
    },
    {
      "cell_type": "code",
      "metadata": {
        "id": "Nqs1ZuO9SkOQ",
        "outputId": "e0bedaaa-664a-41c9-effe-10ef898ebc83",
        "colab": {
          "base_uri": "https://localhost:8080/",
          "height": 419
        }
      },
      "source": [
        "#Deleting unwanted columns\n",
        "pur.drop([ 'payment_sequential','order_status',\n",
        "       'payment_installments',  \n",
        "       'order_purchase_timestamp', 'order_approved_at',\n",
        "       'order_delivered_carrier_date', 'order_delivered_customer_date',\n",
        "       'order_estimated_delivery_date'],1)"
      ],
      "execution_count": null,
      "outputs": [
        {
          "output_type": "execute_result",
          "data": {
            "text/html": [
              "<div>\n",
              "<style scoped>\n",
              "    .dataframe tbody tr th:only-of-type {\n",
              "        vertical-align: middle;\n",
              "    }\n",
              "\n",
              "    .dataframe tbody tr th {\n",
              "        vertical-align: top;\n",
              "    }\n",
              "\n",
              "    .dataframe thead th {\n",
              "        text-align: right;\n",
              "    }\n",
              "</style>\n",
              "<table border=\"1\" class=\"dataframe\">\n",
              "  <thead>\n",
              "    <tr style=\"text-align: right;\">\n",
              "      <th></th>\n",
              "      <th>order_id</th>\n",
              "      <th>payment_type</th>\n",
              "      <th>payment_value</th>\n",
              "      <th>customer_id</th>\n",
              "    </tr>\n",
              "  </thead>\n",
              "  <tbody>\n",
              "    <tr>\n",
              "      <th>0</th>\n",
              "      <td>b81ef226f3fe1789b1e8b2acac839d17</td>\n",
              "      <td>credit_card</td>\n",
              "      <td>99.33</td>\n",
              "      <td>0a8556ac6be836b46b3e89920d59291c</td>\n",
              "    </tr>\n",
              "    <tr>\n",
              "      <th>1</th>\n",
              "      <td>a9810da82917af2d9aefd1278f1dcfa0</td>\n",
              "      <td>credit_card</td>\n",
              "      <td>24.39</td>\n",
              "      <td>f2c7fc58a9de810828715166c672f10a</td>\n",
              "    </tr>\n",
              "    <tr>\n",
              "      <th>2</th>\n",
              "      <td>25e8ea4e93396b6fa0d3dd708e76c1bd</td>\n",
              "      <td>credit_card</td>\n",
              "      <td>65.71</td>\n",
              "      <td>25b14b69de0b6e184ae6fe2755e478f9</td>\n",
              "    </tr>\n",
              "    <tr>\n",
              "      <th>3</th>\n",
              "      <td>ba78997921bbcdc1373bb41e913ab953</td>\n",
              "      <td>credit_card</td>\n",
              "      <td>107.78</td>\n",
              "      <td>7a5d8efaaa1081f800628c30d2b0728f</td>\n",
              "    </tr>\n",
              "    <tr>\n",
              "      <th>4</th>\n",
              "      <td>42fdf880ba16b47b59251dd489d4441a</td>\n",
              "      <td>credit_card</td>\n",
              "      <td>128.45</td>\n",
              "      <td>15fd6fb8f8312dbb4674e4518d6fa3b3</td>\n",
              "    </tr>\n",
              "    <tr>\n",
              "      <th>...</th>\n",
              "      <td>...</td>\n",
              "      <td>...</td>\n",
              "      <td>...</td>\n",
              "      <td>...</td>\n",
              "    </tr>\n",
              "    <tr>\n",
              "      <th>103881</th>\n",
              "      <td>0406037ad97740d563a178ecc7a2075c</td>\n",
              "      <td>boleto</td>\n",
              "      <td>363.31</td>\n",
              "      <td>5d576cb2dfa3bc05612c392a1ee9c654</td>\n",
              "    </tr>\n",
              "    <tr>\n",
              "      <th>103882</th>\n",
              "      <td>7b905861d7c825891d6347454ea7863f</td>\n",
              "      <td>credit_card</td>\n",
              "      <td>96.80</td>\n",
              "      <td>2079230c765a88530822a34a4cec2aa0</td>\n",
              "    </tr>\n",
              "    <tr>\n",
              "      <th>103883</th>\n",
              "      <td>32609bbb3dd69b3c066a6860554a77bf</td>\n",
              "      <td>credit_card</td>\n",
              "      <td>47.77</td>\n",
              "      <td>e4abb5057ec8cfda9759c0dc415a8188</td>\n",
              "    </tr>\n",
              "    <tr>\n",
              "      <th>103884</th>\n",
              "      <td>b8b61059626efa996a60be9bb9320e10</td>\n",
              "      <td>credit_card</td>\n",
              "      <td>369.54</td>\n",
              "      <td>5d719b0d300663188169c6560e243f27</td>\n",
              "    </tr>\n",
              "    <tr>\n",
              "      <th>103885</th>\n",
              "      <td>28bbae6599b09d39ca406b747b6632b1</td>\n",
              "      <td>boleto</td>\n",
              "      <td>191.58</td>\n",
              "      <td>4c7f868f43b5cff577b0becb8c8b7860</td>\n",
              "    </tr>\n",
              "  </tbody>\n",
              "</table>\n",
              "<p>103886 rows × 4 columns</p>\n",
              "</div>"
            ],
            "text/plain": [
              "                                order_id  ...                       customer_id\n",
              "0       b81ef226f3fe1789b1e8b2acac839d17  ...  0a8556ac6be836b46b3e89920d59291c\n",
              "1       a9810da82917af2d9aefd1278f1dcfa0  ...  f2c7fc58a9de810828715166c672f10a\n",
              "2       25e8ea4e93396b6fa0d3dd708e76c1bd  ...  25b14b69de0b6e184ae6fe2755e478f9\n",
              "3       ba78997921bbcdc1373bb41e913ab953  ...  7a5d8efaaa1081f800628c30d2b0728f\n",
              "4       42fdf880ba16b47b59251dd489d4441a  ...  15fd6fb8f8312dbb4674e4518d6fa3b3\n",
              "...                                  ...  ...                               ...\n",
              "103881  0406037ad97740d563a178ecc7a2075c  ...  5d576cb2dfa3bc05612c392a1ee9c654\n",
              "103882  7b905861d7c825891d6347454ea7863f  ...  2079230c765a88530822a34a4cec2aa0\n",
              "103883  32609bbb3dd69b3c066a6860554a77bf  ...  e4abb5057ec8cfda9759c0dc415a8188\n",
              "103884  b8b61059626efa996a60be9bb9320e10  ...  5d719b0d300663188169c6560e243f27\n",
              "103885  28bbae6599b09d39ca406b747b6632b1  ...  4c7f868f43b5cff577b0becb8c8b7860\n",
              "\n",
              "[103886 rows x 4 columns]"
            ]
          },
          "metadata": {
            "tags": []
          },
          "execution_count": 37
        }
      ]
    },
    {
      "cell_type": "code",
      "metadata": {
        "id": "_hZY7oADUO6a",
        "outputId": "06e0886f-d21a-4fcf-e402-5968c18ccb0b",
        "colab": {
          "base_uri": "https://localhost:8080/",
          "height": 170
        }
      },
      "source": [
        "#Calculating total revenue generated from each customer\n",
        "cus_tot_pay=pur.groupby(\"customer_id\")[\"payment_value\"].sum().sort_values(ascending= False).reset_index()\n",
        "cus_tot_pay.info()"
      ],
      "execution_count": null,
      "outputs": [
        {
          "output_type": "stream",
          "text": [
            "<class 'pandas.core.frame.DataFrame'>\n",
            "RangeIndex: 99440 entries, 0 to 99439\n",
            "Data columns (total 2 columns):\n",
            " #   Column         Non-Null Count  Dtype  \n",
            "---  ------         --------------  -----  \n",
            " 0   customer_id    99440 non-null  object \n",
            " 1   payment_value  99440 non-null  float64\n",
            "dtypes: float64(1), object(1)\n",
            "memory usage: 1.5+ MB\n"
          ],
          "name": "stdout"
        }
      ]
    },
    {
      "cell_type": "code",
      "metadata": {
        "id": "IyZUrKKYU49Y",
        "outputId": "9c8955d3-0cc9-4e48-b60c-182e740edae6",
        "colab": {
          "base_uri": "https://localhost:8080/",
          "height": 204
        }
      },
      "source": [
        "cus_tot_pay.head()"
      ],
      "execution_count": null,
      "outputs": [
        {
          "output_type": "execute_result",
          "data": {
            "text/html": [
              "<div>\n",
              "<style scoped>\n",
              "    .dataframe tbody tr th:only-of-type {\n",
              "        vertical-align: middle;\n",
              "    }\n",
              "\n",
              "    .dataframe tbody tr th {\n",
              "        vertical-align: top;\n",
              "    }\n",
              "\n",
              "    .dataframe thead th {\n",
              "        text-align: right;\n",
              "    }\n",
              "</style>\n",
              "<table border=\"1\" class=\"dataframe\">\n",
              "  <thead>\n",
              "    <tr style=\"text-align: right;\">\n",
              "      <th></th>\n",
              "      <th>customer_id</th>\n",
              "      <th>payment_value</th>\n",
              "    </tr>\n",
              "  </thead>\n",
              "  <tbody>\n",
              "    <tr>\n",
              "      <th>0</th>\n",
              "      <td>1617b1357756262bfa56ab541c47bc16</td>\n",
              "      <td>13664.08</td>\n",
              "    </tr>\n",
              "    <tr>\n",
              "      <th>1</th>\n",
              "      <td>ec5b2ba62e574342386871631fafd3fc</td>\n",
              "      <td>7274.88</td>\n",
              "    </tr>\n",
              "    <tr>\n",
              "      <th>2</th>\n",
              "      <td>c6e2731c5b391845f6800c97401a43a9</td>\n",
              "      <td>6929.31</td>\n",
              "    </tr>\n",
              "    <tr>\n",
              "      <th>3</th>\n",
              "      <td>f48d464a0baaea338cb25f816991ab1f</td>\n",
              "      <td>6922.21</td>\n",
              "    </tr>\n",
              "    <tr>\n",
              "      <th>4</th>\n",
              "      <td>3fd6777bbce08a352fddd04e4a7cc8f6</td>\n",
              "      <td>6726.66</td>\n",
              "    </tr>\n",
              "  </tbody>\n",
              "</table>\n",
              "</div>"
            ],
            "text/plain": [
              "                        customer_id  payment_value\n",
              "0  1617b1357756262bfa56ab541c47bc16       13664.08\n",
              "1  ec5b2ba62e574342386871631fafd3fc        7274.88\n",
              "2  c6e2731c5b391845f6800c97401a43a9        6929.31\n",
              "3  f48d464a0baaea338cb25f816991ab1f        6922.21\n",
              "4  3fd6777bbce08a352fddd04e4a7cc8f6        6726.66"
            ]
          },
          "metadata": {
            "tags": []
          },
          "execution_count": 39
        }
      ]
    },
    {
      "cell_type": "code",
      "metadata": {
        "id": "N2SjBpjXVM-s",
        "outputId": "59e7e682-269f-40a9-c0cb-9066b40086b1",
        "colab": {
          "base_uri": "https://localhost:8080/",
          "height": 419
        }
      },
      "source": [
        "#Calculating total number of orders placed by each customer\n",
        "cus_tot=pur.groupby(\"customer_id\")[\"order_id\"].count().sort_values(ascending= False).reset_index()\n",
        "cus_tot"
      ],
      "execution_count": null,
      "outputs": [
        {
          "output_type": "execute_result",
          "data": {
            "text/html": [
              "<div>\n",
              "<style scoped>\n",
              "    .dataframe tbody tr th:only-of-type {\n",
              "        vertical-align: middle;\n",
              "    }\n",
              "\n",
              "    .dataframe tbody tr th {\n",
              "        vertical-align: top;\n",
              "    }\n",
              "\n",
              "    .dataframe thead th {\n",
              "        text-align: right;\n",
              "    }\n",
              "</style>\n",
              "<table border=\"1\" class=\"dataframe\">\n",
              "  <thead>\n",
              "    <tr style=\"text-align: right;\">\n",
              "      <th></th>\n",
              "      <th>customer_id</th>\n",
              "      <th>order_id</th>\n",
              "    </tr>\n",
              "  </thead>\n",
              "  <tbody>\n",
              "    <tr>\n",
              "      <th>0</th>\n",
              "      <td>9af2372a1e49340278e7c1ef8d749f34</td>\n",
              "      <td>29</td>\n",
              "    </tr>\n",
              "    <tr>\n",
              "      <th>1</th>\n",
              "      <td>92cd3ec6e2d643d4ebd0e3d6238f69e2</td>\n",
              "      <td>26</td>\n",
              "    </tr>\n",
              "    <tr>\n",
              "      <th>2</th>\n",
              "      <td>b246eeed30b362c09d867b9e598bee51</td>\n",
              "      <td>22</td>\n",
              "    </tr>\n",
              "    <tr>\n",
              "      <th>3</th>\n",
              "      <td>270c23a11d024a44c896d1894b261a83</td>\n",
              "      <td>21</td>\n",
              "    </tr>\n",
              "    <tr>\n",
              "      <th>4</th>\n",
              "      <td>eed931d3a5222a9a511d18be7fd2a5ba</td>\n",
              "      <td>19</td>\n",
              "    </tr>\n",
              "    <tr>\n",
              "      <th>...</th>\n",
              "      <td>...</td>\n",
              "      <td>...</td>\n",
              "    </tr>\n",
              "    <tr>\n",
              "      <th>99435</th>\n",
              "      <td>a92da5f6ab925f1b45c83cef38a87fe0</td>\n",
              "      <td>1</td>\n",
              "    </tr>\n",
              "    <tr>\n",
              "      <th>99436</th>\n",
              "      <td>a92daa58ac5dd4507c9d8846805f68a8</td>\n",
              "      <td>1</td>\n",
              "    </tr>\n",
              "    <tr>\n",
              "      <th>99437</th>\n",
              "      <td>a92dc6eff829713a8baf8aaac87cc7e1</td>\n",
              "      <td>1</td>\n",
              "    </tr>\n",
              "    <tr>\n",
              "      <th>99438</th>\n",
              "      <td>a92dcbd9afbc87cfcf0923eed2df56ab</td>\n",
              "      <td>1</td>\n",
              "    </tr>\n",
              "    <tr>\n",
              "      <th>99439</th>\n",
              "      <td>00012a2ce6f8dcda20d059ce98491703</td>\n",
              "      <td>1</td>\n",
              "    </tr>\n",
              "  </tbody>\n",
              "</table>\n",
              "<p>99440 rows × 2 columns</p>\n",
              "</div>"
            ],
            "text/plain": [
              "                            customer_id  order_id\n",
              "0      9af2372a1e49340278e7c1ef8d749f34        29\n",
              "1      92cd3ec6e2d643d4ebd0e3d6238f69e2        26\n",
              "2      b246eeed30b362c09d867b9e598bee51        22\n",
              "3      270c23a11d024a44c896d1894b261a83        21\n",
              "4      eed931d3a5222a9a511d18be7fd2a5ba        19\n",
              "...                                 ...       ...\n",
              "99435  a92da5f6ab925f1b45c83cef38a87fe0         1\n",
              "99436  a92daa58ac5dd4507c9d8846805f68a8         1\n",
              "99437  a92dc6eff829713a8baf8aaac87cc7e1         1\n",
              "99438  a92dcbd9afbc87cfcf0923eed2df56ab         1\n",
              "99439  00012a2ce6f8dcda20d059ce98491703         1\n",
              "\n",
              "[99440 rows x 2 columns]"
            ]
          },
          "metadata": {
            "tags": []
          },
          "execution_count": 40
        }
      ]
    },
    {
      "cell_type": "code",
      "metadata": {
        "id": "Xdo9W4r2V4Bs",
        "outputId": "d1414d12-bf19-427c-f7ef-d38a4344bc42",
        "colab": {
          "base_uri": "https://localhost:8080/",
          "height": 204
        }
      },
      "source": [
        "#merging each customers payment amount to his number of purchases\n",
        "cust=cus_tot_pay.merge(right=cus_tot, how=\"left\", on=\"customer_id\")\n",
        "cust.sort_values(by=\"order_id\", ascending=False ).head()"
      ],
      "execution_count": null,
      "outputs": [
        {
          "output_type": "execute_result",
          "data": {
            "text/html": [
              "<div>\n",
              "<style scoped>\n",
              "    .dataframe tbody tr th:only-of-type {\n",
              "        vertical-align: middle;\n",
              "    }\n",
              "\n",
              "    .dataframe tbody tr th {\n",
              "        vertical-align: top;\n",
              "    }\n",
              "\n",
              "    .dataframe thead th {\n",
              "        text-align: right;\n",
              "    }\n",
              "</style>\n",
              "<table border=\"1\" class=\"dataframe\">\n",
              "  <thead>\n",
              "    <tr style=\"text-align: right;\">\n",
              "      <th></th>\n",
              "      <th>customer_id</th>\n",
              "      <th>payment_value</th>\n",
              "      <th>order_id</th>\n",
              "    </tr>\n",
              "  </thead>\n",
              "  <tbody>\n",
              "    <tr>\n",
              "      <th>4878</th>\n",
              "      <td>9af2372a1e49340278e7c1ef8d749f34</td>\n",
              "      <td>457.99</td>\n",
              "      <td>29</td>\n",
              "    </tr>\n",
              "    <tr>\n",
              "      <th>74098</th>\n",
              "      <td>92cd3ec6e2d643d4ebd0e3d6238f69e2</td>\n",
              "      <td>62.68</td>\n",
              "      <td>26</td>\n",
              "    </tr>\n",
              "    <tr>\n",
              "      <th>88731</th>\n",
              "      <td>b246eeed30b362c09d867b9e598bee51</td>\n",
              "      <td>40.85</td>\n",
              "      <td>22</td>\n",
              "    </tr>\n",
              "    <tr>\n",
              "      <th>29196</th>\n",
              "      <td>270c23a11d024a44c896d1894b261a83</td>\n",
              "      <td>161.32</td>\n",
              "      <td>21</td>\n",
              "    </tr>\n",
              "    <tr>\n",
              "      <th>61229</th>\n",
              "      <td>eed931d3a5222a9a511d18be7fd2a5ba</td>\n",
              "      <td>82.73</td>\n",
              "      <td>19</td>\n",
              "    </tr>\n",
              "  </tbody>\n",
              "</table>\n",
              "</div>"
            ],
            "text/plain": [
              "                            customer_id  payment_value  order_id\n",
              "4878   9af2372a1e49340278e7c1ef8d749f34         457.99        29\n",
              "74098  92cd3ec6e2d643d4ebd0e3d6238f69e2          62.68        26\n",
              "88731  b246eeed30b362c09d867b9e598bee51          40.85        22\n",
              "29196  270c23a11d024a44c896d1894b261a83         161.32        21\n",
              "61229  eed931d3a5222a9a511d18be7fd2a5ba          82.73        19"
            ]
          },
          "metadata": {
            "tags": []
          },
          "execution_count": 41
        }
      ]
    },
    {
      "cell_type": "code",
      "metadata": {
        "id": "eA5fZmvuWhrD",
        "outputId": "c9b838db-2ec1-4be4-cd3d-bc6845bd8c5e",
        "colab": {
          "base_uri": "https://localhost:8080/",
          "height": 224
        }
      },
      "source": [
        "#merging customer's basic information to his purchasing activties\n",
        "c=cust.merge(right=customers, how=\"right\", on=\"customer_id\")\n",
        "c.head()"
      ],
      "execution_count": null,
      "outputs": [
        {
          "output_type": "execute_result",
          "data": {
            "text/html": [
              "<div>\n",
              "<style scoped>\n",
              "    .dataframe tbody tr th:only-of-type {\n",
              "        vertical-align: middle;\n",
              "    }\n",
              "\n",
              "    .dataframe tbody tr th {\n",
              "        vertical-align: top;\n",
              "    }\n",
              "\n",
              "    .dataframe thead th {\n",
              "        text-align: right;\n",
              "    }\n",
              "</style>\n",
              "<table border=\"1\" class=\"dataframe\">\n",
              "  <thead>\n",
              "    <tr style=\"text-align: right;\">\n",
              "      <th></th>\n",
              "      <th>customer_id</th>\n",
              "      <th>payment_value</th>\n",
              "      <th>order_id</th>\n",
              "      <th>customer_unique_id</th>\n",
              "      <th>customer_zip_code_prefix</th>\n",
              "      <th>customer_city</th>\n",
              "      <th>customer_state</th>\n",
              "    </tr>\n",
              "  </thead>\n",
              "  <tbody>\n",
              "    <tr>\n",
              "      <th>0</th>\n",
              "      <td>1617b1357756262bfa56ab541c47bc16</td>\n",
              "      <td>13664.08</td>\n",
              "      <td>1.0</td>\n",
              "      <td>0a0a92112bd4c708ca5fde585afaa872</td>\n",
              "      <td>20080</td>\n",
              "      <td>rio de janeiro</td>\n",
              "      <td>RJ</td>\n",
              "    </tr>\n",
              "    <tr>\n",
              "      <th>1</th>\n",
              "      <td>ec5b2ba62e574342386871631fafd3fc</td>\n",
              "      <td>7274.88</td>\n",
              "      <td>1.0</td>\n",
              "      <td>763c8b1c9c68a0229c42c9fc6f662b93</td>\n",
              "      <td>29102</td>\n",
              "      <td>vila velha</td>\n",
              "      <td>ES</td>\n",
              "    </tr>\n",
              "    <tr>\n",
              "      <th>2</th>\n",
              "      <td>c6e2731c5b391845f6800c97401a43a9</td>\n",
              "      <td>6929.31</td>\n",
              "      <td>1.0</td>\n",
              "      <td>dc4802a71eae9be1dd28f5d788ceb526</td>\n",
              "      <td>79042</td>\n",
              "      <td>campo grande</td>\n",
              "      <td>MS</td>\n",
              "    </tr>\n",
              "    <tr>\n",
              "      <th>3</th>\n",
              "      <td>f48d464a0baaea338cb25f816991ab1f</td>\n",
              "      <td>6922.21</td>\n",
              "      <td>1.0</td>\n",
              "      <td>459bef486812aa25204be022145caa62</td>\n",
              "      <td>29066</td>\n",
              "      <td>vitoria</td>\n",
              "      <td>ES</td>\n",
              "    </tr>\n",
              "    <tr>\n",
              "      <th>4</th>\n",
              "      <td>3fd6777bbce08a352fddd04e4a7cc8f6</td>\n",
              "      <td>6726.66</td>\n",
              "      <td>1.0</td>\n",
              "      <td>ff4159b92c40ebe40454e3e6a7c35ed6</td>\n",
              "      <td>17506</td>\n",
              "      <td>marilia</td>\n",
              "      <td>SP</td>\n",
              "    </tr>\n",
              "  </tbody>\n",
              "</table>\n",
              "</div>"
            ],
            "text/plain": [
              "                        customer_id  ...  customer_state\n",
              "0  1617b1357756262bfa56ab541c47bc16  ...              RJ\n",
              "1  ec5b2ba62e574342386871631fafd3fc  ...              ES\n",
              "2  c6e2731c5b391845f6800c97401a43a9  ...              MS\n",
              "3  f48d464a0baaea338cb25f816991ab1f  ...              ES\n",
              "4  3fd6777bbce08a352fddd04e4a7cc8f6  ...              SP\n",
              "\n",
              "[5 rows x 7 columns]"
            ]
          },
          "metadata": {
            "tags": []
          },
          "execution_count": 42
        }
      ]
    },
    {
      "cell_type": "code",
      "metadata": {
        "id": "ZjjDZgSEW0s5",
        "outputId": "8e8ab3c6-e39e-4637-afa1-b2b67401b427",
        "colab": {
          "base_uri": "https://localhost:8080/",
          "height": 886
        }
      },
      "source": [
        "#dataset containing revenue generated by each state\n",
        "rev_state=c.groupby(\"customer_state\")[\"payment_value\"].sum().sort_values(ascending=False).reset_index()\n",
        "rev_state"
      ],
      "execution_count": null,
      "outputs": [
        {
          "output_type": "execute_result",
          "data": {
            "text/html": [
              "<div>\n",
              "<style scoped>\n",
              "    .dataframe tbody tr th:only-of-type {\n",
              "        vertical-align: middle;\n",
              "    }\n",
              "\n",
              "    .dataframe tbody tr th {\n",
              "        vertical-align: top;\n",
              "    }\n",
              "\n",
              "    .dataframe thead th {\n",
              "        text-align: right;\n",
              "    }\n",
              "</style>\n",
              "<table border=\"1\" class=\"dataframe\">\n",
              "  <thead>\n",
              "    <tr style=\"text-align: right;\">\n",
              "      <th></th>\n",
              "      <th>customer_state</th>\n",
              "      <th>payment_value</th>\n",
              "    </tr>\n",
              "  </thead>\n",
              "  <tbody>\n",
              "    <tr>\n",
              "      <th>0</th>\n",
              "      <td>SP</td>\n",
              "      <td>5998226.96</td>\n",
              "    </tr>\n",
              "    <tr>\n",
              "      <th>1</th>\n",
              "      <td>RJ</td>\n",
              "      <td>2144379.69</td>\n",
              "    </tr>\n",
              "    <tr>\n",
              "      <th>2</th>\n",
              "      <td>MG</td>\n",
              "      <td>1872257.26</td>\n",
              "    </tr>\n",
              "    <tr>\n",
              "      <th>3</th>\n",
              "      <td>RS</td>\n",
              "      <td>890898.54</td>\n",
              "    </tr>\n",
              "    <tr>\n",
              "      <th>4</th>\n",
              "      <td>PR</td>\n",
              "      <td>811156.38</td>\n",
              "    </tr>\n",
              "    <tr>\n",
              "      <th>5</th>\n",
              "      <td>SC</td>\n",
              "      <td>623086.43</td>\n",
              "    </tr>\n",
              "    <tr>\n",
              "      <th>6</th>\n",
              "      <td>BA</td>\n",
              "      <td>616645.82</td>\n",
              "    </tr>\n",
              "    <tr>\n",
              "      <th>7</th>\n",
              "      <td>DF</td>\n",
              "      <td>355141.08</td>\n",
              "    </tr>\n",
              "    <tr>\n",
              "      <th>8</th>\n",
              "      <td>GO</td>\n",
              "      <td>350092.31</td>\n",
              "    </tr>\n",
              "    <tr>\n",
              "      <th>9</th>\n",
              "      <td>ES</td>\n",
              "      <td>325967.55</td>\n",
              "    </tr>\n",
              "    <tr>\n",
              "      <th>10</th>\n",
              "      <td>PE</td>\n",
              "      <td>324850.44</td>\n",
              "    </tr>\n",
              "    <tr>\n",
              "      <th>11</th>\n",
              "      <td>CE</td>\n",
              "      <td>279464.03</td>\n",
              "    </tr>\n",
              "    <tr>\n",
              "      <th>12</th>\n",
              "      <td>PA</td>\n",
              "      <td>218295.85</td>\n",
              "    </tr>\n",
              "    <tr>\n",
              "      <th>13</th>\n",
              "      <td>MT</td>\n",
              "      <td>187029.29</td>\n",
              "    </tr>\n",
              "    <tr>\n",
              "      <th>14</th>\n",
              "      <td>MA</td>\n",
              "      <td>152523.02</td>\n",
              "    </tr>\n",
              "    <tr>\n",
              "      <th>15</th>\n",
              "      <td>PB</td>\n",
              "      <td>141545.72</td>\n",
              "    </tr>\n",
              "    <tr>\n",
              "      <th>16</th>\n",
              "      <td>MS</td>\n",
              "      <td>137534.84</td>\n",
              "    </tr>\n",
              "    <tr>\n",
              "      <th>17</th>\n",
              "      <td>PI</td>\n",
              "      <td>108523.97</td>\n",
              "    </tr>\n",
              "    <tr>\n",
              "      <th>18</th>\n",
              "      <td>RN</td>\n",
              "      <td>102718.13</td>\n",
              "    </tr>\n",
              "    <tr>\n",
              "      <th>19</th>\n",
              "      <td>AL</td>\n",
              "      <td>96962.06</td>\n",
              "    </tr>\n",
              "    <tr>\n",
              "      <th>20</th>\n",
              "      <td>SE</td>\n",
              "      <td>75246.25</td>\n",
              "    </tr>\n",
              "    <tr>\n",
              "      <th>21</th>\n",
              "      <td>TO</td>\n",
              "      <td>61485.33</td>\n",
              "    </tr>\n",
              "    <tr>\n",
              "      <th>22</th>\n",
              "      <td>RO</td>\n",
              "      <td>60866.20</td>\n",
              "    </tr>\n",
              "    <tr>\n",
              "      <th>23</th>\n",
              "      <td>AM</td>\n",
              "      <td>27966.93</td>\n",
              "    </tr>\n",
              "    <tr>\n",
              "      <th>24</th>\n",
              "      <td>AC</td>\n",
              "      <td>19680.62</td>\n",
              "    </tr>\n",
              "    <tr>\n",
              "      <th>25</th>\n",
              "      <td>AP</td>\n",
              "      <td>16262.80</td>\n",
              "    </tr>\n",
              "    <tr>\n",
              "      <th>26</th>\n",
              "      <td>RR</td>\n",
              "      <td>10064.62</td>\n",
              "    </tr>\n",
              "  </tbody>\n",
              "</table>\n",
              "</div>"
            ],
            "text/plain": [
              "   customer_state  payment_value\n",
              "0              SP     5998226.96\n",
              "1              RJ     2144379.69\n",
              "2              MG     1872257.26\n",
              "3              RS      890898.54\n",
              "4              PR      811156.38\n",
              "5              SC      623086.43\n",
              "6              BA      616645.82\n",
              "7              DF      355141.08\n",
              "8              GO      350092.31\n",
              "9              ES      325967.55\n",
              "10             PE      324850.44\n",
              "11             CE      279464.03\n",
              "12             PA      218295.85\n",
              "13             MT      187029.29\n",
              "14             MA      152523.02\n",
              "15             PB      141545.72\n",
              "16             MS      137534.84\n",
              "17             PI      108523.97\n",
              "18             RN      102718.13\n",
              "19             AL       96962.06\n",
              "20             SE       75246.25\n",
              "21             TO       61485.33\n",
              "22             RO       60866.20\n",
              "23             AM       27966.93\n",
              "24             AC       19680.62\n",
              "25             AP       16262.80\n",
              "26             RR       10064.62"
            ]
          },
          "metadata": {
            "tags": []
          },
          "execution_count": 43
        }
      ]
    },
    {
      "cell_type": "code",
      "metadata": {
        "id": "tqAGnZt5ZWFK",
        "outputId": "e1f0e6f6-10df-40f4-b3bb-bb8fea385b07",
        "colab": {
          "base_uri": "https://localhost:8080/",
          "height": 669
        }
      },
      "source": [
        "#Finding the top 10 revenue generating states\n",
        "rev_state.head(20)"
      ],
      "execution_count": null,
      "outputs": [
        {
          "output_type": "execute_result",
          "data": {
            "text/html": [
              "<div>\n",
              "<style scoped>\n",
              "    .dataframe tbody tr th:only-of-type {\n",
              "        vertical-align: middle;\n",
              "    }\n",
              "\n",
              "    .dataframe tbody tr th {\n",
              "        vertical-align: top;\n",
              "    }\n",
              "\n",
              "    .dataframe thead th {\n",
              "        text-align: right;\n",
              "    }\n",
              "</style>\n",
              "<table border=\"1\" class=\"dataframe\">\n",
              "  <thead>\n",
              "    <tr style=\"text-align: right;\">\n",
              "      <th></th>\n",
              "      <th>customer_state</th>\n",
              "      <th>payment_value</th>\n",
              "    </tr>\n",
              "  </thead>\n",
              "  <tbody>\n",
              "    <tr>\n",
              "      <th>0</th>\n",
              "      <td>SP</td>\n",
              "      <td>5998226.96</td>\n",
              "    </tr>\n",
              "    <tr>\n",
              "      <th>1</th>\n",
              "      <td>RJ</td>\n",
              "      <td>2144379.69</td>\n",
              "    </tr>\n",
              "    <tr>\n",
              "      <th>2</th>\n",
              "      <td>MG</td>\n",
              "      <td>1872257.26</td>\n",
              "    </tr>\n",
              "    <tr>\n",
              "      <th>3</th>\n",
              "      <td>RS</td>\n",
              "      <td>890898.54</td>\n",
              "    </tr>\n",
              "    <tr>\n",
              "      <th>4</th>\n",
              "      <td>PR</td>\n",
              "      <td>811156.38</td>\n",
              "    </tr>\n",
              "    <tr>\n",
              "      <th>5</th>\n",
              "      <td>SC</td>\n",
              "      <td>623086.43</td>\n",
              "    </tr>\n",
              "    <tr>\n",
              "      <th>6</th>\n",
              "      <td>BA</td>\n",
              "      <td>616645.82</td>\n",
              "    </tr>\n",
              "    <tr>\n",
              "      <th>7</th>\n",
              "      <td>DF</td>\n",
              "      <td>355141.08</td>\n",
              "    </tr>\n",
              "    <tr>\n",
              "      <th>8</th>\n",
              "      <td>GO</td>\n",
              "      <td>350092.31</td>\n",
              "    </tr>\n",
              "    <tr>\n",
              "      <th>9</th>\n",
              "      <td>ES</td>\n",
              "      <td>325967.55</td>\n",
              "    </tr>\n",
              "    <tr>\n",
              "      <th>10</th>\n",
              "      <td>PE</td>\n",
              "      <td>324850.44</td>\n",
              "    </tr>\n",
              "    <tr>\n",
              "      <th>11</th>\n",
              "      <td>CE</td>\n",
              "      <td>279464.03</td>\n",
              "    </tr>\n",
              "    <tr>\n",
              "      <th>12</th>\n",
              "      <td>PA</td>\n",
              "      <td>218295.85</td>\n",
              "    </tr>\n",
              "    <tr>\n",
              "      <th>13</th>\n",
              "      <td>MT</td>\n",
              "      <td>187029.29</td>\n",
              "    </tr>\n",
              "    <tr>\n",
              "      <th>14</th>\n",
              "      <td>MA</td>\n",
              "      <td>152523.02</td>\n",
              "    </tr>\n",
              "    <tr>\n",
              "      <th>15</th>\n",
              "      <td>PB</td>\n",
              "      <td>141545.72</td>\n",
              "    </tr>\n",
              "    <tr>\n",
              "      <th>16</th>\n",
              "      <td>MS</td>\n",
              "      <td>137534.84</td>\n",
              "    </tr>\n",
              "    <tr>\n",
              "      <th>17</th>\n",
              "      <td>PI</td>\n",
              "      <td>108523.97</td>\n",
              "    </tr>\n",
              "    <tr>\n",
              "      <th>18</th>\n",
              "      <td>RN</td>\n",
              "      <td>102718.13</td>\n",
              "    </tr>\n",
              "    <tr>\n",
              "      <th>19</th>\n",
              "      <td>AL</td>\n",
              "      <td>96962.06</td>\n",
              "    </tr>\n",
              "  </tbody>\n",
              "</table>\n",
              "</div>"
            ],
            "text/plain": [
              "   customer_state  payment_value\n",
              "0              SP     5998226.96\n",
              "1              RJ     2144379.69\n",
              "2              MG     1872257.26\n",
              "3              RS      890898.54\n",
              "4              PR      811156.38\n",
              "5              SC      623086.43\n",
              "6              BA      616645.82\n",
              "7              DF      355141.08\n",
              "8              GO      350092.31\n",
              "9              ES      325967.55\n",
              "10             PE      324850.44\n",
              "11             CE      279464.03\n",
              "12             PA      218295.85\n",
              "13             MT      187029.29\n",
              "14             MA      152523.02\n",
              "15             PB      141545.72\n",
              "16             MS      137534.84\n",
              "17             PI      108523.97\n",
              "18             RN      102718.13\n",
              "19             AL       96962.06"
            ]
          },
          "metadata": {
            "tags": []
          },
          "execution_count": 44
        }
      ]
    },
    {
      "cell_type": "markdown",
      "metadata": {
        "id": "xMDPsPfXZoA0"
      },
      "source": [
        "Combining the revenue generated per state to other parameters discovered previously"
      ]
    },
    {
      "cell_type": "code",
      "metadata": {
        "id": "TJLUDaxTezFj"
      },
      "source": [
        "#Hardcoding revenue generated\n",
        "pop_state[\"rev_gen\"]=[5998226.96,2144379.69,1872257.26,616645.82,811156.38,890898.54,324850.44,218295.85,279464.03,350092.31]"
      ],
      "execution_count": null,
      "outputs": []
    },
    {
      "cell_type": "code",
      "metadata": {
        "id": "UZydVHr_ZleO"
      },
      "source": [
        "x=pop_state.sort_values(\"rev_gen\", ascending=False)"
      ],
      "execution_count": null,
      "outputs": []
    },
    {
      "cell_type": "code",
      "metadata": {
        "id": "1Gr-dJVaiMCw",
        "outputId": "f6c3366e-c093-455e-966f-735e2f6a4a28",
        "colab": {
          "base_uri": "https://localhost:8080/",
          "height": 34
        }
      },
      "source": [
        "#Finding percentage of contribution by Sao Polo to total revenue\n",
        "print(5998226.96/(pop_state[\"rev_gen\"].sum()))"
      ],
      "execution_count": null,
      "outputs": [
        {
          "output_type": "stream",
          "text": [
            "0.4441069346289436\n"
          ],
          "name": "stdout"
        }
      ]
    },
    {
      "cell_type": "code",
      "metadata": {
        "id": "N5SUyMBjHlFJ"
      },
      "source": [
        "x=x.reset_index()"
      ],
      "execution_count": null,
      "outputs": []
    },
    {
      "cell_type": "code",
      "metadata": {
        "id": "L2ypu_YbIDig",
        "outputId": "a89bdcd2-5dd4-4649-d50b-734d6f70103f",
        "colab": {
          "base_uri": "https://localhost:8080/",
          "height": 85
        }
      },
      "source": [
        "x.columns"
      ],
      "execution_count": null,
      "outputs": [
        {
          "output_type": "execute_result",
          "data": {
            "text/plain": [
              "Index([                   'State',                       2019,\n",
              "               'No. of Customers', 'Percentage of Population',\n",
              "                         'PC_GDP',                  'rev_gen'],\n",
              "      dtype='object')"
            ]
          },
          "metadata": {
            "tags": []
          },
          "execution_count": 49
        }
      ]
    },
    {
      "cell_type": "code",
      "metadata": {
        "id": "07gz6lbKjL8R",
        "outputId": "8dbb0376-f7ac-4af0-8cba-8befcfaf6012",
        "colab": {
          "base_uri": "https://localhost:8080/",
          "height": 324
        }
      },
      "source": [
        "#Pie Chart showing each states contribution to total revenue\n",
        "plt.pie(\"rev_gen\", labels=\"State\", shadow=True, radius=1.5, data=x)\n",
        "plt.show()"
      ],
      "execution_count": null,
      "outputs": [
        {
          "output_type": "display_data",
          "data": {
            "image/png": "[encoded data removed]",
            "text/plain": [
              "<Figure size 432x288 with 1 Axes>"
            ]
          },
          "metadata": {
            "tags": []
          }
        }
      ]
    },
    {
      "cell_type": "markdown",
      "metadata": {
        "id": "OYTjHm_YhypN"
      },
      "source": [
        "Similar to its proportation to the population, Sao Polo leads in terms of revenue generated for Olist. Sao Polo contributes to 44% of the revenue generated by Olist from among its top 10 revenue generating states. "
      ]
    },
    {
      "cell_type": "markdown",
      "metadata": {
        "id": "KlE2eN1zAoO6"
      },
      "source": [
        "####Identifying the States with High Average Revenue Generation per customer"
      ]
    },
    {
      "cell_type": "code",
      "metadata": {
        "id": "5Cz9cmMZgvbh",
        "outputId": "b29e4e35-a46d-4f1c-bbe7-e34e0435a329",
        "colab": {
          "base_uri": "https://localhost:8080/",
          "height": 390
        }
      },
      "source": [
        "#Calculating the average revenue generated by each state\n",
        "\n",
        "pop_state[\"avg_rev\"]=pop_state[\"rev_gen\"]/pop_state[\"No. of Customers\"]\n",
        "pop_state.sort_values(\"avg_rev\", ascending=False)"
      ],
      "execution_count": null,
      "outputs": [
        {
          "output_type": "execute_result",
          "data": {
            "text/html": [
              "<div>\n",
              "<style scoped>\n",
              "    .dataframe tbody tr th:only-of-type {\n",
              "        vertical-align: middle;\n",
              "    }\n",
              "\n",
              "    .dataframe tbody tr th {\n",
              "        vertical-align: top;\n",
              "    }\n",
              "\n",
              "    .dataframe thead th {\n",
              "        text-align: right;\n",
              "    }\n",
              "</style>\n",
              "<table border=\"1\" class=\"dataframe\">\n",
              "  <thead>\n",
              "    <tr style=\"text-align: right;\">\n",
              "      <th></th>\n",
              "      <th>2019</th>\n",
              "      <th>No. of Customers</th>\n",
              "      <th>Percentage of Population</th>\n",
              "      <th>PC_GDP</th>\n",
              "      <th>rev_gen</th>\n",
              "      <th>avg_rev</th>\n",
              "    </tr>\n",
              "    <tr>\n",
              "      <th>State</th>\n",
              "      <th></th>\n",
              "      <th></th>\n",
              "      <th></th>\n",
              "      <th></th>\n",
              "      <th></th>\n",
              "      <th></th>\n",
              "    </tr>\n",
              "  </thead>\n",
              "  <tbody>\n",
              "    <tr>\n",
              "      <th>Paraná</th>\n",
              "      <td>6125350</td>\n",
              "      <td>3380</td>\n",
              "      <td>0.000552</td>\n",
              "      <td>10242</td>\n",
              "      <td>811156.38</td>\n",
              "      <td>239.987095</td>\n",
              "    </tr>\n",
              "    <tr>\n",
              "      <th>Pará</th>\n",
              "      <td>4475988</td>\n",
              "      <td>975</td>\n",
              "      <td>0.000218</td>\n",
              "      <td>4784</td>\n",
              "      <td>218295.85</td>\n",
              "      <td>223.893179</td>\n",
              "    </tr>\n",
              "    <tr>\n",
              "      <th>Ceará</th>\n",
              "      <td>4234727</td>\n",
              "      <td>1336</td>\n",
              "      <td>0.000315</td>\n",
              "      <td>4426</td>\n",
              "      <td>279464.03</td>\n",
              "      <td>209.179663</td>\n",
              "    </tr>\n",
              "    <tr>\n",
              "      <th>Pernambuco</th>\n",
              "      <td>4764151</td>\n",
              "      <td>1652</td>\n",
              "      <td>0.000347</td>\n",
              "      <td>5096</td>\n",
              "      <td>324850.44</td>\n",
              "      <td>196.640702</td>\n",
              "    </tr>\n",
              "    <tr>\n",
              "      <th>Goiás</th>\n",
              "      <td>4100814</td>\n",
              "      <td>2020</td>\n",
              "      <td>0.000493</td>\n",
              "      <td>7779</td>\n",
              "      <td>350092.31</td>\n",
              "      <td>173.313025</td>\n",
              "    </tr>\n",
              "    <tr>\n",
              "      <th>Rio de Janeiro</th>\n",
              "      <td>15462123</td>\n",
              "      <td>12852</td>\n",
              "      <td>0.000831</td>\n",
              "      <td>11032</td>\n",
              "      <td>2144379.69</td>\n",
              "      <td>166.851828</td>\n",
              "    </tr>\n",
              "    <tr>\n",
              "      <th>Rio Grande do Sul</th>\n",
              "      <td>5486945</td>\n",
              "      <td>5466</td>\n",
              "      <td>0.000996</td>\n",
              "      <td>10379</td>\n",
              "      <td>890898.54</td>\n",
              "      <td>162.989122</td>\n",
              "    </tr>\n",
              "    <tr>\n",
              "      <th>Minas Gerais</th>\n",
              "      <td>9754088</td>\n",
              "      <td>11635</td>\n",
              "      <td>0.001193</td>\n",
              "      <td>7436</td>\n",
              "      <td>1872257.26</td>\n",
              "      <td>160.915966</td>\n",
              "    </tr>\n",
              "    <tr>\n",
              "      <th>São Paulo</th>\n",
              "      <td>34906339</td>\n",
              "      <td>41746</td>\n",
              "      <td>0.001196</td>\n",
              "      <td>13056</td>\n",
              "      <td>5998226.96</td>\n",
              "      <td>143.683873</td>\n",
              "    </tr>\n",
              "    <tr>\n",
              "      <th>Bahia</th>\n",
              "      <td>6157870</td>\n",
              "      <td>5045</td>\n",
              "      <td>0.000819</td>\n",
              "      <td>4854</td>\n",
              "      <td>616645.82</td>\n",
              "      <td>122.229102</td>\n",
              "    </tr>\n",
              "  </tbody>\n",
              "</table>\n",
              "</div>"
            ],
            "text/plain": [
              "                        2019  No. of Customers  ...     rev_gen     avg_rev\n",
              "State                                           ...                        \n",
              " Paraná              6125350              3380  ...   811156.38  239.987095\n",
              " Pará                4475988               975  ...   218295.85  223.893179\n",
              " Ceará               4234727              1336  ...   279464.03  209.179663\n",
              " Pernambuco          4764151              1652  ...   324850.44  196.640702\n",
              " Goiás               4100814              2020  ...   350092.31  173.313025\n",
              " Rio de Janeiro     15462123             12852  ...  2144379.69  166.851828\n",
              " Rio Grande do Sul   5486945              5466  ...   890898.54  162.989122\n",
              " Minas Gerais        9754088             11635  ...  1872257.26  160.915966\n",
              " São Paulo          34906339             41746  ...  5998226.96  143.683873\n",
              " Bahia               6157870              5045  ...   616645.82  122.229102\n",
              "\n",
              "[10 rows x 6 columns]"
            ]
          },
          "metadata": {
            "tags": []
          },
          "execution_count": 51
        }
      ]
    },
    {
      "cell_type": "code",
      "metadata": {
        "id": "IzDsLKb2I07T"
      },
      "source": [
        "pop_state=pop_state.reset_index()"
      ],
      "execution_count": null,
      "outputs": []
    },
    {
      "cell_type": "code",
      "metadata": {
        "id": "g6QHimU5nrqN",
        "outputId": "2b8d20b8-11bb-4abe-e823-0012e7117456",
        "colab": {
          "base_uri": "https://localhost:8080/",
          "height": 282
        }
      },
      "source": [
        "pop_state.plot.barh(x=\"State\",y=\"avg_rev\")"
      ],
      "execution_count": null,
      "outputs": [
        {
          "output_type": "execute_result",
          "data": {
            "text/plain": [
              "<matplotlib.axes._subplots.AxesSubplot at 0x7efcc617c9e8>"
            ]
          },
          "metadata": {
            "tags": []
          },
          "execution_count": 53
        },
        {
          "output_type": "display_data",
          "data": {
            "image/png": "[encoded data removed]",
            "text/plain": [
              "<Figure size 432x288 with 1 Axes>"
            ]
          },
          "metadata": {
            "tags": [],
            "needs_background": "light"
          }
        }
      ]
    },
    {
      "cell_type": "markdown",
      "metadata": {
        "id": "0dVvI49ThcvT"
      },
      "source": [
        "The above graph illustrates that Parana and Para are the two states with highest average revenue generation. It means, the average amount of revenue generated by each customer belonging to these states are higher compared to the rest.\n",
        "\n",
        "Interestingly, Parana holds the headquarter for Olist. Apart from that, main economic activities are agriculture based. So, the reason probably would be that the few customers who actually engage in ecommerce woukd be wealthy and they engage trade that involve something costly and not easily available in local market.\n",
        "\n",
        "The market of Para is similar to that of Parana and is home to amazon rain forest.\n",
        "\n",
        "Insight:\n",
        "\n",
        "- Olist should identify the products being sold in these markets and should push the promotion of these products to similar less economically advanced areas. Chance for sale of something that they cannot obtain from local market is higher in these segments like Parana and Para\n"
      ]
    },
    {
      "cell_type": "code",
      "metadata": {
        "id": "bVF-hz_7uPsZ",
        "outputId": "f210ba7c-5cf7-4712-915d-adcd81948c9f",
        "colab": {
          "base_uri": "https://localhost:8080/",
          "height": 68
        }
      },
      "source": [
        "customers.columns"
      ],
      "execution_count": null,
      "outputs": [
        {
          "output_type": "execute_result",
          "data": {
            "text/plain": [
              "Index(['customer_id', 'customer_unique_id', 'customer_zip_code_prefix',\n",
              "       'customer_city', 'customer_state'],\n",
              "      dtype='object')"
            ]
          },
          "metadata": {
            "tags": []
          },
          "execution_count": 54
        }
      ]
    },
    {
      "cell_type": "code",
      "metadata": {
        "id": "sZjfzVBOvLzC",
        "outputId": "d0d6d2a0-68bb-4149-9d3c-ab9a2f4eec29",
        "colab": {
          "base_uri": "https://localhost:8080/",
          "height": 119
        }
      },
      "source": [
        "pur.columns"
      ],
      "execution_count": null,
      "outputs": [
        {
          "output_type": "execute_result",
          "data": {
            "text/plain": [
              "Index(['order_id', 'payment_sequential', 'payment_type',\n",
              "       'payment_installments', 'payment_value', 'customer_id', 'order_status',\n",
              "       'order_purchase_timestamp', 'order_approved_at',\n",
              "       'order_delivered_carrier_date', 'order_delivered_customer_date',\n",
              "       'order_estimated_delivery_date'],\n",
              "      dtype='object')"
            ]
          },
          "metadata": {
            "tags": []
          },
          "execution_count": 55
        }
      ]
    },
    {
      "cell_type": "markdown",
      "metadata": {
        "id": "htIBORv9AVAP"
      },
      "source": [
        "###Analysing the Payment Habit of Customers"
      ]
    },
    {
      "cell_type": "markdown",
      "metadata": {
        "id": "wzenZZhMAZsm"
      },
      "source": [
        "####The most preferred payment methods by the customers"
      ]
    },
    {
      "cell_type": "code",
      "metadata": {
        "id": "mNIh_xBovr1N"
      },
      "source": [
        "#Grouping Customers based on their method of payment\n",
        "cus_pay_type=pur.groupby(\"payment_type\")[\"customer_id\"].count().sort_values(ascending=False)"
      ],
      "execution_count": null,
      "outputs": []
    },
    {
      "cell_type": "code",
      "metadata": {
        "id": "wSBDjamJw2sk",
        "outputId": "87b2a816-b6ee-41e5-9fa5-6bc79727138c",
        "colab": {
          "base_uri": "https://localhost:8080/",
          "height": 320
        }
      },
      "source": [
        "#plotting the payment preferences\n",
        "cus_pay_type.plot.pie(y=\"customer_id\",figsize=(5, 5))"
      ],
      "execution_count": null,
      "outputs": [
        {
          "output_type": "execute_result",
          "data": {
            "text/plain": [
              "<matplotlib.axes._subplots.AxesSubplot at 0x7efcc609a518>"
            ]
          },
          "metadata": {
            "tags": []
          },
          "execution_count": 57
        },
        {
          "output_type": "display_data",
          "data": {
            "image/png": "[encoded data removed]",
            "text/plain": [
              "<Figure size 360x360 with 1 Axes>"
            ]
          },
          "metadata": {
            "tags": []
          }
        }
      ]
    },
    {
      "cell_type": "code",
      "metadata": {
        "id": "tpIe8CoK4JJU",
        "outputId": "559a85ff-b43f-4b1b-e45c-b6b3ddf6272d",
        "colab": {
          "base_uri": "https://localhost:8080/",
          "height": 136
        }
      },
      "source": [
        "#Number of payments made per each type of payment\n",
        "cus_pay_type"
      ],
      "execution_count": null,
      "outputs": [
        {
          "output_type": "execute_result",
          "data": {
            "text/plain": [
              "payment_type\n",
              "credit_card    76795\n",
              "boleto         19784\n",
              "voucher         5775\n",
              "debit_card      1529\n",
              "not_defined        3\n",
              "Name: customer_id, dtype: int64"
            ]
          },
          "metadata": {
            "tags": []
          },
          "execution_count": 58
        }
      ]
    },
    {
      "cell_type": "markdown",
      "metadata": {
        "id": "5K5HFoOR4uaU"
      },
      "source": [
        "- As can be observed, most of the transactions happen through credit card.\n",
        "- Boleto Bancário, simply referred to as Boleto (English: Ticket) is a payment method in Brazil regulated by FEBRABAN, short for Brazilian Federation of Banks.\n"
      ]
    },
    {
      "cell_type": "markdown",
      "metadata": {
        "id": "cmVx-ey4Bu30"
      },
      "source": [
        "##Analysis of Products for Olist"
      ]
    },
    {
      "cell_type": "code",
      "metadata": {
        "id": "swRQvsX6BMEF",
        "outputId": "f7408e03-1383-48ba-c325-fc560581a3c3",
        "colab": {
          "base_uri": "https://localhost:8080/",
          "height": 68
        }
      },
      "source": [
        "order_items.columns"
      ],
      "execution_count": null,
      "outputs": [
        {
          "output_type": "execute_result",
          "data": {
            "text/plain": [
              "Index(['order_id', 'order_item_id', 'product_id', 'seller_id',\n",
              "       'shipping_limit_date', 'price', 'freight_value'],\n",
              "      dtype='object')"
            ]
          },
          "metadata": {
            "tags": []
          },
          "execution_count": 59
        }
      ]
    },
    {
      "cell_type": "code",
      "metadata": {
        "id": "qumMBPxgCS1o",
        "outputId": "934502fe-265f-4d1a-da57-18235989715d",
        "colab": {
          "base_uri": "https://localhost:8080/",
          "height": 85
        }
      },
      "source": [
        "orders.columns"
      ],
      "execution_count": null,
      "outputs": [
        {
          "output_type": "execute_result",
          "data": {
            "text/plain": [
              "Index(['order_id', 'customer_id', 'order_status', 'order_purchase_timestamp',\n",
              "       'order_approved_at', 'order_delivered_carrier_date',\n",
              "       'order_delivered_customer_date', 'order_estimated_delivery_date'],\n",
              "      dtype='object')"
            ]
          },
          "metadata": {
            "tags": []
          },
          "execution_count": 60
        }
      ]
    },
    {
      "cell_type": "code",
      "metadata": {
        "id": "8kQdQ6CpCUcK",
        "outputId": "5a10844a-d112-4fd2-c5fa-2e7b949fe14f",
        "colab": {
          "base_uri": "https://localhost:8080/",
          "height": 85
        }
      },
      "source": [
        "products.columns"
      ],
      "execution_count": null,
      "outputs": [
        {
          "output_type": "execute_result",
          "data": {
            "text/plain": [
              "Index(['product_id', 'product_category_name', 'product_name_lenght',\n",
              "       'product_description_lenght', 'product_photos_qty', 'product_weight_g',\n",
              "       'product_length_cm', 'product_height_cm', 'product_width_cm'],\n",
              "      dtype='object')"
            ]
          },
          "metadata": {
            "tags": []
          },
          "execution_count": 61
        }
      ]
    },
    {
      "cell_type": "code",
      "metadata": {
        "id": "ZNAqwCJOCY6J",
        "outputId": "2427d0c9-4763-4a92-8f92-e109cf776694",
        "colab": {
          "base_uri": "https://localhost:8080/",
          "height": 34
        }
      },
      "source": [
        "trans.columns"
      ],
      "execution_count": null,
      "outputs": [
        {
          "output_type": "execute_result",
          "data": {
            "text/plain": [
              "Index(['product_category_name', 'product_category_name_english'], dtype='object')"
            ]
          },
          "metadata": {
            "tags": []
          },
          "execution_count": 62
        }
      ]
    },
    {
      "cell_type": "code",
      "metadata": {
        "id": "v4w2GOXTCgfC",
        "outputId": "821de643-6ca5-476a-ec4c-b153bbb3f9f2",
        "colab": {
          "base_uri": "https://localhost:8080/",
          "height": 102
        }
      },
      "source": [
        "products=products.merge(right=trans, how=\"left\", on=\"product_category_name\")\n",
        "products.columns"
      ],
      "execution_count": null,
      "outputs": [
        {
          "output_type": "execute_result",
          "data": {
            "text/plain": [
              "Index(['product_id', 'product_category_name', 'product_name_lenght',\n",
              "       'product_description_lenght', 'product_photos_qty', 'product_weight_g',\n",
              "       'product_length_cm', 'product_height_cm', 'product_width_cm',\n",
              "       'product_category_name_english'],\n",
              "      dtype='object')"
            ]
          },
          "metadata": {
            "tags": []
          },
          "execution_count": 63
        }
      ]
    },
    {
      "cell_type": "markdown",
      "metadata": {
        "id": "R0gPN9NaDwwE"
      },
      "source": [
        "####Top 10 Most frequently sold products and their categories"
      ]
    },
    {
      "cell_type": "code",
      "metadata": {
        "id": "jOnGtfsjC6zp"
      },
      "source": [
        "p1=order_items.merge(right=products, how=\"inner\", on=\"product_id\")"
      ],
      "execution_count": null,
      "outputs": []
    },
    {
      "cell_type": "code",
      "metadata": {
        "id": "EvXZBvWfEWj8",
        "outputId": "a47ea68c-a2d2-49d1-9f01-6eb58037a75b",
        "colab": {
          "base_uri": "https://localhost:8080/",
          "height": 136
        }
      },
      "source": [
        "p1.columns"
      ],
      "execution_count": null,
      "outputs": [
        {
          "output_type": "execute_result",
          "data": {
            "text/plain": [
              "Index(['order_id', 'order_item_id', 'product_id', 'seller_id',\n",
              "       'shipping_limit_date', 'price', 'freight_value',\n",
              "       'product_category_name', 'product_name_lenght',\n",
              "       'product_description_lenght', 'product_photos_qty', 'product_weight_g',\n",
              "       'product_length_cm', 'product_height_cm', 'product_width_cm',\n",
              "       'product_category_name_english'],\n",
              "      dtype='object')"
            ]
          },
          "metadata": {
            "tags": []
          },
          "execution_count": 65
        }
      ]
    },
    {
      "cell_type": "code",
      "metadata": {
        "id": "0Vd9fOIwFjxh",
        "outputId": "8ccb1c74-ae2b-4417-ed8a-99ea0421619d",
        "colab": {
          "base_uri": "https://localhost:8080/",
          "height": 359
        }
      },
      "source": [
        "#Finding the most sold products and their categories\n",
        "p2=p1.groupby([\"product_category_name_english\",\"product_id\"])[\"order_id\"].count().sort_values(ascending= False).head(10).reset_index()\n",
        "p2"
      ],
      "execution_count": null,
      "outputs": [
        {
          "output_type": "execute_result",
          "data": {
            "text/html": [
              "<div>\n",
              "<style scoped>\n",
              "    .dataframe tbody tr th:only-of-type {\n",
              "        vertical-align: middle;\n",
              "    }\n",
              "\n",
              "    .dataframe tbody tr th {\n",
              "        vertical-align: top;\n",
              "    }\n",
              "\n",
              "    .dataframe thead th {\n",
              "        text-align: right;\n",
              "    }\n",
              "</style>\n",
              "<table border=\"1\" class=\"dataframe\">\n",
              "  <thead>\n",
              "    <tr style=\"text-align: right;\">\n",
              "      <th></th>\n",
              "      <th>product_category_name_english</th>\n",
              "      <th>product_id</th>\n",
              "      <th>order_id</th>\n",
              "    </tr>\n",
              "  </thead>\n",
              "  <tbody>\n",
              "    <tr>\n",
              "      <th>0</th>\n",
              "      <td>furniture_decor</td>\n",
              "      <td>aca2eb7d00ea1a7b8ebd4e68314663af</td>\n",
              "      <td>527</td>\n",
              "    </tr>\n",
              "    <tr>\n",
              "      <th>1</th>\n",
              "      <td>bed_bath_table</td>\n",
              "      <td>99a4788cb24856965c36a24e339b6058</td>\n",
              "      <td>488</td>\n",
              "    </tr>\n",
              "    <tr>\n",
              "      <th>2</th>\n",
              "      <td>garden_tools</td>\n",
              "      <td>422879e10f46682990de24d770e7f83d</td>\n",
              "      <td>484</td>\n",
              "    </tr>\n",
              "    <tr>\n",
              "      <th>3</th>\n",
              "      <td>garden_tools</td>\n",
              "      <td>389d119b48cf3043d311335e499d9c6b</td>\n",
              "      <td>392</td>\n",
              "    </tr>\n",
              "    <tr>\n",
              "      <th>4</th>\n",
              "      <td>garden_tools</td>\n",
              "      <td>368c6c730842d78016ad823897a372db</td>\n",
              "      <td>388</td>\n",
              "    </tr>\n",
              "    <tr>\n",
              "      <th>5</th>\n",
              "      <td>garden_tools</td>\n",
              "      <td>53759a2ecddad2bb87a079a1f1519f73</td>\n",
              "      <td>373</td>\n",
              "    </tr>\n",
              "    <tr>\n",
              "      <th>6</th>\n",
              "      <td>computers_accessories</td>\n",
              "      <td>d1c427060a0f73f6b889a5c7c61f2ac4</td>\n",
              "      <td>343</td>\n",
              "    </tr>\n",
              "    <tr>\n",
              "      <th>7</th>\n",
              "      <td>watches_gifts</td>\n",
              "      <td>53b36df67ebb7c41585e8d54d6772e08</td>\n",
              "      <td>323</td>\n",
              "    </tr>\n",
              "    <tr>\n",
              "      <th>8</th>\n",
              "      <td>health_beauty</td>\n",
              "      <td>154e7e31ebfa092203795c972e5804a6</td>\n",
              "      <td>281</td>\n",
              "    </tr>\n",
              "    <tr>\n",
              "      <th>9</th>\n",
              "      <td>computers_accessories</td>\n",
              "      <td>3dd2a17168ec895c781a9191c1e95ad7</td>\n",
              "      <td>274</td>\n",
              "    </tr>\n",
              "  </tbody>\n",
              "</table>\n",
              "</div>"
            ],
            "text/plain": [
              "  product_category_name_english                        product_id  order_id\n",
              "0               furniture_decor  aca2eb7d00ea1a7b8ebd4e68314663af       527\n",
              "1                bed_bath_table  99a4788cb24856965c36a24e339b6058       488\n",
              "2                  garden_tools  422879e10f46682990de24d770e7f83d       484\n",
              "3                  garden_tools  389d119b48cf3043d311335e499d9c6b       392\n",
              "4                  garden_tools  368c6c730842d78016ad823897a372db       388\n",
              "5                  garden_tools  53759a2ecddad2bb87a079a1f1519f73       373\n",
              "6         computers_accessories  d1c427060a0f73f6b889a5c7c61f2ac4       343\n",
              "7                 watches_gifts  53b36df67ebb7c41585e8d54d6772e08       323\n",
              "8                 health_beauty  154e7e31ebfa092203795c972e5804a6       281\n",
              "9         computers_accessories  3dd2a17168ec895c781a9191c1e95ad7       274"
            ]
          },
          "metadata": {
            "tags": []
          },
          "execution_count": 66
        }
      ]
    },
    {
      "cell_type": "code",
      "metadata": {
        "id": "7Nhed6GLGITs",
        "outputId": "3cd111e1-b41f-47e4-de45-0a92b30c01d5",
        "colab": {
          "base_uri": "https://localhost:8080/",
          "height": 403
        }
      },
      "source": [
        "p2.plot.bar(x=\"product_category_name_english\")"
      ],
      "execution_count": null,
      "outputs": [
        {
          "output_type": "execute_result",
          "data": {
            "text/plain": [
              "<matplotlib.axes._subplots.AxesSubplot at 0x7efcc6072048>"
            ]
          },
          "metadata": {
            "tags": []
          },
          "execution_count": 67
        },
        {
          "output_type": "display_data",
          "data": {
            "image/png": "[encoded data removed]",
            "text/plain": [
              "<Figure size 432x288 with 1 Axes>"
            ]
          },
          "metadata": {
            "tags": [],
            "needs_background": "light"
          }
        }
      ]
    },
    {
      "cell_type": "markdown",
      "metadata": {
        "id": "tkMm3v7NKu6V"
      },
      "source": [
        "Please note that in the graph i have substituted Category name for the name of the product for better understanding.\n",
        "\n",
        "Inferences:\n",
        "- Top selling product belongs to \"furniture and decoration\" category\n",
        "- Products from the category of Garden tool and Computer accessories are also among the most sold"
      ]
    },
    {
      "cell_type": "markdown",
      "metadata": {
        "id": "VooOBgdALmtO"
      },
      "source": [
        "####Top 10 Most frequently sold product categories"
      ]
    },
    {
      "cell_type": "code",
      "metadata": {
        "id": "tzVPb1vhLn5Q",
        "outputId": "6ec5ba2c-8b64-44df-afbd-29ad1430ed95",
        "colab": {
          "base_uri": "https://localhost:8080/",
          "height": 136
        }
      },
      "source": [
        "p1.columns"
      ],
      "execution_count": null,
      "outputs": [
        {
          "output_type": "execute_result",
          "data": {
            "text/plain": [
              "Index(['order_id', 'order_item_id', 'product_id', 'seller_id',\n",
              "       'shipping_limit_date', 'price', 'freight_value',\n",
              "       'product_category_name', 'product_name_lenght',\n",
              "       'product_description_lenght', 'product_photos_qty', 'product_weight_g',\n",
              "       'product_length_cm', 'product_height_cm', 'product_width_cm',\n",
              "       'product_category_name_english'],\n",
              "      dtype='object')"
            ]
          },
          "metadata": {
            "tags": []
          },
          "execution_count": 68
        }
      ]
    },
    {
      "cell_type": "code",
      "metadata": {
        "id": "SUokA-MEL5q0",
        "outputId": "722c0c16-7a6d-4260-ebd9-0205dfac9f42",
        "colab": {
          "base_uri": "https://localhost:8080/",
          "height": 590
        }
      },
      "source": [
        "pr_cat=p1.groupby(\"product_category_name_english\")[\"product_id\"].count().sort_values(ascending=False).head(10)\n",
        "pr_cat.plot.bar()\n",
        "print(pr_cat)"
      ],
      "execution_count": null,
      "outputs": [
        {
          "output_type": "stream",
          "text": [
            "product_category_name_english\n",
            "bed_bath_table           11115\n",
            "health_beauty             9670\n",
            "sports_leisure            8641\n",
            "furniture_decor           8334\n",
            "computers_accessories     7827\n",
            "housewares                6964\n",
            "watches_gifts             5991\n",
            "telephony                 4545\n",
            "garden_tools              4347\n",
            "auto                      4235\n",
            "Name: product_id, dtype: int64\n"
          ],
          "name": "stdout"
        },
        {
          "output_type": "display_data",
          "data": {
            "image/png": "[encoded data removed]",
            "text/plain": [
              "<Figure size 432x288 with 1 Axes>"
            ]
          },
          "metadata": {
            "tags": [],
            "needs_background": "light"
          }
        }
      ]
    },
    {
      "cell_type": "markdown",
      "metadata": {
        "id": "rDJYbUN7Mmt2"
      },
      "source": [
        "On contrary to the findings from best selling products, most sold product categoies are \n",
        "1. Bed Bath & Table\n",
        "2. Health & Beauty\n",
        "3. Sports & Leisure"
      ]
    },
    {
      "cell_type": "markdown",
      "metadata": {
        "id": "cYwIzaPqNKF1"
      },
      "source": [
        "####Top 10 most revenue generating products"
      ]
    },
    {
      "cell_type": "code",
      "metadata": {
        "id": "fhLoCQopNdr7",
        "outputId": "1301d6ff-7bc0-4e3f-bc89-f9b692b0f167",
        "colab": {
          "base_uri": "https://localhost:8080/",
          "height": 573
        }
      },
      "source": [
        "p5=p1.groupby([\"product_category_name_english\",\"product_id\"])[\"price\"].sum().sort_values(ascending= False).head(10).reset_index()\n",
        "p5.plot.bar(x=\"product_category_name_english\",y=\"price\")\n",
        "print(p5)"
      ],
      "execution_count": null,
      "outputs": [
        {
          "output_type": "stream",
          "text": [
            "  product_category_name_english                        product_id     price\n",
            "0                 health_beauty  bb50f2e236e5eea0100680137654686c  63885.00\n",
            "1                 health_beauty  6cdd53843498f92890544667809f1595  54730.20\n",
            "2                     computers  d6160fb7873f184099d9bc95e30376af  48899.34\n",
            "3         computers_accessories  d1c427060a0f73f6b889a5c7c61f2ac4  47214.51\n",
            "4                bed_bath_table  99a4788cb24856965c36a24e339b6058  43025.56\n",
            "5         computers_accessories  3dd2a17168ec895c781a9191c1e95ad7  41082.60\n",
            "6                          baby  25c38557cf793876c5abdd5931f922db  38907.32\n",
            "7                    cool_stuff  5f504b3a1c75b73d6151be81eb05bdc9  37733.90\n",
            "8                 watches_gifts  53b36df67ebb7c41585e8d54d6772e08  37683.42\n",
            "9               furniture_decor  aca2eb7d00ea1a7b8ebd4e68314663af  37608.90\n"
          ],
          "name": "stdout"
        },
        {
          "output_type": "display_data",
          "data": {
            "image/png": "[encoded data removed]",
            "text/plain": [
              "<Figure size 432x288 with 1 Axes>"
            ]
          },
          "metadata": {
            "tags": [],
            "needs_background": "light"
          }
        }
      ]
    },
    {
      "cell_type": "markdown",
      "metadata": {
        "id": "c8Dl2zOUOauJ"
      },
      "source": [
        "Please note that i have used the name of the product category instead of product for better understanding.\n",
        "- The most revenue generating product is - bb50f2e236e5eea0100680137654686c and it belongs to health and beauty category"
      ]
    },
    {
      "cell_type": "markdown",
      "metadata": {
        "id": "9G9YdnZvO_tU"
      },
      "source": [
        "####10 Most revenue generating product categories"
      ]
    },
    {
      "cell_type": "code",
      "metadata": {
        "id": "iwjgd2T7O9Xb",
        "outputId": "45512e56-00d1-4c7a-e5e1-5accfb770b60",
        "colab": {
          "base_uri": "https://localhost:8080/",
          "height": 601
        }
      },
      "source": [
        "pr_cat=p1.groupby(\"product_category_name_english\")[\"price\"].sum().sort_values(ascending=False).head(10)\n",
        "pr_cat.plot.bar()\n",
        "print(pr_cat)"
      ],
      "execution_count": null,
      "outputs": [
        {
          "output_type": "stream",
          "text": [
            "product_category_name_english\n",
            "health_beauty            1258681.34\n",
            "watches_gifts            1205005.68\n",
            "bed_bath_table           1036988.68\n",
            "sports_leisure            988048.97\n",
            "computers_accessories     911954.32\n",
            "furniture_decor           729762.49\n",
            "cool_stuff                635290.85\n",
            "housewares                632248.66\n",
            "auto                      592720.11\n",
            "garden_tools              485256.46\n",
            "Name: price, dtype: float64\n"
          ],
          "name": "stdout"
        },
        {
          "output_type": "display_data",
          "data": {
            "image/png": "[encoded data removed]",
            "text/plain": [
              "<Figure size 432x288 with 1 Axes>"
            ]
          },
          "metadata": {
            "tags": [],
            "needs_background": "light"
          }
        }
      ]
    },
    {
      "cell_type": "markdown",
      "metadata": {
        "id": "6DGAKBVUPZAu"
      },
      "source": [
        "Even though the most sold product category was bed bath and table, the most revenue generating category is health and beauty.\n",
        "\n",
        "An important point to notice here is the revenue generation by watches and gift. Even though it ranked 7th in the top most selling product category, it ended up ranking second as the most revenue generating product.\n",
        "\n",
        "The culture of olist might be complimenting this development as Olist started out being a handmade products."
      ]
    },
    {
      "cell_type": "markdown",
      "metadata": {
        "id": "TT1iBwXkRk7A"
      },
      "source": [
        "####Analyzing the effect of Product features on freight charge"
      ]
    },
    {
      "cell_type": "code",
      "metadata": {
        "id": "QRGHBEfXRqxq",
        "outputId": "e8c01017-21bd-48c9-a1a9-150899172883",
        "colab": {
          "base_uri": "https://localhost:8080/",
          "height": 85
        }
      },
      "source": [
        "#creating a temporary dataframe for the analysis\n",
        "temp_freight=products[['product_id','product_weight_g','product_length_cm', 'product_height_cm', 'product_width_cm']]\n",
        "temp_freight=temp_freight.merge(right=order_items, on=\"product_id\")\n",
        "temp_freight.columns"
      ],
      "execution_count": null,
      "outputs": [
        {
          "output_type": "execute_result",
          "data": {
            "text/plain": [
              "Index(['product_id', 'product_weight_g', 'product_length_cm',\n",
              "       'product_height_cm', 'product_width_cm', 'order_id', 'order_item_id',\n",
              "       'seller_id', 'shipping_limit_date', 'price', 'freight_value'],\n",
              "      dtype='object')"
            ]
          },
          "metadata": {
            "tags": []
          },
          "execution_count": 72
        }
      ]
    },
    {
      "cell_type": "code",
      "metadata": {
        "id": "UNscgBT3R3R2",
        "outputId": "481aea13-ecaa-4a3d-e35d-524d9c7aab77",
        "colab": {
          "base_uri": "https://localhost:8080/",
          "height": 669
        }
      },
      "source": [
        "temp_freight.groupby([\"product_id\",\"freight_value\"])[\"order_id\"].count().sort_values(ascending= False).reset_index().head(20)"
      ],
      "execution_count": null,
      "outputs": [
        {
          "output_type": "execute_result",
          "data": {
            "text/html": [
              "<div>\n",
              "<style scoped>\n",
              "    .dataframe tbody tr th:only-of-type {\n",
              "        vertical-align: middle;\n",
              "    }\n",
              "\n",
              "    .dataframe tbody tr th {\n",
              "        vertical-align: top;\n",
              "    }\n",
              "\n",
              "    .dataframe thead th {\n",
              "        text-align: right;\n",
              "    }\n",
              "</style>\n",
              "<table border=\"1\" class=\"dataframe\">\n",
              "  <thead>\n",
              "    <tr style=\"text-align: right;\">\n",
              "      <th></th>\n",
              "      <th>product_id</th>\n",
              "      <th>freight_value</th>\n",
              "      <th>order_id</th>\n",
              "    </tr>\n",
              "  </thead>\n",
              "  <tbody>\n",
              "    <tr>\n",
              "      <th>0</th>\n",
              "      <td>53b36df67ebb7c41585e8d54d6772e08</td>\n",
              "      <td>0.00</td>\n",
              "      <td>187</td>\n",
              "    </tr>\n",
              "    <tr>\n",
              "      <th>1</th>\n",
              "      <td>aca2eb7d00ea1a7b8ebd4e68314663af</td>\n",
              "      <td>13.08</td>\n",
              "      <td>134</td>\n",
              "    </tr>\n",
              "    <tr>\n",
              "      <th>2</th>\n",
              "      <td>aca2eb7d00ea1a7b8ebd4e68314663af</td>\n",
              "      <td>0.00</td>\n",
              "      <td>98</td>\n",
              "    </tr>\n",
              "    <tr>\n",
              "      <th>3</th>\n",
              "      <td>53759a2ecddad2bb87a079a1f1519f73</td>\n",
              "      <td>17.67</td>\n",
              "      <td>98</td>\n",
              "    </tr>\n",
              "    <tr>\n",
              "      <th>4</th>\n",
              "      <td>389d119b48cf3043d311335e499d9c6b</td>\n",
              "      <td>17.67</td>\n",
              "      <td>95</td>\n",
              "    </tr>\n",
              "    <tr>\n",
              "      <th>5</th>\n",
              "      <td>422879e10f46682990de24d770e7f83d</td>\n",
              "      <td>17.67</td>\n",
              "      <td>93</td>\n",
              "    </tr>\n",
              "    <tr>\n",
              "      <th>6</th>\n",
              "      <td>154e7e31ebfa092203795c972e5804a6</td>\n",
              "      <td>7.78</td>\n",
              "      <td>82</td>\n",
              "    </tr>\n",
              "    <tr>\n",
              "      <th>7</th>\n",
              "      <td>368c6c730842d78016ad823897a372db</td>\n",
              "      <td>17.67</td>\n",
              "      <td>82</td>\n",
              "    </tr>\n",
              "    <tr>\n",
              "      <th>8</th>\n",
              "      <td>aca2eb7d00ea1a7b8ebd4e68314663af</td>\n",
              "      <td>12.43</td>\n",
              "      <td>79</td>\n",
              "    </tr>\n",
              "    <tr>\n",
              "      <th>9</th>\n",
              "      <td>99a4788cb24856965c36a24e339b6058</td>\n",
              "      <td>12.13</td>\n",
              "      <td>70</td>\n",
              "    </tr>\n",
              "    <tr>\n",
              "      <th>10</th>\n",
              "      <td>99a4788cb24856965c36a24e339b6058</td>\n",
              "      <td>15.38</td>\n",
              "      <td>65</td>\n",
              "    </tr>\n",
              "    <tr>\n",
              "      <th>11</th>\n",
              "      <td>0aabfb375647d9738ad0f7b4ea3653b1</td>\n",
              "      <td>11.85</td>\n",
              "      <td>64</td>\n",
              "    </tr>\n",
              "    <tr>\n",
              "      <th>12</th>\n",
              "      <td>422879e10f46682990de24d770e7f83d</td>\n",
              "      <td>0.00</td>\n",
              "      <td>56</td>\n",
              "    </tr>\n",
              "    <tr>\n",
              "      <th>13</th>\n",
              "      <td>154e7e31ebfa092203795c972e5804a6</td>\n",
              "      <td>15.10</td>\n",
              "      <td>55</td>\n",
              "    </tr>\n",
              "    <tr>\n",
              "      <th>14</th>\n",
              "      <td>42a2c92a0979a949ca4ea89ec5c7b934</td>\n",
              "      <td>14.13</td>\n",
              "      <td>53</td>\n",
              "    </tr>\n",
              "    <tr>\n",
              "      <th>15</th>\n",
              "      <td>389d119b48cf3043d311335e499d9c6b</td>\n",
              "      <td>13.44</td>\n",
              "      <td>50</td>\n",
              "    </tr>\n",
              "    <tr>\n",
              "      <th>16</th>\n",
              "      <td>6c3effec7c8ddba466d4f03f982c7aa3</td>\n",
              "      <td>11.85</td>\n",
              "      <td>49</td>\n",
              "    </tr>\n",
              "    <tr>\n",
              "      <th>17</th>\n",
              "      <td>5a848e4ab52fd5445cdc07aab1c40e48</td>\n",
              "      <td>15.61</td>\n",
              "      <td>49</td>\n",
              "    </tr>\n",
              "    <tr>\n",
              "      <th>18</th>\n",
              "      <td>b0961721fd839e9982420e807758a2a6</td>\n",
              "      <td>17.67</td>\n",
              "      <td>48</td>\n",
              "    </tr>\n",
              "    <tr>\n",
              "      <th>19</th>\n",
              "      <td>0aabfb375647d9738ad0f7b4ea3653b1</td>\n",
              "      <td>15.10</td>\n",
              "      <td>46</td>\n",
              "    </tr>\n",
              "  </tbody>\n",
              "</table>\n",
              "</div>"
            ],
            "text/plain": [
              "                          product_id  freight_value  order_id\n",
              "0   53b36df67ebb7c41585e8d54d6772e08           0.00       187\n",
              "1   aca2eb7d00ea1a7b8ebd4e68314663af          13.08       134\n",
              "2   aca2eb7d00ea1a7b8ebd4e68314663af           0.00        98\n",
              "3   53759a2ecddad2bb87a079a1f1519f73          17.67        98\n",
              "4   389d119b48cf3043d311335e499d9c6b          17.67        95\n",
              "5   422879e10f46682990de24d770e7f83d          17.67        93\n",
              "6   154e7e31ebfa092203795c972e5804a6           7.78        82\n",
              "7   368c6c730842d78016ad823897a372db          17.67        82\n",
              "8   aca2eb7d00ea1a7b8ebd4e68314663af          12.43        79\n",
              "9   99a4788cb24856965c36a24e339b6058          12.13        70\n",
              "10  99a4788cb24856965c36a24e339b6058          15.38        65\n",
              "11  0aabfb375647d9738ad0f7b4ea3653b1          11.85        64\n",
              "12  422879e10f46682990de24d770e7f83d           0.00        56\n",
              "13  154e7e31ebfa092203795c972e5804a6          15.10        55\n",
              "14  42a2c92a0979a949ca4ea89ec5c7b934          14.13        53\n",
              "15  389d119b48cf3043d311335e499d9c6b          13.44        50\n",
              "16  6c3effec7c8ddba466d4f03f982c7aa3          11.85        49\n",
              "17  5a848e4ab52fd5445cdc07aab1c40e48          15.61        49\n",
              "18  b0961721fd839e9982420e807758a2a6          17.67        48\n",
              "19  0aabfb375647d9738ad0f7b4ea3653b1          15.10        46"
            ]
          },
          "metadata": {
            "tags": []
          },
          "execution_count": 73
        }
      ]
    },
    {
      "cell_type": "markdown",
      "metadata": {
        "id": "yZ6fzDogS1qA"
      },
      "source": [
        "The above analysis shows that there can be more than one freight value for the same product."
      ]
    },
    {
      "cell_type": "code",
      "metadata": {
        "id": "xqV5m8EGS7fs",
        "outputId": "7dbdf6e8-816f-4516-e1ca-a76a13a38a62",
        "colab": {
          "base_uri": "https://localhost:8080/",
          "height": 419
        }
      },
      "source": [
        "temp_freight.groupby(\"product_id\")[\"freight_value\"].mean().sort_values(ascending= False).reset_index()"
      ],
      "execution_count": null,
      "outputs": [
        {
          "output_type": "execute_result",
          "data": {
            "text/html": [
              "<div>\n",
              "<style scoped>\n",
              "    .dataframe tbody tr th:only-of-type {\n",
              "        vertical-align: middle;\n",
              "    }\n",
              "\n",
              "    .dataframe tbody tr th {\n",
              "        vertical-align: top;\n",
              "    }\n",
              "\n",
              "    .dataframe thead th {\n",
              "        text-align: right;\n",
              "    }\n",
              "</style>\n",
              "<table border=\"1\" class=\"dataframe\">\n",
              "  <thead>\n",
              "    <tr style=\"text-align: right;\">\n",
              "      <th></th>\n",
              "      <th>product_id</th>\n",
              "      <th>freight_value</th>\n",
              "    </tr>\n",
              "  </thead>\n",
              "  <tbody>\n",
              "    <tr>\n",
              "      <th>0</th>\n",
              "      <td>ec31d2a17b299511e7c8627be9337b9b</td>\n",
              "      <td>409.680000</td>\n",
              "    </tr>\n",
              "    <tr>\n",
              "      <th>1</th>\n",
              "      <td>256a9c364b75753b97bee410c9491ad8</td>\n",
              "      <td>339.590000</td>\n",
              "    </tr>\n",
              "    <tr>\n",
              "      <th>2</th>\n",
              "      <td>7e53e051875b2a0c9f22acd8a9a29a20</td>\n",
              "      <td>317.470000</td>\n",
              "    </tr>\n",
              "    <tr>\n",
              "      <th>3</th>\n",
              "      <td>a3cd9517ebf5a50dca25acce54f3b171</td>\n",
              "      <td>308.336667</td>\n",
              "    </tr>\n",
              "    <tr>\n",
              "      <th>4</th>\n",
              "      <td>3a1855685a49813f60e6193864f7215e</td>\n",
              "      <td>306.060000</td>\n",
              "    </tr>\n",
              "    <tr>\n",
              "      <th>...</th>\n",
              "      <td>...</td>\n",
              "      <td>...</td>\n",
              "    </tr>\n",
              "    <tr>\n",
              "      <th>32946</th>\n",
              "      <td>ca165220cdeb3367ea870193baf4a7cd</td>\n",
              "      <td>0.030000</td>\n",
              "    </tr>\n",
              "    <tr>\n",
              "      <th>32947</th>\n",
              "      <td>aa0568a1b7093748a1922993f5817983</td>\n",
              "      <td>0.030000</td>\n",
              "    </tr>\n",
              "    <tr>\n",
              "      <th>32948</th>\n",
              "      <td>baf59a3a8f15ea34f04394f44bad573a</td>\n",
              "      <td>0.020000</td>\n",
              "    </tr>\n",
              "    <tr>\n",
              "      <th>32949</th>\n",
              "      <td>11b906b2a09fb80668f4478dd3f9c324</td>\n",
              "      <td>0.020000</td>\n",
              "    </tr>\n",
              "    <tr>\n",
              "      <th>32950</th>\n",
              "      <td>28857b241545853875bda6661ccdf0f7</td>\n",
              "      <td>0.010000</td>\n",
              "    </tr>\n",
              "  </tbody>\n",
              "</table>\n",
              "<p>32951 rows × 2 columns</p>\n",
              "</div>"
            ],
            "text/plain": [
              "                             product_id  freight_value\n",
              "0      ec31d2a17b299511e7c8627be9337b9b     409.680000\n",
              "1      256a9c364b75753b97bee410c9491ad8     339.590000\n",
              "2      7e53e051875b2a0c9f22acd8a9a29a20     317.470000\n",
              "3      a3cd9517ebf5a50dca25acce54f3b171     308.336667\n",
              "4      3a1855685a49813f60e6193864f7215e     306.060000\n",
              "...                                 ...            ...\n",
              "32946  ca165220cdeb3367ea870193baf4a7cd       0.030000\n",
              "32947  aa0568a1b7093748a1922993f5817983       0.030000\n",
              "32948  baf59a3a8f15ea34f04394f44bad573a       0.020000\n",
              "32949  11b906b2a09fb80668f4478dd3f9c324       0.020000\n",
              "32950  28857b241545853875bda6661ccdf0f7       0.010000\n",
              "\n",
              "[32951 rows x 2 columns]"
            ]
          },
          "metadata": {
            "tags": []
          },
          "execution_count": 74
        }
      ]
    },
    {
      "cell_type": "code",
      "metadata": {
        "id": "q_iGdq3KTwgg",
        "outputId": "a30ac3a8-d7e9-4273-ca15-e52549f40747",
        "colab": {
          "base_uri": "https://localhost:8080/",
          "height": 286
        }
      },
      "source": [
        "temp_freight.corr()"
      ],
      "execution_count": null,
      "outputs": [
        {
          "output_type": "execute_result",
          "data": {
            "text/html": [
              "<div>\n",
              "<style scoped>\n",
              "    .dataframe tbody tr th:only-of-type {\n",
              "        vertical-align: middle;\n",
              "    }\n",
              "\n",
              "    .dataframe tbody tr th {\n",
              "        vertical-align: top;\n",
              "    }\n",
              "\n",
              "    .dataframe thead th {\n",
              "        text-align: right;\n",
              "    }\n",
              "</style>\n",
              "<table border=\"1\" class=\"dataframe\">\n",
              "  <thead>\n",
              "    <tr style=\"text-align: right;\">\n",
              "      <th></th>\n",
              "      <th>product_weight_g</th>\n",
              "      <th>product_length_cm</th>\n",
              "      <th>product_height_cm</th>\n",
              "      <th>product_width_cm</th>\n",
              "      <th>order_item_id</th>\n",
              "      <th>price</th>\n",
              "      <th>freight_value</th>\n",
              "    </tr>\n",
              "  </thead>\n",
              "  <tbody>\n",
              "    <tr>\n",
              "      <th>product_weight_g</th>\n",
              "      <td>1.000000</td>\n",
              "      <td>0.460919</td>\n",
              "      <td>0.583277</td>\n",
              "      <td>0.506609</td>\n",
              "      <td>-0.003549</td>\n",
              "      <td>0.338819</td>\n",
              "      <td>0.610420</td>\n",
              "    </tr>\n",
              "    <tr>\n",
              "      <th>product_length_cm</th>\n",
              "      <td>0.460919</td>\n",
              "      <td>1.000000</td>\n",
              "      <td>0.192895</td>\n",
              "      <td>0.532537</td>\n",
              "      <td>0.005628</td>\n",
              "      <td>0.145811</td>\n",
              "      <td>0.309086</td>\n",
              "    </tr>\n",
              "    <tr>\n",
              "      <th>product_height_cm</th>\n",
              "      <td>0.583277</td>\n",
              "      <td>0.192895</td>\n",
              "      <td>1.000000</td>\n",
              "      <td>0.281224</td>\n",
              "      <td>0.029323</td>\n",
              "      <td>0.223602</td>\n",
              "      <td>0.391831</td>\n",
              "    </tr>\n",
              "    <tr>\n",
              "      <th>product_width_cm</th>\n",
              "      <td>0.506609</td>\n",
              "      <td>0.532537</td>\n",
              "      <td>0.281224</td>\n",
              "      <td>1.000000</td>\n",
              "      <td>-0.010732</td>\n",
              "      <td>0.172467</td>\n",
              "      <td>0.323777</td>\n",
              "    </tr>\n",
              "    <tr>\n",
              "      <th>order_item_id</th>\n",
              "      <td>-0.003549</td>\n",
              "      <td>0.005628</td>\n",
              "      <td>0.029323</td>\n",
              "      <td>-0.010732</td>\n",
              "      <td>1.000000</td>\n",
              "      <td>-0.060522</td>\n",
              "      <td>-0.029380</td>\n",
              "    </tr>\n",
              "    <tr>\n",
              "      <th>price</th>\n",
              "      <td>0.338819</td>\n",
              "      <td>0.145811</td>\n",
              "      <td>0.223602</td>\n",
              "      <td>0.172467</td>\n",
              "      <td>-0.060522</td>\n",
              "      <td>1.000000</td>\n",
              "      <td>0.414204</td>\n",
              "    </tr>\n",
              "    <tr>\n",
              "      <th>freight_value</th>\n",
              "      <td>0.610420</td>\n",
              "      <td>0.309086</td>\n",
              "      <td>0.391831</td>\n",
              "      <td>0.323777</td>\n",
              "      <td>-0.029380</td>\n",
              "      <td>0.414204</td>\n",
              "      <td>1.000000</td>\n",
              "    </tr>\n",
              "  </tbody>\n",
              "</table>\n",
              "</div>"
            ],
            "text/plain": [
              "                   product_weight_g  product_length_cm  ...     price  freight_value\n",
              "product_weight_g           1.000000           0.460919  ...  0.338819       0.610420\n",
              "product_length_cm          0.460919           1.000000  ...  0.145811       0.309086\n",
              "product_height_cm          0.583277           0.192895  ...  0.223602       0.391831\n",
              "product_width_cm           0.506609           0.532537  ...  0.172467       0.323777\n",
              "order_item_id             -0.003549           0.005628  ... -0.060522      -0.029380\n",
              "price                      0.338819           0.145811  ...  1.000000       0.414204\n",
              "freight_value              0.610420           0.309086  ...  0.414204       1.000000\n",
              "\n",
              "[7 rows x 7 columns]"
            ]
          },
          "metadata": {
            "tags": []
          },
          "execution_count": 75
        }
      ]
    },
    {
      "cell_type": "markdown",
      "metadata": {
        "id": "ZWwXcnPLUM-V"
      },
      "source": [
        "As can be observed from the above table, the highest correlation between the products features and freight value is of product weight with .61"
      ]
    },
    {
      "cell_type": "markdown",
      "metadata": {
        "id": "4ifFRPfoWwJA"
      },
      "source": [
        "##Analysis of Sales for Olist"
      ]
    },
    {
      "cell_type": "markdown",
      "metadata": {
        "id": "BKvBcwpoWzIU"
      },
      "source": [
        "####Trend of Revenue Generated over time"
      ]
    },
    {
      "cell_type": "code",
      "metadata": {
        "id": "5OYZYlWtW5Oa",
        "outputId": "bad16689-688c-4679-e1dd-395f493c26f6",
        "colab": {
          "base_uri": "https://localhost:8080/",
          "height": 68
        }
      },
      "source": [
        "order_items.columns"
      ],
      "execution_count": null,
      "outputs": [
        {
          "output_type": "execute_result",
          "data": {
            "text/plain": [
              "Index(['order_id', 'order_item_id', 'product_id', 'seller_id',\n",
              "       'shipping_limit_date', 'price', 'freight_value'],\n",
              "      dtype='object')"
            ]
          },
          "metadata": {
            "tags": []
          },
          "execution_count": 76
        }
      ]
    },
    {
      "cell_type": "code",
      "metadata": {
        "id": "gCu6_SrSXGTa",
        "outputId": "97cfb5ad-30e0-40ed-dad3-50f6c9a2df9c",
        "colab": {
          "base_uri": "https://localhost:8080/",
          "height": 68
        }
      },
      "source": [
        "order_pay.columns"
      ],
      "execution_count": null,
      "outputs": [
        {
          "output_type": "execute_result",
          "data": {
            "text/plain": [
              "Index(['order_id', 'payment_sequential', 'payment_type',\n",
              "       'payment_installments', 'payment_value'],\n",
              "      dtype='object')"
            ]
          },
          "metadata": {
            "tags": []
          },
          "execution_count": 77
        }
      ]
    },
    {
      "cell_type": "code",
      "metadata": {
        "id": "uuHD8vNPXIUy",
        "outputId": "f8d2699a-c94a-4ae4-e84b-5b528fcc29e8",
        "colab": {
          "base_uri": "https://localhost:8080/",
          "height": 85
        }
      },
      "source": [
        "orders.columns"
      ],
      "execution_count": null,
      "outputs": [
        {
          "output_type": "execute_result",
          "data": {
            "text/plain": [
              "Index(['order_id', 'customer_id', 'order_status', 'order_purchase_timestamp',\n",
              "       'order_approved_at', 'order_delivered_carrier_date',\n",
              "       'order_delivered_customer_date', 'order_estimated_delivery_date'],\n",
              "      dtype='object')"
            ]
          },
          "metadata": {
            "tags": []
          },
          "execution_count": 78
        }
      ]
    },
    {
      "cell_type": "code",
      "metadata": {
        "id": "fTfvwB-NXNLV",
        "outputId": "7614ac94-02ca-4edd-9a2f-479be91c5b1d",
        "colab": {
          "base_uri": "https://localhost:8080/",
          "height": 102
        }
      },
      "source": [
        "products.columns"
      ],
      "execution_count": null,
      "outputs": [
        {
          "output_type": "execute_result",
          "data": {
            "text/plain": [
              "Index(['product_id', 'product_category_name', 'product_name_lenght',\n",
              "       'product_description_lenght', 'product_photos_qty', 'product_weight_g',\n",
              "       'product_length_cm', 'product_height_cm', 'product_width_cm',\n",
              "       'product_category_name_english'],\n",
              "      dtype='object')"
            ]
          },
          "metadata": {
            "tags": []
          },
          "execution_count": 79
        }
      ]
    },
    {
      "cell_type": "code",
      "metadata": {
        "id": "NPq7q72tXXxZ",
        "outputId": "9f446c62-e35e-4ebe-bec1-f55ba0e5a9cf",
        "colab": {
          "base_uri": "https://localhost:8080/",
          "height": 272
        }
      },
      "source": [
        "orders.info()"
      ],
      "execution_count": null,
      "outputs": [
        {
          "output_type": "stream",
          "text": [
            "<class 'pandas.core.frame.DataFrame'>\n",
            "RangeIndex: 99441 entries, 0 to 99440\n",
            "Data columns (total 8 columns):\n",
            " #   Column                         Non-Null Count  Dtype \n",
            "---  ------                         --------------  ----- \n",
            " 0   order_id                       99441 non-null  object\n",
            " 1   customer_id                    99441 non-null  object\n",
            " 2   order_status                   99441 non-null  object\n",
            " 3   order_purchase_timestamp       99441 non-null  object\n",
            " 4   order_approved_at              99281 non-null  object\n",
            " 5   order_delivered_carrier_date   97658 non-null  object\n",
            " 6   order_delivered_customer_date  96476 non-null  object\n",
            " 7   order_estimated_delivery_date  99441 non-null  object\n",
            "dtypes: object(8)\n",
            "memory usage: 6.1+ MB\n"
          ],
          "name": "stdout"
        }
      ]
    },
    {
      "cell_type": "code",
      "metadata": {
        "id": "_A0bZvzLYate"
      },
      "source": [
        "#converting dates from strings to datetime objects for manipulation\n",
        "orders[\"order_purchase_timestamp\"]=pd.to_datetime(orders[\"order_purchase_timestamp\"])\n",
        "orders[\"order_approved_at\"]=pd.to_datetime(orders[\"order_approved_at\"])\n",
        "orders[\"order_delivered_carrier_date\"]=pd.to_datetime(orders[\"order_delivered_carrier_date\"])\n",
        "orders[\"order_delivered_customer_date\"]=pd.to_datetime(orders[\"order_delivered_customer_date\"])\n",
        "orders[\"order_estimated_delivery_date\"]=pd.to_datetime(orders[\"order_estimated_delivery_date\"])"
      ],
      "execution_count": null,
      "outputs": []
    },
    {
      "cell_type": "code",
      "metadata": {
        "id": "UwrueNnSc9Py",
        "outputId": "9dceda34-ea86-4c63-c5c0-4bf18d255d32",
        "colab": {
          "base_uri": "https://localhost:8080/",
          "height": 85
        }
      },
      "source": [
        "orders.columns"
      ],
      "execution_count": null,
      "outputs": [
        {
          "output_type": "execute_result",
          "data": {
            "text/plain": [
              "Index(['order_id', 'customer_id', 'order_status', 'order_purchase_timestamp',\n",
              "       'order_approved_at', 'order_delivered_carrier_date',\n",
              "       'order_delivered_customer_date', 'order_estimated_delivery_date'],\n",
              "      dtype='object')"
            ]
          },
          "metadata": {
            "tags": []
          },
          "execution_count": 82
        }
      ]
    },
    {
      "cell_type": "code",
      "metadata": {
        "id": "bf4L3FpoabEo",
        "outputId": "5cfee7fe-d7c4-4aed-d8bc-e1eb3d87308d",
        "colab": {
          "base_uri": "https://localhost:8080/",
          "height": 187
        }
      },
      "source": [
        "#inorder to plot to find out the revenue generated overtime, we are creating a new temporary dataset\n",
        "X=orders[[\"order_id\",\"customer_id\",\"order_purchase_timestamp\"]]\n",
        "X.info()"
      ],
      "execution_count": null,
      "outputs": [
        {
          "output_type": "stream",
          "text": [
            "<class 'pandas.core.frame.DataFrame'>\n",
            "RangeIndex: 99441 entries, 0 to 99440\n",
            "Data columns (total 3 columns):\n",
            " #   Column                    Non-Null Count  Dtype         \n",
            "---  ------                    --------------  -----         \n",
            " 0   order_id                  99441 non-null  object        \n",
            " 1   customer_id               99441 non-null  object        \n",
            " 2   order_purchase_timestamp  99441 non-null  datetime64[ns]\n",
            "dtypes: datetime64[ns](1), object(2)\n",
            "memory usage: 2.3+ MB\n"
          ],
          "name": "stdout"
        }
      ]
    },
    {
      "cell_type": "code",
      "metadata": {
        "id": "Uzooe-VpfG09",
        "outputId": "8c238272-5371-4736-aa9b-9bb3043d886e",
        "colab": {
          "base_uri": "https://localhost:8080/",
          "height": 68
        }
      },
      "source": [
        "Xx=X.merge(right=order_items, how=\"inner\", on=\"order_id\")\n",
        "timeplay=Xx[[\"order_id\",\"customer_id\",\"order_purchase_timestamp\",\"product_id\",\"price\"]]\n",
        "timeplay.columns"
      ],
      "execution_count": null,
      "outputs": [
        {
          "output_type": "execute_result",
          "data": {
            "text/plain": [
              "Index(['order_id', 'customer_id', 'order_purchase_timestamp', 'product_id',\n",
              "       'price'],\n",
              "      dtype='object')"
            ]
          },
          "metadata": {
            "tags": []
          },
          "execution_count": 84
        }
      ]
    },
    {
      "cell_type": "code",
      "metadata": {
        "id": "JDH2-ATwjLTt"
      },
      "source": [
        "# #timeplay[\"month-year\"]=timeplay['order_purchase_timestamp'].dt.strftime('%Y-%m')\n",
        "# #timeplay['month'] = timeplay['order_purchase_timestamp'].dt.month\n",
        "# timeplay['year'] = timeplay['order_purchase_timestamp'].dt.year\n",
        "# timeplay.set_index(\"month-year\", inplace=True)\n",
        "# timeplay.groupby([\"year\",\"month\"])[\"order_id\"].count()\n",
        "# timeplay.plot.hist()"
      ],
      "execution_count": null,
      "outputs": []
    },
    {
      "cell_type": "code",
      "metadata": {
        "id": "V6fEX0wLgO3k",
        "outputId": "3ab7d8c9-d893-407a-fcc7-5df617610beb",
        "colab": {
          "base_uri": "https://localhost:8080/",
          "height": 139
        }
      },
      "source": [
        "timeplay[\"order_purchase_timestamp\"]=timeplay[\"order_purchase_timestamp\"].dt.normalize()"
      ],
      "execution_count": null,
      "outputs": [
        {
          "output_type": "stream",
          "text": [
            "/usr/local/lib/python3.6/dist-packages/ipykernel_launcher.py:1: SettingWithCopyWarning: \n",
            "A value is trying to be set on a copy of a slice from a DataFrame.\n",
            "Try using .loc[row_indexer,col_indexer] = value instead\n",
            "\n",
            "See the caveats in the documentation: https://pandas.pydata.org/pandas-docs/stable/user_guide/indexing.html#returning-a-view-versus-a-copy\n",
            "  \"\"\"Entry point for launching an IPython kernel.\n"
          ],
          "name": "stderr"
        }
      ]
    },
    {
      "cell_type": "code",
      "metadata": {
        "id": "-ETZmMyVmD48",
        "outputId": "b9273774-35c4-473e-e891-753dafb86cf8",
        "colab": {
          "base_uri": "https://localhost:8080/",
          "height": 589
        }
      },
      "source": [
        "tp=timeplay.groupby(\"order_purchase_timestamp\")[\"order_id\"].count()\n",
        "tp.plot(figsize=(10,10))"
      ],
      "execution_count": null,
      "outputs": [
        {
          "output_type": "execute_result",
          "data": {
            "text/plain": [
              "<matplotlib.axes._subplots.AxesSubplot at 0x7efcc611b5c0>"
            ]
          },
          "metadata": {
            "tags": []
          },
          "execution_count": 87
        },
        {
          "output_type": "display_data",
          "data": {
            "image/png": "[encoded data removed]",
            "text/plain": [
              "<Figure size 720x720 with 1 Axes>"
            ]
          },
          "metadata": {
            "tags": [],
            "needs_background": "light"
          }
        }
      ]
    },
    {
      "cell_type": "markdown",
      "metadata": {
        "id": "q-Dr5beSmo39"
      },
      "source": [
        "As can be observed from the chart, there is an overall gradual increase. But there is an unusual spike in December 2017."
      ]
    },
    {
      "cell_type": "markdown",
      "metadata": {
        "id": "1LDm7Doa_AYX"
      },
      "source": [
        "####Investigating the unusual spike of November 2017"
      ]
    },
    {
      "cell_type": "code",
      "metadata": {
        "id": "TSS5RBSahGmC"
      },
      "source": [
        "start=pd.to_datetime(\"2017-09-01\")\n",
        "end=pd.to_datetime(\"2018-01-31\")"
      ],
      "execution_count": null,
      "outputs": []
    },
    {
      "cell_type": "code",
      "metadata": {
        "id": "cdH6j8Y3aw0g",
        "outputId": "917ef74a-e3bf-465f-b847-6413665d7897",
        "colab": {
          "base_uri": "https://localhost:8080/",
          "height": 439
        }
      },
      "source": [
        "mask = (timeplay['order_purchase_timestamp'] > start) & (timeplay['order_purchase_timestamp'] <= end)\n",
        "f_timeplay=timeplay.loc[mask]\n",
        "f_timeplay"
      ],
      "execution_count": null,
      "outputs": [
        {
          "output_type": "execute_result",
          "data": {
            "text/html": [
              "<div>\n",
              "<style scoped>\n",
              "    .dataframe tbody tr th:only-of-type {\n",
              "        vertical-align: middle;\n",
              "    }\n",
              "\n",
              "    .dataframe tbody tr th {\n",
              "        vertical-align: top;\n",
              "    }\n",
              "\n",
              "    .dataframe thead th {\n",
              "        text-align: right;\n",
              "    }\n",
              "</style>\n",
              "<table border=\"1\" class=\"dataframe\">\n",
              "  <thead>\n",
              "    <tr style=\"text-align: right;\">\n",
              "      <th></th>\n",
              "      <th>order_id</th>\n",
              "      <th>customer_id</th>\n",
              "      <th>order_purchase_timestamp</th>\n",
              "      <th>product_id</th>\n",
              "      <th>price</th>\n",
              "    </tr>\n",
              "  </thead>\n",
              "  <tbody>\n",
              "    <tr>\n",
              "      <th>0</th>\n",
              "      <td>e481f51cbdc54678b7cc49136f2d6af7</td>\n",
              "      <td>9ef432eb6251297304e76186b10a928d</td>\n",
              "      <td>2017-10-02</td>\n",
              "      <td>87285b34884572647811a353c7ac498a</td>\n",
              "      <td>29.99</td>\n",
              "    </tr>\n",
              "    <tr>\n",
              "      <th>3</th>\n",
              "      <td>949d5b44dbf5de918fe9c16f97b45f8a</td>\n",
              "      <td>f88197465ea7920adcdbec7375364d82</td>\n",
              "      <td>2017-11-18</td>\n",
              "      <td>d0b61bfb1de832b15ba9d266ca96e5b0</td>\n",
              "      <td>45.00</td>\n",
              "    </tr>\n",
              "    <tr>\n",
              "      <th>17</th>\n",
              "      <td>403b97836b0c04a622354cf531062e5f</td>\n",
              "      <td>738b086814c6fcc74b8cc583f8516ee3</td>\n",
              "      <td>2018-01-02</td>\n",
              "      <td>638bbb2a5e4f360b71f332ddfebfd672</td>\n",
              "      <td>1299.00</td>\n",
              "    </tr>\n",
              "    <tr>\n",
              "      <th>18</th>\n",
              "      <td>116f0b09343b49556bbad5f35bee0cdf</td>\n",
              "      <td>3187789bec990987628d7a9beb4dd6ac</td>\n",
              "      <td>2017-12-26</td>\n",
              "      <td>a47295965bd091207681b541b26e40a5</td>\n",
              "      <td>27.99</td>\n",
              "    </tr>\n",
              "    <tr>\n",
              "      <th>19</th>\n",
              "      <td>85ce859fd6dc634de8d2f1e290444043</td>\n",
              "      <td>059f7fc5719c7da6cbafe370971a8d70</td>\n",
              "      <td>2017-11-21</td>\n",
              "      <td>cce679660c66e6fbd5c8091dfd29e9cd</td>\n",
              "      <td>17.90</td>\n",
              "    </tr>\n",
              "    <tr>\n",
              "      <th>...</th>\n",
              "      <td>...</td>\n",
              "      <td>...</td>\n",
              "      <td>...</td>\n",
              "      <td>...</td>\n",
              "      <td>...</td>\n",
              "    </tr>\n",
              "    <tr>\n",
              "      <th>112639</th>\n",
              "      <td>cfa78b997e329a5295b4ee6972c02979</td>\n",
              "      <td>a2f7428f0cafbc8e59f20e1444b67315</td>\n",
              "      <td>2017-12-20</td>\n",
              "      <td>3d2c44374ee42b3003a470f3e937a2ea</td>\n",
              "      <td>55.90</td>\n",
              "    </tr>\n",
              "    <tr>\n",
              "      <th>112640</th>\n",
              "      <td>9115830be804184b91f5c00f6f49f92d</td>\n",
              "      <td>da2124f134f5dfbce9d06f29bdb6c308</td>\n",
              "      <td>2017-10-04</td>\n",
              "      <td>c982dbea53b864f4d27c1d36f14b6053</td>\n",
              "      <td>42.11</td>\n",
              "    </tr>\n",
              "    <tr>\n",
              "      <th>112641</th>\n",
              "      <td>9115830be804184b91f5c00f6f49f92d</td>\n",
              "      <td>da2124f134f5dfbce9d06f29bdb6c308</td>\n",
              "      <td>2017-10-04</td>\n",
              "      <td>49d2e2460386273b195e7e59b43587c3</td>\n",
              "      <td>26.90</td>\n",
              "    </tr>\n",
              "    <tr>\n",
              "      <th>112647</th>\n",
              "      <td>11c177c8e97725db2631073c19f07b62</td>\n",
              "      <td>b331b74b18dc79bcdf6532d51e1637c1</td>\n",
              "      <td>2018-01-08</td>\n",
              "      <td>d1c427060a0f73f6b889a5c7c61f2ac4</td>\n",
              "      <td>179.99</td>\n",
              "    </tr>\n",
              "    <tr>\n",
              "      <th>112648</th>\n",
              "      <td>11c177c8e97725db2631073c19f07b62</td>\n",
              "      <td>b331b74b18dc79bcdf6532d51e1637c1</td>\n",
              "      <td>2018-01-08</td>\n",
              "      <td>d1c427060a0f73f6b889a5c7c61f2ac4</td>\n",
              "      <td>179.99</td>\n",
              "    </tr>\n",
              "  </tbody>\n",
              "</table>\n",
              "<p>33151 rows × 5 columns</p>\n",
              "</div>"
            ],
            "text/plain": [
              "                                order_id  ...    price\n",
              "0       e481f51cbdc54678b7cc49136f2d6af7  ...    29.99\n",
              "3       949d5b44dbf5de918fe9c16f97b45f8a  ...    45.00\n",
              "17      403b97836b0c04a622354cf531062e5f  ...  1299.00\n",
              "18      116f0b09343b49556bbad5f35bee0cdf  ...    27.99\n",
              "19      85ce859fd6dc634de8d2f1e290444043  ...    17.90\n",
              "...                                  ...  ...      ...\n",
              "112639  cfa78b997e329a5295b4ee6972c02979  ...    55.90\n",
              "112640  9115830be804184b91f5c00f6f49f92d  ...    42.11\n",
              "112641  9115830be804184b91f5c00f6f49f92d  ...    26.90\n",
              "112647  11c177c8e97725db2631073c19f07b62  ...   179.99\n",
              "112648  11c177c8e97725db2631073c19f07b62  ...   179.99\n",
              "\n",
              "[33151 rows x 5 columns]"
            ]
          },
          "metadata": {
            "tags": []
          },
          "execution_count": 89
        }
      ]
    },
    {
      "cell_type": "code",
      "metadata": {
        "id": "0syvXh59oxiq",
        "outputId": "782ccce9-d735-490e-c02f-0e79aefdca33",
        "colab": {
          "base_uri": "https://localhost:8080/",
          "height": 309
        }
      },
      "source": [
        "f_timeplay=f_timeplay.groupby(\"order_purchase_timestamp\")[\"order_id\"].count()\n",
        "f_timeplay.plot()"
      ],
      "execution_count": null,
      "outputs": [
        {
          "output_type": "execute_result",
          "data": {
            "text/plain": [
              "<matplotlib.axes._subplots.AxesSubplot at 0x7efcc5f08b38>"
            ]
          },
          "metadata": {
            "tags": []
          },
          "execution_count": 90
        },
        {
          "output_type": "display_data",
          "data": {
            "image/png": "[encoded data removed]",
            "text/plain": [
              "<Figure size 432x288 with 1 Axes>"
            ]
          },
          "metadata": {
            "tags": [],
            "needs_background": "light"
          }
        }
      ]
    },
    {
      "cell_type": "markdown",
      "metadata": {
        "id": "3Yl0jXaf6F-W"
      },
      "source": [
        "As you can observe, the spike is around 24-30th of November 2016"
      ]
    },
    {
      "cell_type": "code",
      "metadata": {
        "id": "HU9dhN2N6Ruy"
      },
      "source": [
        "start=pd.to_datetime(\"2017-11-20\")\n",
        "end=pd.to_datetime(\"2017-11-26\")"
      ],
      "execution_count": null,
      "outputs": []
    },
    {
      "cell_type": "code",
      "metadata": {
        "id": "DgsP42lG6Y6q",
        "outputId": "356cfd2f-c18a-425d-aefc-201da9080e84",
        "colab": {
          "base_uri": "https://localhost:8080/",
          "height": 321
        }
      },
      "source": [
        "mask = (timeplay['order_purchase_timestamp'] > start) & (timeplay['order_purchase_timestamp'] <= end)\n",
        "f1_timeplay=timeplay.loc[mask]\n",
        "f1_timeplay_grp=f1_timeplay.groupby(\"order_purchase_timestamp\")[\"order_id\"].count()\n",
        "f1_timeplay_grp.plot()"
      ],
      "execution_count": null,
      "outputs": [
        {
          "output_type": "execute_result",
          "data": {
            "text/plain": [
              "<matplotlib.axes._subplots.AxesSubplot at 0x7efcc6188390>"
            ]
          },
          "metadata": {
            "tags": []
          },
          "execution_count": 92
        },
        {
          "output_type": "display_data",
          "data": {
            "image/png": "[encoded data removed]",
            "text/plain": [
              "<Figure size 432x288 with 1 Axes>"
            ]
          },
          "metadata": {
            "tags": [],
            "needs_background": "light"
          }
        }
      ]
    },
    {
      "cell_type": "markdown",
      "metadata": {
        "id": "UNH4a_XY6rCG"
      },
      "source": [
        "As you can observe, the unusual spike in sales happened on 24th November. We looked over for the day in the news and found nothing worth stimulating sales happened in the week\n",
        "\n",
        "https://en.wikipedia.org/wiki/2017_in_Brazil#November "
      ]
    },
    {
      "cell_type": "code",
      "metadata": {
        "id": "GwlJDeAn8GQe",
        "outputId": "d6cf5c04-faff-45d8-e8e9-54a94d13540f",
        "colab": {
          "base_uri": "https://localhost:8080/",
          "height": 439
        }
      },
      "source": [
        "f1_timeplay.reset_index()"
      ],
      "execution_count": null,
      "outputs": [
        {
          "output_type": "execute_result",
          "data": {
            "text/html": [
              "<div>\n",
              "<style scoped>\n",
              "    .dataframe tbody tr th:only-of-type {\n",
              "        vertical-align: middle;\n",
              "    }\n",
              "\n",
              "    .dataframe tbody tr th {\n",
              "        vertical-align: top;\n",
              "    }\n",
              "\n",
              "    .dataframe thead th {\n",
              "        text-align: right;\n",
              "    }\n",
              "</style>\n",
              "<table border=\"1\" class=\"dataframe\">\n",
              "  <thead>\n",
              "    <tr style=\"text-align: right;\">\n",
              "      <th></th>\n",
              "      <th>index</th>\n",
              "      <th>order_id</th>\n",
              "      <th>customer_id</th>\n",
              "      <th>order_purchase_timestamp</th>\n",
              "      <th>product_id</th>\n",
              "      <th>price</th>\n",
              "    </tr>\n",
              "  </thead>\n",
              "  <tbody>\n",
              "    <tr>\n",
              "      <th>0</th>\n",
              "      <td>19</td>\n",
              "      <td>85ce859fd6dc634de8d2f1e290444043</td>\n",
              "      <td>059f7fc5719c7da6cbafe370971a8d70</td>\n",
              "      <td>2017-11-21</td>\n",
              "      <td>cce679660c66e6fbd5c8091dfd29e9cd</td>\n",
              "      <td>17.90</td>\n",
              "    </tr>\n",
              "    <tr>\n",
              "      <th>1</th>\n",
              "      <td>43</td>\n",
              "      <td>6ea2f835b4556291ffdc53fa0b3b95e8</td>\n",
              "      <td>c7340080e394356141681bd4c9b8fe31</td>\n",
              "      <td>2017-11-24</td>\n",
              "      <td>be021417a6acb56b9b50d3fd2714baa8</td>\n",
              "      <td>339.00</td>\n",
              "    </tr>\n",
              "    <tr>\n",
              "      <th>2</th>\n",
              "      <td>112</td>\n",
              "      <td>6a0a8bfbbe700284feb0845d95e0867f</td>\n",
              "      <td>68451b39b1314302c08c65a29f1140fc</td>\n",
              "      <td>2017-11-22</td>\n",
              "      <td>f8a8f05a35976a91aed5cccc3992c357</td>\n",
              "      <td>83.90</td>\n",
              "    </tr>\n",
              "    <tr>\n",
              "      <th>3</th>\n",
              "      <td>131</td>\n",
              "      <td>8fc207e94fa91a7649c5a5dab690272a</td>\n",
              "      <td>c69f8b33e62ecb30ff78ae46d7fb9241</td>\n",
              "      <td>2017-11-26</td>\n",
              "      <td>f2e53dd1670f3c376518263b3f71424d</td>\n",
              "      <td>109.90</td>\n",
              "    </tr>\n",
              "    <tr>\n",
              "      <th>4</th>\n",
              "      <td>144</td>\n",
              "      <td>b01875821b8dcb6abc61776f0f971bce</td>\n",
              "      <td>818596f5b68adfe2c11498ebb6d39e02</td>\n",
              "      <td>2017-11-24</td>\n",
              "      <td>a6ad77b15e566298a4e8ee2011ab1255</td>\n",
              "      <td>31.80</td>\n",
              "    </tr>\n",
              "    <tr>\n",
              "      <th>...</th>\n",
              "      <td>...</td>\n",
              "      <td>...</td>\n",
              "      <td>...</td>\n",
              "      <td>...</td>\n",
              "      <td>...</td>\n",
              "      <td>...</td>\n",
              "    </tr>\n",
              "    <tr>\n",
              "      <th>3230</th>\n",
              "      <td>112541</td>\n",
              "      <td>5bec661a2baad6bf4d879a4be9759675</td>\n",
              "      <td>9e4072d0ce7938bb2414801f9b12f511</td>\n",
              "      <td>2017-11-22</td>\n",
              "      <td>cad2db5e318d7283a234c517b2f28a42</td>\n",
              "      <td>105.90</td>\n",
              "    </tr>\n",
              "    <tr>\n",
              "      <th>3231</th>\n",
              "      <td>112593</td>\n",
              "      <td>c0524fb1b4c905d054adbddaffa2380c</td>\n",
              "      <td>92e8f9754238b9697d9dcbe02c20fc70</td>\n",
              "      <td>2017-11-24</td>\n",
              "      <td>738da8ddda2e593acfdc53c2d1520dfa</td>\n",
              "      <td>79.90</td>\n",
              "    </tr>\n",
              "    <tr>\n",
              "      <th>3232</th>\n",
              "      <td>112611</td>\n",
              "      <td>a2a701c6f01ddffde8a1bde136ed7d4a</td>\n",
              "      <td>8543703cb2bc95c3606af4af727d604f</td>\n",
              "      <td>2017-11-26</td>\n",
              "      <td>ea4f4b5a820fea007c6c8d7ef9a790bc</td>\n",
              "      <td>45.73</td>\n",
              "    </tr>\n",
              "    <tr>\n",
              "      <th>3233</th>\n",
              "      <td>112619</td>\n",
              "      <td>4146f35ac7a7ef4e39fe344e563c1e3b</td>\n",
              "      <td>e0eac226ceae49858de89e8a5c1ba1ec</td>\n",
              "      <td>2017-11-26</td>\n",
              "      <td>526f833e1eb0a32ad9351145a761b9ab</td>\n",
              "      <td>129.00</td>\n",
              "    </tr>\n",
              "    <tr>\n",
              "      <th>3234</th>\n",
              "      <td>112631</td>\n",
              "      <td>6ec4642f9993cc34f826cfb9068e5a2f</td>\n",
              "      <td>f00bb12620b7b232233cace1b229db18</td>\n",
              "      <td>2017-11-21</td>\n",
              "      <td>9503faef00966962beacdb4916272305</td>\n",
              "      <td>299.90</td>\n",
              "    </tr>\n",
              "  </tbody>\n",
              "</table>\n",
              "<p>3235 rows × 6 columns</p>\n",
              "</div>"
            ],
            "text/plain": [
              "       index  ...   price\n",
              "0         19  ...   17.90\n",
              "1         43  ...  339.00\n",
              "2        112  ...   83.90\n",
              "3        131  ...  109.90\n",
              "4        144  ...   31.80\n",
              "...      ...  ...     ...\n",
              "3230  112541  ...  105.90\n",
              "3231  112593  ...   79.90\n",
              "3232  112611  ...   45.73\n",
              "3233  112619  ...  129.00\n",
              "3234  112631  ...  299.90\n",
              "\n",
              "[3235 rows x 6 columns]"
            ]
          },
          "metadata": {
            "tags": []
          },
          "execution_count": 93
        }
      ]
    },
    {
      "cell_type": "code",
      "metadata": {
        "id": "98PshqNO6nhE",
        "outputId": "17c5a582-a849-4fb9-b5a2-f67e92b05cd1",
        "colab": {
          "base_uri": "https://localhost:8080/",
          "height": 221
        }
      },
      "source": [
        "f1_timeplay.info()"
      ],
      "execution_count": null,
      "outputs": [
        {
          "output_type": "stream",
          "text": [
            "<class 'pandas.core.frame.DataFrame'>\n",
            "Int64Index: 3235 entries, 19 to 112631\n",
            "Data columns (total 5 columns):\n",
            " #   Column                    Non-Null Count  Dtype         \n",
            "---  ------                    --------------  -----         \n",
            " 0   order_id                  3235 non-null   object        \n",
            " 1   customer_id               3235 non-null   object        \n",
            " 2   order_purchase_timestamp  3235 non-null   datetime64[ns]\n",
            " 3   product_id                3235 non-null   object        \n",
            " 4   price                     3235 non-null   float64       \n",
            "dtypes: datetime64[ns](1), float64(1), object(3)\n",
            "memory usage: 151.6+ KB\n"
          ],
          "name": "stdout"
        }
      ]
    },
    {
      "cell_type": "code",
      "metadata": {
        "id": "KrrJG4Be7t6y",
        "outputId": "b31ebb75-f486-4593-b1fa-3fcad8f4e0bf",
        "colab": {
          "base_uri": "https://localhost:8080/",
          "height": 102
        }
      },
      "source": [
        "products.columns"
      ],
      "execution_count": null,
      "outputs": [
        {
          "output_type": "execute_result",
          "data": {
            "text/plain": [
              "Index(['product_id', 'product_category_name', 'product_name_lenght',\n",
              "       'product_description_lenght', 'product_photos_qty', 'product_weight_g',\n",
              "       'product_length_cm', 'product_height_cm', 'product_width_cm',\n",
              "       'product_category_name_english'],\n",
              "      dtype='object')"
            ]
          },
          "metadata": {
            "tags": []
          },
          "execution_count": 95
        }
      ]
    },
    {
      "cell_type": "code",
      "metadata": {
        "id": "6sJx-kgv7h4-",
        "outputId": "d7f1b7dd-5c24-4db8-e2bd-1310a57debdd",
        "colab": {
          "base_uri": "https://localhost:8080/",
          "height": 374
        }
      },
      "source": [
        "mrg=f1_timeplay.merge(right=products, how=\"inner\", on=\"product_id\")\n",
        "mrg.info()"
      ],
      "execution_count": null,
      "outputs": [
        {
          "output_type": "stream",
          "text": [
            "<class 'pandas.core.frame.DataFrame'>\n",
            "Int64Index: 3235 entries, 0 to 3234\n",
            "Data columns (total 14 columns):\n",
            " #   Column                         Non-Null Count  Dtype         \n",
            "---  ------                         --------------  -----         \n",
            " 0   order_id                       3235 non-null   object        \n",
            " 1   customer_id                    3235 non-null   object        \n",
            " 2   order_purchase_timestamp       3235 non-null   datetime64[ns]\n",
            " 3   product_id                     3235 non-null   object        \n",
            " 4   price                          3235 non-null   float64       \n",
            " 5   product_category_name          3188 non-null   object        \n",
            " 6   product_name_lenght            3188 non-null   float64       \n",
            " 7   product_description_lenght     3188 non-null   float64       \n",
            " 8   product_photos_qty             3188 non-null   float64       \n",
            " 9   product_weight_g               3235 non-null   float64       \n",
            " 10  product_length_cm              3235 non-null   float64       \n",
            " 11  product_height_cm              3235 non-null   float64       \n",
            " 12  product_width_cm               3235 non-null   float64       \n",
            " 13  product_category_name_english  3188 non-null   object        \n",
            "dtypes: datetime64[ns](1), float64(8), object(5)\n",
            "memory usage: 379.1+ KB\n"
          ],
          "name": "stdout"
        }
      ]
    },
    {
      "cell_type": "code",
      "metadata": {
        "id": "BRErmJFP8pcF",
        "outputId": "fcbe91c3-1bf6-415f-ed79-dc0b65fe025e",
        "colab": {
          "base_uri": "https://localhost:8080/",
          "height": 224
        }
      },
      "source": [
        "mrg=mrg[[\"order_id\",\"customer_id\",\"order_purchase_timestamp\",\"product_id\",\"price\",\"product_category_name_english\"]]\n",
        "mrg.head()"
      ],
      "execution_count": null,
      "outputs": [
        {
          "output_type": "execute_result",
          "data": {
            "text/html": [
              "<div>\n",
              "<style scoped>\n",
              "    .dataframe tbody tr th:only-of-type {\n",
              "        vertical-align: middle;\n",
              "    }\n",
              "\n",
              "    .dataframe tbody tr th {\n",
              "        vertical-align: top;\n",
              "    }\n",
              "\n",
              "    .dataframe thead th {\n",
              "        text-align: right;\n",
              "    }\n",
              "</style>\n",
              "<table border=\"1\" class=\"dataframe\">\n",
              "  <thead>\n",
              "    <tr style=\"text-align: right;\">\n",
              "      <th></th>\n",
              "      <th>order_id</th>\n",
              "      <th>customer_id</th>\n",
              "      <th>order_purchase_timestamp</th>\n",
              "      <th>product_id</th>\n",
              "      <th>price</th>\n",
              "      <th>product_category_name_english</th>\n",
              "    </tr>\n",
              "  </thead>\n",
              "  <tbody>\n",
              "    <tr>\n",
              "      <th>0</th>\n",
              "      <td>85ce859fd6dc634de8d2f1e290444043</td>\n",
              "      <td>059f7fc5719c7da6cbafe370971a8d70</td>\n",
              "      <td>2017-11-21</td>\n",
              "      <td>cce679660c66e6fbd5c8091dfd29e9cd</td>\n",
              "      <td>17.9</td>\n",
              "      <td>bed_bath_table</td>\n",
              "    </tr>\n",
              "    <tr>\n",
              "      <th>1</th>\n",
              "      <td>3ffd7375839be4547d1c419c90403c27</td>\n",
              "      <td>b062e21ddddbe16aeb797c181e1781e1</td>\n",
              "      <td>2017-11-25</td>\n",
              "      <td>cce679660c66e6fbd5c8091dfd29e9cd</td>\n",
              "      <td>17.9</td>\n",
              "      <td>bed_bath_table</td>\n",
              "    </tr>\n",
              "    <tr>\n",
              "      <th>2</th>\n",
              "      <td>52eb8ce94864a3bb1be410a545f9ed4c</td>\n",
              "      <td>4aa0005ef4b8cb5ce874a4a86b36ed05</td>\n",
              "      <td>2017-11-24</td>\n",
              "      <td>cce679660c66e6fbd5c8091dfd29e9cd</td>\n",
              "      <td>17.9</td>\n",
              "      <td>bed_bath_table</td>\n",
              "    </tr>\n",
              "    <tr>\n",
              "      <th>3</th>\n",
              "      <td>6ea2f835b4556291ffdc53fa0b3b95e8</td>\n",
              "      <td>c7340080e394356141681bd4c9b8fe31</td>\n",
              "      <td>2017-11-24</td>\n",
              "      <td>be021417a6acb56b9b50d3fd2714baa8</td>\n",
              "      <td>339.0</td>\n",
              "      <td>housewares</td>\n",
              "    </tr>\n",
              "    <tr>\n",
              "      <th>4</th>\n",
              "      <td>6a0a8bfbbe700284feb0845d95e0867f</td>\n",
              "      <td>68451b39b1314302c08c65a29f1140fc</td>\n",
              "      <td>2017-11-22</td>\n",
              "      <td>f8a8f05a35976a91aed5cccc3992c357</td>\n",
              "      <td>83.9</td>\n",
              "      <td>furniture_decor</td>\n",
              "    </tr>\n",
              "  </tbody>\n",
              "</table>\n",
              "</div>"
            ],
            "text/plain": [
              "                           order_id  ... product_category_name_english\n",
              "0  85ce859fd6dc634de8d2f1e290444043  ...                bed_bath_table\n",
              "1  3ffd7375839be4547d1c419c90403c27  ...                bed_bath_table\n",
              "2  52eb8ce94864a3bb1be410a545f9ed4c  ...                bed_bath_table\n",
              "3  6ea2f835b4556291ffdc53fa0b3b95e8  ...                    housewares\n",
              "4  6a0a8bfbbe700284feb0845d95e0867f  ...               furniture_decor\n",
              "\n",
              "[5 rows x 6 columns]"
            ]
          },
          "metadata": {
            "tags": []
          },
          "execution_count": 97
        }
      ]
    },
    {
      "cell_type": "code",
      "metadata": {
        "id": "4O5I2r7z9MEi",
        "outputId": "c3f15864-5d1e-4659-a749-3cf8fe3218d8",
        "colab": {
          "base_uri": "https://localhost:8080/",
          "height": 439
        }
      },
      "source": [
        "start=pd.to_datetime(\"2017-11-23\")\n",
        "end=pd.to_datetime(\"2017-11-24\")\n",
        "\n",
        "mask = (mrg['order_purchase_timestamp'] > start) & (mrg['order_purchase_timestamp'] <= end)\n",
        "f2_timeplay=mrg.loc[mask]\n",
        "f2_timeplay"
      ],
      "execution_count": null,
      "outputs": [
        {
          "output_type": "execute_result",
          "data": {
            "text/html": [
              "<div>\n",
              "<style scoped>\n",
              "    .dataframe tbody tr th:only-of-type {\n",
              "        vertical-align: middle;\n",
              "    }\n",
              "\n",
              "    .dataframe tbody tr th {\n",
              "        vertical-align: top;\n",
              "    }\n",
              "\n",
              "    .dataframe thead th {\n",
              "        text-align: right;\n",
              "    }\n",
              "</style>\n",
              "<table border=\"1\" class=\"dataframe\">\n",
              "  <thead>\n",
              "    <tr style=\"text-align: right;\">\n",
              "      <th></th>\n",
              "      <th>order_id</th>\n",
              "      <th>customer_id</th>\n",
              "      <th>order_purchase_timestamp</th>\n",
              "      <th>product_id</th>\n",
              "      <th>price</th>\n",
              "      <th>product_category_name_english</th>\n",
              "    </tr>\n",
              "  </thead>\n",
              "  <tbody>\n",
              "    <tr>\n",
              "      <th>2</th>\n",
              "      <td>52eb8ce94864a3bb1be410a545f9ed4c</td>\n",
              "      <td>4aa0005ef4b8cb5ce874a4a86b36ed05</td>\n",
              "      <td>2017-11-24</td>\n",
              "      <td>cce679660c66e6fbd5c8091dfd29e9cd</td>\n",
              "      <td>17.90</td>\n",
              "      <td>bed_bath_table</td>\n",
              "    </tr>\n",
              "    <tr>\n",
              "      <th>3</th>\n",
              "      <td>6ea2f835b4556291ffdc53fa0b3b95e8</td>\n",
              "      <td>c7340080e394356141681bd4c9b8fe31</td>\n",
              "      <td>2017-11-24</td>\n",
              "      <td>be021417a6acb56b9b50d3fd2714baa8</td>\n",
              "      <td>339.00</td>\n",
              "      <td>housewares</td>\n",
              "    </tr>\n",
              "    <tr>\n",
              "      <th>7</th>\n",
              "      <td>b01875821b8dcb6abc61776f0f971bce</td>\n",
              "      <td>818596f5b68adfe2c11498ebb6d39e02</td>\n",
              "      <td>2017-11-24</td>\n",
              "      <td>a6ad77b15e566298a4e8ee2011ab1255</td>\n",
              "      <td>31.80</td>\n",
              "      <td>furniture_decor</td>\n",
              "    </tr>\n",
              "    <tr>\n",
              "      <th>8</th>\n",
              "      <td>b01875821b8dcb6abc61776f0f971bce</td>\n",
              "      <td>818596f5b68adfe2c11498ebb6d39e02</td>\n",
              "      <td>2017-11-24</td>\n",
              "      <td>a6ad77b15e566298a4e8ee2011ab1255</td>\n",
              "      <td>31.80</td>\n",
              "      <td>furniture_decor</td>\n",
              "    </tr>\n",
              "    <tr>\n",
              "      <th>12</th>\n",
              "      <td>8ce19cd80af40e6cb55f3e3abdc5a5cd</td>\n",
              "      <td>b151701284e0e85b8fab6d42b9c7363b</td>\n",
              "      <td>2017-11-24</td>\n",
              "      <td>461f43be3bdf8844e65b62d9ac2c7a5a</td>\n",
              "      <td>129.00</td>\n",
              "      <td>watches_gifts</td>\n",
              "    </tr>\n",
              "    <tr>\n",
              "      <th>...</th>\n",
              "      <td>...</td>\n",
              "      <td>...</td>\n",
              "      <td>...</td>\n",
              "      <td>...</td>\n",
              "      <td>...</td>\n",
              "      <td>...</td>\n",
              "    </tr>\n",
              "    <tr>\n",
              "      <th>3223</th>\n",
              "      <td>f20387017913ada05e448bb9c9cfadb3</td>\n",
              "      <td>d87d1c08c59e86ce55b5a78f368898d1</td>\n",
              "      <td>2017-11-24</td>\n",
              "      <td>78976d6eae26536628ef574944bc7b0f</td>\n",
              "      <td>387.20</td>\n",
              "      <td>housewares</td>\n",
              "    </tr>\n",
              "    <tr>\n",
              "      <th>3226</th>\n",
              "      <td>82a7cba8d70a10e7e0e44e41a30772f7</td>\n",
              "      <td>5e6283cd338ed4776861535ddee19b20</td>\n",
              "      <td>2017-11-24</td>\n",
              "      <td>8817f0cda3d5b42e5f949ee3be9dc80c</td>\n",
              "      <td>13.99</td>\n",
              "      <td>perfumery</td>\n",
              "    </tr>\n",
              "    <tr>\n",
              "      <th>3228</th>\n",
              "      <td>efe279abeb0fb2d03273c495d19b9f29</td>\n",
              "      <td>a0973c8c7e186a3e7425bb1ae01b0c9c</td>\n",
              "      <td>2017-11-24</td>\n",
              "      <td>1e1a186a03f0d98268516827690d4fd2</td>\n",
              "      <td>62.00</td>\n",
              "      <td>baby</td>\n",
              "    </tr>\n",
              "    <tr>\n",
              "      <th>3231</th>\n",
              "      <td>d81e1aea4814c6e5744458bcd1f94693</td>\n",
              "      <td>70d1caf284f34ea4ee405e25edba63f5</td>\n",
              "      <td>2017-11-24</td>\n",
              "      <td>ea555c5a04b369a1505d5fca42617d7e</td>\n",
              "      <td>39.00</td>\n",
              "      <td>computers_accessories</td>\n",
              "    </tr>\n",
              "    <tr>\n",
              "      <th>3232</th>\n",
              "      <td>d81e1aea4814c6e5744458bcd1f94693</td>\n",
              "      <td>70d1caf284f34ea4ee405e25edba63f5</td>\n",
              "      <td>2017-11-24</td>\n",
              "      <td>ea555c5a04b369a1505d5fca42617d7e</td>\n",
              "      <td>39.00</td>\n",
              "      <td>computers_accessories</td>\n",
              "    </tr>\n",
              "  </tbody>\n",
              "</table>\n",
              "<p>1366 rows × 6 columns</p>\n",
              "</div>"
            ],
            "text/plain": [
              "                              order_id  ... product_category_name_english\n",
              "2     52eb8ce94864a3bb1be410a545f9ed4c  ...                bed_bath_table\n",
              "3     6ea2f835b4556291ffdc53fa0b3b95e8  ...                    housewares\n",
              "7     b01875821b8dcb6abc61776f0f971bce  ...               furniture_decor\n",
              "8     b01875821b8dcb6abc61776f0f971bce  ...               furniture_decor\n",
              "12    8ce19cd80af40e6cb55f3e3abdc5a5cd  ...                 watches_gifts\n",
              "...                                ...  ...                           ...\n",
              "3223  f20387017913ada05e448bb9c9cfadb3  ...                    housewares\n",
              "3226  82a7cba8d70a10e7e0e44e41a30772f7  ...                     perfumery\n",
              "3228  efe279abeb0fb2d03273c495d19b9f29  ...                          baby\n",
              "3231  d81e1aea4814c6e5744458bcd1f94693  ...         computers_accessories\n",
              "3232  d81e1aea4814c6e5744458bcd1f94693  ...         computers_accessories\n",
              "\n",
              "[1366 rows x 6 columns]"
            ]
          },
          "metadata": {
            "tags": []
          },
          "execution_count": 98
        }
      ]
    },
    {
      "cell_type": "code",
      "metadata": {
        "id": "fYJwP4CJ9saQ",
        "outputId": "df0eb4cd-81b4-42b4-b347-5b6de2a9916c",
        "colab": {
          "base_uri": "https://localhost:8080/",
          "height": 850
        }
      },
      "source": [
        "f2_timeplay_grp=f2_timeplay.groupby(\"product_category_name_english\")[\"product_id\"].count().sort_values(ascending= False)\n",
        "f2_timeplay_grp"
      ],
      "execution_count": null,
      "outputs": [
        {
          "output_type": "execute_result",
          "data": {
            "text/plain": [
              "product_category_name_english\n",
              "bed_bath_table                             195\n",
              "furniture_decor                            136\n",
              "garden_tools                               102\n",
              "sports_leisure                              91\n",
              "health_beauty                               89\n",
              "telephony                                   79\n",
              "watches_gifts                               75\n",
              "toys                                        73\n",
              "computers_accessories                       71\n",
              "perfumery                                   62\n",
              "housewares                                  56\n",
              "auto                                        46\n",
              "fashion_bags_accessories                    41\n",
              "cool_stuff                                  31\n",
              "consoles_games                              27\n",
              "baby                                        23\n",
              "stationery                                  19\n",
              "electronics                                 18\n",
              "pet_shop                                    10\n",
              "musical_instruments                          9\n",
              "home_construction                            9\n",
              "home_confort                                 9\n",
              "furniture_living_room                        8\n",
              "agro_industry_and_commerce                   7\n",
              "audio                                        6\n",
              "small_appliances                             6\n",
              "office_furniture                             6\n",
              "books_general_interest                       6\n",
              "luggage_accessories                          5\n",
              "market_place                                 5\n",
              "kitchen_dining_laundry_garden_furniture      4\n",
              "food_drink                                   3\n",
              "home_appliances                              3\n",
              "tablets_printing_image                       3\n",
              "construction_tools_lights                    3\n",
              "food                                         3\n",
              "fashion_shoes                                2\n",
              "drinks                                       2\n",
              "home_appliances_2                            2\n",
              "construction_tools_safety                    1\n",
              "cine_photo                                   1\n",
              "christmas_supplies                           1\n",
              "books_technical                              1\n",
              "costruction_tools_garden                     1\n",
              "party_supplies                               1\n",
              "fixed_telephony                              1\n",
              "construction_tools_construction              1\n",
              "Name: product_id, dtype: int64"
            ]
          },
          "metadata": {
            "tags": []
          },
          "execution_count": 99
        }
      ]
    },
    {
      "cell_type": "markdown",
      "metadata": {
        "id": "_b2CuTc0-ciG"
      },
      "source": [
        "This is indeed the category wise sales that happened on 24th of November 2017. The day was a friday and the last friday of the month. Given the circumstances, it can be thought of as an accounting or inventory adjustment"
      ]
    },
    {
      "cell_type": "markdown",
      "metadata": {
        "id": "dKwbjbu2D7wx"
      },
      "source": [
        "####Evaluating Month wise Revenue Generation of Olist"
      ]
    },
    {
      "cell_type": "code",
      "metadata": {
        "id": "3tviBOxXAoRL",
        "outputId": "e96ee86f-25dc-4385-ba2e-9a817492f93c",
        "colab": {
          "base_uri": "https://localhost:8080/",
          "height": 85
        }
      },
      "source": [
        "orders.columns"
      ],
      "execution_count": null,
      "outputs": [
        {
          "output_type": "execute_result",
          "data": {
            "text/plain": [
              "Index(['order_id', 'customer_id', 'order_status', 'order_purchase_timestamp',\n",
              "       'order_approved_at', 'order_delivered_carrier_date',\n",
              "       'order_delivered_customer_date', 'order_estimated_delivery_date'],\n",
              "      dtype='object')"
            ]
          },
          "metadata": {
            "tags": []
          },
          "execution_count": 100
        }
      ]
    },
    {
      "cell_type": "code",
      "metadata": {
        "id": "kEj3P8t2A8S1",
        "outputId": "a3baaf29-11e4-4b4e-faf4-17f68af91f2c",
        "colab": {
          "base_uri": "https://localhost:8080/",
          "height": 68
        }
      },
      "source": [
        "order_items.columns"
      ],
      "execution_count": null,
      "outputs": [
        {
          "output_type": "execute_result",
          "data": {
            "text/plain": [
              "Index(['order_id', 'order_item_id', 'product_id', 'seller_id',\n",
              "       'shipping_limit_date', 'price', 'freight_value'],\n",
              "      dtype='object')"
            ]
          },
          "metadata": {
            "tags": []
          },
          "execution_count": 101
        }
      ]
    },
    {
      "cell_type": "code",
      "metadata": {
        "id": "4fNytzpI_Sth",
        "outputId": "1898274d-befa-40de-d7bb-dc1900901ad2",
        "colab": {
          "base_uri": "https://localhost:8080/",
          "height": 85
        }
      },
      "source": [
        "month=orders[[\"order_id\",\"customer_id\",\"order_purchase_timestamp\"]]\n",
        "month=month.merge(right=order_items,how=\"inner\", on=\"order_id\")\n",
        "month.columns"
      ],
      "execution_count": null,
      "outputs": [
        {
          "output_type": "execute_result",
          "data": {
            "text/plain": [
              "Index(['order_id', 'customer_id', 'order_purchase_timestamp', 'order_item_id',\n",
              "       'product_id', 'seller_id', 'shipping_limit_date', 'price',\n",
              "       'freight_value'],\n",
              "      dtype='object')"
            ]
          },
          "metadata": {
            "tags": []
          },
          "execution_count": 102
        }
      ]
    },
    {
      "cell_type": "code",
      "metadata": {
        "id": "X_1dm3ISBns3"
      },
      "source": [
        "month=month[[\"order_id\",\"customer_id\",\"order_purchase_timestamp\",\"product_id\",\"price\"]]"
      ],
      "execution_count": null,
      "outputs": []
    },
    {
      "cell_type": "code",
      "metadata": {
        "id": "f0bS-3z9CFLz"
      },
      "source": [
        "month[\"month\"]=month[\"order_purchase_timestamp\"].dt.month\n",
        "month[\"year\"]=month[\"order_purchase_timestamp\"].dt.year"
      ],
      "execution_count": null,
      "outputs": []
    },
    {
      "cell_type": "code",
      "metadata": {
        "id": "47nLM4kwCZ9d",
        "outputId": "2fb609e9-3462-4e00-ce38-ee03a9856203",
        "colab": {
          "base_uri": "https://localhost:8080/",
          "height": 68
        }
      },
      "source": [
        "month.columns"
      ],
      "execution_count": null,
      "outputs": [
        {
          "output_type": "execute_result",
          "data": {
            "text/plain": [
              "Index(['order_id', 'customer_id', 'order_purchase_timestamp', 'product_id',\n",
              "       'price', 'month', 'year'],\n",
              "      dtype='object')"
            ]
          },
          "metadata": {
            "tags": []
          },
          "execution_count": 105
        }
      ]
    },
    {
      "cell_type": "code",
      "metadata": {
        "id": "JEoNvWwYCdCZ",
        "outputId": "e35e34aa-67ed-46d2-db14-b682cca3406c",
        "colab": {
          "base_uri": "https://localhost:8080/",
          "height": 676
        }
      },
      "source": [
        "g=month.groupby([\"year\",\"month\"])[\"price\"].sum()\n",
        "g.plot.bar(figsize=(10,10))"
      ],
      "execution_count": null,
      "outputs": [
        {
          "output_type": "execute_result",
          "data": {
            "text/plain": [
              "<matplotlib.axes._subplots.AxesSubplot at 0x7efcc9dc9978>"
            ]
          },
          "metadata": {
            "tags": []
          },
          "execution_count": 106
        },
        {
          "output_type": "display_data",
          "data": {
            "image/png": "[encoded data removed]",
            "text/plain": [
              "<Figure size 720x720 with 1 Axes>"
            ]
          },
          "metadata": {
            "tags": [],
            "needs_background": "light"
          }
        }
      ]
    },
    {
      "cell_type": "markdown",
      "metadata": {
        "id": "-Ga7Sd7MDsEe"
      },
      "source": [
        "As can be observed, the most revenue generating months were Nov 2017, April and May 2018 respectively"
      ]
    },
    {
      "cell_type": "markdown",
      "metadata": {
        "id": "Qg1To6cyEJem"
      },
      "source": [
        "####Identifying Top 10 highest selling partners"
      ]
    },
    {
      "cell_type": "code",
      "metadata": {
        "id": "b2TgRrELEsms",
        "outputId": "fa7ca203-1196-48a9-e7d4-bd3b8144ab3f",
        "colab": {
          "base_uri": "https://localhost:8080/",
          "height": 102
        }
      },
      "source": [
        "products.columns"
      ],
      "execution_count": null,
      "outputs": [
        {
          "output_type": "execute_result",
          "data": {
            "text/plain": [
              "Index(['product_id', 'product_category_name', 'product_name_lenght',\n",
              "       'product_description_lenght', 'product_photos_qty', 'product_weight_g',\n",
              "       'product_length_cm', 'product_height_cm', 'product_width_cm',\n",
              "       'product_category_name_english'],\n",
              "      dtype='object')"
            ]
          },
          "metadata": {
            "tags": []
          },
          "execution_count": 107
        }
      ]
    },
    {
      "cell_type": "code",
      "metadata": {
        "id": "VtWccgmfIwcy",
        "outputId": "f4d471fc-278c-4f52-d5bc-9770f5c650b4",
        "colab": {
          "base_uri": "https://localhost:8080/",
          "height": 34
        }
      },
      "source": [
        "sellers.columns"
      ],
      "execution_count": null,
      "outputs": [
        {
          "output_type": "execute_result",
          "data": {
            "text/plain": [
              "Index(['seller_id', 'seller_zip_code_prefix', 'seller_city', 'seller_state'], dtype='object')"
            ]
          },
          "metadata": {
            "tags": []
          },
          "execution_count": 108
        }
      ]
    },
    {
      "cell_type": "code",
      "metadata": {
        "id": "5QyBqRmNJ_nY",
        "outputId": "3d51c1b4-e6a2-47f9-9417-54e24d86f2b8",
        "colab": {
          "base_uri": "https://localhost:8080/",
          "height": 68
        }
      },
      "source": [
        "order_items.columns"
      ],
      "execution_count": null,
      "outputs": [
        {
          "output_type": "execute_result",
          "data": {
            "text/plain": [
              "Index(['order_id', 'order_item_id', 'product_id', 'seller_id',\n",
              "       'shipping_limit_date', 'price', 'freight_value'],\n",
              "      dtype='object')"
            ]
          },
          "metadata": {
            "tags": []
          },
          "execution_count": 109
        }
      ]
    },
    {
      "cell_type": "code",
      "metadata": {
        "id": "5GUE18xnKDKu",
        "outputId": "081fd25d-dcbf-4eb4-ce05-c29827dc9dac",
        "colab": {
          "base_uri": "https://localhost:8080/",
          "height": 486
        }
      },
      "source": [
        "#Top sellers\n",
        "\n",
        "top_sell=order_items.groupby(\"seller_id\")[\"product_id\"].count().sort_values(ascending=False).head(10)\n",
        "top_sell.plot.bar()"
      ],
      "execution_count": null,
      "outputs": [
        {
          "output_type": "execute_result",
          "data": {
            "text/plain": [
              "<matplotlib.axes._subplots.AxesSubplot at 0x7efcc5eaba20>"
            ]
          },
          "metadata": {
            "tags": []
          },
          "execution_count": 110
        },
        {
          "output_type": "display_data",
          "data": {
            "image/png": "[encoded data removed]",
            "text/plain": [
              "<Figure size 432x288 with 1 Axes>"
            ]
          },
          "metadata": {
            "tags": [],
            "needs_background": "light"
          }
        }
      ]
    },
    {
      "cell_type": "markdown",
      "metadata": {
        "id": "TD3InzL4Kxbe"
      },
      "source": [
        "The above illustration is about the top 10 most sellers in terms of number of products sold"
      ]
    },
    {
      "cell_type": "markdown",
      "metadata": {
        "id": "d4-L-Xm8LCjT"
      },
      "source": [
        "####Top 10 Sellers in terms of Revenue Generation"
      ]
    },
    {
      "cell_type": "code",
      "metadata": {
        "id": "Cxje-dIIK6Qf",
        "outputId": "78145dca-0426-4eb6-8179-d39623b2f1a3",
        "colab": {
          "base_uri": "https://localhost:8080/",
          "height": 486
        }
      },
      "source": [
        "top_sell=order_items.groupby(\"seller_id\")[\"price\"].sum().sort_values(ascending=False).head(10)\n",
        "top_sell.plot.bar()"
      ],
      "execution_count": null,
      "outputs": [
        {
          "output_type": "execute_result",
          "data": {
            "text/plain": [
              "<matplotlib.axes._subplots.AxesSubplot at 0x7efcc61b70b8>"
            ]
          },
          "metadata": {
            "tags": []
          },
          "execution_count": 111
        },
        {
          "output_type": "display_data",
          "data": {
            "image/png": "[encoded data removed]",
            "text/plain": [
              "<Figure size 432x288 with 1 Axes>"
            ]
          },
          "metadata": {
            "tags": [],
            "needs_background": "light"
          }
        }
      ]
    },
    {
      "cell_type": "markdown",
      "metadata": {
        "id": "vNMHqvWpLRMY"
      },
      "source": [
        "These are the top 10 sellers in terms of revenue generation"
      ]
    },
    {
      "cell_type": "code",
      "metadata": {
        "id": "9GN0sBA4LnPc",
        "outputId": "457fd294-5d45-4a81-ee53-3dbecc85f934",
        "colab": {
          "base_uri": "https://localhost:8080/",
          "height": 68
        }
      },
      "source": [
        "statewise=order_items.groupby(\"seller_id\")[\"price\"].sum().sort_values(ascending=False).reset_index()\n",
        "statewise=statewise.merge(right=sellers, how=\"inner\", on=\"seller_id\")\n",
        "statewise.columns"
      ],
      "execution_count": null,
      "outputs": [
        {
          "output_type": "execute_result",
          "data": {
            "text/plain": [
              "Index(['seller_id', 'price', 'seller_zip_code_prefix', 'seller_city',\n",
              "       'seller_state'],\n",
              "      dtype='object')"
            ]
          },
          "metadata": {
            "tags": []
          },
          "execution_count": 112
        }
      ]
    },
    {
      "cell_type": "code",
      "metadata": {
        "id": "F8jQ6T73MFGE",
        "outputId": "f8ad02bd-9b53-4db7-820e-67f78888a590",
        "colab": {
          "base_uri": "https://localhost:8080/",
          "height": 809
        }
      },
      "source": [
        "#In terms of revenue generated\n",
        "state_sell_grp=statewise.groupby(\"seller_state\")[\"price\"].sum().sort_values(ascending=False).head(10)\n",
        "state_sell_grp.plot.barh(figsize=(10,10))\n",
        "print(state_sell_grp)"
      ],
      "execution_count": null,
      "outputs": [
        {
          "output_type": "stream",
          "text": [
            "seller_state\n",
            "SP    8753396.21\n",
            "PR    1261887.21\n",
            "MG    1011564.74\n",
            "RJ     843984.22\n",
            "SC     632426.07\n",
            "RS     378559.54\n",
            "BA     285561.56\n",
            "DF      97749.48\n",
            "PE      91493.85\n",
            "GO      66399.21\n",
            "Name: price, dtype: float64\n"
          ],
          "name": "stdout"
        },
        {
          "output_type": "display_data",
          "data": {
            "image/png": "[encoded data removed]",
            "text/plain": [
              "<Figure size 720x720 with 1 Axes>"
            ]
          },
          "metadata": {
            "tags": [],
            "needs_background": "light"
          }
        }
      ]
    },
    {
      "cell_type": "code",
      "metadata": {
        "id": "u_4gn2KPOd7F",
        "outputId": "7721c152-8162-4e1a-abc4-ef3376a7b522",
        "colab": {
          "base_uri": "https://localhost:8080/",
          "height": 796
        }
      },
      "source": [
        "#In terms of number of sales\n",
        "state_sell_grp1=statewise.groupby(\"seller_state\")[\"price\"].count().sort_values(ascending=False).head(10)\n",
        "state_sell_grp1.plot.barh(figsize=(10,10))\n",
        "print(state_sell_grp1)"
      ],
      "execution_count": null,
      "outputs": [
        {
          "output_type": "stream",
          "text": [
            "seller_state\n",
            "SP    1849\n",
            "PR     349\n",
            "MG     244\n",
            "SC     190\n",
            "RJ     171\n",
            "RS     129\n",
            "GO      40\n",
            "DF      30\n",
            "ES      23\n",
            "BA      19\n",
            "Name: price, dtype: int64\n"
          ],
          "name": "stdout"
        },
        {
          "output_type": "display_data",
          "data": {
            "image/png": "[encoded data removed]",
            "text/plain": [
              "<Figure size 720x720 with 1 Axes>"
            ]
          },
          "metadata": {
            "tags": [],
            "needs_background": "light"
          }
        }
      ]
    },
    {
      "cell_type": "markdown",
      "metadata": {
        "id": "Uxo3grTPMpsw"
      },
      "source": [
        "As can be observed, there is a huge opportunity here.\n",
        "\n",
        "Inferences:\n",
        "\n",
        "- There is a wide gap in the number of sellers affiliated with Olist between the different states\n",
        "- Sao Polo leads margin in both number of products sold and revenue generated per seller.\n",
        "- Sellers from Most of economically advanced states like Rio, Rio Grande do Sol are yet to partner with Olist.\n",
        "- Carefully curate an entry strategy for them at the earliest because more number of affiliated sellers means more options for customers, which in term has a multiplier effect on the revenue generation."
      ]
    },
    {
      "cell_type": "markdown",
      "metadata": {
        "id": "UGj7IOCNOtWJ"
      },
      "source": [
        "####Average time taken to deliver orders"
      ]
    },
    {
      "cell_type": "code",
      "metadata": {
        "id": "mr1EUmlMCvy3",
        "outputId": "7d9b2b60-8bee-42af-ccb7-9c3a4f9fc090",
        "colab": {
          "base_uri": "https://localhost:8080/",
          "height": 85
        }
      },
      "source": [
        "t_orders=orders\n",
        "t_orders.columns"
      ],
      "execution_count": null,
      "outputs": [
        {
          "output_type": "execute_result",
          "data": {
            "text/plain": [
              "Index(['order_id', 'customer_id', 'order_status', 'order_purchase_timestamp',\n",
              "       'order_approved_at', 'order_delivered_carrier_date',\n",
              "       'order_delivered_customer_date', 'order_estimated_delivery_date'],\n",
              "      dtype='object')"
            ]
          },
          "metadata": {
            "tags": []
          },
          "execution_count": 115
        }
      ]
    },
    {
      "cell_type": "code",
      "metadata": {
        "id": "kxx5isVGB_yv"
      },
      "source": [
        "t_orders[\"order_delivered_customer_date\"]=t_orders[\"order_delivered_customer_date\"].dt.normalize()\n",
        "t_orders[\"order_purchase_timestamp\"]=t_orders[\"order_purchase_timestamp\"].dt.normalize()"
      ],
      "execution_count": null,
      "outputs": []
    },
    {
      "cell_type": "code",
      "metadata": {
        "id": "3vtrrYK-DOV0",
        "outputId": "403604e0-9a41-40ae-b44d-7aefe79a4df6",
        "colab": {
          "base_uri": "https://localhost:8080/",
          "height": 34
        }
      },
      "source": [
        "t_orders[\"time_to_deliver\"]=t_orders[\"order_delivered_customer_date\"]-t_orders[\"order_purchase_timestamp\"]\n",
        "t_orders[\"time_to_deliver\"].mean()"
      ],
      "execution_count": null,
      "outputs": [
        {
          "output_type": "execute_result",
          "data": {
            "text/plain": [
              "Timedelta('12 days 11:56:09.841204')"
            ]
          },
          "metadata": {
            "tags": []
          },
          "execution_count": 117
        }
      ]
    },
    {
      "cell_type": "markdown",
      "metadata": {
        "id": "urRlvaDTDuNu"
      },
      "source": [
        "It take on an average 13 days inorder to deliver the product to the customer from the time order is placed"
      ]
    },
    {
      "cell_type": "markdown",
      "metadata": {
        "id": "yqK-cut3L9Bj"
      },
      "source": [
        "####Average time between order placement and approval"
      ]
    },
    {
      "cell_type": "code",
      "metadata": {
        "id": "q7kv84ocMFwZ"
      },
      "source": [
        "t_orders[\"order_approved_at\"]=t_orders[\"order_approved_at\"].dt.normalize()\n",
        "t_orders[\"time_to approve\"]=t_orders[\"order_approved_at\"]-t_orders[\"order_purchase_timestamp\"]"
      ],
      "execution_count": null,
      "outputs": []
    },
    {
      "cell_type": "code",
      "metadata": {
        "id": "BqZk1BlrNCr2",
        "outputId": "7e37a444-43a4-4e03-d6a7-dd4ea4d595f8",
        "colab": {
          "base_uri": "https://localhost:8080/",
          "height": 306
        }
      },
      "source": [
        "t_orders.info()"
      ],
      "execution_count": null,
      "outputs": [
        {
          "output_type": "stream",
          "text": [
            "<class 'pandas.core.frame.DataFrame'>\n",
            "RangeIndex: 99441 entries, 0 to 99440\n",
            "Data columns (total 10 columns):\n",
            " #   Column                         Non-Null Count  Dtype          \n",
            "---  ------                         --------------  -----          \n",
            " 0   order_id                       99441 non-null  object         \n",
            " 1   customer_id                    99441 non-null  object         \n",
            " 2   order_status                   99441 non-null  object         \n",
            " 3   order_purchase_timestamp       99441 non-null  datetime64[ns] \n",
            " 4   order_approved_at              99281 non-null  datetime64[ns] \n",
            " 5   order_delivered_carrier_date   97658 non-null  datetime64[ns] \n",
            " 6   order_delivered_customer_date  96476 non-null  datetime64[ns] \n",
            " 7   order_estimated_delivery_date  99441 non-null  datetime64[ns] \n",
            " 8   time_to_deliver                96476 non-null  timedelta64[ns]\n",
            " 9   time_to approve                99281 non-null  timedelta64[ns]\n",
            "dtypes: datetime64[ns](5), object(3), timedelta64[ns](2)\n",
            "memory usage: 7.6+ MB\n"
          ],
          "name": "stdout"
        }
      ]
    },
    {
      "cell_type": "code",
      "metadata": {
        "id": "zEKJg95CMr-J",
        "outputId": "ae1e8587-b443-4bcd-951b-0e3c67a9b6cf",
        "colab": {
          "base_uri": "https://localhost:8080/",
          "height": 34
        }
      },
      "source": [
        "t_orders[\"time_to approve\"].mean()"
      ],
      "execution_count": null,
      "outputs": [
        {
          "output_type": "execute_result",
          "data": {
            "text/plain": [
              "Timedelta('0 days 12:26:39.097511')"
            ]
          },
          "metadata": {
            "tags": []
          },
          "execution_count": 120
        }
      ]
    },
    {
      "cell_type": "markdown",
      "metadata": {
        "id": "KJEPEMTtNg8P"
      },
      "source": [
        "It takes an average 12 hours for each order to get approved after delivery"
      ]
    },
    {
      "cell_type": "markdown",
      "metadata": {
        "id": "sjUjzKRTN1m_"
      },
      "source": [
        "####Time taken for the product to reach carrier"
      ]
    },
    {
      "cell_type": "code",
      "metadata": {
        "id": "jMNoFfEmNqIM",
        "outputId": "ab448a36-b1b6-43d3-dc43-0e4df0c8373d",
        "colab": {
          "base_uri": "https://localhost:8080/",
          "height": 34
        }
      },
      "source": [
        "t_orders[\"time_to_carrier\"]=t_orders[\"order_delivered_carrier_date\"]-t_orders[\"order_purchase_timestamp\"]\n",
        "t_orders[\"time_to_carrier\"].mean()"
      ],
      "execution_count": null,
      "outputs": [
        {
          "output_type": "execute_result",
          "data": {
            "text/plain": [
              "Timedelta('3 days 20:53:35.585082')"
            ]
          },
          "metadata": {
            "tags": []
          },
          "execution_count": 121
        }
      ]
    },
    {
      "cell_type": "markdown",
      "metadata": {
        "id": "-9QfyyPtOc8u"
      },
      "source": [
        "On an average, it takes 3 days for a product to reach its carrier"
      ]
    },
    {
      "cell_type": "markdown",
      "metadata": {
        "id": "v_XSb-AiOiIE"
      },
      "source": [
        "####Time taken for the carrier to deliver the product"
      ]
    },
    {
      "cell_type": "code",
      "metadata": {
        "id": "sXO9YvwJOVwf",
        "outputId": "fcf0d590-f4d8-4a39-c630-82938117b127",
        "colab": {
          "base_uri": "https://localhost:8080/",
          "height": 34
        }
      },
      "source": [
        "t_orders[\"carry_time\"]=t_orders[\"order_delivered_customer_date\"]-t_orders[\"order_delivered_carrier_date\"]\n",
        "t_orders[\"carry_time\"].mean()"
      ],
      "execution_count": null,
      "outputs": [
        {
          "output_type": "execute_result",
          "data": {
            "text/plain": [
              "Timedelta('8 days 15:11:12.779663')"
            ]
          },
          "metadata": {
            "tags": []
          },
          "execution_count": 122
        }
      ]
    },
    {
      "cell_type": "markdown",
      "metadata": {
        "id": "w1GHdWfwPEEd"
      },
      "source": [
        "Thus, the most time consuming process is thus the time in transit for the product"
      ]
    },
    {
      "cell_type": "markdown",
      "metadata": {
        "id": "Db7oLfpkOUw1"
      },
      "source": [
        "####Difference estimation and actual time of delivery"
      ]
    },
    {
      "cell_type": "code",
      "metadata": {
        "id": "Bs1hEHW3ONNg",
        "outputId": "7c1726ae-8545-402a-932b-39b8f3b2870d",
        "colab": {
          "base_uri": "https://localhost:8080/",
          "height": 34
        }
      },
      "source": [
        "t_orders[\"diff_del\"]=t_orders[\"order_delivered_customer_date\"]-t_orders[\"order_estimated_delivery_date\"]\n",
        "t_orders[\"diff_del\"].mean()"
      ],
      "execution_count": null,
      "outputs": [
        {
          "output_type": "execute_result",
          "data": {
            "text/plain": [
              "Timedelta('-12 days +02:57:17.455947')"
            ]
          },
          "metadata": {
            "tags": []
          },
          "execution_count": 123
        }
      ]
    },
    {
      "cell_type": "markdown",
      "metadata": {
        "id": "d2XaC4NfQOR2"
      },
      "source": [
        "As per the observation, most orders are delivered before their estimated delivery date."
      ]
    },
    {
      "cell_type": "markdown",
      "metadata": {
        "id": "2MYImf4HQbKl"
      },
      "source": [
        "Overall observation is that the product delivery process is inefficient and thus reworking on it can improve consumer satisfaction"
      ]
    },
    {
      "cell_type": "markdown",
      "metadata": {
        "id": "kYmDWu3UD9YE"
      },
      "source": [
        "####Sellers who deliver the product in the least and worst timings"
      ]
    },
    {
      "cell_type": "code",
      "metadata": {
        "id": "uBGZNrIAGaUA"
      },
      "source": [
        "#t_orders[\"time_to_deliver\"]=t_orders[\"time_to_deliver\"].apply(pd.to_numeric)\n",
        "#t_orders[\"time_to_deliver\"].apply(pd.to_numeric)\n",
        "#x=x.days\n",
        "\n",
        "#t_orders[\"time_to_deliver\"]=t_orders[\"time_to_deliver\"].dt.days\n",
        "#t_orders[\"time_to_deliver\"][0]\n",
        "# t_orders=t_orders.merge(right=order_items, how=\"inner\", on=\"order_id\")\n",
        "# t5=t_orders.groupby(\"seller_id_y\")[\"time_to_deliver\"].sum().sort_values(ascending=False).head(10)\n",
        "# print(t5)\n",
        "# t5.plot.bar(figsize=(5,5))"
      ],
      "execution_count": null,
      "outputs": []
    },
    {
      "cell_type": "markdown",
      "metadata": {
        "id": "KyyvBQ7HLwyf"
      },
      "source": [
        "##Market Analysis of Olist"
      ]
    },
    {
      "cell_type": "markdown",
      "metadata": {
        "id": "xWnCkh8jRKO-"
      },
      "source": [
        "####Market Basket Analysis"
      ]
    },
    {
      "cell_type": "code",
      "metadata": {
        "id": "5hTrk3crRSbP",
        "outputId": "c6398c10-3be8-4d23-e144-21ffdd516e24",
        "colab": {
          "base_uri": "https://localhost:8080/",
          "height": 100
        }
      },
      "source": [
        "order_items.head(1)"
      ],
      "execution_count": null,
      "outputs": [
        {
          "output_type": "execute_result",
          "data": {
            "text/html": [
              "<div>\n",
              "<style scoped>\n",
              "    .dataframe tbody tr th:only-of-type {\n",
              "        vertical-align: middle;\n",
              "    }\n",
              "\n",
              "    .dataframe tbody tr th {\n",
              "        vertical-align: top;\n",
              "    }\n",
              "\n",
              "    .dataframe thead th {\n",
              "        text-align: right;\n",
              "    }\n",
              "</style>\n",
              "<table border=\"1\" class=\"dataframe\">\n",
              "  <thead>\n",
              "    <tr style=\"text-align: right;\">\n",
              "      <th></th>\n",
              "      <th>order_id</th>\n",
              "      <th>order_item_id</th>\n",
              "      <th>product_id</th>\n",
              "      <th>seller_id</th>\n",
              "      <th>shipping_limit_date</th>\n",
              "      <th>price</th>\n",
              "      <th>freight_value</th>\n",
              "    </tr>\n",
              "  </thead>\n",
              "  <tbody>\n",
              "    <tr>\n",
              "      <th>0</th>\n",
              "      <td>00010242fe8c5a6d1ba2dd792cb16214</td>\n",
              "      <td>1</td>\n",
              "      <td>4244733e06e7ecb4970a6e2683c13e61</td>\n",
              "      <td>48436dade18ac8b2bce089ec2a041202</td>\n",
              "      <td>2017-09-19 09:45:35</td>\n",
              "      <td>58.9</td>\n",
              "      <td>13.29</td>\n",
              "    </tr>\n",
              "  </tbody>\n",
              "</table>\n",
              "</div>"
            ],
            "text/plain": [
              "                           order_id  order_item_id  ... price freight_value\n",
              "0  00010242fe8c5a6d1ba2dd792cb16214              1  ...  58.9         13.29\n",
              "\n",
              "[1 rows x 7 columns]"
            ]
          },
          "metadata": {
            "tags": []
          },
          "execution_count": 125
        }
      ]
    },
    {
      "cell_type": "markdown",
      "metadata": {
        "id": "Xz1r9eh0bmu5"
      },
      "source": [
        "There are nearly 33,000 unique products. Let us do Market Basket Analysis for the top 100 products"
      ]
    },
    {
      "cell_type": "code",
      "metadata": {
        "id": "El7gckjaVXy2",
        "outputId": "838daec8-8fb9-4be6-d1d6-b2772e294b39",
        "colab": {
          "base_uri": "https://localhost:8080/",
          "height": 204
        }
      },
      "source": [
        "basket=order_items[[\"order_id\",\"product_id\"]]\n",
        "\n",
        "#Finding the freq of each product in each order by groupby on OrderID and Product id\n",
        "top100=basket.groupby(['product_id']).size().reset_index().sort_values(0, ascending=False).head(100)\n",
        "top100.head()"
      ],
      "execution_count": null,
      "outputs": [
        {
          "output_type": "execute_result",
          "data": {
            "text/html": [
              "<div>\n",
              "<style scoped>\n",
              "    .dataframe tbody tr th:only-of-type {\n",
              "        vertical-align: middle;\n",
              "    }\n",
              "\n",
              "    .dataframe tbody tr th {\n",
              "        vertical-align: top;\n",
              "    }\n",
              "\n",
              "    .dataframe thead th {\n",
              "        text-align: right;\n",
              "    }\n",
              "</style>\n",
              "<table border=\"1\" class=\"dataframe\">\n",
              "  <thead>\n",
              "    <tr style=\"text-align: right;\">\n",
              "      <th></th>\n",
              "      <th>product_id</th>\n",
              "      <th>0</th>\n",
              "    </tr>\n",
              "  </thead>\n",
              "  <tbody>\n",
              "    <tr>\n",
              "      <th>22112</th>\n",
              "      <td>aca2eb7d00ea1a7b8ebd4e68314663af</td>\n",
              "      <td>527</td>\n",
              "    </tr>\n",
              "    <tr>\n",
              "      <th>19742</th>\n",
              "      <td>99a4788cb24856965c36a24e339b6058</td>\n",
              "      <td>488</td>\n",
              "    </tr>\n",
              "    <tr>\n",
              "      <th>8613</th>\n",
              "      <td>422879e10f46682990de24d770e7f83d</td>\n",
              "      <td>484</td>\n",
              "    </tr>\n",
              "    <tr>\n",
              "      <th>7364</th>\n",
              "      <td>389d119b48cf3043d311335e499d9c6b</td>\n",
              "      <td>392</td>\n",
              "    </tr>\n",
              "    <tr>\n",
              "      <th>7079</th>\n",
              "      <td>368c6c730842d78016ad823897a372db</td>\n",
              "      <td>388</td>\n",
              "    </tr>\n",
              "  </tbody>\n",
              "</table>\n",
              "</div>"
            ],
            "text/plain": [
              "                             product_id    0\n",
              "22112  aca2eb7d00ea1a7b8ebd4e68314663af  527\n",
              "19742  99a4788cb24856965c36a24e339b6058  488\n",
              "8613   422879e10f46682990de24d770e7f83d  484\n",
              "7364   389d119b48cf3043d311335e499d9c6b  392\n",
              "7079   368c6c730842d78016ad823897a372db  388"
            ]
          },
          "metadata": {
            "tags": []
          },
          "execution_count": 126
        }
      ]
    },
    {
      "cell_type": "code",
      "metadata": {
        "id": "klLNCTEdeYi-",
        "outputId": "2107fe61-5157-49cc-f5cf-7881ea34bc9e",
        "colab": {
          "base_uri": "https://localhost:8080/",
          "height": 204
        }
      },
      "source": [
        "productID=top100[\"product_id\"].reset_index()\n",
        "productID.head()"
      ],
      "execution_count": null,
      "outputs": [
        {
          "output_type": "execute_result",
          "data": {
            "text/html": [
              "<div>\n",
              "<style scoped>\n",
              "    .dataframe tbody tr th:only-of-type {\n",
              "        vertical-align: middle;\n",
              "    }\n",
              "\n",
              "    .dataframe tbody tr th {\n",
              "        vertical-align: top;\n",
              "    }\n",
              "\n",
              "    .dataframe thead th {\n",
              "        text-align: right;\n",
              "    }\n",
              "</style>\n",
              "<table border=\"1\" class=\"dataframe\">\n",
              "  <thead>\n",
              "    <tr style=\"text-align: right;\">\n",
              "      <th></th>\n",
              "      <th>index</th>\n",
              "      <th>product_id</th>\n",
              "    </tr>\n",
              "  </thead>\n",
              "  <tbody>\n",
              "    <tr>\n",
              "      <th>0</th>\n",
              "      <td>22112</td>\n",
              "      <td>aca2eb7d00ea1a7b8ebd4e68314663af</td>\n",
              "    </tr>\n",
              "    <tr>\n",
              "      <th>1</th>\n",
              "      <td>19742</td>\n",
              "      <td>99a4788cb24856965c36a24e339b6058</td>\n",
              "    </tr>\n",
              "    <tr>\n",
              "      <th>2</th>\n",
              "      <td>8613</td>\n",
              "      <td>422879e10f46682990de24d770e7f83d</td>\n",
              "    </tr>\n",
              "    <tr>\n",
              "      <th>3</th>\n",
              "      <td>7364</td>\n",
              "      <td>389d119b48cf3043d311335e499d9c6b</td>\n",
              "    </tr>\n",
              "    <tr>\n",
              "      <th>4</th>\n",
              "      <td>7079</td>\n",
              "      <td>368c6c730842d78016ad823897a372db</td>\n",
              "    </tr>\n",
              "  </tbody>\n",
              "</table>\n",
              "</div>"
            ],
            "text/plain": [
              "   index                        product_id\n",
              "0  22112  aca2eb7d00ea1a7b8ebd4e68314663af\n",
              "1  19742  99a4788cb24856965c36a24e339b6058\n",
              "2   8613  422879e10f46682990de24d770e7f83d\n",
              "3   7364  389d119b48cf3043d311335e499d9c6b\n",
              "4   7079  368c6c730842d78016ad823897a372db"
            ]
          },
          "metadata": {
            "tags": []
          },
          "execution_count": 127
        }
      ]
    },
    {
      "cell_type": "code",
      "metadata": {
        "id": "F64WQrELgfsO",
        "outputId": "a57926d5-f613-4de7-b37d-59045b026fd2",
        "colab": {
          "base_uri": "https://localhost:8080/",
          "height": 68
        }
      },
      "source": [
        "#creating an iteration process\n",
        "\n",
        "df=order_items[0:0]\n",
        "for i in range (0,100):\n",
        "    pID=productID.iloc[i]['product_id']\n",
        "    stDF=order_items[order_items['product_id']==pID]\n",
        "    df=df.append(stDF, ignore_index=False)\n",
        "    \n",
        "df.columns"
      ],
      "execution_count": null,
      "outputs": [
        {
          "output_type": "execute_result",
          "data": {
            "text/plain": [
              "Index(['order_id', 'order_item_id', 'product_id', 'seller_id',\n",
              "       'shipping_limit_date', 'price', 'freight_value'],\n",
              "      dtype='object')"
            ]
          },
          "metadata": {
            "tags": []
          },
          "execution_count": 128
        }
      ]
    },
    {
      "cell_type": "markdown",
      "metadata": {
        "id": "IFgTara7h-8d"
      },
      "source": [
        "df contains the information of those products that belongs to top 100 category"
      ]
    },
    {
      "cell_type": "code",
      "metadata": {
        "id": "-3lehtwreyOc"
      },
      "source": [
        "newdf=df[[\"order_id\",\"product_id\"]]\n",
        "basket=newdf.groupby([\"order_id\",\"product_id\"])[\"product_id\"].count().unstack().reset_index().fillna(0).set_index(\"order_id\")"
      ],
      "execution_count": null,
      "outputs": []
    },
    {
      "cell_type": "code",
      "metadata": {
        "id": "BjM9-wcsWaEC",
        "outputId": "f2f83945-e41f-4fea-8976-94ac5ef0e966",
        "colab": {
          "base_uri": "https://localhost:8080/",
          "height": 204
        }
      },
      "source": [
        "#Convert the data into a wide data where - row - transcation - column - products\n",
        "\n",
        "basket=df.groupby(['order_id','product_id']).size().reset_index()\n",
        "basket.head()"
      ],
      "execution_count": null,
      "outputs": [
        {
          "output_type": "execute_result",
          "data": {
            "text/html": [
              "<div>\n",
              "<style scoped>\n",
              "    .dataframe tbody tr th:only-of-type {\n",
              "        vertical-align: middle;\n",
              "    }\n",
              "\n",
              "    .dataframe tbody tr th {\n",
              "        vertical-align: top;\n",
              "    }\n",
              "\n",
              "    .dataframe thead th {\n",
              "        text-align: right;\n",
              "    }\n",
              "</style>\n",
              "<table border=\"1\" class=\"dataframe\">\n",
              "  <thead>\n",
              "    <tr style=\"text-align: right;\">\n",
              "      <th></th>\n",
              "      <th>order_id</th>\n",
              "      <th>product_id</th>\n",
              "      <th>0</th>\n",
              "    </tr>\n",
              "  </thead>\n",
              "  <tbody>\n",
              "    <tr>\n",
              "      <th>0</th>\n",
              "      <td>0006ec9db01a64e59a68b2c340bf65a7</td>\n",
              "      <td>99a4788cb24856965c36a24e339b6058</td>\n",
              "      <td>1</td>\n",
              "    </tr>\n",
              "    <tr>\n",
              "      <th>1</th>\n",
              "      <td>0008288aa423d2a3f00fcb17cd7d8719</td>\n",
              "      <td>368c6c730842d78016ad823897a372db</td>\n",
              "      <td>2</td>\n",
              "    </tr>\n",
              "    <tr>\n",
              "      <th>2</th>\n",
              "      <td>00130c0eee84a3d909e75bc08c5c3ca1</td>\n",
              "      <td>89321f94e35fc6d7903d36f74e351d40</td>\n",
              "      <td>1</td>\n",
              "    </tr>\n",
              "    <tr>\n",
              "      <th>3</th>\n",
              "      <td>001862358bf858722e1e2ae000cfed8b</td>\n",
              "      <td>c6dd917a0be2a704582055949915ab32</td>\n",
              "      <td>1</td>\n",
              "    </tr>\n",
              "    <tr>\n",
              "      <th>4</th>\n",
              "      <td>001b76dd48a5b1eee3e87778daa40df8</td>\n",
              "      <td>dbb67791e405873b259e4656bf971246</td>\n",
              "      <td>1</td>\n",
              "    </tr>\n",
              "  </tbody>\n",
              "</table>\n",
              "</div>"
            ],
            "text/plain": [
              "                           order_id                        product_id  0\n",
              "0  0006ec9db01a64e59a68b2c340bf65a7  99a4788cb24856965c36a24e339b6058  1\n",
              "1  0008288aa423d2a3f00fcb17cd7d8719  368c6c730842d78016ad823897a372db  2\n",
              "2  00130c0eee84a3d909e75bc08c5c3ca1  89321f94e35fc6d7903d36f74e351d40  1\n",
              "3  001862358bf858722e1e2ae000cfed8b  c6dd917a0be2a704582055949915ab32  1\n",
              "4  001b76dd48a5b1eee3e87778daa40df8  dbb67791e405873b259e4656bf971246  1"
            ]
          },
          "metadata": {
            "tags": []
          },
          "execution_count": 130
        }
      ]
    },
    {
      "cell_type": "code",
      "metadata": {
        "id": "ZmzYP-kBi9oV",
        "outputId": "a69a4c4f-2a83-415f-e855-b3548e9571fc",
        "colab": {
          "base_uri": "https://localhost:8080/",
          "height": 284
        }
      },
      "source": [
        "basket1=basket.pivot('order_id','product_id',0)\n",
        "basket1.head()"
      ],
      "execution_count": null,
      "outputs": [
        {
          "output_type": "execute_result",
          "data": {
            "text/html": [
              "<div>\n",
              "<style scoped>\n",
              "    .dataframe tbody tr th:only-of-type {\n",
              "        vertical-align: middle;\n",
              "    }\n",
              "\n",
              "    .dataframe tbody tr th {\n",
              "        vertical-align: top;\n",
              "    }\n",
              "\n",
              "    .dataframe thead th {\n",
              "        text-align: right;\n",
              "    }\n",
              "</style>\n",
              "<table border=\"1\" class=\"dataframe\">\n",
              "  <thead>\n",
              "    <tr style=\"text-align: right;\">\n",
              "      <th>product_id</th>\n",
              "      <th>06edb72f1e0c64b14c5b79353f7abea3</th>\n",
              "      <th>08574b074924071f4e201e151b152b4e</th>\n",
              "      <th>0a57f7d2c983bcf8188589a5fea4a8da</th>\n",
              "      <th>0aabfb375647d9738ad0f7b4ea3653b1</th>\n",
              "      <th>0bcc3eeca39e1064258aa1e932269894</th>\n",
              "      <th>0d85c435fd60b277ffb9e9b0f88f927a</th>\n",
              "      <th>154e7e31ebfa092203795c972e5804a6</th>\n",
              "      <th>165f86fe8b799a708a20ee4ba125c289</th>\n",
              "      <th>18b0e642cbae7251e60a64aa07dd9eb9</th>\n",
              "      <th>19c91ef95d509ea33eda93495c4d3481</th>\n",
              "      <th>2028bf1b01cafb2d2b1901fca4083222</th>\n",
              "      <th>2136c70bbe723d338fab53da3c03e6dc</th>\n",
              "      <th>29427de7f8a9ee983d9dbc51cec569b4</th>\n",
              "      <th>2948658cb6abc82847412be7201bfc4c</th>\n",
              "      <th>2b4609f8948be18874494203496bc318</th>\n",
              "      <th>3354a4e684f5e7199f9407db70ccd92b</th>\n",
              "      <th>35afc973633aaeb6b877ff57b2793310</th>\n",
              "      <th>362b773250263786dd58670d2df42c3b</th>\n",
              "      <th>363218ba55c610b750224f90bdd34be1</th>\n",
              "      <th>368c6c730842d78016ad823897a372db</th>\n",
              "      <th>36f60d45225e60c7da4558b070ce4b60</th>\n",
              "      <th>389d119b48cf3043d311335e499d9c6b</th>\n",
              "      <th>3dd2a17168ec895c781a9191c1e95ad7</th>\n",
              "      <th>3f14d740544f37ece8a9e7bc8349797e</th>\n",
              "      <th>3fbc0ef745950c7932d5f2a446189725</th>\n",
              "      <th>422879e10f46682990de24d770e7f83d</th>\n",
              "      <th>4298b7e67dc399c200662b569563a2b2</th>\n",
              "      <th>42a2c92a0979a949ca4ea89ec5c7b934</th>\n",
              "      <th>43423cdffde7fda63d0414ed38c11a73</th>\n",
              "      <th>437c05a395e9e47f9762e677a7068ce7</th>\n",
              "      <th>461f43be3bdf8844e65b62d9ac2c7a5a</th>\n",
              "      <th>473795a355d29305c3ea6b156833adf5</th>\n",
              "      <th>4c2394abfbac7ff59ec7a420918562fa</th>\n",
              "      <th>4fcb3d9a5f4871e8362dfedbdb02b064</th>\n",
              "      <th>4fe644d766c7566dbc46fb851363cb3b</th>\n",
              "      <th>52c80cedd4e90108bf4fa6a206ef6b03</th>\n",
              "      <th>53759a2ecddad2bb87a079a1f1519f73</th>\n",
              "      <th>53b36df67ebb7c41585e8d54d6772e08</th>\n",
              "      <th>5411e9269501a870cabf632f05655131</th>\n",
              "      <th>54d9ac713e253fa1fae9c8003b011c2a</th>\n",
              "      <th>...</th>\n",
              "      <th>84f456958365164420cfc80fbe4c7fab</th>\n",
              "      <th>880be32f4db1d9f6e2bec38fb6ac23ab</th>\n",
              "      <th>89321f94e35fc6d7903d36f74e351d40</th>\n",
              "      <th>8c292ca193d326152e335d77176746f0</th>\n",
              "      <th>8c591ab0ca519558779df02023177f44</th>\n",
              "      <th>99a4788cb24856965c36a24e339b6058</th>\n",
              "      <th>9ecadb84c81da840dbf3564378b586e9</th>\n",
              "      <th>a50acd33ba7a8da8e9db65094fa990a4</th>\n",
              "      <th>a62e25e09e05e6faf31d90c6ec1aa3d1</th>\n",
              "      <th>a92930c327948861c015c919a0bcb4a8</th>\n",
              "      <th>aca2eb7d00ea1a7b8ebd4e68314663af</th>\n",
              "      <th>b0961721fd839e9982420e807758a2a6</th>\n",
              "      <th>b532349fe46b38fbc7bb3914c1bdae07</th>\n",
              "      <th>b5e13c9a353102f79c6206ff5cb61a50</th>\n",
              "      <th>bb50f2e236e5eea0100680137654686c</th>\n",
              "      <th>bee2e070c39f3dd2f6883a17a5f0da45</th>\n",
              "      <th>c4baedd846ed09b85f78a781b522f126</th>\n",
              "      <th>c6336fa91fbd87c359e44f5dca5a90ed</th>\n",
              "      <th>c6dd917a0be2a704582055949915ab32</th>\n",
              "      <th>c9c6fde711572c1ad99ca12728c6af00</th>\n",
              "      <th>cac9e5692471a0700418aa3400b9b2b1</th>\n",
              "      <th>cd48f265a63e13b762601f5f794c5fca</th>\n",
              "      <th>d017a2151d543a9885604dc62a3d9dcc</th>\n",
              "      <th>d04857e7b4b708ee8b8b9921163edba3</th>\n",
              "      <th>d1c427060a0f73f6b889a5c7c61f2ac4</th>\n",
              "      <th>d285360f29ac7fd97640bf0baef03de0</th>\n",
              "      <th>d3c044bd42d84a79e3b0c42662806a48</th>\n",
              "      <th>d5991653e037ccb7af6ed7d94246b249</th>\n",
              "      <th>dbb67791e405873b259e4656bf971246</th>\n",
              "      <th>e0cf79767c5b016251fe139915c59a26</th>\n",
              "      <th>e0d64dcfaa3b6db5c54ca298ae101d05</th>\n",
              "      <th>e44f675b60b3a3a2453ec36421e06f0f</th>\n",
              "      <th>e53e557d5a159f5aa2c5e995dfdf244b</th>\n",
              "      <th>e7cc48a9daff5436f63d3aad9426f28b</th>\n",
              "      <th>eb8c629f70275fd1c4f809116cce1efc</th>\n",
              "      <th>ec2d43cc59763ec91694573b31f1c29a</th>\n",
              "      <th>ee0c1cf2fbeae95205b4aa506f1469f0</th>\n",
              "      <th>ee406bf28024d97771c4b1e8b7e8e219</th>\n",
              "      <th>f1c7f353075ce59d8a6f3cf58f419c9c</th>\n",
              "      <th>fb55982be901439613a95940feefd9ee</th>\n",
              "    </tr>\n",
              "    <tr>\n",
              "      <th>order_id</th>\n",
              "      <th></th>\n",
              "      <th></th>\n",
              "      <th></th>\n",
              "      <th></th>\n",
              "      <th></th>\n",
              "      <th></th>\n",
              "      <th></th>\n",
              "      <th></th>\n",
              "      <th></th>\n",
              "      <th></th>\n",
              "      <th></th>\n",
              "      <th></th>\n",
              "      <th></th>\n",
              "      <th></th>\n",
              "      <th></th>\n",
              "      <th></th>\n",
              "      <th></th>\n",
              "      <th></th>\n",
              "      <th></th>\n",
              "      <th></th>\n",
              "      <th></th>\n",
              "      <th></th>\n",
              "      <th></th>\n",
              "      <th></th>\n",
              "      <th></th>\n",
              "      <th></th>\n",
              "      <th></th>\n",
              "      <th></th>\n",
              "      <th></th>\n",
              "      <th></th>\n",
              "      <th></th>\n",
              "      <th></th>\n",
              "      <th></th>\n",
              "      <th></th>\n",
              "      <th></th>\n",
              "      <th></th>\n",
              "      <th></th>\n",
              "      <th></th>\n",
              "      <th></th>\n",
              "      <th></th>\n",
              "      <th></th>\n",
              "      <th></th>\n",
              "      <th></th>\n",
              "      <th></th>\n",
              "      <th></th>\n",
              "      <th></th>\n",
              "      <th></th>\n",
              "      <th></th>\n",
              "      <th></th>\n",
              "      <th></th>\n",
              "      <th></th>\n",
              "      <th></th>\n",
              "      <th></th>\n",
              "      <th></th>\n",
              "      <th></th>\n",
              "      <th></th>\n",
              "      <th></th>\n",
              "      <th></th>\n",
              "      <th></th>\n",
              "      <th></th>\n",
              "      <th></th>\n",
              "      <th></th>\n",
              "      <th></th>\n",
              "      <th></th>\n",
              "      <th></th>\n",
              "      <th></th>\n",
              "      <th></th>\n",
              "      <th></th>\n",
              "      <th></th>\n",
              "      <th></th>\n",
              "      <th></th>\n",
              "      <th></th>\n",
              "      <th></th>\n",
              "      <th></th>\n",
              "      <th></th>\n",
              "      <th></th>\n",
              "      <th></th>\n",
              "      <th></th>\n",
              "      <th></th>\n",
              "      <th></th>\n",
              "      <th></th>\n",
              "    </tr>\n",
              "  </thead>\n",
              "  <tbody>\n",
              "    <tr>\n",
              "      <th>0006ec9db01a64e59a68b2c340bf65a7</th>\n",
              "      <td>NaN</td>\n",
              "      <td>NaN</td>\n",
              "      <td>NaN</td>\n",
              "      <td>NaN</td>\n",
              "      <td>NaN</td>\n",
              "      <td>NaN</td>\n",
              "      <td>NaN</td>\n",
              "      <td>NaN</td>\n",
              "      <td>NaN</td>\n",
              "      <td>NaN</td>\n",
              "      <td>NaN</td>\n",
              "      <td>NaN</td>\n",
              "      <td>NaN</td>\n",
              "      <td>NaN</td>\n",
              "      <td>NaN</td>\n",
              "      <td>NaN</td>\n",
              "      <td>NaN</td>\n",
              "      <td>NaN</td>\n",
              "      <td>NaN</td>\n",
              "      <td>NaN</td>\n",
              "      <td>NaN</td>\n",
              "      <td>NaN</td>\n",
              "      <td>NaN</td>\n",
              "      <td>NaN</td>\n",
              "      <td>NaN</td>\n",
              "      <td>NaN</td>\n",
              "      <td>NaN</td>\n",
              "      <td>NaN</td>\n",
              "      <td>NaN</td>\n",
              "      <td>NaN</td>\n",
              "      <td>NaN</td>\n",
              "      <td>NaN</td>\n",
              "      <td>NaN</td>\n",
              "      <td>NaN</td>\n",
              "      <td>NaN</td>\n",
              "      <td>NaN</td>\n",
              "      <td>NaN</td>\n",
              "      <td>NaN</td>\n",
              "      <td>NaN</td>\n",
              "      <td>NaN</td>\n",
              "      <td>...</td>\n",
              "      <td>NaN</td>\n",
              "      <td>NaN</td>\n",
              "      <td>NaN</td>\n",
              "      <td>NaN</td>\n",
              "      <td>NaN</td>\n",
              "      <td>1.0</td>\n",
              "      <td>NaN</td>\n",
              "      <td>NaN</td>\n",
              "      <td>NaN</td>\n",
              "      <td>NaN</td>\n",
              "      <td>NaN</td>\n",
              "      <td>NaN</td>\n",
              "      <td>NaN</td>\n",
              "      <td>NaN</td>\n",
              "      <td>NaN</td>\n",
              "      <td>NaN</td>\n",
              "      <td>NaN</td>\n",
              "      <td>NaN</td>\n",
              "      <td>NaN</td>\n",
              "      <td>NaN</td>\n",
              "      <td>NaN</td>\n",
              "      <td>NaN</td>\n",
              "      <td>NaN</td>\n",
              "      <td>NaN</td>\n",
              "      <td>NaN</td>\n",
              "      <td>NaN</td>\n",
              "      <td>NaN</td>\n",
              "      <td>NaN</td>\n",
              "      <td>NaN</td>\n",
              "      <td>NaN</td>\n",
              "      <td>NaN</td>\n",
              "      <td>NaN</td>\n",
              "      <td>NaN</td>\n",
              "      <td>NaN</td>\n",
              "      <td>NaN</td>\n",
              "      <td>NaN</td>\n",
              "      <td>NaN</td>\n",
              "      <td>NaN</td>\n",
              "      <td>NaN</td>\n",
              "      <td>NaN</td>\n",
              "    </tr>\n",
              "    <tr>\n",
              "      <th>0008288aa423d2a3f00fcb17cd7d8719</th>\n",
              "      <td>NaN</td>\n",
              "      <td>NaN</td>\n",
              "      <td>NaN</td>\n",
              "      <td>NaN</td>\n",
              "      <td>NaN</td>\n",
              "      <td>NaN</td>\n",
              "      <td>NaN</td>\n",
              "      <td>NaN</td>\n",
              "      <td>NaN</td>\n",
              "      <td>NaN</td>\n",
              "      <td>NaN</td>\n",
              "      <td>NaN</td>\n",
              "      <td>NaN</td>\n",
              "      <td>NaN</td>\n",
              "      <td>NaN</td>\n",
              "      <td>NaN</td>\n",
              "      <td>NaN</td>\n",
              "      <td>NaN</td>\n",
              "      <td>NaN</td>\n",
              "      <td>2.0</td>\n",
              "      <td>NaN</td>\n",
              "      <td>NaN</td>\n",
              "      <td>NaN</td>\n",
              "      <td>NaN</td>\n",
              "      <td>NaN</td>\n",
              "      <td>NaN</td>\n",
              "      <td>NaN</td>\n",
              "      <td>NaN</td>\n",
              "      <td>NaN</td>\n",
              "      <td>NaN</td>\n",
              "      <td>NaN</td>\n",
              "      <td>NaN</td>\n",
              "      <td>NaN</td>\n",
              "      <td>NaN</td>\n",
              "      <td>NaN</td>\n",
              "      <td>NaN</td>\n",
              "      <td>NaN</td>\n",
              "      <td>NaN</td>\n",
              "      <td>NaN</td>\n",
              "      <td>NaN</td>\n",
              "      <td>...</td>\n",
              "      <td>NaN</td>\n",
              "      <td>NaN</td>\n",
              "      <td>NaN</td>\n",
              "      <td>NaN</td>\n",
              "      <td>NaN</td>\n",
              "      <td>NaN</td>\n",
              "      <td>NaN</td>\n",
              "      <td>NaN</td>\n",
              "      <td>NaN</td>\n",
              "      <td>NaN</td>\n",
              "      <td>NaN</td>\n",
              "      <td>NaN</td>\n",
              "      <td>NaN</td>\n",
              "      <td>NaN</td>\n",
              "      <td>NaN</td>\n",
              "      <td>NaN</td>\n",
              "      <td>NaN</td>\n",
              "      <td>NaN</td>\n",
              "      <td>NaN</td>\n",
              "      <td>NaN</td>\n",
              "      <td>NaN</td>\n",
              "      <td>NaN</td>\n",
              "      <td>NaN</td>\n",
              "      <td>NaN</td>\n",
              "      <td>NaN</td>\n",
              "      <td>NaN</td>\n",
              "      <td>NaN</td>\n",
              "      <td>NaN</td>\n",
              "      <td>NaN</td>\n",
              "      <td>NaN</td>\n",
              "      <td>NaN</td>\n",
              "      <td>NaN</td>\n",
              "      <td>NaN</td>\n",
              "      <td>NaN</td>\n",
              "      <td>NaN</td>\n",
              "      <td>NaN</td>\n",
              "      <td>NaN</td>\n",
              "      <td>NaN</td>\n",
              "      <td>NaN</td>\n",
              "      <td>NaN</td>\n",
              "    </tr>\n",
              "    <tr>\n",
              "      <th>00130c0eee84a3d909e75bc08c5c3ca1</th>\n",
              "      <td>NaN</td>\n",
              "      <td>NaN</td>\n",
              "      <td>NaN</td>\n",
              "      <td>NaN</td>\n",
              "      <td>NaN</td>\n",
              "      <td>NaN</td>\n",
              "      <td>NaN</td>\n",
              "      <td>NaN</td>\n",
              "      <td>NaN</td>\n",
              "      <td>NaN</td>\n",
              "      <td>NaN</td>\n",
              "      <td>NaN</td>\n",
              "      <td>NaN</td>\n",
              "      <td>NaN</td>\n",
              "      <td>NaN</td>\n",
              "      <td>NaN</td>\n",
              "      <td>NaN</td>\n",
              "      <td>NaN</td>\n",
              "      <td>NaN</td>\n",
              "      <td>NaN</td>\n",
              "      <td>NaN</td>\n",
              "      <td>NaN</td>\n",
              "      <td>NaN</td>\n",
              "      <td>NaN</td>\n",
              "      <td>NaN</td>\n",
              "      <td>NaN</td>\n",
              "      <td>NaN</td>\n",
              "      <td>NaN</td>\n",
              "      <td>NaN</td>\n",
              "      <td>NaN</td>\n",
              "      <td>NaN</td>\n",
              "      <td>NaN</td>\n",
              "      <td>NaN</td>\n",
              "      <td>NaN</td>\n",
              "      <td>NaN</td>\n",
              "      <td>NaN</td>\n",
              "      <td>NaN</td>\n",
              "      <td>NaN</td>\n",
              "      <td>NaN</td>\n",
              "      <td>NaN</td>\n",
              "      <td>...</td>\n",
              "      <td>NaN</td>\n",
              "      <td>NaN</td>\n",
              "      <td>1.0</td>\n",
              "      <td>NaN</td>\n",
              "      <td>NaN</td>\n",
              "      <td>NaN</td>\n",
              "      <td>NaN</td>\n",
              "      <td>NaN</td>\n",
              "      <td>NaN</td>\n",
              "      <td>NaN</td>\n",
              "      <td>NaN</td>\n",
              "      <td>NaN</td>\n",
              "      <td>NaN</td>\n",
              "      <td>NaN</td>\n",
              "      <td>NaN</td>\n",
              "      <td>NaN</td>\n",
              "      <td>NaN</td>\n",
              "      <td>NaN</td>\n",
              "      <td>NaN</td>\n",
              "      <td>NaN</td>\n",
              "      <td>NaN</td>\n",
              "      <td>NaN</td>\n",
              "      <td>NaN</td>\n",
              "      <td>NaN</td>\n",
              "      <td>NaN</td>\n",
              "      <td>NaN</td>\n",
              "      <td>NaN</td>\n",
              "      <td>NaN</td>\n",
              "      <td>NaN</td>\n",
              "      <td>NaN</td>\n",
              "      <td>NaN</td>\n",
              "      <td>NaN</td>\n",
              "      <td>NaN</td>\n",
              "      <td>NaN</td>\n",
              "      <td>NaN</td>\n",
              "      <td>NaN</td>\n",
              "      <td>NaN</td>\n",
              "      <td>NaN</td>\n",
              "      <td>NaN</td>\n",
              "      <td>NaN</td>\n",
              "    </tr>\n",
              "    <tr>\n",
              "      <th>001862358bf858722e1e2ae000cfed8b</th>\n",
              "      <td>NaN</td>\n",
              "      <td>NaN</td>\n",
              "      <td>NaN</td>\n",
              "      <td>NaN</td>\n",
              "      <td>NaN</td>\n",
              "      <td>NaN</td>\n",
              "      <td>NaN</td>\n",
              "      <td>NaN</td>\n",
              "      <td>NaN</td>\n",
              "      <td>NaN</td>\n",
              "      <td>NaN</td>\n",
              "      <td>NaN</td>\n",
              "      <td>NaN</td>\n",
              "      <td>NaN</td>\n",
              "      <td>NaN</td>\n",
              "      <td>NaN</td>\n",
              "      <td>NaN</td>\n",
              "      <td>NaN</td>\n",
              "      <td>NaN</td>\n",
              "      <td>NaN</td>\n",
              "      <td>NaN</td>\n",
              "      <td>NaN</td>\n",
              "      <td>NaN</td>\n",
              "      <td>NaN</td>\n",
              "      <td>NaN</td>\n",
              "      <td>NaN</td>\n",
              "      <td>NaN</td>\n",
              "      <td>NaN</td>\n",
              "      <td>NaN</td>\n",
              "      <td>NaN</td>\n",
              "      <td>NaN</td>\n",
              "      <td>NaN</td>\n",
              "      <td>NaN</td>\n",
              "      <td>NaN</td>\n",
              "      <td>NaN</td>\n",
              "      <td>NaN</td>\n",
              "      <td>NaN</td>\n",
              "      <td>NaN</td>\n",
              "      <td>NaN</td>\n",
              "      <td>NaN</td>\n",
              "      <td>...</td>\n",
              "      <td>NaN</td>\n",
              "      <td>NaN</td>\n",
              "      <td>NaN</td>\n",
              "      <td>NaN</td>\n",
              "      <td>NaN</td>\n",
              "      <td>NaN</td>\n",
              "      <td>NaN</td>\n",
              "      <td>NaN</td>\n",
              "      <td>NaN</td>\n",
              "      <td>NaN</td>\n",
              "      <td>NaN</td>\n",
              "      <td>NaN</td>\n",
              "      <td>NaN</td>\n",
              "      <td>NaN</td>\n",
              "      <td>NaN</td>\n",
              "      <td>NaN</td>\n",
              "      <td>NaN</td>\n",
              "      <td>NaN</td>\n",
              "      <td>1.0</td>\n",
              "      <td>NaN</td>\n",
              "      <td>NaN</td>\n",
              "      <td>NaN</td>\n",
              "      <td>NaN</td>\n",
              "      <td>NaN</td>\n",
              "      <td>NaN</td>\n",
              "      <td>NaN</td>\n",
              "      <td>NaN</td>\n",
              "      <td>NaN</td>\n",
              "      <td>NaN</td>\n",
              "      <td>NaN</td>\n",
              "      <td>NaN</td>\n",
              "      <td>NaN</td>\n",
              "      <td>NaN</td>\n",
              "      <td>NaN</td>\n",
              "      <td>NaN</td>\n",
              "      <td>NaN</td>\n",
              "      <td>NaN</td>\n",
              "      <td>NaN</td>\n",
              "      <td>NaN</td>\n",
              "      <td>NaN</td>\n",
              "    </tr>\n",
              "    <tr>\n",
              "      <th>001b76dd48a5b1eee3e87778daa40df8</th>\n",
              "      <td>NaN</td>\n",
              "      <td>NaN</td>\n",
              "      <td>NaN</td>\n",
              "      <td>NaN</td>\n",
              "      <td>NaN</td>\n",
              "      <td>NaN</td>\n",
              "      <td>NaN</td>\n",
              "      <td>NaN</td>\n",
              "      <td>NaN</td>\n",
              "      <td>NaN</td>\n",
              "      <td>NaN</td>\n",
              "      <td>NaN</td>\n",
              "      <td>NaN</td>\n",
              "      <td>NaN</td>\n",
              "      <td>NaN</td>\n",
              "      <td>NaN</td>\n",
              "      <td>NaN</td>\n",
              "      <td>NaN</td>\n",
              "      <td>NaN</td>\n",
              "      <td>NaN</td>\n",
              "      <td>NaN</td>\n",
              "      <td>NaN</td>\n",
              "      <td>NaN</td>\n",
              "      <td>NaN</td>\n",
              "      <td>NaN</td>\n",
              "      <td>NaN</td>\n",
              "      <td>NaN</td>\n",
              "      <td>NaN</td>\n",
              "      <td>NaN</td>\n",
              "      <td>NaN</td>\n",
              "      <td>NaN</td>\n",
              "      <td>NaN</td>\n",
              "      <td>NaN</td>\n",
              "      <td>NaN</td>\n",
              "      <td>NaN</td>\n",
              "      <td>NaN</td>\n",
              "      <td>NaN</td>\n",
              "      <td>NaN</td>\n",
              "      <td>NaN</td>\n",
              "      <td>NaN</td>\n",
              "      <td>...</td>\n",
              "      <td>NaN</td>\n",
              "      <td>NaN</td>\n",
              "      <td>NaN</td>\n",
              "      <td>NaN</td>\n",
              "      <td>NaN</td>\n",
              "      <td>NaN</td>\n",
              "      <td>NaN</td>\n",
              "      <td>NaN</td>\n",
              "      <td>NaN</td>\n",
              "      <td>NaN</td>\n",
              "      <td>NaN</td>\n",
              "      <td>NaN</td>\n",
              "      <td>NaN</td>\n",
              "      <td>NaN</td>\n",
              "      <td>NaN</td>\n",
              "      <td>NaN</td>\n",
              "      <td>NaN</td>\n",
              "      <td>NaN</td>\n",
              "      <td>NaN</td>\n",
              "      <td>NaN</td>\n",
              "      <td>NaN</td>\n",
              "      <td>NaN</td>\n",
              "      <td>NaN</td>\n",
              "      <td>NaN</td>\n",
              "      <td>NaN</td>\n",
              "      <td>NaN</td>\n",
              "      <td>NaN</td>\n",
              "      <td>NaN</td>\n",
              "      <td>1.0</td>\n",
              "      <td>NaN</td>\n",
              "      <td>NaN</td>\n",
              "      <td>NaN</td>\n",
              "      <td>NaN</td>\n",
              "      <td>NaN</td>\n",
              "      <td>NaN</td>\n",
              "      <td>NaN</td>\n",
              "      <td>NaN</td>\n",
              "      <td>NaN</td>\n",
              "      <td>NaN</td>\n",
              "      <td>NaN</td>\n",
              "    </tr>\n",
              "  </tbody>\n",
              "</table>\n",
              "<p>5 rows × 100 columns</p>\n",
              "</div>"
            ],
            "text/plain": [
              "product_id                        06edb72f1e0c64b14c5b79353f7abea3  ...  fb55982be901439613a95940feefd9ee\n",
              "order_id                                                            ...                                  \n",
              "0006ec9db01a64e59a68b2c340bf65a7                               NaN  ...                               NaN\n",
              "0008288aa423d2a3f00fcb17cd7d8719                               NaN  ...                               NaN\n",
              "00130c0eee84a3d909e75bc08c5c3ca1                               NaN  ...                               NaN\n",
              "001862358bf858722e1e2ae000cfed8b                               NaN  ...                               NaN\n",
              "001b76dd48a5b1eee3e87778daa40df8                               NaN  ...                               NaN\n",
              "\n",
              "[5 rows x 100 columns]"
            ]
          },
          "metadata": {
            "tags": []
          },
          "execution_count": 131
        }
      ]
    },
    {
      "cell_type": "code",
      "metadata": {
        "id": "J2Io4iWSjIXx",
        "outputId": "382aa25a-2710-4248-c4b0-b3fd3ac405c5",
        "colab": {
          "base_uri": "https://localhost:8080/",
          "height": 284
        }
      },
      "source": [
        "#Replacing NaN values\n",
        "\n",
        "basket2= basket1.fillna(0)\n",
        "basket2.head()"
      ],
      "execution_count": null,
      "outputs": [
        {
          "output_type": "execute_result",
          "data": {
            "text/html": [
              "<div>\n",
              "<style scoped>\n",
              "    .dataframe tbody tr th:only-of-type {\n",
              "        vertical-align: middle;\n",
              "    }\n",
              "\n",
              "    .dataframe tbody tr th {\n",
              "        vertical-align: top;\n",
              "    }\n",
              "\n",
              "    .dataframe thead th {\n",
              "        text-align: right;\n",
              "    }\n",
              "</style>\n",
              "<table border=\"1\" class=\"dataframe\">\n",
              "  <thead>\n",
              "    <tr style=\"text-align: right;\">\n",
              "      <th>product_id</th>\n",
              "      <th>06edb72f1e0c64b14c5b79353f7abea3</th>\n",
              "      <th>08574b074924071f4e201e151b152b4e</th>\n",
              "      <th>0a57f7d2c983bcf8188589a5fea4a8da</th>\n",
              "      <th>0aabfb375647d9738ad0f7b4ea3653b1</th>\n",
              "      <th>0bcc3eeca39e1064258aa1e932269894</th>\n",
              "      <th>0d85c435fd60b277ffb9e9b0f88f927a</th>\n",
              "      <th>154e7e31ebfa092203795c972e5804a6</th>\n",
              "      <th>165f86fe8b799a708a20ee4ba125c289</th>\n",
              "      <th>18b0e642cbae7251e60a64aa07dd9eb9</th>\n",
              "      <th>19c91ef95d509ea33eda93495c4d3481</th>\n",
              "      <th>2028bf1b01cafb2d2b1901fca4083222</th>\n",
              "      <th>2136c70bbe723d338fab53da3c03e6dc</th>\n",
              "      <th>29427de7f8a9ee983d9dbc51cec569b4</th>\n",
              "      <th>2948658cb6abc82847412be7201bfc4c</th>\n",
              "      <th>2b4609f8948be18874494203496bc318</th>\n",
              "      <th>3354a4e684f5e7199f9407db70ccd92b</th>\n",
              "      <th>35afc973633aaeb6b877ff57b2793310</th>\n",
              "      <th>362b773250263786dd58670d2df42c3b</th>\n",
              "      <th>363218ba55c610b750224f90bdd34be1</th>\n",
              "      <th>368c6c730842d78016ad823897a372db</th>\n",
              "      <th>36f60d45225e60c7da4558b070ce4b60</th>\n",
              "      <th>389d119b48cf3043d311335e499d9c6b</th>\n",
              "      <th>3dd2a17168ec895c781a9191c1e95ad7</th>\n",
              "      <th>3f14d740544f37ece8a9e7bc8349797e</th>\n",
              "      <th>3fbc0ef745950c7932d5f2a446189725</th>\n",
              "      <th>422879e10f46682990de24d770e7f83d</th>\n",
              "      <th>4298b7e67dc399c200662b569563a2b2</th>\n",
              "      <th>42a2c92a0979a949ca4ea89ec5c7b934</th>\n",
              "      <th>43423cdffde7fda63d0414ed38c11a73</th>\n",
              "      <th>437c05a395e9e47f9762e677a7068ce7</th>\n",
              "      <th>461f43be3bdf8844e65b62d9ac2c7a5a</th>\n",
              "      <th>473795a355d29305c3ea6b156833adf5</th>\n",
              "      <th>4c2394abfbac7ff59ec7a420918562fa</th>\n",
              "      <th>4fcb3d9a5f4871e8362dfedbdb02b064</th>\n",
              "      <th>4fe644d766c7566dbc46fb851363cb3b</th>\n",
              "      <th>52c80cedd4e90108bf4fa6a206ef6b03</th>\n",
              "      <th>53759a2ecddad2bb87a079a1f1519f73</th>\n",
              "      <th>53b36df67ebb7c41585e8d54d6772e08</th>\n",
              "      <th>5411e9269501a870cabf632f05655131</th>\n",
              "      <th>54d9ac713e253fa1fae9c8003b011c2a</th>\n",
              "      <th>...</th>\n",
              "      <th>84f456958365164420cfc80fbe4c7fab</th>\n",
              "      <th>880be32f4db1d9f6e2bec38fb6ac23ab</th>\n",
              "      <th>89321f94e35fc6d7903d36f74e351d40</th>\n",
              "      <th>8c292ca193d326152e335d77176746f0</th>\n",
              "      <th>8c591ab0ca519558779df02023177f44</th>\n",
              "      <th>99a4788cb24856965c36a24e339b6058</th>\n",
              "      <th>9ecadb84c81da840dbf3564378b586e9</th>\n",
              "      <th>a50acd33ba7a8da8e9db65094fa990a4</th>\n",
              "      <th>a62e25e09e05e6faf31d90c6ec1aa3d1</th>\n",
              "      <th>a92930c327948861c015c919a0bcb4a8</th>\n",
              "      <th>aca2eb7d00ea1a7b8ebd4e68314663af</th>\n",
              "      <th>b0961721fd839e9982420e807758a2a6</th>\n",
              "      <th>b532349fe46b38fbc7bb3914c1bdae07</th>\n",
              "      <th>b5e13c9a353102f79c6206ff5cb61a50</th>\n",
              "      <th>bb50f2e236e5eea0100680137654686c</th>\n",
              "      <th>bee2e070c39f3dd2f6883a17a5f0da45</th>\n",
              "      <th>c4baedd846ed09b85f78a781b522f126</th>\n",
              "      <th>c6336fa91fbd87c359e44f5dca5a90ed</th>\n",
              "      <th>c6dd917a0be2a704582055949915ab32</th>\n",
              "      <th>c9c6fde711572c1ad99ca12728c6af00</th>\n",
              "      <th>cac9e5692471a0700418aa3400b9b2b1</th>\n",
              "      <th>cd48f265a63e13b762601f5f794c5fca</th>\n",
              "      <th>d017a2151d543a9885604dc62a3d9dcc</th>\n",
              "      <th>d04857e7b4b708ee8b8b9921163edba3</th>\n",
              "      <th>d1c427060a0f73f6b889a5c7c61f2ac4</th>\n",
              "      <th>d285360f29ac7fd97640bf0baef03de0</th>\n",
              "      <th>d3c044bd42d84a79e3b0c42662806a48</th>\n",
              "      <th>d5991653e037ccb7af6ed7d94246b249</th>\n",
              "      <th>dbb67791e405873b259e4656bf971246</th>\n",
              "      <th>e0cf79767c5b016251fe139915c59a26</th>\n",
              "      <th>e0d64dcfaa3b6db5c54ca298ae101d05</th>\n",
              "      <th>e44f675b60b3a3a2453ec36421e06f0f</th>\n",
              "      <th>e53e557d5a159f5aa2c5e995dfdf244b</th>\n",
              "      <th>e7cc48a9daff5436f63d3aad9426f28b</th>\n",
              "      <th>eb8c629f70275fd1c4f809116cce1efc</th>\n",
              "      <th>ec2d43cc59763ec91694573b31f1c29a</th>\n",
              "      <th>ee0c1cf2fbeae95205b4aa506f1469f0</th>\n",
              "      <th>ee406bf28024d97771c4b1e8b7e8e219</th>\n",
              "      <th>f1c7f353075ce59d8a6f3cf58f419c9c</th>\n",
              "      <th>fb55982be901439613a95940feefd9ee</th>\n",
              "    </tr>\n",
              "    <tr>\n",
              "      <th>order_id</th>\n",
              "      <th></th>\n",
              "      <th></th>\n",
              "      <th></th>\n",
              "      <th></th>\n",
              "      <th></th>\n",
              "      <th></th>\n",
              "      <th></th>\n",
              "      <th></th>\n",
              "      <th></th>\n",
              "      <th></th>\n",
              "      <th></th>\n",
              "      <th></th>\n",
              "      <th></th>\n",
              "      <th></th>\n",
              "      <th></th>\n",
              "      <th></th>\n",
              "      <th></th>\n",
              "      <th></th>\n",
              "      <th></th>\n",
              "      <th></th>\n",
              "      <th></th>\n",
              "      <th></th>\n",
              "      <th></th>\n",
              "      <th></th>\n",
              "      <th></th>\n",
              "      <th></th>\n",
              "      <th></th>\n",
              "      <th></th>\n",
              "      <th></th>\n",
              "      <th></th>\n",
              "      <th></th>\n",
              "      <th></th>\n",
              "      <th></th>\n",
              "      <th></th>\n",
              "      <th></th>\n",
              "      <th></th>\n",
              "      <th></th>\n",
              "      <th></th>\n",
              "      <th></th>\n",
              "      <th></th>\n",
              "      <th></th>\n",
              "      <th></th>\n",
              "      <th></th>\n",
              "      <th></th>\n",
              "      <th></th>\n",
              "      <th></th>\n",
              "      <th></th>\n",
              "      <th></th>\n",
              "      <th></th>\n",
              "      <th></th>\n",
              "      <th></th>\n",
              "      <th></th>\n",
              "      <th></th>\n",
              "      <th></th>\n",
              "      <th></th>\n",
              "      <th></th>\n",
              "      <th></th>\n",
              "      <th></th>\n",
              "      <th></th>\n",
              "      <th></th>\n",
              "      <th></th>\n",
              "      <th></th>\n",
              "      <th></th>\n",
              "      <th></th>\n",
              "      <th></th>\n",
              "      <th></th>\n",
              "      <th></th>\n",
              "      <th></th>\n",
              "      <th></th>\n",
              "      <th></th>\n",
              "      <th></th>\n",
              "      <th></th>\n",
              "      <th></th>\n",
              "      <th></th>\n",
              "      <th></th>\n",
              "      <th></th>\n",
              "      <th></th>\n",
              "      <th></th>\n",
              "      <th></th>\n",
              "      <th></th>\n",
              "      <th></th>\n",
              "    </tr>\n",
              "  </thead>\n",
              "  <tbody>\n",
              "    <tr>\n",
              "      <th>0006ec9db01a64e59a68b2c340bf65a7</th>\n",
              "      <td>0.0</td>\n",
              "      <td>0.0</td>\n",
              "      <td>0.0</td>\n",
              "      <td>0.0</td>\n",
              "      <td>0.0</td>\n",
              "      <td>0.0</td>\n",
              "      <td>0.0</td>\n",
              "      <td>0.0</td>\n",
              "      <td>0.0</td>\n",
              "      <td>0.0</td>\n",
              "      <td>0.0</td>\n",
              "      <td>0.0</td>\n",
              "      <td>0.0</td>\n",
              "      <td>0.0</td>\n",
              "      <td>0.0</td>\n",
              "      <td>0.0</td>\n",
              "      <td>0.0</td>\n",
              "      <td>0.0</td>\n",
              "      <td>0.0</td>\n",
              "      <td>0.0</td>\n",
              "      <td>0.0</td>\n",
              "      <td>0.0</td>\n",
              "      <td>0.0</td>\n",
              "      <td>0.0</td>\n",
              "      <td>0.0</td>\n",
              "      <td>0.0</td>\n",
              "      <td>0.0</td>\n",
              "      <td>0.0</td>\n",
              "      <td>0.0</td>\n",
              "      <td>0.0</td>\n",
              "      <td>0.0</td>\n",
              "      <td>0.0</td>\n",
              "      <td>0.0</td>\n",
              "      <td>0.0</td>\n",
              "      <td>0.0</td>\n",
              "      <td>0.0</td>\n",
              "      <td>0.0</td>\n",
              "      <td>0.0</td>\n",
              "      <td>0.0</td>\n",
              "      <td>0.0</td>\n",
              "      <td>...</td>\n",
              "      <td>0.0</td>\n",
              "      <td>0.0</td>\n",
              "      <td>0.0</td>\n",
              "      <td>0.0</td>\n",
              "      <td>0.0</td>\n",
              "      <td>1.0</td>\n",
              "      <td>0.0</td>\n",
              "      <td>0.0</td>\n",
              "      <td>0.0</td>\n",
              "      <td>0.0</td>\n",
              "      <td>0.0</td>\n",
              "      <td>0.0</td>\n",
              "      <td>0.0</td>\n",
              "      <td>0.0</td>\n",
              "      <td>0.0</td>\n",
              "      <td>0.0</td>\n",
              "      <td>0.0</td>\n",
              "      <td>0.0</td>\n",
              "      <td>0.0</td>\n",
              "      <td>0.0</td>\n",
              "      <td>0.0</td>\n",
              "      <td>0.0</td>\n",
              "      <td>0.0</td>\n",
              "      <td>0.0</td>\n",
              "      <td>0.0</td>\n",
              "      <td>0.0</td>\n",
              "      <td>0.0</td>\n",
              "      <td>0.0</td>\n",
              "      <td>0.0</td>\n",
              "      <td>0.0</td>\n",
              "      <td>0.0</td>\n",
              "      <td>0.0</td>\n",
              "      <td>0.0</td>\n",
              "      <td>0.0</td>\n",
              "      <td>0.0</td>\n",
              "      <td>0.0</td>\n",
              "      <td>0.0</td>\n",
              "      <td>0.0</td>\n",
              "      <td>0.0</td>\n",
              "      <td>0.0</td>\n",
              "    </tr>\n",
              "    <tr>\n",
              "      <th>0008288aa423d2a3f00fcb17cd7d8719</th>\n",
              "      <td>0.0</td>\n",
              "      <td>0.0</td>\n",
              "      <td>0.0</td>\n",
              "      <td>0.0</td>\n",
              "      <td>0.0</td>\n",
              "      <td>0.0</td>\n",
              "      <td>0.0</td>\n",
              "      <td>0.0</td>\n",
              "      <td>0.0</td>\n",
              "      <td>0.0</td>\n",
              "      <td>0.0</td>\n",
              "      <td>0.0</td>\n",
              "      <td>0.0</td>\n",
              "      <td>0.0</td>\n",
              "      <td>0.0</td>\n",
              "      <td>0.0</td>\n",
              "      <td>0.0</td>\n",
              "      <td>0.0</td>\n",
              "      <td>0.0</td>\n",
              "      <td>2.0</td>\n",
              "      <td>0.0</td>\n",
              "      <td>0.0</td>\n",
              "      <td>0.0</td>\n",
              "      <td>0.0</td>\n",
              "      <td>0.0</td>\n",
              "      <td>0.0</td>\n",
              "      <td>0.0</td>\n",
              "      <td>0.0</td>\n",
              "      <td>0.0</td>\n",
              "      <td>0.0</td>\n",
              "      <td>0.0</td>\n",
              "      <td>0.0</td>\n",
              "      <td>0.0</td>\n",
              "      <td>0.0</td>\n",
              "      <td>0.0</td>\n",
              "      <td>0.0</td>\n",
              "      <td>0.0</td>\n",
              "      <td>0.0</td>\n",
              "      <td>0.0</td>\n",
              "      <td>0.0</td>\n",
              "      <td>...</td>\n",
              "      <td>0.0</td>\n",
              "      <td>0.0</td>\n",
              "      <td>0.0</td>\n",
              "      <td>0.0</td>\n",
              "      <td>0.0</td>\n",
              "      <td>0.0</td>\n",
              "      <td>0.0</td>\n",
              "      <td>0.0</td>\n",
              "      <td>0.0</td>\n",
              "      <td>0.0</td>\n",
              "      <td>0.0</td>\n",
              "      <td>0.0</td>\n",
              "      <td>0.0</td>\n",
              "      <td>0.0</td>\n",
              "      <td>0.0</td>\n",
              "      <td>0.0</td>\n",
              "      <td>0.0</td>\n",
              "      <td>0.0</td>\n",
              "      <td>0.0</td>\n",
              "      <td>0.0</td>\n",
              "      <td>0.0</td>\n",
              "      <td>0.0</td>\n",
              "      <td>0.0</td>\n",
              "      <td>0.0</td>\n",
              "      <td>0.0</td>\n",
              "      <td>0.0</td>\n",
              "      <td>0.0</td>\n",
              "      <td>0.0</td>\n",
              "      <td>0.0</td>\n",
              "      <td>0.0</td>\n",
              "      <td>0.0</td>\n",
              "      <td>0.0</td>\n",
              "      <td>0.0</td>\n",
              "      <td>0.0</td>\n",
              "      <td>0.0</td>\n",
              "      <td>0.0</td>\n",
              "      <td>0.0</td>\n",
              "      <td>0.0</td>\n",
              "      <td>0.0</td>\n",
              "      <td>0.0</td>\n",
              "    </tr>\n",
              "    <tr>\n",
              "      <th>00130c0eee84a3d909e75bc08c5c3ca1</th>\n",
              "      <td>0.0</td>\n",
              "      <td>0.0</td>\n",
              "      <td>0.0</td>\n",
              "      <td>0.0</td>\n",
              "      <td>0.0</td>\n",
              "      <td>0.0</td>\n",
              "      <td>0.0</td>\n",
              "      <td>0.0</td>\n",
              "      <td>0.0</td>\n",
              "      <td>0.0</td>\n",
              "      <td>0.0</td>\n",
              "      <td>0.0</td>\n",
              "      <td>0.0</td>\n",
              "      <td>0.0</td>\n",
              "      <td>0.0</td>\n",
              "      <td>0.0</td>\n",
              "      <td>0.0</td>\n",
              "      <td>0.0</td>\n",
              "      <td>0.0</td>\n",
              "      <td>0.0</td>\n",
              "      <td>0.0</td>\n",
              "      <td>0.0</td>\n",
              "      <td>0.0</td>\n",
              "      <td>0.0</td>\n",
              "      <td>0.0</td>\n",
              "      <td>0.0</td>\n",
              "      <td>0.0</td>\n",
              "      <td>0.0</td>\n",
              "      <td>0.0</td>\n",
              "      <td>0.0</td>\n",
              "      <td>0.0</td>\n",
              "      <td>0.0</td>\n",
              "      <td>0.0</td>\n",
              "      <td>0.0</td>\n",
              "      <td>0.0</td>\n",
              "      <td>0.0</td>\n",
              "      <td>0.0</td>\n",
              "      <td>0.0</td>\n",
              "      <td>0.0</td>\n",
              "      <td>0.0</td>\n",
              "      <td>...</td>\n",
              "      <td>0.0</td>\n",
              "      <td>0.0</td>\n",
              "      <td>1.0</td>\n",
              "      <td>0.0</td>\n",
              "      <td>0.0</td>\n",
              "      <td>0.0</td>\n",
              "      <td>0.0</td>\n",
              "      <td>0.0</td>\n",
              "      <td>0.0</td>\n",
              "      <td>0.0</td>\n",
              "      <td>0.0</td>\n",
              "      <td>0.0</td>\n",
              "      <td>0.0</td>\n",
              "      <td>0.0</td>\n",
              "      <td>0.0</td>\n",
              "      <td>0.0</td>\n",
              "      <td>0.0</td>\n",
              "      <td>0.0</td>\n",
              "      <td>0.0</td>\n",
              "      <td>0.0</td>\n",
              "      <td>0.0</td>\n",
              "      <td>0.0</td>\n",
              "      <td>0.0</td>\n",
              "      <td>0.0</td>\n",
              "      <td>0.0</td>\n",
              "      <td>0.0</td>\n",
              "      <td>0.0</td>\n",
              "      <td>0.0</td>\n",
              "      <td>0.0</td>\n",
              "      <td>0.0</td>\n",
              "      <td>0.0</td>\n",
              "      <td>0.0</td>\n",
              "      <td>0.0</td>\n",
              "      <td>0.0</td>\n",
              "      <td>0.0</td>\n",
              "      <td>0.0</td>\n",
              "      <td>0.0</td>\n",
              "      <td>0.0</td>\n",
              "      <td>0.0</td>\n",
              "      <td>0.0</td>\n",
              "    </tr>\n",
              "    <tr>\n",
              "      <th>001862358bf858722e1e2ae000cfed8b</th>\n",
              "      <td>0.0</td>\n",
              "      <td>0.0</td>\n",
              "      <td>0.0</td>\n",
              "      <td>0.0</td>\n",
              "      <td>0.0</td>\n",
              "      <td>0.0</td>\n",
              "      <td>0.0</td>\n",
              "      <td>0.0</td>\n",
              "      <td>0.0</td>\n",
              "      <td>0.0</td>\n",
              "      <td>0.0</td>\n",
              "      <td>0.0</td>\n",
              "      <td>0.0</td>\n",
              "      <td>0.0</td>\n",
              "      <td>0.0</td>\n",
              "      <td>0.0</td>\n",
              "      <td>0.0</td>\n",
              "      <td>0.0</td>\n",
              "      <td>0.0</td>\n",
              "      <td>0.0</td>\n",
              "      <td>0.0</td>\n",
              "      <td>0.0</td>\n",
              "      <td>0.0</td>\n",
              "      <td>0.0</td>\n",
              "      <td>0.0</td>\n",
              "      <td>0.0</td>\n",
              "      <td>0.0</td>\n",
              "      <td>0.0</td>\n",
              "      <td>0.0</td>\n",
              "      <td>0.0</td>\n",
              "      <td>0.0</td>\n",
              "      <td>0.0</td>\n",
              "      <td>0.0</td>\n",
              "      <td>0.0</td>\n",
              "      <td>0.0</td>\n",
              "      <td>0.0</td>\n",
              "      <td>0.0</td>\n",
              "      <td>0.0</td>\n",
              "      <td>0.0</td>\n",
              "      <td>0.0</td>\n",
              "      <td>...</td>\n",
              "      <td>0.0</td>\n",
              "      <td>0.0</td>\n",
              "      <td>0.0</td>\n",
              "      <td>0.0</td>\n",
              "      <td>0.0</td>\n",
              "      <td>0.0</td>\n",
              "      <td>0.0</td>\n",
              "      <td>0.0</td>\n",
              "      <td>0.0</td>\n",
              "      <td>0.0</td>\n",
              "      <td>0.0</td>\n",
              "      <td>0.0</td>\n",
              "      <td>0.0</td>\n",
              "      <td>0.0</td>\n",
              "      <td>0.0</td>\n",
              "      <td>0.0</td>\n",
              "      <td>0.0</td>\n",
              "      <td>0.0</td>\n",
              "      <td>1.0</td>\n",
              "      <td>0.0</td>\n",
              "      <td>0.0</td>\n",
              "      <td>0.0</td>\n",
              "      <td>0.0</td>\n",
              "      <td>0.0</td>\n",
              "      <td>0.0</td>\n",
              "      <td>0.0</td>\n",
              "      <td>0.0</td>\n",
              "      <td>0.0</td>\n",
              "      <td>0.0</td>\n",
              "      <td>0.0</td>\n",
              "      <td>0.0</td>\n",
              "      <td>0.0</td>\n",
              "      <td>0.0</td>\n",
              "      <td>0.0</td>\n",
              "      <td>0.0</td>\n",
              "      <td>0.0</td>\n",
              "      <td>0.0</td>\n",
              "      <td>0.0</td>\n",
              "      <td>0.0</td>\n",
              "      <td>0.0</td>\n",
              "    </tr>\n",
              "    <tr>\n",
              "      <th>001b76dd48a5b1eee3e87778daa40df8</th>\n",
              "      <td>0.0</td>\n",
              "      <td>0.0</td>\n",
              "      <td>0.0</td>\n",
              "      <td>0.0</td>\n",
              "      <td>0.0</td>\n",
              "      <td>0.0</td>\n",
              "      <td>0.0</td>\n",
              "      <td>0.0</td>\n",
              "      <td>0.0</td>\n",
              "      <td>0.0</td>\n",
              "      <td>0.0</td>\n",
              "      <td>0.0</td>\n",
              "      <td>0.0</td>\n",
              "      <td>0.0</td>\n",
              "      <td>0.0</td>\n",
              "      <td>0.0</td>\n",
              "      <td>0.0</td>\n",
              "      <td>0.0</td>\n",
              "      <td>0.0</td>\n",
              "      <td>0.0</td>\n",
              "      <td>0.0</td>\n",
              "      <td>0.0</td>\n",
              "      <td>0.0</td>\n",
              "      <td>0.0</td>\n",
              "      <td>0.0</td>\n",
              "      <td>0.0</td>\n",
              "      <td>0.0</td>\n",
              "      <td>0.0</td>\n",
              "      <td>0.0</td>\n",
              "      <td>0.0</td>\n",
              "      <td>0.0</td>\n",
              "      <td>0.0</td>\n",
              "      <td>0.0</td>\n",
              "      <td>0.0</td>\n",
              "      <td>0.0</td>\n",
              "      <td>0.0</td>\n",
              "      <td>0.0</td>\n",
              "      <td>0.0</td>\n",
              "      <td>0.0</td>\n",
              "      <td>0.0</td>\n",
              "      <td>...</td>\n",
              "      <td>0.0</td>\n",
              "      <td>0.0</td>\n",
              "      <td>0.0</td>\n",
              "      <td>0.0</td>\n",
              "      <td>0.0</td>\n",
              "      <td>0.0</td>\n",
              "      <td>0.0</td>\n",
              "      <td>0.0</td>\n",
              "      <td>0.0</td>\n",
              "      <td>0.0</td>\n",
              "      <td>0.0</td>\n",
              "      <td>0.0</td>\n",
              "      <td>0.0</td>\n",
              "      <td>0.0</td>\n",
              "      <td>0.0</td>\n",
              "      <td>0.0</td>\n",
              "      <td>0.0</td>\n",
              "      <td>0.0</td>\n",
              "      <td>0.0</td>\n",
              "      <td>0.0</td>\n",
              "      <td>0.0</td>\n",
              "      <td>0.0</td>\n",
              "      <td>0.0</td>\n",
              "      <td>0.0</td>\n",
              "      <td>0.0</td>\n",
              "      <td>0.0</td>\n",
              "      <td>0.0</td>\n",
              "      <td>0.0</td>\n",
              "      <td>1.0</td>\n",
              "      <td>0.0</td>\n",
              "      <td>0.0</td>\n",
              "      <td>0.0</td>\n",
              "      <td>0.0</td>\n",
              "      <td>0.0</td>\n",
              "      <td>0.0</td>\n",
              "      <td>0.0</td>\n",
              "      <td>0.0</td>\n",
              "      <td>0.0</td>\n",
              "      <td>0.0</td>\n",
              "      <td>0.0</td>\n",
              "    </tr>\n",
              "  </tbody>\n",
              "</table>\n",
              "<p>5 rows × 100 columns</p>\n",
              "</div>"
            ],
            "text/plain": [
              "product_id                        06edb72f1e0c64b14c5b79353f7abea3  ...  fb55982be901439613a95940feefd9ee\n",
              "order_id                                                            ...                                  \n",
              "0006ec9db01a64e59a68b2c340bf65a7                               0.0  ...                               0.0\n",
              "0008288aa423d2a3f00fcb17cd7d8719                               0.0  ...                               0.0\n",
              "00130c0eee84a3d909e75bc08c5c3ca1                               0.0  ...                               0.0\n",
              "001862358bf858722e1e2ae000cfed8b                               0.0  ...                               0.0\n",
              "001b76dd48a5b1eee3e87778daa40df8                               0.0  ...                               0.0\n",
              "\n",
              "[5 rows x 100 columns]"
            ]
          },
          "metadata": {
            "tags": []
          },
          "execution_count": 132
        }
      ]
    },
    {
      "cell_type": "code",
      "metadata": {
        "id": "lyKqpXMqnifS"
      },
      "source": [
        "def encode_units(x):\n",
        "    if x <= 0:\n",
        "        return 0\n",
        "    if x >= 1:\n",
        "        return 1\n",
        "\n",
        "basket_sets = basket2.applymap(encode_units)"
      ],
      "execution_count": null,
      "outputs": []
    },
    {
      "cell_type": "code",
      "metadata": {
        "id": "mxamWvH1jQQC",
        "outputId": "72141fd7-16d1-4f2b-86b1-e3816c81390d",
        "colab": {
          "base_uri": "https://localhost:8080/",
          "height": 204
        }
      },
      "source": [
        "freq_items=apriori(basket_sets, min_support=0.0005, use_colnames=True)\n",
        "freq_items.sort_values(by='support', ascending=False).head()"
      ],
      "execution_count": null,
      "outputs": [
        {
          "output_type": "execute_result",
          "data": {
            "text/html": [
              "<div>\n",
              "<style scoped>\n",
              "    .dataframe tbody tr th:only-of-type {\n",
              "        vertical-align: middle;\n",
              "    }\n",
              "\n",
              "    .dataframe tbody tr th {\n",
              "        vertical-align: top;\n",
              "    }\n",
              "\n",
              "    .dataframe thead th {\n",
              "        text-align: right;\n",
              "    }\n",
              "</style>\n",
              "<table border=\"1\" class=\"dataframe\">\n",
              "  <thead>\n",
              "    <tr style=\"text-align: right;\">\n",
              "      <th></th>\n",
              "      <th>support</th>\n",
              "      <th>itemsets</th>\n",
              "    </tr>\n",
              "  </thead>\n",
              "  <tbody>\n",
              "    <tr>\n",
              "      <th>65</th>\n",
              "      <td>0.036850</td>\n",
              "      <td>(99a4788cb24856965c36a24e339b6058)</td>\n",
              "    </tr>\n",
              "    <tr>\n",
              "      <th>70</th>\n",
              "      <td>0.034009</td>\n",
              "      <td>(aca2eb7d00ea1a7b8ebd4e68314663af)</td>\n",
              "    </tr>\n",
              "    <tr>\n",
              "      <th>25</th>\n",
              "      <td>0.027776</td>\n",
              "      <td>(422879e10f46682990de24d770e7f83d)</td>\n",
              "    </tr>\n",
              "    <tr>\n",
              "      <th>84</th>\n",
              "      <td>0.025487</td>\n",
              "      <td>(d1c427060a0f73f6b889a5c7c61f2ac4)</td>\n",
              "    </tr>\n",
              "    <tr>\n",
              "      <th>21</th>\n",
              "      <td>0.024540</td>\n",
              "      <td>(389d119b48cf3043d311335e499d9c6b)</td>\n",
              "    </tr>\n",
              "  </tbody>\n",
              "</table>\n",
              "</div>"
            ],
            "text/plain": [
              "     support                            itemsets\n",
              "65  0.036850  (99a4788cb24856965c36a24e339b6058)\n",
              "70  0.034009  (aca2eb7d00ea1a7b8ebd4e68314663af)\n",
              "25  0.027776  (422879e10f46682990de24d770e7f83d)\n",
              "84  0.025487  (d1c427060a0f73f6b889a5c7c61f2ac4)\n",
              "21  0.024540  (389d119b48cf3043d311335e499d9c6b)"
            ]
          },
          "metadata": {
            "tags": []
          },
          "execution_count": 134
        }
      ]
    },
    {
      "cell_type": "code",
      "metadata": {
        "id": "J_V2fczGcuf7",
        "outputId": "2cf5976c-20b6-462a-f64b-9ef71929fbfb",
        "colab": {
          "base_uri": "https://localhost:8080/",
          "height": 520
        }
      },
      "source": [
        "rules = association_rules(freq_items, metric=\"lift\", min_threshold=.1)\n",
        "rules"
      ],
      "execution_count": null,
      "outputs": [
        {
          "output_type": "execute_result",
          "data": {
            "text/html": [
              "<div>\n",
              "<style scoped>\n",
              "    .dataframe tbody tr th:only-of-type {\n",
              "        vertical-align: middle;\n",
              "    }\n",
              "\n",
              "    .dataframe tbody tr th {\n",
              "        vertical-align: top;\n",
              "    }\n",
              "\n",
              "    .dataframe thead th {\n",
              "        text-align: right;\n",
              "    }\n",
              "</style>\n",
              "<table border=\"1\" class=\"dataframe\">\n",
              "  <thead>\n",
              "    <tr style=\"text-align: right;\">\n",
              "      <th></th>\n",
              "      <th>antecedents</th>\n",
              "      <th>consequents</th>\n",
              "      <th>antecedent support</th>\n",
              "      <th>consequent support</th>\n",
              "      <th>support</th>\n",
              "      <th>confidence</th>\n",
              "      <th>lift</th>\n",
              "      <th>leverage</th>\n",
              "      <th>conviction</th>\n",
              "    </tr>\n",
              "  </thead>\n",
              "  <tbody>\n",
              "    <tr>\n",
              "      <th>0</th>\n",
              "      <td>(99a4788cb24856965c36a24e339b6058)</td>\n",
              "      <td>(35afc973633aaeb6b877ff57b2793310)</td>\n",
              "      <td>0.036850</td>\n",
              "      <td>0.012310</td>\n",
              "      <td>0.002288</td>\n",
              "      <td>0.062099</td>\n",
              "      <td>5.044707</td>\n",
              "      <td>0.001835</td>\n",
              "      <td>1.053085</td>\n",
              "    </tr>\n",
              "    <tr>\n",
              "      <th>1</th>\n",
              "      <td>(35afc973633aaeb6b877ff57b2793310)</td>\n",
              "      <td>(99a4788cb24856965c36a24e339b6058)</td>\n",
              "      <td>0.012310</td>\n",
              "      <td>0.036850</td>\n",
              "      <td>0.002288</td>\n",
              "      <td>0.185897</td>\n",
              "      <td>5.044707</td>\n",
              "      <td>0.001835</td>\n",
              "      <td>1.183082</td>\n",
              "    </tr>\n",
              "    <tr>\n",
              "      <th>2</th>\n",
              "      <td>(368c6c730842d78016ad823897a372db)</td>\n",
              "      <td>(53759a2ecddad2bb87a079a1f1519f73)</td>\n",
              "      <td>0.022962</td>\n",
              "      <td>0.022647</td>\n",
              "      <td>0.000631</td>\n",
              "      <td>0.027491</td>\n",
              "      <td>1.213932</td>\n",
              "      <td>0.000111</td>\n",
              "      <td>1.004982</td>\n",
              "    </tr>\n",
              "    <tr>\n",
              "      <th>3</th>\n",
              "      <td>(53759a2ecddad2bb87a079a1f1519f73)</td>\n",
              "      <td>(368c6c730842d78016ad823897a372db)</td>\n",
              "      <td>0.022647</td>\n",
              "      <td>0.022962</td>\n",
              "      <td>0.000631</td>\n",
              "      <td>0.027875</td>\n",
              "      <td>1.213932</td>\n",
              "      <td>0.000111</td>\n",
              "      <td>1.005053</td>\n",
              "    </tr>\n",
              "    <tr>\n",
              "      <th>4</th>\n",
              "      <td>(3f14d740544f37ece8a9e7bc8349797e)</td>\n",
              "      <td>(36f60d45225e60c7da4558b070ce4b60)</td>\n",
              "      <td>0.006392</td>\n",
              "      <td>0.008759</td>\n",
              "      <td>0.000947</td>\n",
              "      <td>0.148148</td>\n",
              "      <td>16.914248</td>\n",
              "      <td>0.000891</td>\n",
              "      <td>1.163631</td>\n",
              "    </tr>\n",
              "    <tr>\n",
              "      <th>5</th>\n",
              "      <td>(36f60d45225e60c7da4558b070ce4b60)</td>\n",
              "      <td>(3f14d740544f37ece8a9e7bc8349797e)</td>\n",
              "      <td>0.008759</td>\n",
              "      <td>0.006392</td>\n",
              "      <td>0.000947</td>\n",
              "      <td>0.108108</td>\n",
              "      <td>16.914248</td>\n",
              "      <td>0.000891</td>\n",
              "      <td>1.114046</td>\n",
              "    </tr>\n",
              "    <tr>\n",
              "      <th>6</th>\n",
              "      <td>(e53e557d5a159f5aa2c5e995dfdf244b)</td>\n",
              "      <td>(36f60d45225e60c7da4558b070ce4b60)</td>\n",
              "      <td>0.012310</td>\n",
              "      <td>0.008759</td>\n",
              "      <td>0.002683</td>\n",
              "      <td>0.217949</td>\n",
              "      <td>24.883460</td>\n",
              "      <td>0.002575</td>\n",
              "      <td>1.267489</td>\n",
              "    </tr>\n",
              "    <tr>\n",
              "      <th>7</th>\n",
              "      <td>(36f60d45225e60c7da4558b070ce4b60)</td>\n",
              "      <td>(e53e557d5a159f5aa2c5e995dfdf244b)</td>\n",
              "      <td>0.008759</td>\n",
              "      <td>0.012310</td>\n",
              "      <td>0.002683</td>\n",
              "      <td>0.306306</td>\n",
              "      <td>24.883460</td>\n",
              "      <td>0.002575</td>\n",
              "      <td>1.423813</td>\n",
              "    </tr>\n",
              "    <tr>\n",
              "      <th>8</th>\n",
              "      <td>(389d119b48cf3043d311335e499d9c6b)</td>\n",
              "      <td>(422879e10f46682990de24d770e7f83d)</td>\n",
              "      <td>0.024540</td>\n",
              "      <td>0.027776</td>\n",
              "      <td>0.000868</td>\n",
              "      <td>0.035370</td>\n",
              "      <td>1.273412</td>\n",
              "      <td>0.000186</td>\n",
              "      <td>1.007873</td>\n",
              "    </tr>\n",
              "    <tr>\n",
              "      <th>9</th>\n",
              "      <td>(422879e10f46682990de24d770e7f83d)</td>\n",
              "      <td>(389d119b48cf3043d311335e499d9c6b)</td>\n",
              "      <td>0.027776</td>\n",
              "      <td>0.024540</td>\n",
              "      <td>0.000868</td>\n",
              "      <td>0.031250</td>\n",
              "      <td>1.273412</td>\n",
              "      <td>0.000186</td>\n",
              "      <td>1.006926</td>\n",
              "    </tr>\n",
              "    <tr>\n",
              "      <th>10</th>\n",
              "      <td>(389d119b48cf3043d311335e499d9c6b)</td>\n",
              "      <td>(53759a2ecddad2bb87a079a1f1519f73)</td>\n",
              "      <td>0.024540</td>\n",
              "      <td>0.022647</td>\n",
              "      <td>0.000710</td>\n",
              "      <td>0.028939</td>\n",
              "      <td>1.277849</td>\n",
              "      <td>0.000154</td>\n",
              "      <td>1.006480</td>\n",
              "    </tr>\n",
              "    <tr>\n",
              "      <th>11</th>\n",
              "      <td>(53759a2ecddad2bb87a079a1f1519f73)</td>\n",
              "      <td>(389d119b48cf3043d311335e499d9c6b)</td>\n",
              "      <td>0.022647</td>\n",
              "      <td>0.024540</td>\n",
              "      <td>0.000710</td>\n",
              "      <td>0.031359</td>\n",
              "      <td>1.277849</td>\n",
              "      <td>0.000154</td>\n",
              "      <td>1.007039</td>\n",
              "    </tr>\n",
              "    <tr>\n",
              "      <th>12</th>\n",
              "      <td>(422879e10f46682990de24d770e7f83d)</td>\n",
              "      <td>(53759a2ecddad2bb87a079a1f1519f73)</td>\n",
              "      <td>0.027776</td>\n",
              "      <td>0.022647</td>\n",
              "      <td>0.000552</td>\n",
              "      <td>0.019886</td>\n",
              "      <td>0.878118</td>\n",
              "      <td>-0.000077</td>\n",
              "      <td>0.997184</td>\n",
              "    </tr>\n",
              "    <tr>\n",
              "      <th>13</th>\n",
              "      <td>(53759a2ecddad2bb87a079a1f1519f73)</td>\n",
              "      <td>(422879e10f46682990de24d770e7f83d)</td>\n",
              "      <td>0.022647</td>\n",
              "      <td>0.027776</td>\n",
              "      <td>0.000552</td>\n",
              "      <td>0.024390</td>\n",
              "      <td>0.878118</td>\n",
              "      <td>-0.000077</td>\n",
              "      <td>0.996530</td>\n",
              "    </tr>\n",
              "  </tbody>\n",
              "</table>\n",
              "</div>"
            ],
            "text/plain": [
              "                           antecedents  ... conviction\n",
              "0   (99a4788cb24856965c36a24e339b6058)  ...   1.053085\n",
              "1   (35afc973633aaeb6b877ff57b2793310)  ...   1.183082\n",
              "2   (368c6c730842d78016ad823897a372db)  ...   1.004982\n",
              "3   (53759a2ecddad2bb87a079a1f1519f73)  ...   1.005053\n",
              "4   (3f14d740544f37ece8a9e7bc8349797e)  ...   1.163631\n",
              "5   (36f60d45225e60c7da4558b070ce4b60)  ...   1.114046\n",
              "6   (e53e557d5a159f5aa2c5e995dfdf244b)  ...   1.267489\n",
              "7   (36f60d45225e60c7da4558b070ce4b60)  ...   1.423813\n",
              "8   (389d119b48cf3043d311335e499d9c6b)  ...   1.007873\n",
              "9   (422879e10f46682990de24d770e7f83d)  ...   1.006926\n",
              "10  (389d119b48cf3043d311335e499d9c6b)  ...   1.006480\n",
              "11  (53759a2ecddad2bb87a079a1f1519f73)  ...   1.007039\n",
              "12  (422879e10f46682990de24d770e7f83d)  ...   0.997184\n",
              "13  (53759a2ecddad2bb87a079a1f1519f73)  ...   0.996530\n",
              "\n",
              "[14 rows x 9 columns]"
            ]
          },
          "metadata": {
            "tags": []
          },
          "execution_count": 135
        }
      ]
    },
    {
      "cell_type": "markdown",
      "metadata": {
        "id": "Kgi9tNEatyZo"
      },
      "source": [
        "As you can observe, support being the number of times these transcations occur together out of the total number of transactions are kept very low. With the available data, there are limitations to the rules that we can develop."
      ]
    },
    {
      "cell_type": "markdown",
      "metadata": {
        "id": "KluE1e33w1Lq"
      },
      "source": [
        "###Sales forcasting using Recurrent Neural Networks"
      ]
    },
    {
      "cell_type": "code",
      "metadata": {
        "id": "EJaYM6S8w7GR",
        "outputId": "d2f7da39-b655-4e08-dfae-7ddaa6fca10a",
        "colab": {
          "base_uri": "https://localhost:8080/",
          "height": 68
        }
      },
      "source": [
        "order_items.columns"
      ],
      "execution_count": null,
      "outputs": [
        {
          "output_type": "execute_result",
          "data": {
            "text/plain": [
              "Index(['order_id', 'order_item_id', 'product_id', 'seller_id',\n",
              "       'shipping_limit_date', 'price', 'freight_value'],\n",
              "      dtype='object')"
            ]
          },
          "metadata": {
            "tags": []
          },
          "execution_count": 136
        }
      ]
    },
    {
      "cell_type": "code",
      "metadata": {
        "id": "os9SjUg9xSPG",
        "outputId": "9870e415-87a7-42eb-f1d1-19688b15b7a4",
        "colab": {
          "base_uri": "https://localhost:8080/",
          "height": 119
        }
      },
      "source": [
        "orders.columns"
      ],
      "execution_count": null,
      "outputs": [
        {
          "output_type": "execute_result",
          "data": {
            "text/plain": [
              "Index(['order_id', 'customer_id', 'order_status', 'order_purchase_timestamp',\n",
              "       'order_approved_at', 'order_delivered_carrier_date',\n",
              "       'order_delivered_customer_date', 'order_estimated_delivery_date',\n",
              "       'time_to_deliver', 'time_to approve', 'time_to_carrier', 'carry_time',\n",
              "       'diff_del'],\n",
              "      dtype='object')"
            ]
          },
          "metadata": {
            "tags": []
          },
          "execution_count": 137
        }
      ]
    },
    {
      "cell_type": "code",
      "metadata": {
        "id": "maOKmYz4xkby",
        "outputId": "e7877f9f-5f0b-46c8-e266-eb9da79bbad6",
        "colab": {
          "base_uri": "https://localhost:8080/",
          "height": 204
        }
      },
      "source": [
        "temp=order_items[[\"order_id\",\"price\"]]\n",
        "temp=temp.merge(right=orders, how=\"inner\", on=\"order_id\")\n",
        "temp=temp[[\"order_purchase_timestamp\",\"order_id\",\"price\"]]\n",
        "temp.head()"
      ],
      "execution_count": null,
      "outputs": [
        {
          "output_type": "execute_result",
          "data": {
            "text/html": [
              "<div>\n",
              "<style scoped>\n",
              "    .dataframe tbody tr th:only-of-type {\n",
              "        vertical-align: middle;\n",
              "    }\n",
              "\n",
              "    .dataframe tbody tr th {\n",
              "        vertical-align: top;\n",
              "    }\n",
              "\n",
              "    .dataframe thead th {\n",
              "        text-align: right;\n",
              "    }\n",
              "</style>\n",
              "<table border=\"1\" class=\"dataframe\">\n",
              "  <thead>\n",
              "    <tr style=\"text-align: right;\">\n",
              "      <th></th>\n",
              "      <th>order_purchase_timestamp</th>\n",
              "      <th>order_id</th>\n",
              "      <th>price</th>\n",
              "    </tr>\n",
              "  </thead>\n",
              "  <tbody>\n",
              "    <tr>\n",
              "      <th>0</th>\n",
              "      <td>2017-09-13</td>\n",
              "      <td>00010242fe8c5a6d1ba2dd792cb16214</td>\n",
              "      <td>58.90</td>\n",
              "    </tr>\n",
              "    <tr>\n",
              "      <th>1</th>\n",
              "      <td>2017-04-26</td>\n",
              "      <td>00018f77f2f0320c557190d7a144bdd3</td>\n",
              "      <td>239.90</td>\n",
              "    </tr>\n",
              "    <tr>\n",
              "      <th>2</th>\n",
              "      <td>2018-01-14</td>\n",
              "      <td>000229ec398224ef6ca0657da4fc703e</td>\n",
              "      <td>199.00</td>\n",
              "    </tr>\n",
              "    <tr>\n",
              "      <th>3</th>\n",
              "      <td>2018-08-08</td>\n",
              "      <td>00024acbcdf0a6daa1e931b038114c75</td>\n",
              "      <td>12.99</td>\n",
              "    </tr>\n",
              "    <tr>\n",
              "      <th>4</th>\n",
              "      <td>2017-02-04</td>\n",
              "      <td>00042b26cf59d7ce69dfabb4e55b4fd9</td>\n",
              "      <td>199.90</td>\n",
              "    </tr>\n",
              "  </tbody>\n",
              "</table>\n",
              "</div>"
            ],
            "text/plain": [
              "  order_purchase_timestamp                          order_id   price\n",
              "0               2017-09-13  00010242fe8c5a6d1ba2dd792cb16214   58.90\n",
              "1               2017-04-26  00018f77f2f0320c557190d7a144bdd3  239.90\n",
              "2               2018-01-14  000229ec398224ef6ca0657da4fc703e  199.00\n",
              "3               2018-08-08  00024acbcdf0a6daa1e931b038114c75   12.99\n",
              "4               2017-02-04  00042b26cf59d7ce69dfabb4e55b4fd9  199.90"
            ]
          },
          "metadata": {
            "tags": []
          },
          "execution_count": 138
        }
      ]
    },
    {
      "cell_type": "code",
      "metadata": {
        "id": "2wXfgopYySsj",
        "outputId": "eb87c39b-dc50-402c-a6d9-66c687c810fa",
        "colab": {
          "base_uri": "https://localhost:8080/",
          "height": 397
        }
      },
      "source": [
        "grp=temp.groupby(\"order_purchase_timestamp\")[\"price\"].sum().reset_index().sort_values(by=\"price\",ascending=False)\n",
        "grp.plot(x=\"order_purchase_timestamp\",y=\"price\", figsize=(15,6))"
      ],
      "execution_count": null,
      "outputs": [
        {
          "output_type": "execute_result",
          "data": {
            "text/plain": [
              "<matplotlib.axes._subplots.AxesSubplot at 0x7efcc5d56e10>"
            ]
          },
          "metadata": {
            "tags": []
          },
          "execution_count": 139
        },
        {
          "output_type": "display_data",
          "data": {
            "image/png": "[encoded data removed]",
            "text/plain": [
              "<Figure size 1080x432 with 1 Axes>"
            ]
          },
          "metadata": {
            "tags": [],
            "needs_background": "light"
          }
        }
      ]
    },
    {
      "cell_type": "markdown",
      "metadata": {
        "id": "mWNMW5gLzrEJ"
      },
      "source": [
        "So, I am planning to train the neural network from March 2017 to March 2018 and then predict the sales for the month of April 2018"
      ]
    },
    {
      "cell_type": "code",
      "metadata": {
        "id": "c4rzC0ep0kCa",
        "outputId": "a18a8245-a7cd-4a47-a653-33d751685624",
        "colab": {
          "base_uri": "https://localhost:8080/",
          "height": 34
        }
      },
      "source": [
        "#Preparing Training data\n",
        "start=pd.to_datetime(\"2017-03-01\")\n",
        "end=pd.to_datetime(\"2018-04-30\")\n",
        "\n",
        "mask = (grp['order_purchase_timestamp'] > start) & (grp['order_purchase_timestamp'] <= end)\n",
        "training_data=grp.loc[mask]\n",
        "training_data.shape"
      ],
      "execution_count": null,
      "outputs": [
        {
          "output_type": "execute_result",
          "data": {
            "text/plain": [
              "(425, 2)"
            ]
          },
          "metadata": {
            "tags": []
          },
          "execution_count": 140
        }
      ]
    },
    {
      "cell_type": "code",
      "metadata": {
        "id": "fq7E_-821B63",
        "outputId": "31902c5a-2cdc-45df-c753-70e9e442145f",
        "colab": {
          "base_uri": "https://localhost:8080/",
          "height": 34
        }
      },
      "source": [
        "#Preparing Test data\n",
        "start=pd.to_datetime(\"2018-05-01\")\n",
        "end=pd.to_datetime(\"2018-05-31\")\n",
        "\n",
        "mask = (grp['order_purchase_timestamp'] > start) & (grp['order_purchase_timestamp'] <= end)\n",
        "test_data=grp.loc[mask]\n",
        "test_data.shape"
      ],
      "execution_count": null,
      "outputs": [
        {
          "output_type": "execute_result",
          "data": {
            "text/plain": [
              "(30, 2)"
            ]
          },
          "metadata": {
            "tags": []
          },
          "execution_count": 141
        }
      ]
    },
    {
      "cell_type": "code",
      "metadata": {
        "id": "Nfga6HAL1qvl"
      },
      "source": [
        "training_set=training_data.iloc[:,1:2].values"
      ],
      "execution_count": null,
      "outputs": []
    },
    {
      "cell_type": "code",
      "metadata": {
        "id": "oioxsuAl4JZy"
      },
      "source": [
        "#Feature scaling\n",
        "\n",
        "from sklearn.preprocessing import MinMaxScaler\n",
        "sc = MinMaxScaler(feature_range = (0, 1))\n",
        "training_set_scaled = sc.fit_transform(training_set)"
      ],
      "execution_count": null,
      "outputs": []
    },
    {
      "cell_type": "code",
      "metadata": {
        "id": "vW0k1oCF41_1"
      },
      "source": [
        "#Creating data structure with 10 timesteps and one output\n",
        "\n",
        "X_train = [] # list containing all the previous 60 net sales values\n",
        "y_train = []\n",
        "for i in range(10, 425):\n",
        "    X_train.append(training_set_scaled[i-10:i, 0])\n",
        "    y_train.append(training_set_scaled[i, 0])\n",
        "\n",
        "#We are converting the X_train and y_train into numpy arrays\n",
        "X_train, y_train = np.array(X_train), np.array(y_train)"
      ],
      "execution_count": null,
      "outputs": []
    },
    {
      "cell_type": "code",
      "metadata": {
        "id": "H3zsr-7p5Lm2"
      },
      "source": [
        "#reshaping to create the 3D structure expected by the neural network\n",
        "\n",
        "X_train = np.reshape(X_train, (X_train.shape[0], X_train.shape[1], 1))"
      ],
      "execution_count": null,
      "outputs": []
    },
    {
      "cell_type": "code",
      "metadata": {
        "id": "3FkzThMO5f3a"
      },
      "source": [
        "#initializing RNN\n",
        "regressor = Sequential() #regressor represents a sequence of layers"
      ],
      "execution_count": null,
      "outputs": []
    },
    {
      "cell_type": "code",
      "metadata": {
        "id": "wTcmToII5zbi"
      },
      "source": [
        "#Adding first LSTM Model\n",
        "regressor.add(LSTM(units = 50, return_sequences = True, input_shape = (X_train.shape[1], 1)))\n",
        "#units represent the number of LSTM cells or units we want to have in this LSTM layer\n",
        "#We chose a large number as the number of neurons to increase the dimensionality\n",
        "#return sequence is supposed to be true if we are adding additional layers of LSTM\n",
        "\n",
        "regressor.add(Dropout(0.2))\n",
        "#Dropout rate is the rate of neurons you want to drop or ignore in the layers. The classic number is .20\n",
        "#During each iteration of the training 20% of the neuron will be dropped out"
      ],
      "execution_count": null,
      "outputs": []
    },
    {
      "cell_type": "code",
      "metadata": {
        "id": "Md_gVWKq6KiL"
      },
      "source": [
        "#Adding additional layers of LSTM\n",
        "\n",
        "regressor.add(LSTM(units = 50, return_sequences = True))\n",
        "regressor.add(Dropout(0.2))\n",
        "regressor.add(LSTM(units = 50, return_sequences = True))\n",
        "regressor.add(Dropout(0.2))\n",
        "regressor.add(LSTM(units = 50))\n",
        "regressor.add(Dropout(0.2))\n",
        "\n",
        "#so, in total we have 4 layers of LSTM\n",
        "\n",
        "#Adding the output layer\n",
        "\n",
        "regressor.add(Dense(units = 1))"
      ],
      "execution_count": null,
      "outputs": []
    },
    {
      "cell_type": "code",
      "metadata": {
        "id": "vmVUq6YR6mwu"
      },
      "source": [
        "#compiling the RNN\n",
        "\n",
        "regressor.compile(optimizer = 'adam', loss = 'mean_squared_error')"
      ],
      "execution_count": null,
      "outputs": []
    },
    {
      "cell_type": "code",
      "metadata": {
        "id": "hTqzJjEZ6uKR",
        "outputId": "31bb799f-8f04-4346-9bda-2b9bc8f6c1b1",
        "colab": {
          "base_uri": "https://localhost:8080/",
          "height": 1000
        }
      },
      "source": [
        "#Fitting RNN to the training set\n",
        "\n",
        "regressor.fit(X_train, y_train, epochs = 100, batch_size = 32)\n",
        "#epoch is the number of times the data is forward propagated and readjusted for weights"
      ],
      "execution_count": null,
      "outputs": [
        {
          "output_type": "stream",
          "text": [
            "Epoch 1/100\n",
            "415/415 [==============================] - 2s 4ms/step - loss: 0.0057\n",
            "Epoch 2/100\n",
            "415/415 [==============================] - 0s 851us/step - loss: 0.0024\n",
            "Epoch 3/100\n",
            "415/415 [==============================] - 0s 879us/step - loss: 7.4333e-04\n",
            "Epoch 4/100\n",
            "415/415 [==============================] - 0s 877us/step - loss: 4.0305e-04\n",
            "Epoch 5/100\n",
            "415/415 [==============================] - 0s 870us/step - loss: 2.6319e-04\n",
            "Epoch 6/100\n",
            "415/415 [==============================] - 0s 870us/step - loss: 3.1978e-04\n",
            "Epoch 7/100\n",
            "415/415 [==============================] - 0s 852us/step - loss: 2.5240e-04\n",
            "Epoch 8/100\n",
            "415/415 [==============================] - 0s 916us/step - loss: 2.8261e-04\n",
            "Epoch 9/100\n",
            "415/415 [==============================] - 0s 878us/step - loss: 3.0777e-04\n",
            "Epoch 10/100\n",
            "415/415 [==============================] - 0s 846us/step - loss: 2.0408e-04\n",
            "Epoch 11/100\n",
            "415/415 [==============================] - 0s 869us/step - loss: 2.4839e-04\n",
            "Epoch 12/100\n",
            "415/415 [==============================] - 0s 885us/step - loss: 1.9704e-04\n",
            "Epoch 13/100\n",
            "415/415 [==============================] - 0s 842us/step - loss: 1.5351e-04\n",
            "Epoch 14/100\n",
            "415/415 [==============================] - 0s 867us/step - loss: 1.5285e-04\n",
            "Epoch 15/100\n",
            "415/415 [==============================] - 0s 885us/step - loss: 1.5663e-04\n",
            "Epoch 16/100\n",
            "415/415 [==============================] - 0s 829us/step - loss: 1.7721e-04\n",
            "Epoch 17/100\n",
            "415/415 [==============================] - 0s 881us/step - loss: 1.7448e-04\n",
            "Epoch 18/100\n",
            "415/415 [==============================] - 0s 865us/step - loss: 1.6739e-04\n",
            "Epoch 19/100\n",
            "415/415 [==============================] - 0s 865us/step - loss: 1.6170e-04\n",
            "Epoch 20/100\n",
            "415/415 [==============================] - 0s 902us/step - loss: 1.2270e-04\n",
            "Epoch 21/100\n",
            "415/415 [==============================] - 0s 876us/step - loss: 1.6146e-04\n",
            "Epoch 22/100\n",
            "415/415 [==============================] - 0s 871us/step - loss: 1.2777e-04\n",
            "Epoch 23/100\n",
            "415/415 [==============================] - 0s 888us/step - loss: 1.1234e-04\n",
            "Epoch 24/100\n",
            "415/415 [==============================] - 0s 877us/step - loss: 1.4975e-04\n",
            "Epoch 25/100\n",
            "415/415 [==============================] - 0s 860us/step - loss: 1.6188e-04\n",
            "Epoch 26/100\n",
            "415/415 [==============================] - 0s 872us/step - loss: 1.5715e-04\n",
            "Epoch 27/100\n",
            "415/415 [==============================] - 0s 858us/step - loss: 1.3725e-04\n",
            "Epoch 28/100\n",
            "415/415 [==============================] - 0s 878us/step - loss: 1.4243e-04\n",
            "Epoch 29/100\n",
            "415/415 [==============================] - 0s 851us/step - loss: 9.8308e-05\n",
            "Epoch 30/100\n",
            "415/415 [==============================] - 0s 877us/step - loss: 1.1564e-04\n",
            "Epoch 31/100\n",
            "415/415 [==============================] - 0s 889us/step - loss: 1.2770e-04\n",
            "Epoch 32/100\n",
            "415/415 [==============================] - 0s 867us/step - loss: 1.1163e-04\n",
            "Epoch 33/100\n",
            "415/415 [==============================] - 0s 854us/step - loss: 1.1946e-04\n",
            "Epoch 34/100\n",
            "415/415 [==============================] - 0s 907us/step - loss: 1.2812e-04\n",
            "Epoch 35/100\n",
            "415/415 [==============================] - 0s 878us/step - loss: 1.2270e-04\n",
            "Epoch 36/100\n",
            "415/415 [==============================] - 0s 936us/step - loss: 1.6441e-04\n",
            "Epoch 37/100\n",
            "415/415 [==============================] - 0s 874us/step - loss: 1.0031e-04\n",
            "Epoch 38/100\n",
            "415/415 [==============================] - 0s 865us/step - loss: 1.2310e-04\n",
            "Epoch 39/100\n",
            "415/415 [==============================] - 0s 877us/step - loss: 1.2019e-04\n",
            "Epoch 40/100\n",
            "415/415 [==============================] - 0s 914us/step - loss: 1.4295e-04\n",
            "Epoch 41/100\n",
            "415/415 [==============================] - 0s 883us/step - loss: 1.3875e-04\n",
            "Epoch 42/100\n",
            "415/415 [==============================] - 0s 916us/step - loss: 1.1965e-04\n",
            "Epoch 43/100\n",
            "415/415 [==============================] - 0s 862us/step - loss: 9.5498e-05\n",
            "Epoch 44/100\n",
            "415/415 [==============================] - 0s 863us/step - loss: 1.3102e-04\n",
            "Epoch 45/100\n",
            "415/415 [==============================] - 0s 873us/step - loss: 1.2116e-04\n",
            "Epoch 46/100\n",
            "415/415 [==============================] - 0s 878us/step - loss: 9.9488e-05\n",
            "Epoch 47/100\n",
            "415/415 [==============================] - 0s 866us/step - loss: 1.1311e-04\n",
            "Epoch 48/100\n",
            "415/415 [==============================] - 0s 870us/step - loss: 1.0671e-04\n",
            "Epoch 49/100\n",
            "415/415 [==============================] - 0s 852us/step - loss: 9.2068e-05\n",
            "Epoch 50/100\n",
            "415/415 [==============================] - 0s 857us/step - loss: 9.3949e-05\n",
            "Epoch 51/100\n",
            "415/415 [==============================] - 0s 881us/step - loss: 8.0912e-05\n",
            "Epoch 52/100\n",
            "415/415 [==============================] - 0s 857us/step - loss: 9.7870e-05\n",
            "Epoch 53/100\n",
            "415/415 [==============================] - 0s 886us/step - loss: 9.4381e-05\n",
            "Epoch 54/100\n",
            "415/415 [==============================] - 0s 868us/step - loss: 7.0353e-05\n",
            "Epoch 55/100\n",
            "415/415 [==============================] - 0s 852us/step - loss: 9.5795e-05\n",
            "Epoch 56/100\n",
            "415/415 [==============================] - 0s 887us/step - loss: 1.0374e-04\n",
            "Epoch 57/100\n",
            "415/415 [==============================] - 0s 864us/step - loss: 6.8035e-05\n",
            "Epoch 58/100\n",
            "415/415 [==============================] - 0s 906us/step - loss: 6.8315e-05\n",
            "Epoch 59/100\n",
            "415/415 [==============================] - 0s 926us/step - loss: 9.4717e-05\n",
            "Epoch 60/100\n",
            "415/415 [==============================] - 0s 902us/step - loss: 1.1873e-04\n",
            "Epoch 61/100\n",
            "415/415 [==============================] - 0s 879us/step - loss: 1.1549e-04\n",
            "Epoch 62/100\n",
            "415/415 [==============================] - 0s 891us/step - loss: 8.4431e-05\n",
            "Epoch 63/100\n",
            "415/415 [==============================] - 0s 887us/step - loss: 8.4285e-05\n",
            "Epoch 64/100\n",
            "415/415 [==============================] - 0s 980us/step - loss: 8.6226e-05\n",
            "Epoch 65/100\n",
            "415/415 [==============================] - 0s 880us/step - loss: 7.9204e-05\n",
            "Epoch 66/100\n",
            "415/415 [==============================] - 0s 870us/step - loss: 6.5161e-05\n",
            "Epoch 67/100\n",
            "415/415 [==============================] - 0s 883us/step - loss: 8.5854e-05\n",
            "Epoch 68/100\n",
            "415/415 [==============================] - 0s 853us/step - loss: 8.7349e-05\n",
            "Epoch 69/100\n",
            "415/415 [==============================] - 0s 838us/step - loss: 7.6938e-05\n",
            "Epoch 70/100\n",
            "415/415 [==============================] - 0s 904us/step - loss: 8.5940e-05\n",
            "Epoch 71/100\n",
            "415/415 [==============================] - 0s 841us/step - loss: 8.0284e-05\n",
            "Epoch 72/100\n",
            "415/415 [==============================] - 0s 868us/step - loss: 7.9395e-05\n",
            "Epoch 73/100\n",
            "415/415 [==============================] - 0s 862us/step - loss: 1.1065e-04\n",
            "Epoch 74/100\n",
            "415/415 [==============================] - 0s 871us/step - loss: 8.8954e-05\n",
            "Epoch 75/100\n",
            "415/415 [==============================] - 0s 855us/step - loss: 6.5202e-05\n",
            "Epoch 76/100\n",
            "415/415 [==============================] - 0s 909us/step - loss: 6.9624e-05\n",
            "Epoch 77/100\n",
            "415/415 [==============================] - 0s 901us/step - loss: 8.1556e-05\n",
            "Epoch 78/100\n",
            "415/415 [==============================] - 0s 875us/step - loss: 7.5941e-05\n",
            "Epoch 79/100\n",
            "415/415 [==============================] - 0s 881us/step - loss: 6.9166e-05\n",
            "Epoch 80/100\n",
            "415/415 [==============================] - 0s 886us/step - loss: 5.9536e-05\n",
            "Epoch 81/100\n",
            "415/415 [==============================] - 0s 867us/step - loss: 6.7689e-05\n",
            "Epoch 82/100\n",
            "415/415 [==============================] - 0s 851us/step - loss: 8.1997e-05\n",
            "Epoch 83/100\n",
            "415/415 [==============================] - 0s 889us/step - loss: 6.8778e-05\n",
            "Epoch 84/100\n",
            "415/415 [==============================] - 0s 856us/step - loss: 7.8810e-05\n",
            "Epoch 85/100\n",
            "415/415 [==============================] - 0s 867us/step - loss: 9.9876e-05\n",
            "Epoch 86/100\n",
            "415/415 [==============================] - 0s 860us/step - loss: 1.0758e-04\n",
            "Epoch 87/100\n",
            "415/415 [==============================] - 0s 866us/step - loss: 6.3852e-05\n",
            "Epoch 88/100\n",
            "415/415 [==============================] - 0s 844us/step - loss: 6.6111e-05\n",
            "Epoch 89/100\n",
            "415/415 [==============================] - 0s 863us/step - loss: 7.3244e-05\n",
            "Epoch 90/100\n",
            "415/415 [==============================] - 0s 842us/step - loss: 7.2261e-05\n",
            "Epoch 91/100\n",
            "415/415 [==============================] - 0s 865us/step - loss: 7.3587e-05\n",
            "Epoch 92/100\n",
            "415/415 [==============================] - 0s 878us/step - loss: 5.0665e-05\n",
            "Epoch 93/100\n",
            "415/415 [==============================] - 0s 912us/step - loss: 5.8848e-05\n",
            "Epoch 94/100\n",
            "415/415 [==============================] - 0s 858us/step - loss: 5.8410e-05\n",
            "Epoch 95/100\n",
            "415/415 [==============================] - 0s 837us/step - loss: 5.9468e-05\n",
            "Epoch 96/100\n",
            "415/415 [==============================] - 0s 860us/step - loss: 5.6001e-05\n",
            "Epoch 97/100\n",
            "415/415 [==============================] - 0s 841us/step - loss: 6.6731e-05\n",
            "Epoch 98/100\n",
            "415/415 [==============================] - 0s 860us/step - loss: 5.8278e-05\n",
            "Epoch 99/100\n",
            "415/415 [==============================] - 0s 855us/step - loss: 6.4611e-05\n",
            "Epoch 100/100\n",
            "415/415 [==============================] - 0s 847us/step - loss: 6.5438e-05\n"
          ],
          "name": "stdout"
        },
        {
          "output_type": "execute_result",
          "data": {
            "text/plain": [
              "<keras.callbacks.callbacks.History at 0x7efcbe6a7fd0>"
            ]
          },
          "metadata": {
            "tags": []
          },
          "execution_count": 150
        }
      ]
    },
    {
      "cell_type": "code",
      "metadata": {
        "id": "9aQOa92G7iiu"
      },
      "source": [
        "#Making predictions and visualizing results\n",
        "\n",
        "testing_set=test_data.iloc[:,1:2].values"
      ],
      "execution_count": null,
      "outputs": []
    },
    {
      "cell_type": "code",
      "metadata": {
        "id": "Qs1Kt2Im8IKh"
      },
      "source": [
        "#getting the real sales value for may 2018\n",
        "\n",
        "dataset_total = pd.concat((training_data['price'], test_data['price']), axis = 0)\n",
        "inputs = dataset_total[len(dataset_total) - len(test_data) - 10:].values\n",
        "inputs = inputs.reshape(-1,1)\n",
        "inputs = sc.transform(inputs)\n",
        "X_test = []\n",
        "for i in range(10, 40):\n",
        "    X_test.append(inputs[i-10:i, 0])\n",
        "X_test = np.array(X_test)\n",
        "X_test = np.reshape(X_test, (X_test.shape[0], X_test.shape[1], 1))\n",
        "predicted_sales_values = regressor.predict(X_test)\n",
        "predicted_sales_values = sc.inverse_transform(predicted_sales_values)"
      ],
      "execution_count": null,
      "outputs": []
    },
    {
      "cell_type": "code",
      "metadata": {
        "id": "GSff349a9aTY",
        "outputId": "dd4fcfcd-d428-485e-8126-0fffb33759ec",
        "colab": {
          "base_uri": "https://localhost:8080/",
          "height": 295
        }
      },
      "source": [
        "#visualizing predictions\n",
        "\n",
        "plt.plot(testing_set, color = 'red', label = 'Real Sales Generated')\n",
        "plt.plot(predicted_sales_values, color = 'blue', label = 'Predicted Sales')\n",
        "plt.title('Olist Sales prediction for May 2018')\n",
        "plt.xlabel('Time')\n",
        "plt.ylabel('Sales Generated')\n",
        "plt.legend()\n",
        "plt.show()"
      ],
      "execution_count": null,
      "outputs": [
        {
          "output_type": "display_data",
          "data": {
            "image/png": "[encoded data removed]",
            "text/plain": [
              "<Figure size 432x288 with 1 Axes>"
            ]
          },
          "metadata": {
            "tags": [],
            "needs_background": "light"
          }
        }
      ]
    },
    {
      "cell_type": "code",
      "metadata": {
        "id": "Aik1UM0oECt4",
        "outputId": "8fa5978e-ef63-4624-ca1b-cf4e023e0d3f",
        "colab": {
          "base_uri": "https://localhost:8080/",
          "height": 1000
        }
      },
      "source": [
        "#Trying for 30 timesteps\n",
        "\n",
        "#Preparing Training data\n",
        "start=pd.to_datetime(\"2017-03-01\")\n",
        "end=pd.to_datetime(\"2018-04-30\")\n",
        "mask = (grp['order_purchase_timestamp'] > start) & (grp['order_purchase_timestamp'] <= end)\n",
        "training_data=grp.loc[mask]\n",
        "\n",
        "#Preparing Test data\n",
        "start=pd.to_datetime(\"2018-05-01\")\n",
        "end=pd.to_datetime(\"2018-05-31\")\n",
        "mask = (grp['order_purchase_timestamp'] > start) & (grp['order_purchase_timestamp'] <= end)\n",
        "test_data=grp.loc[mask]\n",
        "\n",
        "training_set=training_data.iloc[:,1:2].values\n",
        "\n",
        "#Feature scaling\n",
        "from sklearn.preprocessing import MinMaxScaler\n",
        "sc = MinMaxScaler(feature_range = (0, 1))\n",
        "training_set_scaled = sc.fit_transform(training_set)\n",
        "\n",
        "#Creating data structure with 60 timesteps and one output\n",
        "X_train = [] # list containing all the previous 60 net sales values\n",
        "y_train = []\n",
        "for i in range(30, 60):\n",
        "    X_train.append(training_set_scaled[i-30:i, 0])\n",
        "    y_train.append(training_set_scaled[i, 0])\n",
        "\n",
        "#We are converting the X_train and y_train into numpy arrays\n",
        "X_train, y_train = np.array(X_train), np.array(y_train)\n",
        "\n",
        "#reshaping to create the 3D structure expected by the neural network\n",
        "X_train = np.reshape(X_train, (X_train.shape[0], X_train.shape[1], 1))\n",
        "\n",
        "#initializing RNN\n",
        "regressor = Sequential() #regressor represents a sequence of layers\n",
        "regressor.add(LSTM(units = 50, return_sequences = True, input_shape = (X_train.shape[1], 1)))\n",
        "regressor.add(Dropout(0.2))\n",
        "regressor.add(LSTM(units = 50, return_sequences = True))\n",
        "regressor.add(Dropout(0.2))\n",
        "regressor.add(LSTM(units = 50, return_sequences = True))\n",
        "regressor.add(Dropout(0.2))\n",
        "regressor.add(LSTM(units = 50))\n",
        "regressor.add(Dropout(0.2))\n",
        "regressor.add(Dense(units = 1))\n",
        "regressor.compile(optimizer = 'adam', loss = 'mean_squared_error')\n",
        "regressor.fit(X_train, y_train, epochs = 100, batch_size = 32)\n",
        "\n",
        "testing_set=test_data.iloc[:,1:2].values\n",
        "dataset_total = pd.concat((training_data['price'], test_data['price']), axis = 0)\n",
        "inputs = dataset_total[len(dataset_total) - len(test_data) - 30:].values\n",
        "inputs = inputs.reshape(-1,1)\n",
        "inputs = sc.transform(inputs)\n",
        "X_test = []\n",
        "for i in range(30, 60):\n",
        "    X_test.append(inputs[i-30:i, 0])\n",
        "X_test = np.array(X_test)\n",
        "X_test = np.reshape(X_test, (X_test.shape[0], X_test.shape[1], 1))\n",
        "predicted_sales_values = regressor.predict(X_test)\n",
        "predicted_sales_values = sc.inverse_transform(predicted_sales_values)\n",
        "\n",
        "#visualizing predictions\n",
        "plt.plot(testing_set, color = 'red', label = 'Real Sales Generated')\n",
        "plt.plot(predicted_sales_values, color = 'blue', label = 'Predicted Sales')\n",
        "plt.title('Olist Sales prediction for May 2018')\n",
        "plt.xlabel('Time')\n",
        "plt.ylabel('Sales Generated')\n",
        "plt.legend()\n",
        "plt.show()"
      ],
      "execution_count": null,
      "outputs": [
        {
          "output_type": "stream",
          "text": [
            "Epoch 1/100\n",
            "30/30 [==============================] - 2s 53ms/step - loss: 0.0402\n",
            "Epoch 2/100\n",
            "30/30 [==============================] - 0s 2ms/step - loss: 0.0250\n",
            "Epoch 3/100\n",
            "30/30 [==============================] - 0s 2ms/step - loss: 0.0128\n",
            "Epoch 4/100\n",
            "30/30 [==============================] - 0s 2ms/step - loss: 0.0027\n",
            "Epoch 5/100\n",
            "30/30 [==============================] - 0s 2ms/step - loss: 0.0016\n",
            "Epoch 6/100\n",
            "30/30 [==============================] - 0s 3ms/step - loss: 0.0084\n",
            "Epoch 7/100\n",
            "30/30 [==============================] - 0s 2ms/step - loss: 0.0061\n",
            "Epoch 8/100\n",
            "30/30 [==============================] - 0s 2ms/step - loss: 0.0024\n",
            "Epoch 9/100\n",
            "30/30 [==============================] - 0s 2ms/step - loss: 7.5618e-04\n",
            "Epoch 10/100\n",
            "30/30 [==============================] - 0s 3ms/step - loss: 0.0011\n",
            "Epoch 11/100\n",
            "30/30 [==============================] - 0s 2ms/step - loss: 0.0020\n",
            "Epoch 12/100\n",
            "30/30 [==============================] - 0s 2ms/step - loss: 0.0027\n",
            "Epoch 13/100\n",
            "30/30 [==============================] - 0s 2ms/step - loss: 0.0028\n",
            "Epoch 14/100\n",
            "30/30 [==============================] - 0s 2ms/step - loss: 0.0026\n",
            "Epoch 15/100\n",
            "30/30 [==============================] - 0s 3ms/step - loss: 0.0016\n",
            "Epoch 16/100\n",
            "30/30 [==============================] - 0s 2ms/step - loss: 7.4889e-04\n",
            "Epoch 17/100\n",
            "30/30 [==============================] - 0s 2ms/step - loss: 3.5660e-04\n",
            "Epoch 18/100\n",
            "30/30 [==============================] - 0s 3ms/step - loss: 6.8465e-04\n",
            "Epoch 19/100\n",
            "30/30 [==============================] - 0s 2ms/step - loss: 0.0010\n",
            "Epoch 20/100\n",
            "30/30 [==============================] - 0s 2ms/step - loss: 9.1281e-04\n",
            "Epoch 21/100\n",
            "30/30 [==============================] - 0s 2ms/step - loss: 0.0018\n",
            "Epoch 22/100\n",
            "30/30 [==============================] - 0s 2ms/step - loss: 9.3216e-04\n",
            "Epoch 23/100\n",
            "30/30 [==============================] - 0s 2ms/step - loss: 7.3321e-04\n",
            "Epoch 24/100\n",
            "30/30 [==============================] - 0s 2ms/step - loss: 6.9330e-04\n",
            "Epoch 25/100\n",
            "30/30 [==============================] - 0s 2ms/step - loss: 6.7199e-04\n",
            "Epoch 26/100\n",
            "30/30 [==============================] - 0s 2ms/step - loss: 5.7655e-04\n",
            "Epoch 27/100\n",
            "30/30 [==============================] - 0s 3ms/step - loss: 7.3995e-04\n",
            "Epoch 28/100\n",
            "30/30 [==============================] - 0s 3ms/step - loss: 6.1532e-04\n",
            "Epoch 29/100\n",
            "30/30 [==============================] - 0s 2ms/step - loss: 8.7148e-04\n",
            "Epoch 30/100\n",
            "30/30 [==============================] - 0s 2ms/step - loss: 8.1702e-04\n",
            "Epoch 31/100\n",
            "30/30 [==============================] - 0s 2ms/step - loss: 4.7746e-04\n",
            "Epoch 32/100\n",
            "30/30 [==============================] - 0s 3ms/step - loss: 3.9105e-04\n",
            "Epoch 33/100\n",
            "30/30 [==============================] - 0s 3ms/step - loss: 7.6807e-04\n",
            "Epoch 34/100\n",
            "30/30 [==============================] - 0s 3ms/step - loss: 5.9395e-04\n",
            "Epoch 35/100\n",
            "30/30 [==============================] - 0s 3ms/step - loss: 4.4897e-04\n",
            "Epoch 36/100\n",
            "30/30 [==============================] - 0s 2ms/step - loss: 3.8068e-04\n",
            "Epoch 37/100\n",
            "30/30 [==============================] - 0s 2ms/step - loss: 4.1749e-04\n",
            "Epoch 38/100\n",
            "30/30 [==============================] - 0s 2ms/step - loss: 6.9160e-04\n",
            "Epoch 39/100\n",
            "30/30 [==============================] - 0s 2ms/step - loss: 4.0045e-04\n",
            "Epoch 40/100\n",
            "30/30 [==============================] - 0s 3ms/step - loss: 3.4771e-04\n",
            "Epoch 41/100\n",
            "30/30 [==============================] - 0s 2ms/step - loss: 3.2827e-04\n",
            "Epoch 42/100\n",
            "30/30 [==============================] - 0s 2ms/step - loss: 3.9320e-04\n",
            "Epoch 43/100\n",
            "30/30 [==============================] - 0s 2ms/step - loss: 3.5466e-04\n",
            "Epoch 44/100\n",
            "30/30 [==============================] - 0s 2ms/step - loss: 5.7275e-04\n",
            "Epoch 45/100\n",
            "30/30 [==============================] - 0s 3ms/step - loss: 3.0949e-04\n",
            "Epoch 46/100\n",
            "30/30 [==============================] - 0s 3ms/step - loss: 6.8929e-04\n",
            "Epoch 47/100\n",
            "30/30 [==============================] - 0s 2ms/step - loss: 4.1186e-04\n",
            "Epoch 48/100\n",
            "30/30 [==============================] - 0s 2ms/step - loss: 4.0553e-04\n",
            "Epoch 49/100\n",
            "30/30 [==============================] - 0s 2ms/step - loss: 3.6858e-04\n",
            "Epoch 50/100\n",
            "30/30 [==============================] - 0s 2ms/step - loss: 3.8280e-04\n",
            "Epoch 51/100\n",
            "30/30 [==============================] - 0s 3ms/step - loss: 1.6837e-04\n",
            "Epoch 52/100\n",
            "30/30 [==============================] - 0s 2ms/step - loss: 4.6451e-04\n",
            "Epoch 53/100\n",
            "30/30 [==============================] - 0s 2ms/step - loss: 4.7158e-04\n",
            "Epoch 54/100\n",
            "30/30 [==============================] - 0s 3ms/step - loss: 3.7635e-04\n",
            "Epoch 55/100\n",
            "30/30 [==============================] - 0s 3ms/step - loss: 3.8471e-04\n",
            "Epoch 56/100\n",
            "30/30 [==============================] - 0s 2ms/step - loss: 3.8631e-04\n",
            "Epoch 57/100\n",
            "30/30 [==============================] - 0s 2ms/step - loss: 3.0584e-04\n",
            "Epoch 58/100\n",
            "30/30 [==============================] - 0s 3ms/step - loss: 4.0192e-04\n",
            "Epoch 59/100\n",
            "30/30 [==============================] - 0s 2ms/step - loss: 3.3889e-04\n",
            "Epoch 60/100\n",
            "30/30 [==============================] - 0s 2ms/step - loss: 3.3009e-04\n",
            "Epoch 61/100\n",
            "30/30 [==============================] - 0s 2ms/step - loss: 3.6940e-04\n",
            "Epoch 62/100\n",
            "30/30 [==============================] - 0s 2ms/step - loss: 4.5102e-04\n",
            "Epoch 63/100\n",
            "30/30 [==============================] - 0s 2ms/step - loss: 6.8787e-04\n",
            "Epoch 64/100\n",
            "30/30 [==============================] - 0s 2ms/step - loss: 4.9067e-04\n",
            "Epoch 65/100\n",
            "30/30 [==============================] - 0s 2ms/step - loss: 3.8739e-04\n",
            "Epoch 66/100\n",
            "30/30 [==============================] - 0s 2ms/step - loss: 4.2229e-04\n",
            "Epoch 67/100\n",
            "30/30 [==============================] - 0s 3ms/step - loss: 3.0966e-04\n",
            "Epoch 68/100\n",
            "30/30 [==============================] - 0s 3ms/step - loss: 3.2315e-04\n",
            "Epoch 69/100\n",
            "30/30 [==============================] - 0s 2ms/step - loss: 4.4442e-04\n",
            "Epoch 70/100\n",
            "30/30 [==============================] - 0s 2ms/step - loss: 2.4548e-04\n",
            "Epoch 71/100\n",
            "30/30 [==============================] - 0s 2ms/step - loss: 1.7960e-04\n",
            "Epoch 72/100\n",
            "30/30 [==============================] - 0s 2ms/step - loss: 3.2953e-04\n",
            "Epoch 73/100\n",
            "30/30 [==============================] - 0s 2ms/step - loss: 3.3073e-04\n",
            "Epoch 74/100\n",
            "30/30 [==============================] - 0s 2ms/step - loss: 6.8485e-04\n",
            "Epoch 75/100\n",
            "30/30 [==============================] - 0s 2ms/step - loss: 3.8751e-04\n",
            "Epoch 76/100\n",
            "30/30 [==============================] - 0s 2ms/step - loss: 3.9680e-04\n",
            "Epoch 77/100\n",
            "30/30 [==============================] - 0s 2ms/step - loss: 2.5045e-04\n",
            "Epoch 78/100\n",
            "30/30 [==============================] - 0s 2ms/step - loss: 6.3018e-04\n",
            "Epoch 79/100\n",
            "30/30 [==============================] - 0s 2ms/step - loss: 2.5177e-04\n",
            "Epoch 80/100\n",
            "30/30 [==============================] - 0s 2ms/step - loss: 3.2169e-04\n",
            "Epoch 81/100\n",
            "30/30 [==============================] - 0s 3ms/step - loss: 3.6368e-04\n",
            "Epoch 82/100\n",
            "30/30 [==============================] - 0s 2ms/step - loss: 5.9192e-04\n",
            "Epoch 83/100\n",
            "30/30 [==============================] - 0s 2ms/step - loss: 3.6101e-04\n",
            "Epoch 84/100\n",
            "30/30 [==============================] - 0s 3ms/step - loss: 3.6343e-04\n",
            "Epoch 85/100\n",
            "30/30 [==============================] - 0s 3ms/step - loss: 2.6383e-04\n",
            "Epoch 86/100\n",
            "30/30 [==============================] - 0s 2ms/step - loss: 5.3447e-04\n",
            "Epoch 87/100\n",
            "30/30 [==============================] - 0s 2ms/step - loss: 4.7691e-04\n",
            "Epoch 88/100\n",
            "30/30 [==============================] - 0s 2ms/step - loss: 3.9894e-04\n",
            "Epoch 89/100\n",
            "30/30 [==============================] - 0s 2ms/step - loss: 2.8500e-04\n",
            "Epoch 90/100\n",
            "30/30 [==============================] - 0s 2ms/step - loss: 4.2990e-04\n",
            "Epoch 91/100\n",
            "30/30 [==============================] - 0s 2ms/step - loss: 4.8253e-04\n",
            "Epoch 92/100\n",
            "30/30 [==============================] - 0s 2ms/step - loss: 3.6971e-04\n",
            "Epoch 93/100\n",
            "30/30 [==============================] - 0s 2ms/step - loss: 3.4980e-04\n",
            "Epoch 94/100\n",
            "30/30 [==============================] - 0s 2ms/step - loss: 2.8855e-04\n",
            "Epoch 95/100\n",
            "30/30 [==============================] - 0s 3ms/step - loss: 3.2226e-04\n",
            "Epoch 96/100\n",
            "30/30 [==============================] - 0s 2ms/step - loss: 5.5185e-04\n",
            "Epoch 97/100\n",
            "30/30 [==============================] - 0s 3ms/step - loss: 3.1694e-04\n",
            "Epoch 98/100\n",
            "30/30 [==============================] - 0s 3ms/step - loss: 2.3722e-04\n",
            "Epoch 99/100\n",
            "30/30 [==============================] - 0s 3ms/step - loss: 5.3237e-04\n",
            "Epoch 100/100\n",
            "30/30 [==============================] - 0s 2ms/step - loss: 4.3308e-04\n"
          ],
          "name": "stdout"
        },
        {
          "output_type": "display_data",
          "data": {
            "image/png": "[encoded data removed]",
            "text/plain": [
              "<Figure size 432x288 with 1 Axes>"
            ]
          },
          "metadata": {
            "tags": [],
            "needs_background": "light"
          }
        }
      ]
    },
    {
      "cell_type": "code",
      "metadata": {
        "id": "S1_jIIvOEubi",
        "outputId": "17cf0657-45d9-40db-d856-7daf7800dd87",
        "colab": {
          "base_uri": "https://localhost:8080/",
          "height": 1000
        }
      },
      "source": [
        "#Trying for 60 timesteps\n",
        "\n",
        "#Preparing Training data\n",
        "start=pd.to_datetime(\"2017-03-01\")\n",
        "end=pd.to_datetime(\"2018-04-30\")\n",
        "mask = (grp['order_purchase_timestamp'] > start) & (grp['order_purchase_timestamp'] <= end)\n",
        "training_data=grp.loc[mask]\n",
        "\n",
        "#Preparing Test data\n",
        "start=pd.to_datetime(\"2018-05-01\")\n",
        "end=pd.to_datetime(\"2018-05-31\")\n",
        "mask = (grp['order_purchase_timestamp'] > start) & (grp['order_purchase_timestamp'] <= end)\n",
        "test_data=grp.loc[mask]\n",
        "\n",
        "training_set=training_data.iloc[:,1:2].values\n",
        "\n",
        "#Feature scaling\n",
        "from sklearn.preprocessing import MinMaxScaler\n",
        "sc = MinMaxScaler(feature_range = (0, 1))\n",
        "training_set_scaled = sc.fit_transform(training_set)\n",
        "\n",
        "#Creating data structure with 60 timesteps and one output\n",
        "X_train = [] # list containing all the previous 60 net sales values\n",
        "y_train = []\n",
        "for i in range(60, 90):\n",
        "    X_train.append(training_set_scaled[i-60:i, 0])\n",
        "    y_train.append(training_set_scaled[i, 0])\n",
        "\n",
        "#We are converting the X_train and y_train into numpy arrays\n",
        "X_train, y_train = np.array(X_train), np.array(y_train)\n",
        "\n",
        "#reshaping to create the 3D structure expected by the neural network\n",
        "X_train = np.reshape(X_train, (X_train.shape[0], X_train.shape[1], 1))\n",
        "\n",
        "#initializing RNN\n",
        "regressor = Sequential() #regressor represents a sequence of layers\n",
        "regressor.add(LSTM(units = 50, return_sequences = True, input_shape = (X_train.shape[1], 1)))\n",
        "regressor.add(Dropout(0.2))\n",
        "regressor.add(LSTM(units = 50, return_sequences = True))\n",
        "regressor.add(Dropout(0.2))\n",
        "regressor.add(LSTM(units = 50, return_sequences = True))\n",
        "regressor.add(Dropout(0.2))\n",
        "regressor.add(LSTM(units = 50))\n",
        "regressor.add(Dropout(0.2))\n",
        "regressor.add(Dense(units = 1))\n",
        "regressor.compile(optimizer = 'adam', loss = 'mean_squared_error')\n",
        "regressor.fit(X_train, y_train, epochs = 100, batch_size = 32)\n",
        "\n",
        "testing_set=test_data.iloc[:,1:2].values\n",
        "dataset_total = pd.concat((training_data['price'], test_data['price']), axis = 0)\n",
        "inputs = dataset_total[len(dataset_total) - len(test_data) - 60:].values\n",
        "inputs = inputs.reshape(-1,1)\n",
        "inputs = sc.transform(inputs)\n",
        "X_test = []\n",
        "for i in range(60, 90):\n",
        "    X_test.append(inputs[i-60:i, 0])\n",
        "X_test = np.array(X_test)\n",
        "X_test = np.reshape(X_test, (X_test.shape[0], X_test.shape[1], 1))\n",
        "predicted_sales_values = regressor.predict(X_test)\n",
        "predicted_sales_values = sc.inverse_transform(predicted_sales_values)\n",
        "\n",
        "#visualizing predictions\n",
        "plt.plot(testing_set, color = 'red', label = 'Real Sales Generated')\n",
        "plt.plot(predicted_sales_values, color = 'blue', label = 'Predicted Sales')\n",
        "plt.title('Olist Sales prediction for May 2018')\n",
        "plt.xlabel('Time')\n",
        "plt.ylabel('Sales Generated')\n",
        "plt.legend()\n",
        "plt.show()"
      ],
      "execution_count": null,
      "outputs": [
        {
          "output_type": "stream",
          "text": [
            "Epoch 1/100\n",
            "30/30 [==============================] - 2s 61ms/step - loss: 0.0282\n",
            "Epoch 2/100\n",
            "30/30 [==============================] - 0s 5ms/step - loss: 0.0113\n",
            "Epoch 3/100\n",
            "30/30 [==============================] - 0s 5ms/step - loss: 0.0023\n",
            "Epoch 4/100\n",
            "30/30 [==============================] - 0s 5ms/step - loss: 0.0033\n",
            "Epoch 5/100\n",
            "30/30 [==============================] - 0s 5ms/step - loss: 0.0056\n",
            "Epoch 6/100\n",
            "30/30 [==============================] - 0s 5ms/step - loss: 0.0031\n",
            "Epoch 7/100\n",
            "30/30 [==============================] - 0s 5ms/step - loss: 8.0746e-04\n",
            "Epoch 8/100\n",
            "30/30 [==============================] - 0s 5ms/step - loss: 7.5754e-04\n",
            "Epoch 9/100\n",
            "30/30 [==============================] - 0s 5ms/step - loss: 0.0012\n",
            "Epoch 10/100\n",
            "30/30 [==============================] - 0s 5ms/step - loss: 0.0022\n",
            "Epoch 11/100\n",
            "30/30 [==============================] - 0s 5ms/step - loss: 0.0026\n",
            "Epoch 12/100\n",
            "30/30 [==============================] - 0s 5ms/step - loss: 0.0025\n",
            "Epoch 13/100\n",
            "30/30 [==============================] - 0s 5ms/step - loss: 0.0013\n",
            "Epoch 14/100\n",
            "30/30 [==============================] - 0s 5ms/step - loss: 7.7952e-04\n",
            "Epoch 15/100\n",
            "30/30 [==============================] - 0s 5ms/step - loss: 3.4256e-04\n",
            "Epoch 16/100\n",
            "30/30 [==============================] - 0s 5ms/step - loss: 8.3700e-04\n",
            "Epoch 17/100\n",
            "30/30 [==============================] - 0s 5ms/step - loss: 0.0011\n",
            "Epoch 18/100\n",
            "30/30 [==============================] - 0s 5ms/step - loss: 0.0012\n",
            "Epoch 19/100\n",
            "30/30 [==============================] - 0s 5ms/step - loss: 0.0011\n",
            "Epoch 20/100\n",
            "30/30 [==============================] - 0s 5ms/step - loss: 6.3551e-04\n",
            "Epoch 21/100\n",
            "30/30 [==============================] - 0s 5ms/step - loss: 5.7947e-04\n",
            "Epoch 22/100\n",
            "30/30 [==============================] - 0s 5ms/step - loss: 4.2208e-04\n",
            "Epoch 23/100\n",
            "30/30 [==============================] - 0s 5ms/step - loss: 4.5676e-04\n",
            "Epoch 24/100\n",
            "30/30 [==============================] - 0s 5ms/step - loss: 6.2886e-04\n",
            "Epoch 25/100\n",
            "30/30 [==============================] - 0s 5ms/step - loss: 6.8582e-04\n",
            "Epoch 26/100\n",
            "30/30 [==============================] - 0s 5ms/step - loss: 5.5365e-04\n",
            "Epoch 27/100\n",
            "30/30 [==============================] - 0s 5ms/step - loss: 3.8167e-04\n",
            "Epoch 28/100\n",
            "30/30 [==============================] - 0s 5ms/step - loss: 6.1551e-04\n",
            "Epoch 29/100\n",
            "30/30 [==============================] - 0s 5ms/step - loss: 4.5553e-04\n",
            "Epoch 30/100\n",
            "30/30 [==============================] - 0s 5ms/step - loss: 3.0139e-04\n",
            "Epoch 31/100\n",
            "30/30 [==============================] - 0s 5ms/step - loss: 2.7881e-04\n",
            "Epoch 32/100\n",
            "30/30 [==============================] - 0s 5ms/step - loss: 4.1478e-04\n",
            "Epoch 33/100\n",
            "30/30 [==============================] - 0s 5ms/step - loss: 4.3943e-04\n",
            "Epoch 34/100\n",
            "30/30 [==============================] - 0s 5ms/step - loss: 4.4393e-04\n",
            "Epoch 35/100\n",
            "30/30 [==============================] - 0s 5ms/step - loss: 2.6296e-04\n",
            "Epoch 36/100\n",
            "30/30 [==============================] - 0s 5ms/step - loss: 4.8393e-04\n",
            "Epoch 37/100\n",
            "30/30 [==============================] - 0s 5ms/step - loss: 4.8444e-04\n",
            "Epoch 38/100\n",
            "30/30 [==============================] - 0s 5ms/step - loss: 2.5455e-04\n",
            "Epoch 39/100\n",
            "30/30 [==============================] - 0s 5ms/step - loss: 3.3520e-04\n",
            "Epoch 40/100\n",
            "30/30 [==============================] - 0s 5ms/step - loss: 2.2861e-04\n",
            "Epoch 41/100\n",
            "30/30 [==============================] - 0s 5ms/step - loss: 5.3395e-04\n",
            "Epoch 42/100\n",
            "30/30 [==============================] - 0s 5ms/step - loss: 4.2850e-04\n",
            "Epoch 43/100\n",
            "30/30 [==============================] - 0s 5ms/step - loss: 1.7791e-04\n",
            "Epoch 44/100\n",
            "30/30 [==============================] - 0s 5ms/step - loss: 1.5659e-04\n",
            "Epoch 45/100\n",
            "30/30 [==============================] - 0s 5ms/step - loss: 4.7785e-04\n",
            "Epoch 46/100\n",
            "30/30 [==============================] - 0s 5ms/step - loss: 1.7028e-04\n",
            "Epoch 47/100\n",
            "30/30 [==============================] - 0s 5ms/step - loss: 2.8633e-04\n",
            "Epoch 48/100\n",
            "30/30 [==============================] - 0s 5ms/step - loss: 4.1366e-04\n",
            "Epoch 49/100\n",
            "30/30 [==============================] - 0s 5ms/step - loss: 2.4535e-04\n",
            "Epoch 50/100\n",
            "30/30 [==============================] - 0s 5ms/step - loss: 2.1284e-04\n",
            "Epoch 51/100\n",
            "30/30 [==============================] - 0s 5ms/step - loss: 2.3112e-04\n",
            "Epoch 52/100\n",
            "30/30 [==============================] - 0s 5ms/step - loss: 4.3562e-04\n",
            "Epoch 53/100\n",
            "30/30 [==============================] - 0s 5ms/step - loss: 3.1761e-04\n",
            "Epoch 54/100\n",
            "30/30 [==============================] - 0s 5ms/step - loss: 2.1204e-04\n",
            "Epoch 55/100\n",
            "30/30 [==============================] - 0s 5ms/step - loss: 3.8103e-04\n",
            "Epoch 56/100\n",
            "30/30 [==============================] - 0s 5ms/step - loss: 2.6728e-04\n",
            "Epoch 57/100\n",
            "30/30 [==============================] - 0s 5ms/step - loss: 3.0858e-04\n",
            "Epoch 58/100\n",
            "30/30 [==============================] - 0s 5ms/step - loss: 3.8291e-04\n",
            "Epoch 59/100\n",
            "30/30 [==============================] - 0s 5ms/step - loss: 1.8615e-04\n",
            "Epoch 60/100\n",
            "30/30 [==============================] - 0s 5ms/step - loss: 2.2509e-04\n",
            "Epoch 61/100\n",
            "30/30 [==============================] - 0s 5ms/step - loss: 3.1560e-04\n",
            "Epoch 62/100\n",
            "30/30 [==============================] - 0s 5ms/step - loss: 2.0797e-04\n",
            "Epoch 63/100\n",
            "30/30 [==============================] - 0s 5ms/step - loss: 2.1173e-04\n",
            "Epoch 64/100\n",
            "30/30 [==============================] - 0s 5ms/step - loss: 2.1513e-04\n",
            "Epoch 65/100\n",
            "30/30 [==============================] - 0s 5ms/step - loss: 2.2122e-04\n",
            "Epoch 66/100\n",
            "30/30 [==============================] - 0s 5ms/step - loss: 1.4793e-04\n",
            "Epoch 67/100\n",
            "30/30 [==============================] - 0s 5ms/step - loss: 2.7505e-04\n",
            "Epoch 68/100\n",
            "30/30 [==============================] - 0s 5ms/step - loss: 2.4861e-04\n",
            "Epoch 69/100\n",
            "30/30 [==============================] - 0s 4ms/step - loss: 2.4170e-04\n",
            "Epoch 70/100\n",
            "30/30 [==============================] - 0s 5ms/step - loss: 2.4931e-04\n",
            "Epoch 71/100\n",
            "30/30 [==============================] - 0s 5ms/step - loss: 2.6334e-04\n",
            "Epoch 72/100\n",
            "30/30 [==============================] - 0s 5ms/step - loss: 2.3567e-04\n",
            "Epoch 73/100\n",
            "30/30 [==============================] - 0s 5ms/step - loss: 1.5104e-04\n",
            "Epoch 74/100\n",
            "30/30 [==============================] - 0s 5ms/step - loss: 2.1037e-04\n",
            "Epoch 75/100\n",
            "30/30 [==============================] - 0s 5ms/step - loss: 1.8050e-04\n",
            "Epoch 76/100\n",
            "30/30 [==============================] - 0s 5ms/step - loss: 1.4689e-04\n",
            "Epoch 77/100\n",
            "30/30 [==============================] - 0s 5ms/step - loss: 1.3135e-04\n",
            "Epoch 78/100\n",
            "30/30 [==============================] - 0s 5ms/step - loss: 2.1276e-04\n",
            "Epoch 79/100\n",
            "30/30 [==============================] - 0s 5ms/step - loss: 2.0940e-04\n",
            "Epoch 80/100\n",
            "30/30 [==============================] - 0s 5ms/step - loss: 2.8520e-04\n",
            "Epoch 81/100\n",
            "30/30 [==============================] - 0s 5ms/step - loss: 3.9488e-04\n",
            "Epoch 82/100\n",
            "30/30 [==============================] - 0s 5ms/step - loss: 1.8157e-04\n",
            "Epoch 83/100\n",
            "30/30 [==============================] - 0s 5ms/step - loss: 2.5550e-04\n",
            "Epoch 84/100\n",
            "30/30 [==============================] - 0s 5ms/step - loss: 1.6723e-04\n",
            "Epoch 85/100\n",
            "30/30 [==============================] - 0s 5ms/step - loss: 1.6181e-04\n",
            "Epoch 86/100\n",
            "30/30 [==============================] - 0s 5ms/step - loss: 2.2959e-04\n",
            "Epoch 87/100\n",
            "30/30 [==============================] - 0s 5ms/step - loss: 2.2889e-04\n",
            "Epoch 88/100\n",
            "30/30 [==============================] - 0s 5ms/step - loss: 3.2672e-04\n",
            "Epoch 89/100\n",
            "30/30 [==============================] - 0s 5ms/step - loss: 2.6425e-04\n",
            "Epoch 90/100\n",
            "30/30 [==============================] - 0s 5ms/step - loss: 2.7141e-04\n",
            "Epoch 91/100\n",
            "30/30 [==============================] - 0s 5ms/step - loss: 2.5135e-04\n",
            "Epoch 92/100\n",
            "30/30 [==============================] - 0s 5ms/step - loss: 1.1975e-04\n",
            "Epoch 93/100\n",
            "30/30 [==============================] - 0s 5ms/step - loss: 1.5361e-04\n",
            "Epoch 94/100\n",
            "30/30 [==============================] - 0s 5ms/step - loss: 2.5397e-04\n",
            "Epoch 95/100\n",
            "30/30 [==============================] - 0s 5ms/step - loss: 2.4788e-04\n",
            "Epoch 96/100\n",
            "30/30 [==============================] - 0s 5ms/step - loss: 1.4122e-04\n",
            "Epoch 97/100\n",
            "30/30 [==============================] - 0s 5ms/step - loss: 1.9645e-04\n",
            "Epoch 98/100\n",
            "30/30 [==============================] - 0s 5ms/step - loss: 1.9854e-04\n",
            "Epoch 99/100\n",
            "30/30 [==============================] - 0s 5ms/step - loss: 1.7081e-04\n",
            "Epoch 100/100\n",
            "30/30 [==============================] - 0s 5ms/step - loss: 2.1405e-04\n"
          ],
          "name": "stdout"
        },
        {
          "output_type": "display_data",
          "data": {
            "image/png": "[encoded data removed]",
            "text/plain": [
              "<Figure size 432x288 with 1 Axes>"
            ]
          },
          "metadata": {
            "tags": [],
            "needs_background": "light"
          }
        }
      ]
    },
    {
      "cell_type": "markdown",
      "metadata": {
        "id": "7jvAzixWIOiM"
      },
      "source": [
        "As can be observed, there is no significant difference in the prediction by using different timesteps with RNN. Overall, the prediction is not good. Availing more data and adding more dimensions to the may improve the model and the prediction"
      ]
    },
    {
      "cell_type": "markdown",
      "metadata": {
        "id": "i330toVJLFL9"
      },
      "source": [
        "###Finding the products that are mostly purchased using vouchers as the mode of payment"
      ]
    },
    {
      "cell_type": "code",
      "metadata": {
        "id": "Jca-n1tEKg2k",
        "outputId": "81cd26ca-8076-42d7-e70b-fc43e59b44b5",
        "colab": {
          "base_uri": "https://localhost:8080/",
          "height": 68
        }
      },
      "source": [
        "order_items.columns"
      ],
      "execution_count": null,
      "outputs": [
        {
          "output_type": "execute_result",
          "data": {
            "text/plain": [
              "Index(['order_id', 'order_item_id', 'product_id', 'seller_id',\n",
              "       'shipping_limit_date', 'price', 'freight_value'],\n",
              "      dtype='object')"
            ]
          },
          "metadata": {
            "tags": []
          },
          "execution_count": 156
        }
      ]
    },
    {
      "cell_type": "code",
      "metadata": {
        "id": "xW-PD5smLWFg",
        "outputId": "2ff0569f-bce6-443a-f8d8-4dbee2074d18",
        "colab": {
          "base_uri": "https://localhost:8080/",
          "height": 68
        }
      },
      "source": [
        "order_pay.columns"
      ],
      "execution_count": null,
      "outputs": [
        {
          "output_type": "execute_result",
          "data": {
            "text/plain": [
              "Index(['order_id', 'payment_sequential', 'payment_type',\n",
              "       'payment_installments', 'payment_value'],\n",
              "      dtype='object')"
            ]
          },
          "metadata": {
            "tags": []
          },
          "execution_count": 157
        }
      ]
    },
    {
      "cell_type": "code",
      "metadata": {
        "id": "VXe6RChMLhcd"
      },
      "source": [
        "voucher=order_items.merge(right=order_pay, how=\"inner\", on=\"order_id\")\n",
        "voucher=voucher.merge(right=products, how=\"inner\", on=\"product_id\")"
      ],
      "execution_count": null,
      "outputs": []
    },
    {
      "cell_type": "code",
      "metadata": {
        "id": "6NCVSaMrMU2d",
        "outputId": "00d64b39-80fc-435a-da6a-3969269cef70",
        "colab": {
          "base_uri": "https://localhost:8080/",
          "height": 153
        }
      },
      "source": [
        "voucher.columns"
      ],
      "execution_count": null,
      "outputs": [
        {
          "output_type": "execute_result",
          "data": {
            "text/plain": [
              "Index(['order_id', 'order_item_id', 'product_id', 'seller_id',\n",
              "       'shipping_limit_date', 'price', 'freight_value', 'payment_sequential',\n",
              "       'payment_type', 'payment_installments', 'payment_value',\n",
              "       'product_category_name', 'product_name_lenght',\n",
              "       'product_description_lenght', 'product_photos_qty', 'product_weight_g',\n",
              "       'product_length_cm', 'product_height_cm', 'product_width_cm',\n",
              "       'product_category_name_english'],\n",
              "      dtype='object')"
            ]
          },
          "metadata": {
            "tags": []
          },
          "execution_count": 159
        }
      ]
    },
    {
      "cell_type": "code",
      "metadata": {
        "id": "-wm9BdyDNYM4",
        "outputId": "c68adbdf-775b-405a-c67e-56b2c5fc3140",
        "colab": {
          "base_uri": "https://localhost:8080/",
          "height": 102
        }
      },
      "source": [
        "voucher[\"payment_type\"].value_counts()"
      ],
      "execution_count": null,
      "outputs": [
        {
          "output_type": "execute_result",
          "data": {
            "text/plain": [
              "credit_card    86769\n",
              "boleto         22867\n",
              "voucher         6274\n",
              "debit_card      1691\n",
              "Name: payment_type, dtype: int64"
            ]
          },
          "metadata": {
            "tags": []
          },
          "execution_count": 160
        }
      ]
    },
    {
      "cell_type": "code",
      "metadata": {
        "id": "TfdSCuEWMz7p"
      },
      "source": [
        "temp=voucher[voucher[\"payment_type\"]==\"voucher\"].groupby([\"product_category_name_english\",\"product_id\"])[\"payment_type\"].count().sort_values(ascending= False)"
      ],
      "execution_count": null,
      "outputs": []
    },
    {
      "cell_type": "code",
      "metadata": {
        "id": "TGVS9h6JOIro",
        "outputId": "5fa5c6dc-7a20-4821-802d-2a5092e1a6f0",
        "colab": {
          "base_uri": "https://localhost:8080/",
          "height": 391
        }
      },
      "source": [
        "temp.head(20)"
      ],
      "execution_count": null,
      "outputs": [
        {
          "output_type": "execute_result",
          "data": {
            "text/plain": [
              "product_category_name_english  product_id                      \n",
              "bed_bath_table                 99a4788cb24856965c36a24e339b6058    48\n",
              "                               ebf9bc6cd600eadd681384e3116fda85    42\n",
              "office_furniture               0554911df28fda9fd668ce5ba5949695    36\n",
              "garden_tools                   1aecdb5fa3add74e385f25c6c527a462    29\n",
              "                               422879e10f46682990de24d770e7f83d    28\n",
              "home_confort                   35afc973633aaeb6b877ff57b2793310    25\n",
              "bed_bath_table                 777d2e438a1b645f3aec9bd57e92672c    25\n",
              "                               8d37ee446981d3790967d0268d6cfc81    25\n",
              "electronics                    bdc3291ab242ec1effc8eb0987850268    23\n",
              "agro_industry_and_commerce     11250b0d4b709fee92441c5f34122aed    22\n",
              "garden_tools                   0449db5eede617c5fd413071d582f038    22\n",
              "perfumery                      ee0c1cf2fbeae95205b4aa506f1469f0    21\n",
              "garden_tools                   53759a2ecddad2bb87a079a1f1519f73    21\n",
              "housewares                     5ddab10d5e0a23acb99acf56b62b3276    21\n",
              "cool_stuff                     601a360bd2a916ecef0e88de72a6531a    20\n",
              "perfumery                      2028bf1b01cafb2d2b1901fca4083222    20\n",
              "computers_accessories          d1c427060a0f73f6b889a5c7c61f2ac4    19\n",
              "sports_leisure                 991d9793febfe022d5db970595a99008    18\n",
              "computers_accessories          4e53a453045707bbc5febcf5f32097ac    18\n",
              "bed_bath_table                 372645c7439f9661fbbacfd129aa92ec    18\n",
              "Name: payment_type, dtype: int64"
            ]
          },
          "metadata": {
            "tags": []
          },
          "execution_count": 162
        }
      ]
    },
    {
      "cell_type": "markdown",
      "metadata": {
        "id": "PXqtgOneOQX-"
      },
      "source": [
        "Voucher is a promotional element. The above list contains the top 20 products for which payment is made using vouchers. As can be observed, products that are being used in home are the ones for which vouchers are mostly issued."
      ]
    },
    {
      "cell_type": "markdown",
      "metadata": {
        "id": "IXb7O6IcPe3i"
      },
      "source": [
        "###Checking the effect of time in processing the purchase on cancellation"
      ]
    },
    {
      "cell_type": "code",
      "metadata": {
        "id": "5fP-_4hPO09J",
        "outputId": "a31888d6-450f-4b1a-98e4-8cd03c633fce",
        "colab": {
          "base_uri": "https://localhost:8080/",
          "height": 119
        }
      },
      "source": [
        "orders.columns"
      ],
      "execution_count": null,
      "outputs": [
        {
          "output_type": "execute_result",
          "data": {
            "text/plain": [
              "Index(['order_id', 'customer_id', 'order_status', 'order_purchase_timestamp',\n",
              "       'order_approved_at', 'order_delivered_carrier_date',\n",
              "       'order_delivered_customer_date', 'order_estimated_delivery_date',\n",
              "       'time_to_deliver', 'time_to approve', 'time_to_carrier', 'carry_time',\n",
              "       'diff_del'],\n",
              "      dtype='object')"
            ]
          },
          "metadata": {
            "tags": []
          },
          "execution_count": 163
        }
      ]
    },
    {
      "cell_type": "code",
      "metadata": {
        "id": "aKY4VdPaQZ3b",
        "outputId": "7c504bf9-8800-4c1d-ad41-18ecf3508b93",
        "colab": {
          "base_uri": "https://localhost:8080/",
          "height": 170
        }
      },
      "source": [
        "orders[\"order_status\"].value_counts()"
      ],
      "execution_count": null,
      "outputs": [
        {
          "output_type": "execute_result",
          "data": {
            "text/plain": [
              "delivered      96478\n",
              "shipped         1107\n",
              "canceled         625\n",
              "unavailable      609\n",
              "invoiced         314\n",
              "processing       301\n",
              "created            5\n",
              "approved           2\n",
              "Name: order_status, dtype: int64"
            ]
          },
          "metadata": {
            "tags": []
          },
          "execution_count": 164
        }
      ]
    },
    {
      "cell_type": "code",
      "metadata": {
        "id": "S4N_hqd2QJfX"
      },
      "source": [
        "cancel=orders[orders[\"order_status\"]==\"canceled\"]"
      ],
      "execution_count": null,
      "outputs": []
    },
    {
      "cell_type": "code",
      "metadata": {
        "id": "kMcp0ZRaQkLh",
        "outputId": "07349b6c-a883-453e-b402-c83213ccc693",
        "colab": {
          "base_uri": "https://localhost:8080/",
          "height": 34
        }
      },
      "source": [
        "cancel.shape"
      ],
      "execution_count": null,
      "outputs": [
        {
          "output_type": "execute_result",
          "data": {
            "text/plain": [
              "(625, 13)"
            ]
          },
          "metadata": {
            "tags": []
          },
          "execution_count": 166
        }
      ]
    },
    {
      "cell_type": "markdown",
      "metadata": {
        "id": "NTFh0mKYQpR1"
      },
      "source": [
        "A total of 625 orders where cancelled during the time intervel under consideration"
      ]
    },
    {
      "cell_type": "code",
      "metadata": {
        "id": "KgPRitzjQ6X7",
        "outputId": "5be758ac-9b7a-47da-81de-bbe7562356cd",
        "colab": {
          "base_uri": "https://localhost:8080/",
          "height": 34
        }
      },
      "source": [
        "cancel[\"time_to approve\"].mean()"
      ],
      "execution_count": null,
      "outputs": [
        {
          "output_type": "execute_result",
          "data": {
            "text/plain": [
              "Timedelta('0 days 16:09:55.041322')"
            ]
          },
          "metadata": {
            "tags": []
          },
          "execution_count": 167
        }
      ]
    },
    {
      "cell_type": "code",
      "metadata": {
        "id": "9Wh-S4bYRM9f",
        "outputId": "932182f0-9e76-40ba-f92c-73a49b4f9bb5",
        "colab": {
          "base_uri": "https://localhost:8080/",
          "height": 34
        }
      },
      "source": [
        "orders[\"time_to approve\"].mean()"
      ],
      "execution_count": null,
      "outputs": [
        {
          "output_type": "execute_result",
          "data": {
            "text/plain": [
              "Timedelta('0 days 12:26:39.097511')"
            ]
          },
          "metadata": {
            "tags": []
          },
          "execution_count": 168
        }
      ]
    },
    {
      "cell_type": "markdown",
      "metadata": {
        "id": "aD16fp8cRVmb"
      },
      "source": [
        "As can be observed, time to approval for the cancelled products are higher on average compared to the net mean approval timing. This may have an impact on order cancelation"
      ]
    },
    {
      "cell_type": "code",
      "metadata": {
        "id": "qU020923RtCX",
        "outputId": "bd891a6d-93c3-4239-d08a-845843eb0776",
        "colab": {
          "base_uri": "https://localhost:8080/",
          "height": 34
        }
      },
      "source": [
        "cancel[\"carry_time\"].mean()"
      ],
      "execution_count": null,
      "outputs": [
        {
          "output_type": "execute_result",
          "data": {
            "text/plain": [
              "Timedelta('12 days 16:16:18.833333')"
            ]
          },
          "metadata": {
            "tags": []
          },
          "execution_count": 169
        }
      ]
    },
    {
      "cell_type": "code",
      "metadata": {
        "id": "zaBPflW1Rx3A",
        "outputId": "2d66465a-406b-4cf9-eeaa-de770d276b63",
        "colab": {
          "base_uri": "https://localhost:8080/",
          "height": 34
        }
      },
      "source": [
        "orders[\"carry_time\"].mean()"
      ],
      "execution_count": null,
      "outputs": [
        {
          "output_type": "execute_result",
          "data": {
            "text/plain": [
              "Timedelta('8 days 15:11:12.779663')"
            ]
          },
          "metadata": {
            "tags": []
          },
          "execution_count": 170
        }
      ]
    },
    {
      "cell_type": "markdown",
      "metadata": {
        "id": "-kdwVRuPSAnz"
      },
      "source": [
        "Overall conclusion is that time taken play an important role in the cancelation decisions made by consumers"
      ]
    },
    {
      "cell_type": "markdown",
      "metadata": {
        "id": "BPIUEKdNVfvP"
      },
      "source": [
        "###Sellers from whom most orders were cancelled"
      ]
    },
    {
      "cell_type": "code",
      "metadata": {
        "id": "ucT-Rg6RVpx8",
        "outputId": "92d6a420-6571-48f8-bf01-75a8dbb7a594",
        "colab": {
          "base_uri": "https://localhost:8080/",
          "height": 119
        }
      },
      "source": [
        "cancel.columns"
      ],
      "execution_count": null,
      "outputs": [
        {
          "output_type": "execute_result",
          "data": {
            "text/plain": [
              "Index(['order_id', 'customer_id', 'order_status', 'order_purchase_timestamp',\n",
              "       'order_approved_at', 'order_delivered_carrier_date',\n",
              "       'order_delivered_customer_date', 'order_estimated_delivery_date',\n",
              "       'time_to_deliver', 'time_to approve', 'time_to_carrier', 'carry_time',\n",
              "       'diff_del'],\n",
              "      dtype='object')"
            ]
          },
          "metadata": {
            "tags": []
          },
          "execution_count": 171
        }
      ]
    },
    {
      "cell_type": "code",
      "metadata": {
        "id": "hNfXc4_vV6hp",
        "outputId": "1820746c-8386-4589-9a79-962f9ac098e1",
        "colab": {
          "base_uri": "https://localhost:8080/",
          "height": 357
        }
      },
      "source": [
        "cancel.info()"
      ],
      "execution_count": null,
      "outputs": [
        {
          "output_type": "stream",
          "text": [
            "<class 'pandas.core.frame.DataFrame'>\n",
            "Int64Index: 625 entries, 397 to 99347\n",
            "Data columns (total 13 columns):\n",
            " #   Column                         Non-Null Count  Dtype          \n",
            "---  ------                         --------------  -----          \n",
            " 0   order_id                       625 non-null    object         \n",
            " 1   customer_id                    625 non-null    object         \n",
            " 2   order_status                   625 non-null    object         \n",
            " 3   order_purchase_timestamp       625 non-null    datetime64[ns] \n",
            " 4   order_approved_at              484 non-null    datetime64[ns] \n",
            " 5   order_delivered_carrier_date   75 non-null     datetime64[ns] \n",
            " 6   order_delivered_customer_date  6 non-null      datetime64[ns] \n",
            " 7   order_estimated_delivery_date  625 non-null    datetime64[ns] \n",
            " 8   time_to_deliver                6 non-null      timedelta64[ns]\n",
            " 9   time_to approve                484 non-null    timedelta64[ns]\n",
            " 10  time_to_carrier                75 non-null     timedelta64[ns]\n",
            " 11  carry_time                     6 non-null      timedelta64[ns]\n",
            " 12  diff_del                       6 non-null      timedelta64[ns]\n",
            "dtypes: datetime64[ns](5), object(3), timedelta64[ns](5)\n",
            "memory usage: 68.4+ KB\n"
          ],
          "name": "stdout"
        }
      ]
    },
    {
      "cell_type": "code",
      "metadata": {
        "id": "AYYnZTdGV8W-",
        "outputId": "c1aa51f6-a17c-4fb2-9e58-09c240b26d07",
        "colab": {
          "base_uri": "https://localhost:8080/",
          "height": 221
        }
      },
      "source": [
        "temp=cancel.merge(right=order_items, how=\"inner\", on=\"order_id\")\n",
        "cancel_sellers=temp.groupby(\"seller_id\")[\"order_id\"].count().sort_values(ascending=False).head(10)\n",
        "cancel_sellers"
      ],
      "execution_count": null,
      "outputs": [
        {
          "output_type": "execute_result",
          "data": {
            "text/plain": [
              "seller_id\n",
              "cc419e0650a3c5ba77189a1882b7556a    9\n",
              "6560211a19b47992c3666cc44a7e94c0    8\n",
              "620c87c171fb2a6dd6e8bb4dec959fc6    7\n",
              "0adac9fbd9a2b63cccaac4f8756c1ca8    7\n",
              "8a32e327fe2c1b3511609d81aaf9f042    7\n",
              "ec4608a1f76453166bb312b2968aeaf4    6\n",
              "855668e0971d4dfd7bef1b6a4133b41b    6\n",
              "81783131d2a97c8d44d406a4be81b5d9    6\n",
              "a4b6b9b992b46e9ef863637af96e04bc    6\n",
              "73a63f72308aa20a46f4b1632018f196    5\n",
              "Name: order_id, dtype: int64"
            ]
          },
          "metadata": {
            "tags": []
          },
          "execution_count": 173
        }
      ]
    },
    {
      "cell_type": "markdown",
      "metadata": {
        "id": "jqeuAVt0XRF7"
      },
      "source": [
        "These are the sellers with highest cancellations"
      ]
    }
  ]
}