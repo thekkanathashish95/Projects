{
  "nbformat": 4,
  "nbformat_minor": 0,
  "metadata": {
    "colab": {
      "name": "Regression.ipynb",
      "provenance": [],
      "collapsed_sections": [],
      "toc_visible": true,
      "authorship_tag": "ABX9TyOnUZ8+SA2vEz8/W66bnOF1",
      "include_colab_link": true
    },
    "kernelspec": {
      "name": "python3",
      "display_name": "Python 3"
    }
  },
  "cells": [
    {
      "cell_type": "markdown",
      "metadata": {
        "id": "view-in-github",
        "colab_type": "text"
      },
      "source": [
        "<a href=\"https://colab.research.google.com/github/thekkanathashish95/Projects/blob/master/Regression%20Analysis.ipynb\" target=\"_parent\"><img src=\"https://colab.research.google.com/assets/colab-badge.svg\" alt=\"Open In Colab\"/></a>"
      ]
    },
    {
      "cell_type": "markdown",
      "metadata": {
        "id": "A6umBsXpnzFT",
        "colab_type": "text"
      },
      "source": [
        "# Regression"
      ]
    },
    {
      "cell_type": "markdown",
      "metadata": {
        "id": "5ug6D5vJHDZA",
        "colab_type": "text"
      },
      "source": [
        "I have implemented all the major different kinds of regression techniques on the same dataset. \n",
        "\n",
        "- Regression using Artificial Neural Networks\n",
        "- Multiple Linear Regression\n",
        "- Support Vector Regression\n",
        "- Decision Tree Regression\n",
        "- Random Forest Regression\n",
        "\n",
        "\n",
        "###Dataset Information\n",
        "\n",
        "The dataset contains 9568 data points collected from a Combined Cycle Power Plant over 6 years (2006-2011), when the power plant was set to work with full load. Features consist of hourly average ambient variables Temperature (T), Ambient Pressure (AP), Relative Humidity (RH) and Exhaust Vacuum (V) to predict the net hourly electrical energy output (EP) of the plant."
      ]
    },
    {
      "cell_type": "markdown",
      "metadata": {
        "id": "hlgCnY0X4sjB",
        "colab_type": "text"
      },
      "source": [
        "Source: https://archive.ics.uci.edu/ml/datasets/Combined+Cycle+Power+Plant"
      ]
    },
    {
      "cell_type": "markdown",
      "metadata": {
        "id": "8sNDnxE2-pwE",
        "colab_type": "text"
      },
      "source": [
        "### Importing the libraries"
      ]
    },
    {
      "cell_type": "code",
      "metadata": {
        "id": "lxChR1Rk-umf",
        "colab_type": "code",
        "colab": {}
      },
      "source": [
        "import numpy as np\n",
        "import pandas as pd\n",
        "import tensorflow as tf\n",
        "import matplotlib.pyplot as plt\n",
        "from sklearn.metrics import r2_score"
      ],
      "execution_count": 1,
      "outputs": []
    },
    {
      "cell_type": "code",
      "metadata": {
        "id": "QcWKwYBEQn62",
        "colab_type": "code",
        "colab": {
          "base_uri": "https://localhost:8080/",
          "height": 35
        },
        "outputId": "b012e7be-25cc-404f-ff1f-bbb19156941d"
      },
      "source": [
        "tf.__version__"
      ],
      "execution_count": 2,
      "outputs": [
        {
          "output_type": "execute_result",
          "data": {
            "application/vnd.google.colaboratory.intrinsic+json": {
              "type": "string"
            },
            "text/plain": [
              "'2.3.0'"
            ]
          },
          "metadata": {
            "tags": []
          },
          "execution_count": 2
        }
      ]
    },
    {
      "cell_type": "markdown",
      "metadata": {
        "id": "5hei4RC1RG4i",
        "colab_type": "text"
      },
      "source": [
        "##Data Preprocessing"
      ]
    },
    {
      "cell_type": "markdown",
      "metadata": {
        "id": "-4zq8Mza_D9O",
        "colab_type": "text"
      },
      "source": [
        "### Importing the dataset"
      ]
    },
    {
      "cell_type": "code",
      "metadata": {
        "id": "T1NT-UAc1c9Y",
        "colab_type": "code",
        "colab": {}
      },
      "source": [
        "dataset = pd.read_excel('Folds5x2_pp.xlsx')"
      ],
      "execution_count": 3,
      "outputs": []
    },
    {
      "cell_type": "code",
      "metadata": {
        "id": "ZRtUQlr87k46",
        "colab_type": "code",
        "colab": {
          "base_uri": "https://localhost:8080/",
          "height": 34
        },
        "outputId": "b0185306-b5c1-4ae5-f1ed-05f43619dd6d"
      },
      "source": [
        "dataset.shape"
      ],
      "execution_count": 4,
      "outputs": [
        {
          "output_type": "execute_result",
          "data": {
            "text/plain": [
              "(9568, 5)"
            ]
          },
          "metadata": {
            "tags": []
          },
          "execution_count": 4
        }
      ]
    },
    {
      "cell_type": "code",
      "metadata": {
        "id": "Y18LiAP01ft3",
        "colab_type": "code",
        "colab": {
          "base_uri": "https://localhost:8080/",
          "height": 204
        },
        "outputId": "352b6d87-517c-4871-a633-bf0c2bcdfe3a"
      },
      "source": [
        "dataset.head()"
      ],
      "execution_count": 5,
      "outputs": [
        {
          "output_type": "execute_result",
          "data": {
            "text/html": [
              "<div>\n",
              "<style scoped>\n",
              "    .dataframe tbody tr th:only-of-type {\n",
              "        vertical-align: middle;\n",
              "    }\n",
              "\n",
              "    .dataframe tbody tr th {\n",
              "        vertical-align: top;\n",
              "    }\n",
              "\n",
              "    .dataframe thead th {\n",
              "        text-align: right;\n",
              "    }\n",
              "</style>\n",
              "<table border=\"1\" class=\"dataframe\">\n",
              "  <thead>\n",
              "    <tr style=\"text-align: right;\">\n",
              "      <th></th>\n",
              "      <th>AT</th>\n",
              "      <th>V</th>\n",
              "      <th>AP</th>\n",
              "      <th>RH</th>\n",
              "      <th>PE</th>\n",
              "    </tr>\n",
              "  </thead>\n",
              "  <tbody>\n",
              "    <tr>\n",
              "      <th>0</th>\n",
              "      <td>14.96</td>\n",
              "      <td>41.76</td>\n",
              "      <td>1024.07</td>\n",
              "      <td>73.17</td>\n",
              "      <td>463.26</td>\n",
              "    </tr>\n",
              "    <tr>\n",
              "      <th>1</th>\n",
              "      <td>25.18</td>\n",
              "      <td>62.96</td>\n",
              "      <td>1020.04</td>\n",
              "      <td>59.08</td>\n",
              "      <td>444.37</td>\n",
              "    </tr>\n",
              "    <tr>\n",
              "      <th>2</th>\n",
              "      <td>5.11</td>\n",
              "      <td>39.40</td>\n",
              "      <td>1012.16</td>\n",
              "      <td>92.14</td>\n",
              "      <td>488.56</td>\n",
              "    </tr>\n",
              "    <tr>\n",
              "      <th>3</th>\n",
              "      <td>20.86</td>\n",
              "      <td>57.32</td>\n",
              "      <td>1010.24</td>\n",
              "      <td>76.64</td>\n",
              "      <td>446.48</td>\n",
              "    </tr>\n",
              "    <tr>\n",
              "      <th>4</th>\n",
              "      <td>10.82</td>\n",
              "      <td>37.50</td>\n",
              "      <td>1009.23</td>\n",
              "      <td>96.62</td>\n",
              "      <td>473.90</td>\n",
              "    </tr>\n",
              "  </tbody>\n",
              "</table>\n",
              "</div>"
            ],
            "text/plain": [
              "      AT      V       AP     RH      PE\n",
              "0  14.96  41.76  1024.07  73.17  463.26\n",
              "1  25.18  62.96  1020.04  59.08  444.37\n",
              "2   5.11  39.40  1012.16  92.14  488.56\n",
              "3  20.86  57.32  1010.24  76.64  446.48\n",
              "4  10.82  37.50  1009.23  96.62  473.90"
            ]
          },
          "metadata": {
            "tags": []
          },
          "execution_count": 5
        }
      ]
    },
    {
      "cell_type": "markdown",
      "metadata": {
        "id": "LqrRhyMU20NH",
        "colab_type": "text"
      },
      "source": [
        "**Matrix of Features:**\n",
        "\n",
        "1. AT - Temperature - in the range 1.81°C and 37.11°C,\n",
        "2. V - Exhaust Vacuum - in the range 25.36-81.56 cm Hg\n",
        "3. RH - Relative Humidity - in the range 25.56% to 100.16%\n",
        "4. AP - Ambient Pressure - in the range 992.89-1033.30 milibar\n",
        "\n",
        "**Dependent Variable Vector**\n",
        "\n",
        "1. PE - Net hourly electrical energy output - 420.26-495.76 MW"
      ]
    },
    {
      "cell_type": "code",
      "metadata": {
        "id": "B9CV13Co_HHM",
        "colab_type": "code",
        "colab": {}
      },
      "source": [
        "X = dataset.iloc[:, :-1].values\n",
        "y = dataset.iloc[:, -1].values"
      ],
      "execution_count": 6,
      "outputs": []
    },
    {
      "cell_type": "code",
      "metadata": {
        "id": "ISzs-vBe50IT",
        "colab_type": "code",
        "colab": {
          "base_uri": "https://localhost:8080/",
          "height": 51
        },
        "outputId": "a095a90e-4242-4da4-dbcb-4762f26cfcb0"
      },
      "source": [
        "X[:2]"
      ],
      "execution_count": 7,
      "outputs": [
        {
          "output_type": "execute_result",
          "data": {
            "text/plain": [
              "array([[  14.96,   41.76, 1024.07,   73.17],\n",
              "       [  25.18,   62.96, 1020.04,   59.08]])"
            ]
          },
          "metadata": {
            "tags": []
          },
          "execution_count": 7
        }
      ]
    },
    {
      "cell_type": "code",
      "metadata": {
        "id": "LoFD_b1u6RmJ",
        "colab_type": "code",
        "colab": {
          "base_uri": "https://localhost:8080/",
          "height": 34
        },
        "outputId": "f3c117d4-25fb-4819-b69c-feddcc5c5b8f"
      },
      "source": [
        "y[:2]"
      ],
      "execution_count": 8,
      "outputs": [
        {
          "output_type": "execute_result",
          "data": {
            "text/plain": [
              "array([463.26, 444.37])"
            ]
          },
          "metadata": {
            "tags": []
          },
          "execution_count": 8
        }
      ]
    },
    {
      "cell_type": "markdown",
      "metadata": {
        "id": "X3CviQI7mMDc",
        "colab_type": "text"
      },
      "source": [
        "###Missing Data"
      ]
    },
    {
      "cell_type": "code",
      "metadata": {
        "id": "N5v3DJXhlV1_",
        "colab_type": "code",
        "colab": {}
      },
      "source": [
        "# from sklearn.impute import SimpleImputer\n",
        "# imputer = SimpleImputer(missing_values=np.nan, strategy='mean')\n",
        "# imputer.fit(X[:, 1:3])\n",
        "# X[:, 1:3] = imputer.transform(X[:, 1:3])"
      ],
      "execution_count": 9,
      "outputs": []
    },
    {
      "cell_type": "markdown",
      "metadata": {
        "id": "AhSpdQWeSsFh",
        "colab_type": "text"
      },
      "source": [
        "### Encoding the Independent Variable"
      ]
    },
    {
      "cell_type": "code",
      "metadata": {
        "id": "5hwuVddlSwVi",
        "colab_type": "code",
        "colab": {}
      },
      "source": [
        "# from sklearn.compose import ColumnTransformer\n",
        "# from sklearn.preprocessing import OneHotEncoder\n",
        "# ct = ColumnTransformer(transformers=[('encoder', OneHotEncoder(), [0])], remainder='passthrough')\n",
        "# X = np.array(ct.fit_transform(X))"
      ],
      "execution_count": 10,
      "outputs": []
    },
    {
      "cell_type": "markdown",
      "metadata": {
        "id": "DXh8oVSITIc6",
        "colab_type": "text"
      },
      "source": [
        "### Encoding the Dependent Variable"
      ]
    },
    {
      "cell_type": "code",
      "metadata": {
        "id": "XgHCShVyTOYY",
        "colab_type": "code",
        "colab": {}
      },
      "source": [
        "# from sklearn.preprocessing import LabelEncoder\n",
        "# le = LabelEncoder()\n",
        "# y = le.fit_transform(y)"
      ],
      "execution_count": 11,
      "outputs": []
    },
    {
      "cell_type": "markdown",
      "metadata": {
        "id": "VC6omXel_Up0",
        "colab_type": "text"
      },
      "source": [
        "### Splitting the dataset into the Training set and Test set"
      ]
    },
    {
      "cell_type": "code",
      "metadata": {
        "id": "L5edeb2r_agx",
        "colab_type": "code",
        "colab": {}
      },
      "source": [
        "from sklearn.model_selection import train_test_split\n",
        "X_train, X_test, y_train, y_test = train_test_split(X, y, test_size = 0.2, random_state = 0)"
      ],
      "execution_count": 12,
      "outputs": []
    },
    {
      "cell_type": "code",
      "metadata": {
        "id": "rby39j5v7SjI",
        "colab_type": "code",
        "colab": {
          "base_uri": "https://localhost:8080/",
          "height": 34
        },
        "outputId": "b7935f38-c2d2-4e68-c547-ab72896e1bfc"
      },
      "source": [
        "len(X_train)"
      ],
      "execution_count": 13,
      "outputs": [
        {
          "output_type": "execute_result",
          "data": {
            "text/plain": [
              "7654"
            ]
          },
          "metadata": {
            "tags": []
          },
          "execution_count": 13
        }
      ]
    },
    {
      "cell_type": "code",
      "metadata": {
        "id": "dNQImiFX7b0o",
        "colab_type": "code",
        "colab": {
          "base_uri": "https://localhost:8080/",
          "height": 34
        },
        "outputId": "25051ed1-da3b-45eb-a1a4-62e64ff5894c"
      },
      "source": [
        "len(y_test)"
      ],
      "execution_count": 14,
      "outputs": [
        {
          "output_type": "execute_result",
          "data": {
            "text/plain": [
              "1914"
            ]
          },
          "metadata": {
            "tags": []
          },
          "execution_count": 14
        }
      ]
    },
    {
      "cell_type": "markdown",
      "metadata": {
        "id": "vSkX3gKen7sY",
        "colab_type": "text"
      },
      "source": [
        "##Artificial Neural Networks"
      ]
    },
    {
      "cell_type": "markdown",
      "metadata": {
        "id": "CsBULd_f_wLY",
        "colab_type": "text"
      },
      "source": [
        "### Initializing the ANN"
      ]
    },
    {
      "cell_type": "code",
      "metadata": {
        "id": "J6Hd97Ls__Nz",
        "colab_type": "code",
        "colab": {}
      },
      "source": [
        "ann = tf.keras.models.Sequential()"
      ],
      "execution_count": 15,
      "outputs": []
    },
    {
      "cell_type": "markdown",
      "metadata": {
        "id": "3Hs8lZyL8deT",
        "colab_type": "text"
      },
      "source": [
        "Initializes as a sequence of layers. \n",
        "\n",
        "Object created as a sequence of class - Sequential() of Keras library."
      ]
    },
    {
      "cell_type": "markdown",
      "metadata": {
        "id": "iitAFJS_ABUn",
        "colab_type": "text"
      },
      "source": [
        "### Adding the input layer and the first hidden layer"
      ]
    },
    {
      "cell_type": "code",
      "metadata": {
        "id": "ksO_Vv40AHix",
        "colab_type": "code",
        "colab": {}
      },
      "source": [
        "ann.add(tf.keras.layers.Dense(units=6, activation='relu'))"
      ],
      "execution_count": 16,
      "outputs": []
    },
    {
      "cell_type": "markdown",
      "metadata": {
        "id": "nkzYTJrv_i68",
        "colab_type": "text"
      },
      "source": [
        "Dense layer is used inorder to have a dense connection between input layer and the first hidden layer. \n",
        "\n",
        "Each input neuron is connected to every neuron in the first hidden layer.\n",
        "\n",
        "Number of input neurons will automatically be recognzied by Neural Network when we feed in our matrix of features"
      ]
    },
    {
      "cell_type": "markdown",
      "metadata": {
        "id": "lUG0I0ByBDIq",
        "colab_type": "text"
      },
      "source": [
        "**List of Activation function used in Keras submodule of Tensorflow**\n",
        "\n",
        "https://www.tensorflow.org/api_docs/python/tf/keras/activations "
      ]
    },
    {
      "cell_type": "markdown",
      "metadata": {
        "id": "-lb4kK_wAKbs",
        "colab_type": "text"
      },
      "source": [
        "### Adding the second hidden layer"
      ]
    },
    {
      "cell_type": "code",
      "metadata": {
        "id": "c2357OqEAQOQ",
        "colab_type": "code",
        "colab": {}
      },
      "source": [
        "ann.add(tf.keras.layers.Dense(units=6, activation='relu'))"
      ],
      "execution_count": 17,
      "outputs": []
    },
    {
      "cell_type": "markdown",
      "metadata": {
        "id": "jwMOmKb3AdBY",
        "colab_type": "text"
      },
      "source": [
        "### Adding the output layer"
      ]
    },
    {
      "cell_type": "code",
      "metadata": {
        "id": "YFATpzsUAkLL",
        "colab_type": "code",
        "colab": {}
      },
      "source": [
        "ann.add(tf.keras.layers.Dense(units=1))"
      ],
      "execution_count": 18,
      "outputs": []
    },
    {
      "cell_type": "markdown",
      "metadata": {
        "id": "K97Hl0hxDECw",
        "colab_type": "text"
      },
      "source": [
        "It is recommened to add Sigmoid or Softmax activation function for classification problems to the output layer. \n",
        "\n",
        "Since we are solving a regression problem, we can avoid using an activation function for the final layer"
      ]
    },
    {
      "cell_type": "markdown",
      "metadata": {
        "id": "qDeylAs2An25",
        "colab_type": "text"
      },
      "source": [
        "### Compiling the ANN"
      ]
    },
    {
      "cell_type": "code",
      "metadata": {
        "id": "pesgbWlCAtB4",
        "colab_type": "code",
        "colab": {}
      },
      "source": [
        "ann.compile(optimizer = 'adam', loss = 'mean_squared_error')"
      ],
      "execution_count": 19,
      "outputs": []
    },
    {
      "cell_type": "markdown",
      "metadata": {
        "id": "v3tejlsBECF2",
        "colab_type": "text"
      },
      "source": [
        "**Optimizer** - the tool we use to perform stochastic gradient descent.\n",
        "\n",
        "**Stochastic Gradient Descent** - technique that updates the weights of hidden layer neurons inorder to reduce the loss during the training process\n",
        "\n",
        "**Adam** - https://www.tensorflow.org/api_docs/python/tf/keras/optimizers/Adam"
      ]
    },
    {
      "cell_type": "markdown",
      "metadata": {
        "id": "YjVuiybYOo7r",
        "colab_type": "text"
      },
      "source": [
        "### Training the ANN model on the Training set"
      ]
    },
    {
      "cell_type": "code",
      "metadata": {
        "id": "c_vV-tiiA5zn",
        "colab_type": "code",
        "colab": {
          "base_uri": "https://localhost:8080/",
          "height": 1000
        },
        "outputId": "9d8dc547-89cc-43c2-ad54-b59771773f15"
      },
      "source": [
        "ann.fit(X_train, y_train, batch_size = 32, epochs = 100)"
      ],
      "execution_count": 20,
      "outputs": [
        {
          "output_type": "stream",
          "text": [
            "Epoch 1/100\n",
            "240/240 [==============================] - 0s 827us/step - loss: 15256.9277\n",
            "Epoch 2/100\n",
            "240/240 [==============================] - 0s 821us/step - loss: 154.6186\n",
            "Epoch 3/100\n",
            "240/240 [==============================] - 0s 847us/step - loss: 124.6670\n",
            "Epoch 4/100\n",
            "240/240 [==============================] - 0s 899us/step - loss: 109.4663\n",
            "Epoch 5/100\n",
            "240/240 [==============================] - 0s 823us/step - loss: 99.5122\n",
            "Epoch 6/100\n",
            "240/240 [==============================] - 0s 827us/step - loss: 93.0491\n",
            "Epoch 7/100\n",
            "240/240 [==============================] - 0s 813us/step - loss: 86.4976\n",
            "Epoch 8/100\n",
            "240/240 [==============================] - 0s 825us/step - loss: 78.9961\n",
            "Epoch 9/100\n",
            "240/240 [==============================] - 0s 824us/step - loss: 71.8046\n",
            "Epoch 10/100\n",
            "240/240 [==============================] - 0s 829us/step - loss: 65.9147\n",
            "Epoch 11/100\n",
            "240/240 [==============================] - 0s 868us/step - loss: 59.9581\n",
            "Epoch 12/100\n",
            "240/240 [==============================] - 0s 896us/step - loss: 53.7215\n",
            "Epoch 13/100\n",
            "240/240 [==============================] - 0s 858us/step - loss: 48.4904\n",
            "Epoch 14/100\n",
            "240/240 [==============================] - 0s 828us/step - loss: 44.2611\n",
            "Epoch 15/100\n",
            "240/240 [==============================] - 0s 817us/step - loss: 40.0908\n",
            "Epoch 16/100\n",
            "240/240 [==============================] - 0s 813us/step - loss: 37.8303\n",
            "Epoch 17/100\n",
            "240/240 [==============================] - 0s 870us/step - loss: 36.2745\n",
            "Epoch 18/100\n",
            "240/240 [==============================] - 0s 914us/step - loss: 34.9577\n",
            "Epoch 19/100\n",
            "240/240 [==============================] - 0s 821us/step - loss: 33.7710\n",
            "Epoch 20/100\n",
            "240/240 [==============================] - 0s 815us/step - loss: 32.4927\n",
            "Epoch 21/100\n",
            "240/240 [==============================] - 0s 827us/step - loss: 32.2706\n",
            "Epoch 22/100\n",
            "240/240 [==============================] - 0s 865us/step - loss: 31.1377\n",
            "Epoch 23/100\n",
            "240/240 [==============================] - 0s 802us/step - loss: 30.4869\n",
            "Epoch 24/100\n",
            "240/240 [==============================] - 0s 819us/step - loss: 29.6907\n",
            "Epoch 25/100\n",
            "240/240 [==============================] - 0s 870us/step - loss: 30.4890\n",
            "Epoch 26/100\n",
            "240/240 [==============================] - 0s 875us/step - loss: 29.5930\n",
            "Epoch 27/100\n",
            "240/240 [==============================] - 0s 834us/step - loss: 28.5738\n",
            "Epoch 28/100\n",
            "240/240 [==============================] - 0s 811us/step - loss: 28.4159\n",
            "Epoch 29/100\n",
            "240/240 [==============================] - 0s 814us/step - loss: 28.6393\n",
            "Epoch 30/100\n",
            "240/240 [==============================] - 0s 803us/step - loss: 28.1919\n",
            "Epoch 31/100\n",
            "240/240 [==============================] - 0s 824us/step - loss: 27.9052\n",
            "Epoch 32/100\n",
            "240/240 [==============================] - 0s 864us/step - loss: 28.3988\n",
            "Epoch 33/100\n",
            "240/240 [==============================] - 0s 818us/step - loss: 27.5777\n",
            "Epoch 34/100\n",
            "240/240 [==============================] - 0s 821us/step - loss: 27.9583\n",
            "Epoch 35/100\n",
            "240/240 [==============================] - 0s 833us/step - loss: 27.4529\n",
            "Epoch 36/100\n",
            "240/240 [==============================] - 0s 825us/step - loss: 27.7511\n",
            "Epoch 37/100\n",
            "240/240 [==============================] - 0s 849us/step - loss: 27.9238\n",
            "Epoch 38/100\n",
            "240/240 [==============================] - 0s 873us/step - loss: 27.8448\n",
            "Epoch 39/100\n",
            "240/240 [==============================] - 0s 852us/step - loss: 27.1001\n",
            "Epoch 40/100\n",
            "240/240 [==============================] - 0s 833us/step - loss: 27.1711\n",
            "Epoch 41/100\n",
            "240/240 [==============================] - 0s 814us/step - loss: 28.2358\n",
            "Epoch 42/100\n",
            "240/240 [==============================] - 0s 878us/step - loss: 27.7031\n",
            "Epoch 43/100\n",
            "240/240 [==============================] - 0s 818us/step - loss: 27.1266\n",
            "Epoch 44/100\n",
            "240/240 [==============================] - 0s 882us/step - loss: 28.3370\n",
            "Epoch 45/100\n",
            "240/240 [==============================] - 0s 916us/step - loss: 27.4043\n",
            "Epoch 46/100\n",
            "240/240 [==============================] - 0s 818us/step - loss: 27.4552\n",
            "Epoch 47/100\n",
            "240/240 [==============================] - 0s 832us/step - loss: 26.7762\n",
            "Epoch 48/100\n",
            "240/240 [==============================] - 0s 846us/step - loss: 27.4119\n",
            "Epoch 49/100\n",
            "240/240 [==============================] - 0s 806us/step - loss: 27.2707\n",
            "Epoch 50/100\n",
            "240/240 [==============================] - 0s 825us/step - loss: 27.4582\n",
            "Epoch 51/100\n",
            "240/240 [==============================] - 0s 836us/step - loss: 27.0108\n",
            "Epoch 52/100\n",
            "240/240 [==============================] - 0s 887us/step - loss: 28.0234\n",
            "Epoch 53/100\n",
            "240/240 [==============================] - 0s 821us/step - loss: 27.2945\n",
            "Epoch 54/100\n",
            "240/240 [==============================] - 0s 824us/step - loss: 27.6392\n",
            "Epoch 55/100\n",
            "240/240 [==============================] - 0s 826us/step - loss: 27.2591\n",
            "Epoch 56/100\n",
            "240/240 [==============================] - 0s 823us/step - loss: 27.3638\n",
            "Epoch 57/100\n",
            "240/240 [==============================] - 0s 856us/step - loss: 27.5596\n",
            "Epoch 58/100\n",
            "240/240 [==============================] - 0s 815us/step - loss: 27.5349\n",
            "Epoch 59/100\n",
            "240/240 [==============================] - 0s 829us/step - loss: 27.0540\n",
            "Epoch 60/100\n",
            "240/240 [==============================] - 0s 881us/step - loss: 27.8329\n",
            "Epoch 61/100\n",
            "240/240 [==============================] - 0s 830us/step - loss: 27.7370\n",
            "Epoch 62/100\n",
            "240/240 [==============================] - 0s 834us/step - loss: 27.4454\n",
            "Epoch 63/100\n",
            "240/240 [==============================] - 0s 821us/step - loss: 27.4017\n",
            "Epoch 64/100\n",
            "240/240 [==============================] - 0s 834us/step - loss: 26.8314\n",
            "Epoch 65/100\n",
            "240/240 [==============================] - 0s 828us/step - loss: 27.5657\n",
            "Epoch 66/100\n",
            "240/240 [==============================] - 0s 893us/step - loss: 27.9708\n",
            "Epoch 67/100\n",
            "240/240 [==============================] - 0s 814us/step - loss: 27.2954\n",
            "Epoch 68/100\n",
            "240/240 [==============================] - 0s 811us/step - loss: 26.9232\n",
            "Epoch 69/100\n",
            "240/240 [==============================] - 0s 816us/step - loss: 27.3896\n",
            "Epoch 70/100\n",
            "240/240 [==============================] - 0s 861us/step - loss: 27.7646\n",
            "Epoch 71/100\n",
            "240/240 [==============================] - 0s 866us/step - loss: 27.0689\n",
            "Epoch 72/100\n",
            "240/240 [==============================] - 0s 818us/step - loss: 27.9077\n",
            "Epoch 73/100\n",
            "240/240 [==============================] - 0s 833us/step - loss: 27.4515\n",
            "Epoch 74/100\n",
            "240/240 [==============================] - 0s 815us/step - loss: 26.6176\n",
            "Epoch 75/100\n",
            "240/240 [==============================] - 0s 824us/step - loss: 27.1576\n",
            "Epoch 76/100\n",
            "240/240 [==============================] - 0s 845us/step - loss: 27.8649\n",
            "Epoch 77/100\n",
            "240/240 [==============================] - 0s 816us/step - loss: 28.0721\n",
            "Epoch 78/100\n",
            "240/240 [==============================] - 0s 819us/step - loss: 27.4806\n",
            "Epoch 79/100\n",
            "240/240 [==============================] - 0s 862us/step - loss: 28.0729\n",
            "Epoch 80/100\n",
            "240/240 [==============================] - 0s 808us/step - loss: 27.0806\n",
            "Epoch 81/100\n",
            "240/240 [==============================] - 0s 868us/step - loss: 27.0714\n",
            "Epoch 82/100\n",
            "240/240 [==============================] - 0s 851us/step - loss: 27.7041\n",
            "Epoch 83/100\n",
            "240/240 [==============================] - 0s 847us/step - loss: 27.3045\n",
            "Epoch 84/100\n",
            "240/240 [==============================] - 0s 824us/step - loss: 27.8870\n",
            "Epoch 85/100\n",
            "240/240 [==============================] - 0s 799us/step - loss: 27.9335\n",
            "Epoch 86/100\n",
            "240/240 [==============================] - 0s 863us/step - loss: 26.9091\n",
            "Epoch 87/100\n",
            "240/240 [==============================] - 0s 820us/step - loss: 26.9181\n",
            "Epoch 88/100\n",
            "240/240 [==============================] - 0s 818us/step - loss: 27.1581\n",
            "Epoch 89/100\n",
            "240/240 [==============================] - 0s 882us/step - loss: 27.8307\n",
            "Epoch 90/100\n",
            "240/240 [==============================] - 0s 821us/step - loss: 28.7555\n",
            "Epoch 91/100\n",
            "240/240 [==============================] - 0s 891us/step - loss: 27.1970\n",
            "Epoch 92/100\n",
            "240/240 [==============================] - 0s 839us/step - loss: 27.5939\n",
            "Epoch 93/100\n",
            "240/240 [==============================] - 0s 821us/step - loss: 26.9059\n",
            "Epoch 94/100\n",
            "240/240 [==============================] - 0s 818us/step - loss: 28.1335\n",
            "Epoch 95/100\n",
            "240/240 [==============================] - 0s 803us/step - loss: 27.4740\n",
            "Epoch 96/100\n",
            "240/240 [==============================] - 0s 896us/step - loss: 27.3959\n",
            "Epoch 97/100\n",
            "240/240 [==============================] - 0s 875us/step - loss: 26.7945\n",
            "Epoch 98/100\n",
            "240/240 [==============================] - 0s 919us/step - loss: 27.3177\n",
            "Epoch 99/100\n",
            "240/240 [==============================] - 0s 826us/step - loss: 27.4296\n",
            "Epoch 100/100\n",
            "240/240 [==============================] - 0s 844us/step - loss: 26.6305\n"
          ],
          "name": "stdout"
        },
        {
          "output_type": "execute_result",
          "data": {
            "text/plain": [
              "<tensorflow.python.keras.callbacks.History at 0x7f7eb89b3cc0>"
            ]
          },
          "metadata": {
            "tags": []
          },
          "execution_count": 20
        }
      ]
    },
    {
      "cell_type": "markdown",
      "metadata": {
        "id": "0H0zKKNEBLD5",
        "colab_type": "text"
      },
      "source": [
        "### Predicting the results of the Test set"
      ]
    },
    {
      "cell_type": "code",
      "metadata": {
        "id": "IA0yApEmBG1X",
        "colab_type": "code",
        "colab": {
          "base_uri": "https://localhost:8080/",
          "height": 136
        },
        "outputId": "0f0d4e5c-f033-46e2-965a-c1b781861a22"
      },
      "source": [
        "y_pred = ann.predict(X_test)\n",
        "np.set_printoptions(precision=2) #setting number of decimal pointsb\n",
        "print(np.concatenate((y_pred.reshape(len(y_pred),1), y_test.reshape(len(y_test),1)),1))"
      ],
      "execution_count": 21,
      "outputs": [
        {
          "output_type": "stream",
          "text": [
            "[[429.9  431.23]\n",
            " [460.99 460.01]\n",
            " [464.52 461.14]\n",
            " ...\n",
            " [471.73 473.26]\n",
            " [438.51 438.  ]\n",
            " [457.75 463.28]]\n"
          ],
          "name": "stdout"
        }
      ]
    },
    {
      "cell_type": "code",
      "metadata": {
        "id": "3OymvKKK5Qzk",
        "colab_type": "code",
        "colab": {
          "base_uri": "https://localhost:8080/",
          "height": 34
        },
        "outputId": "23714e47-cd4a-4fac-9e85-37c700ddfe35"
      },
      "source": [
        "r2_score(y_test, y_pred)"
      ],
      "execution_count": 22,
      "outputs": [
        {
          "output_type": "execute_result",
          "data": {
            "text/plain": [
              "0.9096879429909228"
            ]
          },
          "metadata": {
            "tags": []
          },
          "execution_count": 22
        }
      ]
    },
    {
      "cell_type": "markdown",
      "metadata": {
        "id": "ePfiFegDUw9z",
        "colab_type": "text"
      },
      "source": [
        "###Predicting based on custom inputs"
      ]
    },
    {
      "cell_type": "code",
      "metadata": {
        "id": "geXSrBADHCkb",
        "colab_type": "code",
        "colab": {
          "base_uri": "https://localhost:8080/",
          "height": 34
        },
        "outputId": "a3b52d18-8feb-4bc3-ec4d-60bb575b5e56"
      },
      "source": [
        "new_pred= ann.predict([[15.6, 38.76, 1000.07, 80.17]])\n",
        "print(new_pred)"
      ],
      "execution_count": 23,
      "outputs": [
        {
          "output_type": "stream",
          "text": [
            "[[456.8]]\n"
          ],
          "name": "stdout"
        }
      ]
    },
    {
      "cell_type": "markdown",
      "metadata": {
        "id": "k-McZVsQBINc",
        "colab_type": "text"
      },
      "source": [
        "##Multiple Linear Regression"
      ]
    },
    {
      "cell_type": "code",
      "metadata": {
        "id": "ywPjx0L1BMiD",
        "colab_type": "code",
        "colab": {
          "base_uri": "https://localhost:8080/",
          "height": 34
        },
        "outputId": "affa9cca-ad25-4ec4-e394-0586ee3513d7"
      },
      "source": [
        "from sklearn.linear_model import LinearRegression\n",
        "regressor = LinearRegression()\n",
        "regressor.fit(X_train, y_train)"
      ],
      "execution_count": 24,
      "outputs": [
        {
          "output_type": "execute_result",
          "data": {
            "text/plain": [
              "LinearRegression(copy_X=True, fit_intercept=True, n_jobs=None, normalize=False)"
            ]
          },
          "metadata": {
            "tags": []
          },
          "execution_count": 24
        }
      ]
    },
    {
      "cell_type": "markdown",
      "metadata": {
        "id": "xNkXL1YQBiBT",
        "colab_type": "text"
      },
      "source": [
        "### Predicting the Test set results"
      ]
    },
    {
      "cell_type": "code",
      "metadata": {
        "id": "TQKmwvtdBkyb",
        "colab_type": "code",
        "colab": {
          "base_uri": "https://localhost:8080/",
          "height": 136
        },
        "outputId": "939d5d49-75c6-4356-accd-352efe114565"
      },
      "source": [
        "y_pred = regressor.predict(X_test)\n",
        "np.set_printoptions(precision=2)\n",
        "print(np.concatenate((y_pred.reshape(len(y_pred),1), y_test.reshape(len(y_test),1)),1))"
      ],
      "execution_count": 25,
      "outputs": [
        {
          "output_type": "stream",
          "text": [
            "[[431.43 431.23]\n",
            " [458.56 460.01]\n",
            " [462.75 461.14]\n",
            " ...\n",
            " [469.52 473.26]\n",
            " [442.42 438.  ]\n",
            " [461.88 463.28]]\n"
          ],
          "name": "stdout"
        }
      ]
    },
    {
      "cell_type": "markdown",
      "metadata": {
        "id": "AmKtxWZo67Nx",
        "colab_type": "text"
      },
      "source": [
        "### Predicting R2"
      ]
    },
    {
      "cell_type": "code",
      "metadata": {
        "id": "Td45Yq-e5tz3",
        "colab_type": "code",
        "colab": {
          "base_uri": "https://localhost:8080/",
          "height": 34
        },
        "outputId": "bded4180-4fbc-4b99-9246-867b8f9aca0a"
      },
      "source": [
        "r2_score(y_test, y_pred)"
      ],
      "execution_count": 26,
      "outputs": [
        {
          "output_type": "execute_result",
          "data": {
            "text/plain": [
              "0.9325315554761302"
            ]
          },
          "metadata": {
            "tags": []
          },
          "execution_count": 26
        }
      ]
    },
    {
      "cell_type": "markdown",
      "metadata": {
        "colab_type": "text",
        "id": "EmgBO7A_phUG"
      },
      "source": [
        "###Predicting based on custom inputs"
      ]
    },
    {
      "cell_type": "code",
      "metadata": {
        "colab_type": "code",
        "id": "S66cc-bLphUL",
        "colab": {
          "base_uri": "https://localhost:8080/",
          "height": 34
        },
        "outputId": "9ff606a6-e67c-433d-d92a-dd0129c0efa0"
      },
      "source": [
        "new_pred= regressor.predict([[15.6, 38.76, 1000.07, 80.17]])\n",
        "print(new_pred)"
      ],
      "execution_count": 27,
      "outputs": [
        {
          "output_type": "stream",
          "text": [
            "[464.1]\n"
          ],
          "name": "stdout"
        }
      ]
    },
    {
      "cell_type": "markdown",
      "metadata": {
        "id": "QT_zgQ8qttle",
        "colab_type": "text"
      },
      "source": [
        "##Decision Tree Regressor"
      ]
    },
    {
      "cell_type": "code",
      "metadata": {
        "id": "BKl2zuhUtiA0",
        "colab_type": "code",
        "colab": {
          "base_uri": "https://localhost:8080/",
          "height": 119
        },
        "outputId": "1cb8c8c7-6062-4074-df43-36c5c861e853"
      },
      "source": [
        "from sklearn.tree import DecisionTreeRegressor\n",
        "dtregressor = DecisionTreeRegressor(random_state = 0)\n",
        "dtregressor.fit(X, y)"
      ],
      "execution_count": 28,
      "outputs": [
        {
          "output_type": "execute_result",
          "data": {
            "text/plain": [
              "DecisionTreeRegressor(ccp_alpha=0.0, criterion='mse', max_depth=None,\n",
              "                      max_features=None, max_leaf_nodes=None,\n",
              "                      min_impurity_decrease=0.0, min_impurity_split=None,\n",
              "                      min_samples_leaf=1, min_samples_split=2,\n",
              "                      min_weight_fraction_leaf=0.0, presort='deprecated',\n",
              "                      random_state=0, splitter='best')"
            ]
          },
          "metadata": {
            "tags": []
          },
          "execution_count": 28
        }
      ]
    },
    {
      "cell_type": "markdown",
      "metadata": {
        "id": "nM5DDE421OOg",
        "colab_type": "text"
      },
      "source": [
        "### Predicting a new result"
      ]
    },
    {
      "cell_type": "code",
      "metadata": {
        "id": "60k_wk8B0bA_",
        "colab_type": "code",
        "colab": {
          "base_uri": "https://localhost:8080/",
          "height": 34
        },
        "outputId": "4a7e3bbb-0c82-4a14-cb9e-6211fb43f451"
      },
      "source": [
        "dtregressor.predict([[15.6, 38.76, 1000.07, 80.17]])"
      ],
      "execution_count": 29,
      "outputs": [
        {
          "output_type": "execute_result",
          "data": {
            "text/plain": [
              "array([467.89])"
            ]
          },
          "metadata": {
            "tags": []
          },
          "execution_count": 29
        }
      ]
    },
    {
      "cell_type": "code",
      "metadata": {
        "id": "lnkNBSzL9hPn",
        "colab_type": "code",
        "colab": {
          "base_uri": "https://localhost:8080/",
          "height": 34
        },
        "outputId": "7fa83ff4-07bb-4ccc-a0d2-e5f1cc9cdaf9"
      },
      "source": [
        "dtregressor.score(X,y)"
      ],
      "execution_count": 30,
      "outputs": [
        {
          "output_type": "execute_result",
          "data": {
            "text/plain": [
              "1.0"
            ]
          },
          "metadata": {
            "tags": []
          },
          "execution_count": 30
        }
      ]
    },
    {
      "cell_type": "markdown",
      "metadata": {
        "id": "f5Kf10331W3S",
        "colab_type": "text"
      },
      "source": [
        "## Random Forest Regression"
      ]
    },
    {
      "cell_type": "code",
      "metadata": {
        "id": "ENAiVElS1Ya1",
        "colab_type": "code",
        "colab": {
          "base_uri": "https://localhost:8080/",
          "height": 136
        },
        "outputId": "137629a4-f5f9-4fc5-c012-d60ef5131e0d"
      },
      "source": [
        "from sklearn.ensemble import RandomForestRegressor\n",
        "rfregressor = RandomForestRegressor(n_estimators = 10, random_state = 0)\n",
        "rfregressor.fit(X, y)"
      ],
      "execution_count": 31,
      "outputs": [
        {
          "output_type": "execute_result",
          "data": {
            "text/plain": [
              "RandomForestRegressor(bootstrap=True, ccp_alpha=0.0, criterion='mse',\n",
              "                      max_depth=None, max_features='auto', max_leaf_nodes=None,\n",
              "                      max_samples=None, min_impurity_decrease=0.0,\n",
              "                      min_impurity_split=None, min_samples_leaf=1,\n",
              "                      min_samples_split=2, min_weight_fraction_leaf=0.0,\n",
              "                      n_estimators=10, n_jobs=None, oob_score=False,\n",
              "                      random_state=0, verbose=0, warm_start=False)"
            ]
          },
          "metadata": {
            "tags": []
          },
          "execution_count": 31
        }
      ]
    },
    {
      "cell_type": "code",
      "metadata": {
        "id": "jmCn0yWx1dvS",
        "colab_type": "code",
        "colab": {
          "base_uri": "https://localhost:8080/",
          "height": 34
        },
        "outputId": "08e0a681-6b99-4ff6-95ef-a6e4adbcb197"
      },
      "source": [
        "rfregressor.predict([[15.6, 38.76, 1000.07, 80.17]])"
      ],
      "execution_count": 32,
      "outputs": [
        {
          "output_type": "execute_result",
          "data": {
            "text/plain": [
              "array([466.58])"
            ]
          },
          "metadata": {
            "tags": []
          },
          "execution_count": 32
        }
      ]
    },
    {
      "cell_type": "code",
      "metadata": {
        "id": "QJZi1tny9s4l",
        "colab_type": "code",
        "colab": {
          "base_uri": "https://localhost:8080/",
          "height": 34
        },
        "outputId": "a0bcb572-156b-470e-f69b-fbe54ecf7115"
      },
      "source": [
        "rfregressor.score(X,y)"
      ],
      "execution_count": 33,
      "outputs": [
        {
          "output_type": "execute_result",
          "data": {
            "text/plain": [
              "0.9926872917918784"
            ]
          },
          "metadata": {
            "tags": []
          },
          "execution_count": 33
        }
      ]
    },
    {
      "cell_type": "markdown",
      "metadata": {
        "id": "IjD5H-eHpxeu",
        "colab_type": "text"
      },
      "source": [
        "## Support Vector Regression"
      ]
    },
    {
      "cell_type": "markdown",
      "metadata": {
        "id": "_Pa6KQn7rRRx",
        "colab_type": "text"
      },
      "source": [
        "### Scaling both indendent and dependent variables"
      ]
    },
    {
      "cell_type": "code",
      "metadata": {
        "id": "PGeAlD1HTDI1",
        "colab_type": "code",
        "colab": {}
      },
      "source": [
        "from sklearn.preprocessing import StandardScaler\n",
        "sc_X = StandardScaler()\n",
        "sc_y = StandardScaler()"
      ],
      "execution_count": 34,
      "outputs": []
    },
    {
      "cell_type": "code",
      "metadata": {
        "id": "MkQ6nIh4rniA",
        "colab_type": "code",
        "colab": {}
      },
      "source": [
        "scaled_X = sc_X.fit_transform(X)"
      ],
      "execution_count": 35,
      "outputs": []
    },
    {
      "cell_type": "code",
      "metadata": {
        "id": "S0Lnh29cr6iX",
        "colab_type": "code",
        "colab": {}
      },
      "source": [
        "scaled_y = y.reshape(len(y),1)"
      ],
      "execution_count": 36,
      "outputs": []
    },
    {
      "cell_type": "code",
      "metadata": {
        "id": "1PJog_ULrqYv",
        "colab_type": "code",
        "colab": {}
      },
      "source": [
        "scaled_y = sc_y.fit_transform(scaled_y)"
      ],
      "execution_count": 37,
      "outputs": []
    },
    {
      "cell_type": "code",
      "metadata": {
        "id": "nXa8Z9FgjFTQ",
        "colab_type": "code",
        "colab": {
          "base_uri": "https://localhost:8080/",
          "height": 136
        },
        "outputId": "2e8b5bb2-3e1b-4524-8044-28591ae4f5c5"
      },
      "source": [
        "print(scaled_X)"
      ],
      "execution_count": 38,
      "outputs": [
        {
          "output_type": "stream",
          "text": [
            "[[-0.63 -0.99  1.82 -0.01]\n",
            " [ 0.74  0.68  1.14 -0.97]\n",
            " [-1.95 -1.17 -0.19  1.29]\n",
            " ...\n",
            " [ 1.57  1.58 -0.06 -2.52]\n",
            " [ 0.65  1.19  0.1  -0.75]\n",
            " [ 0.26  0.65  0.67 -0.37]]\n"
          ],
          "name": "stdout"
        }
      ]
    },
    {
      "cell_type": "code",
      "metadata": {
        "id": "i7Oo2kybjGr2",
        "colab_type": "code",
        "colab": {
          "base_uri": "https://localhost:8080/",
          "height": 136
        },
        "outputId": "8742572c-71c9-4b19-9aa1-13a3945dd631"
      },
      "source": [
        "print(scaled_y)"
      ],
      "execution_count": 39,
      "outputs": [
        {
          "output_type": "stream",
          "text": [
            "[[ 0.52]\n",
            " [-0.59]\n",
            " [ 2.  ]\n",
            " ...\n",
            " [-1.45]\n",
            " [-1.09]\n",
            " [-0.06]]\n"
          ],
          "name": "stdout"
        }
      ]
    },
    {
      "cell_type": "markdown",
      "metadata": {
        "id": "eiU6D2QFRjxY",
        "colab_type": "text"
      },
      "source": [
        "### Training the SVR model on the whole dataset"
      ]
    },
    {
      "cell_type": "code",
      "metadata": {
        "id": "y6R4rt_GRz15",
        "colab_type": "code",
        "colab": {
          "base_uri": "https://localhost:8080/",
          "height": 51
        },
        "outputId": "5ff6f05d-fa2c-48c9-ee44-a4dbe1bcd881"
      },
      "source": [
        "from sklearn.svm import SVR\n",
        "svregressor = SVR(kernel = 'rbf')\n",
        "svregressor.fit(X, y)"
      ],
      "execution_count": 40,
      "outputs": [
        {
          "output_type": "execute_result",
          "data": {
            "text/plain": [
              "SVR(C=1.0, cache_size=200, coef0=0.0, degree=3, epsilon=0.1, gamma='scale',\n",
              "    kernel='rbf', max_iter=-1, shrinking=True, tol=0.001, verbose=False)"
            ]
          },
          "metadata": {
            "tags": []
          },
          "execution_count": 40
        }
      ]
    },
    {
      "cell_type": "code",
      "metadata": {
        "id": "ujSnp9_kAqRs",
        "colab_type": "code",
        "colab": {
          "base_uri": "https://localhost:8080/",
          "height": 34
        },
        "outputId": "9b47b899-2f15-4c64-d728-1ebb67166c15"
      },
      "source": [
        "svregressor.score(X,y)"
      ],
      "execution_count": 41,
      "outputs": [
        {
          "output_type": "execute_result",
          "data": {
            "text/plain": [
              "0.45806229804505816"
            ]
          },
          "metadata": {
            "tags": []
          },
          "execution_count": 41
        }
      ]
    },
    {
      "cell_type": "markdown",
      "metadata": {
        "id": "deDnDr8UR5vq",
        "colab_type": "text"
      },
      "source": [
        "### Predicting a new result"
      ]
    },
    {
      "cell_type": "code",
      "metadata": {
        "id": "ib89-Fq8R8v-",
        "colab_type": "code",
        "colab": {
          "base_uri": "https://localhost:8080/",
          "height": 34
        },
        "outputId": "cc80027d-bf7e-46c5-facb-dfa18b317ed4"
      },
      "source": [
        "sc_y.inverse_transform(svregressor.predict(sc_X.transform([[15.6, 38.76, 1000.07, 80.17]])))"
      ],
      "execution_count": 42,
      "outputs": [
        {
          "output_type": "execute_result",
          "data": {
            "text/plain": [
              "array([7904.13])"
            ]
          },
          "metadata": {
            "tags": []
          },
          "execution_count": 42
        }
      ]
    }
  ]
}